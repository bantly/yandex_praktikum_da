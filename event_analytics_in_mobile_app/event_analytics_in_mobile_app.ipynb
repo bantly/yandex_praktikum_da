{
  "nbformat": 4,
  "nbformat_minor": 0,
  "metadata": {
    "colab": {
      "name": "product_app.ipynb",
      "provenance": [],
      "collapsed_sections": [],
      "include_colab_link": true
    },
    "kernelspec": {
      "display_name": "Python 3",
      "language": "python",
      "name": "python3"
    },
    "language_info": {
      "codemirror_mode": {
        "name": "ipython",
        "version": 3
      },
      "file_extension": ".py",
      "mimetype": "text/x-python",
      "name": "python",
      "nbconvert_exporter": "python",
      "pygments_lexer": "ipython3",
      "version": "3.7.6"
    }
  },
  "cells": [
    {
      "cell_type": "markdown",
      "metadata": {
        "id": "view-in-github",
        "colab_type": "text"
      },
      "source": [
        "<a href=\"https://colab.research.google.com/github/dsibi/yandex_praktikum_da/blob/main/event_analytics_in_mobile_app/event_analytics_in_mobile_app.ipynb\" target=\"_parent\"><img src=\"https://colab.research.google.com/assets/colab-badge.svg\" alt=\"Open In Colab\"/></a>"
      ]
    },
    {
      "cell_type": "markdown",
      "metadata": {
        "id": "VllUVw8zlC5w"
      },
      "source": [
        "#**Исследование поведения пользователей в приложении**\n",
        "\n",
        "---"
      ]
    },
    {
      "cell_type": "markdown",
      "metadata": {
        "id": "h9UmXukQRUjV"
      },
      "source": [
        "## Описание проекта"
      ]
    },
    {
      "cell_type": "markdown",
      "metadata": {
        "id": "5OL_VgzZl6w-"
      },
      "source": [
        "Мы работаем в стартапе, который продаёт продукты питания. Нужно разобраться, как ведут себя пользователи нашего мобильного приложения.\n",
        "Изучим воронку событий. Узнаем, как пользователи доходят до покупки. Сколько пользователей доходит до покупки, а сколько — «застревает» на предыдущих шагах? На каких именно?\n",
        "\n",
        "После этого исследуем результаты A/ A/ B-эксперимента. Дизайнеры захотели поменять шрифты во всём приложении, а менеджеры испугались, что пользователям будет непривычно. Договорились принять решение по результатам A/ A/ B-теста. Пользователей разбили на 3 группы: 2 контрольные со старыми шрифтами и одну экспериментальную — с новыми. Выясните, какой шрифт лучше.\n",
        "\n",
        "Создание двух групп A вместо одной имеет определённые преимущества. Если две контрольные группы окажутся равны, мы можем быть уверены в точности проведенного тестирования. Если же между значениями A и A будут существенные различия, это поможет обнаружить факторы, которые привели к искажению результатов. Сравнение контрольных групп также поможет понять, сколько времени и данных потребуется для дальнейших тестов.\n",
        "\n",
        "В случае общей аналитики и A/ A/ B-эксперимента будем работать с одними и теми же данными."
      ]
    },
    {
      "cell_type": "markdown",
      "metadata": {
        "id": "3WTXb2DhmssU"
      },
      "source": [
        "##Описание данных"
      ]
    },
    {
      "cell_type": "markdown",
      "metadata": {
        "id": "Jqh-jgiBmvvk"
      },
      "source": [
        "Каждая запись в логе — это действие пользователя, или событие:\n",
        "*  EventName — название события;\n",
        "*  DeviceIDHash — уникальный идентификатор пользователя;\n",
        "*  EventTimestamp — время события;\n",
        "*  ExpId — номер эксперимента: 246 и 247 — контрольные группы, а 248 — экспериментальная."
      ]
    },
    {
      "cell_type": "markdown",
      "metadata": {
        "id": "enrH5_Mj5AXA"
      },
      "source": [
        "Импортируем все необходимые нам библиотеки, далее новые библиотеки будем добавлять сюда же"
      ]
    },
    {
      "cell_type": "code",
      "metadata": {
        "id": "s1ra9wIlUYmh"
      },
      "source": [
        "import pandas as pd\n",
        "import seaborn as sns\n",
        "import matplotlib.pyplot as plt\n",
        "from matplotlib import transforms\n",
        "from plotly import graph_objects as go\n",
        "from scipy import stats as st\n",
        "import numpy as np\n",
        "import math as mth\n",
        "import warnings\n",
        "warnings.simplefilter('ignore')"
      ],
      "execution_count": null,
      "outputs": []
    },
    {
      "cell_type": "markdown",
      "metadata": {
        "id": "CosQqSm0uEaf"
      },
      "source": [
        "Установим безлимитную ширину колонки при выводе, чтобы названия в колонках выводились полностью."
      ]
    },
    {
      "cell_type": "code",
      "metadata": {
        "id": "_N21T6Nktp5t"
      },
      "source": [
        "pd.set_option('display.max_colwidth', None)"
      ],
      "execution_count": null,
      "outputs": []
    },
    {
      "cell_type": "markdown",
      "metadata": {
        "id": "iQB_GHy-UPB4"
      },
      "source": [
        "##Шаг 1. Загрузим данные\n",
        "\n",
        "---\n",
        "\n"
      ]
    },
    {
      "cell_type": "markdown",
      "metadata": {
        "id": "T22fxDAo6VgL"
      },
      "source": [
        "Чтение файлов"
      ]
    },
    {
      "cell_type": "code",
      "metadata": {
        "id": "VVYZsNM3YnKi",
        "colab": {
          "base_uri": "https://localhost:8080/"
        },
        "outputId": "35960495-37c4-4d9a-c402-597e485a648f"
      },
      "source": [
        "from google.colab import drive\n",
        "drive.mount('/content/drive')"
      ],
      "execution_count": null,
      "outputs": [
        {
          "output_type": "stream",
          "text": [
            "Drive already mounted at /content/drive; to attempt to forcibly remount, call drive.mount(\"/content/drive\", force_remount=True).\n"
          ],
          "name": "stdout"
        }
      ]
    },
    {
      "cell_type": "code",
      "metadata": {
        "id": "f91mlL5W59zc",
        "colab": {
          "base_uri": "https://localhost:8080/",
          "height": 343
        },
        "outputId": "e2cad12e-543a-4fca-84e6-9a8fd1fed736"
      },
      "source": [
        "app_log=pd.read_csv('/content/drive/MyDrive/Edu/Data Analysis/9.5_Сборый проект 2/data/logs_exp.csv', delim_whitespace=True)\r\n",
        "app_log.sample(10)"
      ],
      "execution_count": null,
      "outputs": [
        {
          "output_type": "execute_result",
          "data": {
            "text/html": [
              "<div>\n",
              "<style scoped>\n",
              "    .dataframe tbody tr th:only-of-type {\n",
              "        vertical-align: middle;\n",
              "    }\n",
              "\n",
              "    .dataframe tbody tr th {\n",
              "        vertical-align: top;\n",
              "    }\n",
              "\n",
              "    .dataframe thead th {\n",
              "        text-align: right;\n",
              "    }\n",
              "</style>\n",
              "<table border=\"1\" class=\"dataframe\">\n",
              "  <thead>\n",
              "    <tr style=\"text-align: right;\">\n",
              "      <th></th>\n",
              "      <th>EventName</th>\n",
              "      <th>DeviceIDHash</th>\n",
              "      <th>EventTimestamp</th>\n",
              "      <th>ExpId</th>\n",
              "    </tr>\n",
              "  </thead>\n",
              "  <tbody>\n",
              "    <tr>\n",
              "      <th>210786</th>\n",
              "      <td>MainScreenAppear</td>\n",
              "      <td>2201216441003038354</td>\n",
              "      <td>1565120846</td>\n",
              "      <td>246</td>\n",
              "    </tr>\n",
              "    <tr>\n",
              "      <th>233906</th>\n",
              "      <td>OffersScreenAppear</td>\n",
              "      <td>5241439681088310317</td>\n",
              "      <td>1565191365</td>\n",
              "      <td>246</td>\n",
              "    </tr>\n",
              "    <tr>\n",
              "      <th>218143</th>\n",
              "      <td>CartScreenAppear</td>\n",
              "      <td>5615816265506611467</td>\n",
              "      <td>1565161509</td>\n",
              "      <td>247</td>\n",
              "    </tr>\n",
              "    <tr>\n",
              "      <th>23130</th>\n",
              "      <td>PaymentScreenSuccessful</td>\n",
              "      <td>2590691682508707697</td>\n",
              "      <td>1564668647</td>\n",
              "      <td>246</td>\n",
              "    </tr>\n",
              "    <tr>\n",
              "      <th>76041</th>\n",
              "      <td>MainScreenAppear</td>\n",
              "      <td>8357517652235019958</td>\n",
              "      <td>1564806301</td>\n",
              "      <td>246</td>\n",
              "    </tr>\n",
              "    <tr>\n",
              "      <th>111891</th>\n",
              "      <td>MainScreenAppear</td>\n",
              "      <td>3544085356884362414</td>\n",
              "      <td>1564901525</td>\n",
              "      <td>247</td>\n",
              "    </tr>\n",
              "    <tr>\n",
              "      <th>152427</th>\n",
              "      <td>MainScreenAppear</td>\n",
              "      <td>2708356845268272195</td>\n",
              "      <td>1565000698</td>\n",
              "      <td>246</td>\n",
              "    </tr>\n",
              "    <tr>\n",
              "      <th>66029</th>\n",
              "      <td>CartScreenAppear</td>\n",
              "      <td>2816391585125949645</td>\n",
              "      <td>1564763875</td>\n",
              "      <td>248</td>\n",
              "    </tr>\n",
              "    <tr>\n",
              "      <th>19973</th>\n",
              "      <td>MainScreenAppear</td>\n",
              "      <td>3366760593494744640</td>\n",
              "      <td>1564663769</td>\n",
              "      <td>246</td>\n",
              "    </tr>\n",
              "    <tr>\n",
              "      <th>112302</th>\n",
              "      <td>CartScreenAppear</td>\n",
              "      <td>6631893489958899803</td>\n",
              "      <td>1564902295</td>\n",
              "      <td>247</td>\n",
              "    </tr>\n",
              "  </tbody>\n",
              "</table>\n",
              "</div>"
            ],
            "text/plain": [
              "                      EventName         DeviceIDHash  EventTimestamp  ExpId\n",
              "210786         MainScreenAppear  2201216441003038354      1565120846    246\n",
              "233906       OffersScreenAppear  5241439681088310317      1565191365    246\n",
              "218143         CartScreenAppear  5615816265506611467      1565161509    247\n",
              "23130   PaymentScreenSuccessful  2590691682508707697      1564668647    246\n",
              "76041          MainScreenAppear  8357517652235019958      1564806301    246\n",
              "111891         MainScreenAppear  3544085356884362414      1564901525    247\n",
              "152427         MainScreenAppear  2708356845268272195      1565000698    246\n",
              "66029          CartScreenAppear  2816391585125949645      1564763875    248\n",
              "19973          MainScreenAppear  3366760593494744640      1564663769    246\n",
              "112302         CartScreenAppear  6631893489958899803      1564902295    247"
            ]
          },
          "metadata": {
            "tags": []
          },
          "execution_count": 243
        }
      ]
    },
    {
      "cell_type": "markdown",
      "metadata": {
        "id": "HsNIsT7PQfAg"
      },
      "source": [
        "##Шаг 2. Подготовим данные к анализу\n",
        "\n",
        "---\n",
        "\n"
      ]
    },
    {
      "cell_type": "markdown",
      "metadata": {
        "id": "Qc3oFvIS6fVE"
      },
      "source": [
        "###2.1. Изучим общую информацию "
      ]
    },
    {
      "cell_type": "code",
      "metadata": {
        "colab": {
          "base_uri": "https://localhost:8080/",
          "height": 933
        },
        "id": "d6XpZ_mG6e_g",
        "outputId": "f401eb10-fa04-4dfc-b4f4-38eea7b57aba"
      },
      "source": [
        "df_list = [app_log]\n",
        "for df in df_list:   \n",
        "    print('Первые 5 строк датафрейма')\n",
        "    print('-'*80)\n",
        "    display(df.head(5))\n",
        "    print('-'*80)\n",
        "    print('Типы данных и общая информация')\n",
        "    print(df.info())\n",
        "    print('-'*80)\n",
        "    print('Наличие дубликатов: {}'.format(df.duplicated().sum()))\n",
        "    print('-'*80)\n",
        "    print('Наличие пропусков')\n",
        "    print('-'*80)\n",
        "    print(df.isna().sum())\n",
        "    print('Стат данные')\n",
        "    print('-'*80)\n",
        "    display(df.describe())"
      ],
      "execution_count": null,
      "outputs": [
        {
          "output_type": "stream",
          "text": [
            "Первые 5 строк датафрейма\n",
            "--------------------------------------------------------------------------------\n"
          ],
          "name": "stdout"
        },
        {
          "output_type": "display_data",
          "data": {
            "text/html": [
              "<div>\n",
              "<style scoped>\n",
              "    .dataframe tbody tr th:only-of-type {\n",
              "        vertical-align: middle;\n",
              "    }\n",
              "\n",
              "    .dataframe tbody tr th {\n",
              "        vertical-align: top;\n",
              "    }\n",
              "\n",
              "    .dataframe thead th {\n",
              "        text-align: right;\n",
              "    }\n",
              "</style>\n",
              "<table border=\"1\" class=\"dataframe\">\n",
              "  <thead>\n",
              "    <tr style=\"text-align: right;\">\n",
              "      <th></th>\n",
              "      <th>EventName</th>\n",
              "      <th>DeviceIDHash</th>\n",
              "      <th>EventTimestamp</th>\n",
              "      <th>ExpId</th>\n",
              "    </tr>\n",
              "  </thead>\n",
              "  <tbody>\n",
              "    <tr>\n",
              "      <th>0</th>\n",
              "      <td>MainScreenAppear</td>\n",
              "      <td>4575588528974610257</td>\n",
              "      <td>1564029816</td>\n",
              "      <td>246</td>\n",
              "    </tr>\n",
              "    <tr>\n",
              "      <th>1</th>\n",
              "      <td>MainScreenAppear</td>\n",
              "      <td>7416695313311560658</td>\n",
              "      <td>1564053102</td>\n",
              "      <td>246</td>\n",
              "    </tr>\n",
              "    <tr>\n",
              "      <th>2</th>\n",
              "      <td>PaymentScreenSuccessful</td>\n",
              "      <td>3518123091307005509</td>\n",
              "      <td>1564054127</td>\n",
              "      <td>248</td>\n",
              "    </tr>\n",
              "    <tr>\n",
              "      <th>3</th>\n",
              "      <td>CartScreenAppear</td>\n",
              "      <td>3518123091307005509</td>\n",
              "      <td>1564054127</td>\n",
              "      <td>248</td>\n",
              "    </tr>\n",
              "    <tr>\n",
              "      <th>4</th>\n",
              "      <td>PaymentScreenSuccessful</td>\n",
              "      <td>6217807653094995999</td>\n",
              "      <td>1564055322</td>\n",
              "      <td>248</td>\n",
              "    </tr>\n",
              "  </tbody>\n",
              "</table>\n",
              "</div>"
            ],
            "text/plain": [
              "                 EventName         DeviceIDHash  EventTimestamp  ExpId\n",
              "0         MainScreenAppear  4575588528974610257      1564029816    246\n",
              "1         MainScreenAppear  7416695313311560658      1564053102    246\n",
              "2  PaymentScreenSuccessful  3518123091307005509      1564054127    248\n",
              "3         CartScreenAppear  3518123091307005509      1564054127    248\n",
              "4  PaymentScreenSuccessful  6217807653094995999      1564055322    248"
            ]
          },
          "metadata": {
            "tags": []
          }
        },
        {
          "output_type": "stream",
          "text": [
            "--------------------------------------------------------------------------------\n",
            "Типы данных и общая информация\n",
            "<class 'pandas.core.frame.DataFrame'>\n",
            "RangeIndex: 244126 entries, 0 to 244125\n",
            "Data columns (total 4 columns):\n",
            " #   Column          Non-Null Count   Dtype \n",
            "---  ------          --------------   ----- \n",
            " 0   EventName       244126 non-null  object\n",
            " 1   DeviceIDHash    244126 non-null  int64 \n",
            " 2   EventTimestamp  244126 non-null  int64 \n",
            " 3   ExpId           244126 non-null  int64 \n",
            "dtypes: int64(3), object(1)\n",
            "memory usage: 7.5+ MB\n",
            "None\n",
            "--------------------------------------------------------------------------------\n",
            "Наличие дубликатов: 413\n",
            "--------------------------------------------------------------------------------\n",
            "Наличие пропусков\n",
            "--------------------------------------------------------------------------------\n",
            "EventName         0\n",
            "DeviceIDHash      0\n",
            "EventTimestamp    0\n",
            "ExpId             0\n",
            "dtype: int64\n",
            "Стат данные\n",
            "--------------------------------------------------------------------------------\n"
          ],
          "name": "stdout"
        },
        {
          "output_type": "display_data",
          "data": {
            "text/html": [
              "<div>\n",
              "<style scoped>\n",
              "    .dataframe tbody tr th:only-of-type {\n",
              "        vertical-align: middle;\n",
              "    }\n",
              "\n",
              "    .dataframe tbody tr th {\n",
              "        vertical-align: top;\n",
              "    }\n",
              "\n",
              "    .dataframe thead th {\n",
              "        text-align: right;\n",
              "    }\n",
              "</style>\n",
              "<table border=\"1\" class=\"dataframe\">\n",
              "  <thead>\n",
              "    <tr style=\"text-align: right;\">\n",
              "      <th></th>\n",
              "      <th>DeviceIDHash</th>\n",
              "      <th>EventTimestamp</th>\n",
              "      <th>ExpId</th>\n",
              "    </tr>\n",
              "  </thead>\n",
              "  <tbody>\n",
              "    <tr>\n",
              "      <th>count</th>\n",
              "      <td>2.441260e+05</td>\n",
              "      <td>2.441260e+05</td>\n",
              "      <td>244126.000000</td>\n",
              "    </tr>\n",
              "    <tr>\n",
              "      <th>mean</th>\n",
              "      <td>4.627568e+18</td>\n",
              "      <td>1.564914e+09</td>\n",
              "      <td>247.022296</td>\n",
              "    </tr>\n",
              "    <tr>\n",
              "      <th>std</th>\n",
              "      <td>2.642425e+18</td>\n",
              "      <td>1.771343e+05</td>\n",
              "      <td>0.824434</td>\n",
              "    </tr>\n",
              "    <tr>\n",
              "      <th>min</th>\n",
              "      <td>6.888747e+15</td>\n",
              "      <td>1.564030e+09</td>\n",
              "      <td>246.000000</td>\n",
              "    </tr>\n",
              "    <tr>\n",
              "      <th>25%</th>\n",
              "      <td>2.372212e+18</td>\n",
              "      <td>1.564757e+09</td>\n",
              "      <td>246.000000</td>\n",
              "    </tr>\n",
              "    <tr>\n",
              "      <th>50%</th>\n",
              "      <td>4.623192e+18</td>\n",
              "      <td>1.564919e+09</td>\n",
              "      <td>247.000000</td>\n",
              "    </tr>\n",
              "    <tr>\n",
              "      <th>75%</th>\n",
              "      <td>6.932517e+18</td>\n",
              "      <td>1.565075e+09</td>\n",
              "      <td>248.000000</td>\n",
              "    </tr>\n",
              "    <tr>\n",
              "      <th>max</th>\n",
              "      <td>9.222603e+18</td>\n",
              "      <td>1.565213e+09</td>\n",
              "      <td>248.000000</td>\n",
              "    </tr>\n",
              "  </tbody>\n",
              "</table>\n",
              "</div>"
            ],
            "text/plain": [
              "       DeviceIDHash  EventTimestamp          ExpId\n",
              "count  2.441260e+05    2.441260e+05  244126.000000\n",
              "mean   4.627568e+18    1.564914e+09     247.022296\n",
              "std    2.642425e+18    1.771343e+05       0.824434\n",
              "min    6.888747e+15    1.564030e+09     246.000000\n",
              "25%    2.372212e+18    1.564757e+09     246.000000\n",
              "50%    4.623192e+18    1.564919e+09     247.000000\n",
              "75%    6.932517e+18    1.565075e+09     248.000000\n",
              "max    9.222603e+18    1.565213e+09     248.000000"
            ]
          },
          "metadata": {
            "tags": []
          }
        }
      ]
    },
    {
      "cell_type": "markdown",
      "metadata": {
        "id": "es98fCBgCWFk"
      },
      "source": [
        "1. Названия столбцов: требуется корректировка.\n",
        "2. Типы данных: необходимо сконвертировать формат Unix-времени и разделить этот столбец на столбцы даты и времени.\n",
        "3. Дубликаты: 413 строк.\n",
        "4. Пропуски: отсутствуют.\n",
        "5. Аномалии в данных: отсутствуют."
      ]
    },
    {
      "cell_type": "markdown",
      "metadata": {
        "id": "nafZNi0RK0nu"
      },
      "source": [
        "###2.2. Преобразуем данные"
      ]
    },
    {
      "cell_type": "markdown",
      "metadata": {
        "id": "fDQnKDmoLGCj"
      },
      "source": [
        "####2.2.1. Скорректируем названия столбцов"
      ]
    },
    {
      "cell_type": "code",
      "metadata": {
        "colab": {
          "base_uri": "https://localhost:8080/"
        },
        "id": "xXv2O7MfMPBn",
        "outputId": "a19716d3-66fe-4100-a70f-7d6c5f823f64"
      },
      "source": [
        "app_log = app_log.rename(columns={'EventName':'event_name', 'DeviceIDHash':'user_id', 'EventTimestamp':'event_time', 'ExpId':'group_id'})\r\n",
        "app_log.columns"
      ],
      "execution_count": null,
      "outputs": [
        {
          "output_type": "execute_result",
          "data": {
            "text/plain": [
              "Index(['event_name', 'user_id', 'event_time', 'group_id'], dtype='object')"
            ]
          },
          "metadata": {
            "tags": []
          },
          "execution_count": 245
        }
      ]
    },
    {
      "cell_type": "markdown",
      "metadata": {
        "id": "Spt1yC5eLffc"
      },
      "source": [
        "####2.2.2. Изменим типы данных"
      ]
    },
    {
      "cell_type": "code",
      "metadata": {
        "colab": {
          "base_uri": "https://localhost:8080/"
        },
        "id": "N-LZQHJdM09R",
        "outputId": "3f00791b-0ddd-4e22-cf00-f34c4938e961"
      },
      "source": [
        "app_log.info()"
      ],
      "execution_count": null,
      "outputs": [
        {
          "output_type": "stream",
          "text": [
            "<class 'pandas.core.frame.DataFrame'>\n",
            "RangeIndex: 244126 entries, 0 to 244125\n",
            "Data columns (total 4 columns):\n",
            " #   Column      Non-Null Count   Dtype \n",
            "---  ------      --------------   ----- \n",
            " 0   event_name  244126 non-null  object\n",
            " 1   user_id     244126 non-null  int64 \n",
            " 2   event_time  244126 non-null  int64 \n",
            " 3   group_id    244126 non-null  int64 \n",
            "dtypes: int64(3), object(1)\n",
            "memory usage: 7.5+ MB\n"
          ],
          "name": "stdout"
        }
      ]
    },
    {
      "cell_type": "markdown",
      "metadata": {
        "id": "tEX-pX2XL56p"
      },
      "source": [
        "Cконвертируем формат Unix-времени и разделим этот столбец на столбцы даты и времени:"
      ]
    },
    {
      "cell_type": "code",
      "metadata": {
        "colab": {
          "base_uri": "https://localhost:8080/"
        },
        "id": "x3_9qO40Hdxy",
        "outputId": "e60bff1a-df3a-48f1-91e8-9c499695a006"
      },
      "source": [
        "app_log['event_time'] = app_log['event_time'].astype('datetime64[s]')\r\n",
        "app_log['date'] = [d.date() for d in app_log['event_time']]\r\n",
        "app_log['time'] = [d.time() for d in app_log['event_time']]\r\n",
        "app_log['date'] = pd.to_datetime(app_log.date)\r\n",
        "app_log.info()"
      ],
      "execution_count": null,
      "outputs": [
        {
          "output_type": "stream",
          "text": [
            "<class 'pandas.core.frame.DataFrame'>\n",
            "RangeIndex: 244126 entries, 0 to 244125\n",
            "Data columns (total 6 columns):\n",
            " #   Column      Non-Null Count   Dtype         \n",
            "---  ------      --------------   -----         \n",
            " 0   event_name  244126 non-null  object        \n",
            " 1   user_id     244126 non-null  int64         \n",
            " 2   event_time  244126 non-null  datetime64[ns]\n",
            " 3   group_id    244126 non-null  int64         \n",
            " 4   date        244126 non-null  datetime64[ns]\n",
            " 5   time        244126 non-null  object        \n",
            "dtypes: datetime64[ns](2), int64(2), object(2)\n",
            "memory usage: 11.2+ MB\n"
          ],
          "name": "stdout"
        }
      ]
    },
    {
      "cell_type": "markdown",
      "metadata": {
        "id": "pFj89k_GLfsg"
      },
      "source": [
        "####2.2.3. Удалим дубликаты"
      ]
    },
    {
      "cell_type": "code",
      "metadata": {
        "colab": {
          "base_uri": "https://localhost:8080/"
        },
        "id": "Avb8AHe_HTie",
        "outputId": "9d424e0b-bf95-4e96-de9b-a4a6902cf2da"
      },
      "source": [
        "app_log=app_log.drop_duplicates()\r\n",
        "app_log.info()"
      ],
      "execution_count": null,
      "outputs": [
        {
          "output_type": "stream",
          "text": [
            "<class 'pandas.core.frame.DataFrame'>\n",
            "Int64Index: 243713 entries, 0 to 244125\n",
            "Data columns (total 6 columns):\n",
            " #   Column      Non-Null Count   Dtype         \n",
            "---  ------      --------------   -----         \n",
            " 0   event_name  243713 non-null  object        \n",
            " 1   user_id     243713 non-null  int64         \n",
            " 2   event_time  243713 non-null  datetime64[ns]\n",
            " 3   group_id    243713 non-null  int64         \n",
            " 4   date        243713 non-null  datetime64[ns]\n",
            " 5   time        243713 non-null  object        \n",
            "dtypes: datetime64[ns](2), int64(2), object(2)\n",
            "memory usage: 13.0+ MB\n"
          ],
          "name": "stdout"
        }
      ]
    },
    {
      "cell_type": "markdown",
      "metadata": {
        "id": "P0TQYZtl1VmS"
      },
      "source": [
        "##Шаг 3. Изучим и проверим данные\n",
        "\n",
        "---\n",
        "\n"
      ]
    },
    {
      "cell_type": "markdown",
      "metadata": {
        "id": "7RLRu6Xp2fmB"
      },
      "source": [
        "###3.1. Сколько всего событий в логе?"
      ]
    },
    {
      "cell_type": "code",
      "metadata": {
        "colab": {
          "base_uri": "https://localhost:8080/",
          "height": 195
        },
        "id": "1fy8-kimAE3x",
        "outputId": "a09f09eb-4e74-4680-bbad-e8e576ba55f2"
      },
      "source": [
        "log_num=app_log.groupby('event_name')['user_id'].count().reset_index()\r\n",
        "log_num.columns = ['event_name', 'event_amount']\r\n",
        "log_num=log_num.sort_values(by = 'event_amount', ascending = False)\r\n",
        "log_num"
      ],
      "execution_count": null,
      "outputs": [
        {
          "output_type": "execute_result",
          "data": {
            "text/html": [
              "<div>\n",
              "<style scoped>\n",
              "    .dataframe tbody tr th:only-of-type {\n",
              "        vertical-align: middle;\n",
              "    }\n",
              "\n",
              "    .dataframe tbody tr th {\n",
              "        vertical-align: top;\n",
              "    }\n",
              "\n",
              "    .dataframe thead th {\n",
              "        text-align: right;\n",
              "    }\n",
              "</style>\n",
              "<table border=\"1\" class=\"dataframe\">\n",
              "  <thead>\n",
              "    <tr style=\"text-align: right;\">\n",
              "      <th></th>\n",
              "      <th>event_name</th>\n",
              "      <th>event_amount</th>\n",
              "    </tr>\n",
              "  </thead>\n",
              "  <tbody>\n",
              "    <tr>\n",
              "      <th>1</th>\n",
              "      <td>MainScreenAppear</td>\n",
              "      <td>119101</td>\n",
              "    </tr>\n",
              "    <tr>\n",
              "      <th>2</th>\n",
              "      <td>OffersScreenAppear</td>\n",
              "      <td>46808</td>\n",
              "    </tr>\n",
              "    <tr>\n",
              "      <th>0</th>\n",
              "      <td>CartScreenAppear</td>\n",
              "      <td>42668</td>\n",
              "    </tr>\n",
              "    <tr>\n",
              "      <th>3</th>\n",
              "      <td>PaymentScreenSuccessful</td>\n",
              "      <td>34118</td>\n",
              "    </tr>\n",
              "    <tr>\n",
              "      <th>4</th>\n",
              "      <td>Tutorial</td>\n",
              "      <td>1018</td>\n",
              "    </tr>\n",
              "  </tbody>\n",
              "</table>\n",
              "</div>"
            ],
            "text/plain": [
              "                event_name  event_amount\n",
              "1         MainScreenAppear        119101\n",
              "2       OffersScreenAppear         46808\n",
              "0         CartScreenAppear         42668\n",
              "3  PaymentScreenSuccessful         34118\n",
              "4                 Tutorial          1018"
            ]
          },
          "metadata": {
            "tags": []
          },
          "execution_count": 249
        }
      ]
    },
    {
      "cell_type": "markdown",
      "metadata": {
        "id": "_kIgUCMbDaOF"
      },
      "source": [
        "В логе всего 5 различных событий, разница в количестве их возникновения от самого максимального к самому минимальному – более чем в 100 раз."
      ]
    },
    {
      "cell_type": "markdown",
      "metadata": {
        "id": "FY0tsX7C2m6k"
      },
      "source": [
        "###3.2. Сколько всего пользователей в логе?"
      ]
    },
    {
      "cell_type": "code",
      "metadata": {
        "colab": {
          "base_uri": "https://localhost:8080/",
          "height": 35
        },
        "id": "qb0D04zcEWQ3",
        "outputId": "b501d520-8e0f-4e4e-867f-0481af0d2119"
      },
      "source": [
        "users_num=app_log['user_id'].nunique()\r\n",
        "f'Всего {users_num} пользователь в логе'"
      ],
      "execution_count": null,
      "outputs": [
        {
          "output_type": "execute_result",
          "data": {
            "application/vnd.google.colaboratory.intrinsic+json": {
              "type": "string"
            },
            "text/plain": [
              "'Всего 7551 пользователь в логе'"
            ]
          },
          "metadata": {
            "tags": []
          },
          "execution_count": 250
        }
      ]
    },
    {
      "cell_type": "markdown",
      "metadata": {
        "id": "it9rb5842nAV"
      },
      "source": [
        "###3.3. Сколько в среднем событий приходится на пользователя?"
      ]
    },
    {
      "cell_type": "code",
      "metadata": {
        "colab": {
          "base_uri": "https://localhost:8080/",
          "height": 35
        },
        "id": "3GWUuLAALE1l",
        "outputId": "880cd88a-7bb2-407a-b020-1fe5acb7737a"
      },
      "source": [
        "event_user=round((app_log.groupby('user_id')['event_name'].count()).mean(),0)\r\n",
        "f'Всего на 1 пользователя в среднем приходится {event_user} события'"
      ],
      "execution_count": null,
      "outputs": [
        {
          "output_type": "execute_result",
          "data": {
            "application/vnd.google.colaboratory.intrinsic+json": {
              "type": "string"
            },
            "text/plain": [
              "'Всего на 1 пользователя в среднем приходится 32.0 события'"
            ]
          },
          "metadata": {
            "tags": []
          },
          "execution_count": 251
        }
      ]
    },
    {
      "cell_type": "markdown",
      "metadata": {
        "id": "gYsOtwUrG55K"
      },
      "source": [
        "Пользователь может совершить несколько заказов, да и в течение недели может заходить и просматривать список товаров."
      ]
    },
    {
      "cell_type": "markdown",
      "metadata": {
        "id": "LaIs8qKM2nCh"
      },
      "source": [
        "###3.4. Период данных"
      ]
    },
    {
      "cell_type": "markdown",
      "metadata": {
        "id": "EjzZMdQqTCCZ"
      },
      "source": [
        "Построим гистограмму по датам, чтобы определить полноту данных в датасете:"
      ]
    },
    {
      "cell_type": "code",
      "metadata": {
        "colab": {
          "base_uri": "https://localhost:8080/",
          "height": 374
        },
        "id": "C_KgsD5VOn2D",
        "outputId": "a551884c-53a6-4a52-b508-24b63c242c0e"
      },
      "source": [
        "plt.figure(figsize=(20,6))\r\n",
        "app_log['date'].hist(bins=80);"
      ],
      "execution_count": null,
      "outputs": [
        {
          "output_type": "display_data",
          "data": {
            "image/png": "[encoded data removed]",
            "text/plain": [
              "<Figure size 1440x432 with 1 Axes>"
            ]
          },
          "metadata": {
            "tags": [],
            "needs_background": "light"
          }
        }
      ]
    },
    {
      "cell_type": "markdown",
      "metadata": {
        "id": "ensN4qt7SX84"
      },
      "source": [
        "В логе данные не за все дни являются полными, поэтому удалим данные по 2019-07-31 включительно:"
      ]
    },
    {
      "cell_type": "code",
      "metadata": {
        "id": "klVEAPuETY_C"
      },
      "source": [
        "app_log=app_log.drop(app_log[app_log['date'] < '2019-08-01'].index)"
      ],
      "execution_count": null,
      "outputs": []
    },
    {
      "cell_type": "code",
      "metadata": {
        "colab": {
          "base_uri": "https://localhost:8080/"
        },
        "id": "3vIx0kcqXDyE",
        "outputId": "7a080023-9c2c-4583-d8b2-382f6ebae1fd"
      },
      "source": [
        "print(\"В результате удаления потеряли\", log_num['event_amount'].sum()-app_log.shape[0], \"событий и\", users_num-app_log['user_id'].nunique(), \"пользователей, или\")"
      ],
      "execution_count": null,
      "outputs": [
        {
          "output_type": "stream",
          "text": [
            "В результате удаления потеряли 2826 событий и 17 пользователей, или\n"
          ],
          "name": "stdout"
        }
      ]
    },
    {
      "cell_type": "code",
      "metadata": {
        "colab": {
          "base_uri": "https://localhost:8080/"
        },
        "id": "NgKjP-P2HV6h",
        "outputId": "53ddbae3-fd41-4f0d-e17e-02d492a9ef84"
      },
      "source": [
        "print(round((1-app_log.shape[0]/log_num['event_amount'].sum())*100,2), \"% событий и\", round((1-app_log['user_id'].nunique()/users_num)*100,2), \"% пользователей\")"
      ],
      "execution_count": null,
      "outputs": [
        {
          "output_type": "stream",
          "text": [
            "1.16 % событий и 0.23 % пользователей\n"
          ],
          "name": "stdout"
        }
      ]
    },
    {
      "cell_type": "markdown",
      "metadata": {
        "id": "TT1AeLYEScg5"
      },
      "source": [
        "Проверим, что у нас есть пользователи из всех трёх экспериментальных групп:"
      ]
    },
    {
      "cell_type": "code",
      "metadata": {
        "colab": {
          "base_uri": "https://localhost:8080/"
        },
        "id": "iunw_Oj8c5U8",
        "outputId": "fd63263d-b8a3-4b2b-8431-b6e66b727777"
      },
      "source": [
        "app_log.nunique()"
      ],
      "execution_count": null,
      "outputs": [
        {
          "output_type": "execute_result",
          "data": {
            "text/plain": [
              "event_name         5\n",
              "user_id         7534\n",
              "event_time    174044\n",
              "group_id           3\n",
              "date               7\n",
              "time           69316\n",
              "dtype: int64"
            ]
          },
          "metadata": {
            "tags": []
          },
          "execution_count": 256
        }
      ]
    },
    {
      "cell_type": "markdown",
      "metadata": {
        "id": "Ng2r8gJKShxI"
      },
      "source": [
        "##Шаг 4. Изучим воронку событий\n",
        "\n",
        "---\n",
        "\n"
      ]
    },
    {
      "cell_type": "markdown",
      "metadata": {
        "id": "ypsYPyFBShxY"
      },
      "source": [
        "###4.1. События в логах"
      ]
    },
    {
      "cell_type": "markdown",
      "metadata": {
        "id": "AgyrdF9JTB61"
      },
      "source": [
        "Посмотрим на события в логах и как часто они встречаются:"
      ]
    },
    {
      "cell_type": "code",
      "metadata": {
        "colab": {
          "base_uri": "https://localhost:8080/",
          "height": 195
        },
        "id": "0OJFVAcFzLSh",
        "outputId": "66049626-6d60-49ee-a8eb-a321249ba225"
      },
      "source": [
        "log_num=app_log.groupby('event_name')['user_id'].count().reset_index()\r\n",
        "log_num.columns = ['event_name', 'event_amount']\r\n",
        "log_num=log_num.sort_values(by = 'event_amount', ascending = False)\r\n",
        "log_num"
      ],
      "execution_count": null,
      "outputs": [
        {
          "output_type": "execute_result",
          "data": {
            "text/html": [
              "<div>\n",
              "<style scoped>\n",
              "    .dataframe tbody tr th:only-of-type {\n",
              "        vertical-align: middle;\n",
              "    }\n",
              "\n",
              "    .dataframe tbody tr th {\n",
              "        vertical-align: top;\n",
              "    }\n",
              "\n",
              "    .dataframe thead th {\n",
              "        text-align: right;\n",
              "    }\n",
              "</style>\n",
              "<table border=\"1\" class=\"dataframe\">\n",
              "  <thead>\n",
              "    <tr style=\"text-align: right;\">\n",
              "      <th></th>\n",
              "      <th>event_name</th>\n",
              "      <th>event_amount</th>\n",
              "    </tr>\n",
              "  </thead>\n",
              "  <tbody>\n",
              "    <tr>\n",
              "      <th>1</th>\n",
              "      <td>MainScreenAppear</td>\n",
              "      <td>117328</td>\n",
              "    </tr>\n",
              "    <tr>\n",
              "      <th>2</th>\n",
              "      <td>OffersScreenAppear</td>\n",
              "      <td>46333</td>\n",
              "    </tr>\n",
              "    <tr>\n",
              "      <th>0</th>\n",
              "      <td>CartScreenAppear</td>\n",
              "      <td>42303</td>\n",
              "    </tr>\n",
              "    <tr>\n",
              "      <th>3</th>\n",
              "      <td>PaymentScreenSuccessful</td>\n",
              "      <td>33918</td>\n",
              "    </tr>\n",
              "    <tr>\n",
              "      <th>4</th>\n",
              "      <td>Tutorial</td>\n",
              "      <td>1005</td>\n",
              "    </tr>\n",
              "  </tbody>\n",
              "</table>\n",
              "</div>"
            ],
            "text/plain": [
              "                event_name  event_amount\n",
              "1         MainScreenAppear        117328\n",
              "2       OffersScreenAppear         46333\n",
              "0         CartScreenAppear         42303\n",
              "3  PaymentScreenSuccessful         33918\n",
              "4                 Tutorial          1005"
            ]
          },
          "metadata": {
            "tags": []
          },
          "execution_count": 257
        }
      ]
    },
    {
      "cell_type": "markdown",
      "metadata": {
        "id": "Xxq7VH2KShxY"
      },
      "source": [
        "###4.2. События и пользователи"
      ]
    },
    {
      "cell_type": "markdown",
      "metadata": {
        "id": "zwf3ag9mTPfx"
      },
      "source": [
        "Посчитаем сколько пользователей совершали каждое из этих событий, отсортируем события по числу пользователей:\r\n"
      ]
    },
    {
      "cell_type": "code",
      "metadata": {
        "colab": {
          "base_uri": "https://localhost:8080/",
          "height": 195
        },
        "id": "0rJ_Icnt1HAV",
        "outputId": "4abe576b-f61f-4306-d263-59878e493ff6"
      },
      "source": [
        "users_amount = app_log.pivot_table(index=['event_name'], values='user_id', aggfunc={'nunique','count'}).reset_index()\r\n",
        "users_amount.columns = ['event_name', 'events_amount', 'unique_users_amount']\r\n",
        "users_amount=users_amount.sort_values(by = 'unique_users_amount', ascending = False)\r\n",
        "users_amount"
      ],
      "execution_count": null,
      "outputs": [
        {
          "output_type": "execute_result",
          "data": {
            "text/html": [
              "<div>\n",
              "<style scoped>\n",
              "    .dataframe tbody tr th:only-of-type {\n",
              "        vertical-align: middle;\n",
              "    }\n",
              "\n",
              "    .dataframe tbody tr th {\n",
              "        vertical-align: top;\n",
              "    }\n",
              "\n",
              "    .dataframe thead th {\n",
              "        text-align: right;\n",
              "    }\n",
              "</style>\n",
              "<table border=\"1\" class=\"dataframe\">\n",
              "  <thead>\n",
              "    <tr style=\"text-align: right;\">\n",
              "      <th></th>\n",
              "      <th>event_name</th>\n",
              "      <th>events_amount</th>\n",
              "      <th>unique_users_amount</th>\n",
              "    </tr>\n",
              "  </thead>\n",
              "  <tbody>\n",
              "    <tr>\n",
              "      <th>1</th>\n",
              "      <td>MainScreenAppear</td>\n",
              "      <td>117328</td>\n",
              "      <td>7419</td>\n",
              "    </tr>\n",
              "    <tr>\n",
              "      <th>2</th>\n",
              "      <td>OffersScreenAppear</td>\n",
              "      <td>46333</td>\n",
              "      <td>4593</td>\n",
              "    </tr>\n",
              "    <tr>\n",
              "      <th>0</th>\n",
              "      <td>CartScreenAppear</td>\n",
              "      <td>42303</td>\n",
              "      <td>3734</td>\n",
              "    </tr>\n",
              "    <tr>\n",
              "      <th>3</th>\n",
              "      <td>PaymentScreenSuccessful</td>\n",
              "      <td>33918</td>\n",
              "      <td>3539</td>\n",
              "    </tr>\n",
              "    <tr>\n",
              "      <th>4</th>\n",
              "      <td>Tutorial</td>\n",
              "      <td>1005</td>\n",
              "      <td>840</td>\n",
              "    </tr>\n",
              "  </tbody>\n",
              "</table>\n",
              "</div>"
            ],
            "text/plain": [
              "                event_name  events_amount  unique_users_amount\n",
              "1         MainScreenAppear         117328                 7419\n",
              "2       OffersScreenAppear          46333                 4593\n",
              "0         CartScreenAppear          42303                 3734\n",
              "3  PaymentScreenSuccessful          33918                 3539\n",
              "4                 Tutorial           1005                  840"
            ]
          },
          "metadata": {
            "tags": []
          },
          "execution_count": 258
        }
      ]
    },
    {
      "cell_type": "markdown",
      "metadata": {
        "id": "InwQr4Dh01-C"
      },
      "source": [
        "Посчитаем долю пользователей, которые хоть раз совершали событие:"
      ]
    },
    {
      "cell_type": "code",
      "metadata": {
        "id": "3h4CRykyUFaW",
        "colab": {
          "base_uri": "https://localhost:8080/",
          "height": 195
        },
        "outputId": "1eca312a-29fb-475c-ebad-79eebc17705b"
      },
      "source": [
        "users_amount['users_perc']=round(users_amount['unique_users_amount']/app_log['user_id'].nunique()*100,2)\r\n",
        "users_amount"
      ],
      "execution_count": null,
      "outputs": [
        {
          "output_type": "execute_result",
          "data": {
            "text/html": [
              "<div>\n",
              "<style scoped>\n",
              "    .dataframe tbody tr th:only-of-type {\n",
              "        vertical-align: middle;\n",
              "    }\n",
              "\n",
              "    .dataframe tbody tr th {\n",
              "        vertical-align: top;\n",
              "    }\n",
              "\n",
              "    .dataframe thead th {\n",
              "        text-align: right;\n",
              "    }\n",
              "</style>\n",
              "<table border=\"1\" class=\"dataframe\">\n",
              "  <thead>\n",
              "    <tr style=\"text-align: right;\">\n",
              "      <th></th>\n",
              "      <th>event_name</th>\n",
              "      <th>events_amount</th>\n",
              "      <th>unique_users_amount</th>\n",
              "      <th>users_perc</th>\n",
              "    </tr>\n",
              "  </thead>\n",
              "  <tbody>\n",
              "    <tr>\n",
              "      <th>1</th>\n",
              "      <td>MainScreenAppear</td>\n",
              "      <td>117328</td>\n",
              "      <td>7419</td>\n",
              "      <td>98.47</td>\n",
              "    </tr>\n",
              "    <tr>\n",
              "      <th>2</th>\n",
              "      <td>OffersScreenAppear</td>\n",
              "      <td>46333</td>\n",
              "      <td>4593</td>\n",
              "      <td>60.96</td>\n",
              "    </tr>\n",
              "    <tr>\n",
              "      <th>0</th>\n",
              "      <td>CartScreenAppear</td>\n",
              "      <td>42303</td>\n",
              "      <td>3734</td>\n",
              "      <td>49.56</td>\n",
              "    </tr>\n",
              "    <tr>\n",
              "      <th>3</th>\n",
              "      <td>PaymentScreenSuccessful</td>\n",
              "      <td>33918</td>\n",
              "      <td>3539</td>\n",
              "      <td>46.97</td>\n",
              "    </tr>\n",
              "    <tr>\n",
              "      <th>4</th>\n",
              "      <td>Tutorial</td>\n",
              "      <td>1005</td>\n",
              "      <td>840</td>\n",
              "      <td>11.15</td>\n",
              "    </tr>\n",
              "  </tbody>\n",
              "</table>\n",
              "</div>"
            ],
            "text/plain": [
              "                event_name  events_amount  unique_users_amount  users_perc\n",
              "1         MainScreenAppear         117328                 7419       98.47\n",
              "2       OffersScreenAppear          46333                 4593       60.96\n",
              "0         CartScreenAppear          42303                 3734       49.56\n",
              "3  PaymentScreenSuccessful          33918                 3539       46.97\n",
              "4                 Tutorial           1005                  840       11.15"
            ]
          },
          "metadata": {
            "tags": []
          },
          "execution_count": 259
        }
      ]
    },
    {
      "cell_type": "markdown",
      "metadata": {
        "id": "Q6z54UdCbEvi"
      },
      "source": [
        "Недобор 1,53 % пользователей по событию MainScreenAppear вызван тем, что на сессия включающая в себя этот экран началась накануне и в текущий датасет не попала, а также часть пользователей могла попасть в приложение в обход MainScreenAppear и попадать сразу, в OffersScreenAppear.\r\n",
        "\r\n",
        "Лишь 11,15 % пользователей проходят обучение в приложении, можно задуматься об упразднении этого раздела приложения.\r\n"
      ]
    },
    {
      "cell_type": "markdown",
      "metadata": {
        "id": "cGo_qzZ-ShxZ"
      },
      "source": [
        "###4.3. Воронка событий"
      ]
    },
    {
      "cell_type": "markdown",
      "metadata": {
        "id": "GLaiDq7abqbS"
      },
      "source": [
        "Последовательность цепочки событий выстраивается следующим образом: MainScreenAppear → OffersScreenAppear → CartScreenAppear → PaymentScreenSuccessful."
      ]
    },
    {
      "cell_type": "markdown",
      "metadata": {
        "id": "Jmc24sVSIMNk"
      },
      "source": [
        "Добавим группировку по экспериментальным группам и посмотрим на то, согласуются ли данные разных групп между собой:"
      ]
    },
    {
      "cell_type": "code",
      "metadata": {
        "colab": {
          "base_uri": "https://localhost:8080/",
          "height": 195
        },
        "id": "xOi5FyknIdyX",
        "outputId": "989e2510-3b39-49b0-849f-4b1b36dd6ecc"
      },
      "source": [
        "events_by_groups=app_log.pivot_table(index=['event_name'], values='user_id', columns='group_id', aggfunc={'nunique'}).reset_index()\r\n",
        "events_by_groups.columns = ['event_name', '246', '247', '248']\r\n",
        "events_by_groups = events_by_groups.sort_values(by='248', ascending=False)\r\n",
        "events_by_groups"
      ],
      "execution_count": null,
      "outputs": [
        {
          "output_type": "execute_result",
          "data": {
            "text/html": [
              "<div>\n",
              "<style scoped>\n",
              "    .dataframe tbody tr th:only-of-type {\n",
              "        vertical-align: middle;\n",
              "    }\n",
              "\n",
              "    .dataframe tbody tr th {\n",
              "        vertical-align: top;\n",
              "    }\n",
              "\n",
              "    .dataframe thead th {\n",
              "        text-align: right;\n",
              "    }\n",
              "</style>\n",
              "<table border=\"1\" class=\"dataframe\">\n",
              "  <thead>\n",
              "    <tr style=\"text-align: right;\">\n",
              "      <th></th>\n",
              "      <th>event_name</th>\n",
              "      <th>246</th>\n",
              "      <th>247</th>\n",
              "      <th>248</th>\n",
              "    </tr>\n",
              "  </thead>\n",
              "  <tbody>\n",
              "    <tr>\n",
              "      <th>1</th>\n",
              "      <td>MainScreenAppear</td>\n",
              "      <td>2450</td>\n",
              "      <td>2476</td>\n",
              "      <td>2493</td>\n",
              "    </tr>\n",
              "    <tr>\n",
              "      <th>2</th>\n",
              "      <td>OffersScreenAppear</td>\n",
              "      <td>1542</td>\n",
              "      <td>1520</td>\n",
              "      <td>1531</td>\n",
              "    </tr>\n",
              "    <tr>\n",
              "      <th>0</th>\n",
              "      <td>CartScreenAppear</td>\n",
              "      <td>1266</td>\n",
              "      <td>1238</td>\n",
              "      <td>1230</td>\n",
              "    </tr>\n",
              "    <tr>\n",
              "      <th>3</th>\n",
              "      <td>PaymentScreenSuccessful</td>\n",
              "      <td>1200</td>\n",
              "      <td>1158</td>\n",
              "      <td>1181</td>\n",
              "    </tr>\n",
              "    <tr>\n",
              "      <th>4</th>\n",
              "      <td>Tutorial</td>\n",
              "      <td>278</td>\n",
              "      <td>283</td>\n",
              "      <td>279</td>\n",
              "    </tr>\n",
              "  </tbody>\n",
              "</table>\n",
              "</div>"
            ],
            "text/plain": [
              "                event_name   246   247   248\n",
              "1         MainScreenAppear  2450  2476  2493\n",
              "2       OffersScreenAppear  1542  1520  1531\n",
              "0         CartScreenAppear  1266  1238  1230\n",
              "3  PaymentScreenSuccessful  1200  1158  1181\n",
              "4                 Tutorial   278   283   279"
            ]
          },
          "metadata": {
            "tags": []
          },
          "execution_count": 260
        }
      ]
    },
    {
      "cell_type": "markdown",
      "metadata": {
        "id": "Rqh1q7RLIZKq"
      },
      "source": [
        "Видим, что данные согласуются в разных группах, теперь можно строить воронку событий:"
      ]
    },
    {
      "cell_type": "code",
      "metadata": {
        "id": "D6wizVymcUBd",
        "colab": {
          "base_uri": "https://localhost:8080/",
          "height": 542
        },
        "outputId": "9ea998e0-2bc6-41bd-d2aa-347d34201999"
      },
      "source": [
        "fig = go.Figure(go.Funnel(\r\n",
        "    y = [\"Главный экран\",\"Предложения/товары\", \"Корзина\", \"Оплата\"],\r\n",
        "    x = users_amount['unique_users_amount'],\r\n",
        "    textinfo = \"value+percent initial\"\r\n",
        "))\r\n",
        "fig.show()"
      ],
      "execution_count": null,
      "outputs": [
        {
          "output_type": "display_data",
          "data": {
            "text/html": [
              "<html>\n",
              "<head><meta charset=\"utf-8\" /></head>\n",
              "<body>\n",
              "    <div>\n",
              "            <script src=\"https://cdnjs.cloudflare.com/ajax/libs/mathjax/2.7.5/MathJax.js?config=TeX-AMS-MML_SVG\"></script><script type=\"text/javascript\">if (window.MathJax) {MathJax.Hub.Config({SVG: {font: \"STIX-Web\"}});}</script>\n",
              "                <script type=\"text/javascript\">window.PlotlyConfig = {MathJaxConfig: 'local'};</script>\n",
              "        <script src=\"https://cdn.plot.ly/plotly-latest.min.js\"></script>    \n",
              "            <div id=\"468863b8-99af-47d5-ae87-93151b3ffd83\" class=\"plotly-graph-div\" style=\"height:525px; width:100%;\"></div>\n",
              "            <script type=\"text/javascript\">\n",
              "                \n",
              "                    window.PLOTLYENV=window.PLOTLYENV || {};\n",
              "                    \n",
              "                if (document.getElementById(\"468863b8-99af-47d5-ae87-93151b3ffd83\")) {\n",
              "                    Plotly.newPlot(\n",
              "                        '468863b8-99af-47d5-ae87-93151b3ffd83',\n",
              "                        [{\"textinfo\": \"value+percent initial\", \"type\": \"funnel\", \"x\": [7419, 4593, 3734, 3539, 840], \"y\": [\"\\u0413\\u043b\\u0430\\u0432\\u043d\\u044b\\u0439 \\u044d\\u043a\\u0440\\u0430\\u043d\", \"\\u041f\\u0440\\u0435\\u0434\\u043b\\u043e\\u0436\\u0435\\u043d\\u0438\\u044f/\\u0442\\u043e\\u0432\\u0430\\u0440\\u044b\", \"\\u041a\\u043e\\u0440\\u0437\\u0438\\u043d\\u0430\", \"\\u041e\\u043f\\u043b\\u0430\\u0442\\u0430\"]}],\n",
              "                        {\"template\": {\"data\": {\"bar\": [{\"error_x\": {\"color\": \"#2a3f5f\"}, \"error_y\": {\"color\": \"#2a3f5f\"}, \"marker\": {\"line\": {\"color\": \"#E5ECF6\", \"width\": 0.5}}, \"type\": \"bar\"}], \"barpolar\": [{\"marker\": {\"line\": {\"color\": \"#E5ECF6\", \"width\": 0.5}}, \"type\": \"barpolar\"}], \"carpet\": [{\"aaxis\": {\"endlinecolor\": \"#2a3f5f\", \"gridcolor\": \"white\", \"linecolor\": \"white\", \"minorgridcolor\": \"white\", \"startlinecolor\": \"#2a3f5f\"}, \"baxis\": {\"endlinecolor\": \"#2a3f5f\", \"gridcolor\": \"white\", \"linecolor\": \"white\", \"minorgridcolor\": \"white\", \"startlinecolor\": \"#2a3f5f\"}, \"type\": \"carpet\"}], \"choropleth\": [{\"colorbar\": {\"outlinewidth\": 0, \"ticks\": \"\"}, \"type\": \"choropleth\"}], \"contour\": [{\"colorbar\": {\"outlinewidth\": 0, \"ticks\": \"\"}, \"colorscale\": [[0.0, \"#0d0887\"], [0.1111111111111111, \"#46039f\"], [0.2222222222222222, \"#7201a8\"], [0.3333333333333333, \"#9c179e\"], [0.4444444444444444, \"#bd3786\"], [0.5555555555555556, \"#d8576b\"], [0.6666666666666666, \"#ed7953\"], [0.7777777777777778, \"#fb9f3a\"], [0.8888888888888888, \"#fdca26\"], [1.0, \"#f0f921\"]], \"type\": \"contour\"}], \"contourcarpet\": [{\"colorbar\": {\"outlinewidth\": 0, \"ticks\": \"\"}, \"type\": \"contourcarpet\"}], \"heatmap\": [{\"colorbar\": {\"outlinewidth\": 0, \"ticks\": \"\"}, \"colorscale\": [[0.0, \"#0d0887\"], [0.1111111111111111, \"#46039f\"], [0.2222222222222222, \"#7201a8\"], [0.3333333333333333, \"#9c179e\"], [0.4444444444444444, \"#bd3786\"], [0.5555555555555556, \"#d8576b\"], [0.6666666666666666, \"#ed7953\"], [0.7777777777777778, \"#fb9f3a\"], [0.8888888888888888, \"#fdca26\"], [1.0, \"#f0f921\"]], \"type\": \"heatmap\"}], \"heatmapgl\": [{\"colorbar\": {\"outlinewidth\": 0, \"ticks\": \"\"}, \"colorscale\": [[0.0, \"#0d0887\"], [0.1111111111111111, \"#46039f\"], [0.2222222222222222, \"#7201a8\"], [0.3333333333333333, \"#9c179e\"], [0.4444444444444444, \"#bd3786\"], [0.5555555555555556, \"#d8576b\"], [0.6666666666666666, \"#ed7953\"], [0.7777777777777778, \"#fb9f3a\"], [0.8888888888888888, \"#fdca26\"], [1.0, \"#f0f921\"]], \"type\": \"heatmapgl\"}], \"histogram\": [{\"marker\": {\"colorbar\": {\"outlinewidth\": 0, \"ticks\": \"\"}}, \"type\": \"histogram\"}], \"histogram2d\": [{\"colorbar\": {\"outlinewidth\": 0, \"ticks\": \"\"}, \"colorscale\": [[0.0, \"#0d0887\"], [0.1111111111111111, \"#46039f\"], [0.2222222222222222, \"#7201a8\"], [0.3333333333333333, \"#9c179e\"], [0.4444444444444444, \"#bd3786\"], [0.5555555555555556, \"#d8576b\"], [0.6666666666666666, \"#ed7953\"], [0.7777777777777778, \"#fb9f3a\"], [0.8888888888888888, \"#fdca26\"], [1.0, \"#f0f921\"]], \"type\": \"histogram2d\"}], \"histogram2dcontour\": [{\"colorbar\": {\"outlinewidth\": 0, \"ticks\": \"\"}, \"colorscale\": [[0.0, \"#0d0887\"], [0.1111111111111111, \"#46039f\"], [0.2222222222222222, \"#7201a8\"], [0.3333333333333333, \"#9c179e\"], [0.4444444444444444, \"#bd3786\"], [0.5555555555555556, \"#d8576b\"], [0.6666666666666666, \"#ed7953\"], [0.7777777777777778, \"#fb9f3a\"], [0.8888888888888888, \"#fdca26\"], [1.0, \"#f0f921\"]], \"type\": \"histogram2dcontour\"}], \"mesh3d\": [{\"colorbar\": {\"outlinewidth\": 0, \"ticks\": \"\"}, \"type\": \"mesh3d\"}], \"parcoords\": [{\"line\": {\"colorbar\": {\"outlinewidth\": 0, \"ticks\": \"\"}}, \"type\": \"parcoords\"}], \"pie\": [{\"automargin\": true, \"type\": \"pie\"}], \"scatter\": [{\"marker\": {\"colorbar\": {\"outlinewidth\": 0, \"ticks\": \"\"}}, \"type\": \"scatter\"}], \"scatter3d\": [{\"line\": {\"colorbar\": {\"outlinewidth\": 0, \"ticks\": \"\"}}, \"marker\": {\"colorbar\": {\"outlinewidth\": 0, \"ticks\": \"\"}}, \"type\": \"scatter3d\"}], \"scattercarpet\": [{\"marker\": {\"colorbar\": {\"outlinewidth\": 0, \"ticks\": \"\"}}, \"type\": \"scattercarpet\"}], \"scattergeo\": [{\"marker\": {\"colorbar\": {\"outlinewidth\": 0, \"ticks\": \"\"}}, \"type\": \"scattergeo\"}], \"scattergl\": [{\"marker\": {\"colorbar\": {\"outlinewidth\": 0, \"ticks\": \"\"}}, \"type\": \"scattergl\"}], \"scattermapbox\": [{\"marker\": {\"colorbar\": {\"outlinewidth\": 0, \"ticks\": \"\"}}, \"type\": \"scattermapbox\"}], \"scatterpolar\": [{\"marker\": {\"colorbar\": {\"outlinewidth\": 0, \"ticks\": \"\"}}, \"type\": \"scatterpolar\"}], \"scatterpolargl\": [{\"marker\": {\"colorbar\": {\"outlinewidth\": 0, \"ticks\": \"\"}}, \"type\": \"scatterpolargl\"}], \"scatterternary\": [{\"marker\": {\"colorbar\": {\"outlinewidth\": 0, \"ticks\": \"\"}}, \"type\": \"scatterternary\"}], \"surface\": [{\"colorbar\": {\"outlinewidth\": 0, \"ticks\": \"\"}, \"colorscale\": [[0.0, \"#0d0887\"], [0.1111111111111111, \"#46039f\"], [0.2222222222222222, \"#7201a8\"], [0.3333333333333333, \"#9c179e\"], [0.4444444444444444, \"#bd3786\"], [0.5555555555555556, \"#d8576b\"], [0.6666666666666666, \"#ed7953\"], [0.7777777777777778, \"#fb9f3a\"], [0.8888888888888888, \"#fdca26\"], [1.0, \"#f0f921\"]], \"type\": \"surface\"}], \"table\": [{\"cells\": {\"fill\": {\"color\": \"#EBF0F8\"}, \"line\": {\"color\": \"white\"}}, \"header\": {\"fill\": {\"color\": \"#C8D4E3\"}, \"line\": {\"color\": \"white\"}}, \"type\": \"table\"}]}, \"layout\": {\"annotationdefaults\": {\"arrowcolor\": \"#2a3f5f\", \"arrowhead\": 0, \"arrowwidth\": 1}, \"coloraxis\": {\"colorbar\": {\"outlinewidth\": 0, \"ticks\": \"\"}}, \"colorscale\": {\"diverging\": [[0, \"#8e0152\"], [0.1, \"#c51b7d\"], [0.2, \"#de77ae\"], [0.3, \"#f1b6da\"], [0.4, \"#fde0ef\"], [0.5, \"#f7f7f7\"], [0.6, \"#e6f5d0\"], [0.7, \"#b8e186\"], [0.8, \"#7fbc41\"], [0.9, \"#4d9221\"], [1, \"#276419\"]], \"sequential\": [[0.0, \"#0d0887\"], [0.1111111111111111, \"#46039f\"], [0.2222222222222222, \"#7201a8\"], [0.3333333333333333, \"#9c179e\"], [0.4444444444444444, \"#bd3786\"], [0.5555555555555556, \"#d8576b\"], [0.6666666666666666, \"#ed7953\"], [0.7777777777777778, \"#fb9f3a\"], [0.8888888888888888, \"#fdca26\"], [1.0, \"#f0f921\"]], \"sequentialminus\": [[0.0, \"#0d0887\"], [0.1111111111111111, \"#46039f\"], [0.2222222222222222, \"#7201a8\"], [0.3333333333333333, \"#9c179e\"], [0.4444444444444444, \"#bd3786\"], [0.5555555555555556, \"#d8576b\"], [0.6666666666666666, \"#ed7953\"], [0.7777777777777778, \"#fb9f3a\"], [0.8888888888888888, \"#fdca26\"], [1.0, \"#f0f921\"]]}, \"colorway\": [\"#636efa\", \"#EF553B\", \"#00cc96\", \"#ab63fa\", \"#FFA15A\", \"#19d3f3\", \"#FF6692\", \"#B6E880\", \"#FF97FF\", \"#FECB52\"], \"font\": {\"color\": \"#2a3f5f\"}, \"geo\": {\"bgcolor\": \"white\", \"lakecolor\": \"white\", \"landcolor\": \"#E5ECF6\", \"showlakes\": true, \"showland\": true, \"subunitcolor\": \"white\"}, \"hoverlabel\": {\"align\": \"left\"}, \"hovermode\": \"closest\", \"mapbox\": {\"style\": \"light\"}, \"paper_bgcolor\": \"white\", \"plot_bgcolor\": \"#E5ECF6\", \"polar\": {\"angularaxis\": {\"gridcolor\": \"white\", \"linecolor\": \"white\", \"ticks\": \"\"}, \"bgcolor\": \"#E5ECF6\", \"radialaxis\": {\"gridcolor\": \"white\", \"linecolor\": \"white\", \"ticks\": \"\"}}, \"scene\": {\"xaxis\": {\"backgroundcolor\": \"#E5ECF6\", \"gridcolor\": \"white\", \"gridwidth\": 2, \"linecolor\": \"white\", \"showbackground\": true, \"ticks\": \"\", \"zerolinecolor\": \"white\"}, \"yaxis\": {\"backgroundcolor\": \"#E5ECF6\", \"gridcolor\": \"white\", \"gridwidth\": 2, \"linecolor\": \"white\", \"showbackground\": true, \"ticks\": \"\", \"zerolinecolor\": \"white\"}, \"zaxis\": {\"backgroundcolor\": \"#E5ECF6\", \"gridcolor\": \"white\", \"gridwidth\": 2, \"linecolor\": \"white\", \"showbackground\": true, \"ticks\": \"\", \"zerolinecolor\": \"white\"}}, \"shapedefaults\": {\"line\": {\"color\": \"#2a3f5f\"}}, \"ternary\": {\"aaxis\": {\"gridcolor\": \"white\", \"linecolor\": \"white\", \"ticks\": \"\"}, \"baxis\": {\"gridcolor\": \"white\", \"linecolor\": \"white\", \"ticks\": \"\"}, \"bgcolor\": \"#E5ECF6\", \"caxis\": {\"gridcolor\": \"white\", \"linecolor\": \"white\", \"ticks\": \"\"}}, \"title\": {\"x\": 0.05}, \"xaxis\": {\"automargin\": true, \"gridcolor\": \"white\", \"linecolor\": \"white\", \"ticks\": \"\", \"title\": {\"standoff\": 15}, \"zerolinecolor\": \"white\", \"zerolinewidth\": 2}, \"yaxis\": {\"automargin\": true, \"gridcolor\": \"white\", \"linecolor\": \"white\", \"ticks\": \"\", \"title\": {\"standoff\": 15}, \"zerolinecolor\": \"white\", \"zerolinewidth\": 2}}}},\n",
              "                        {\"responsive\": true}\n",
              "                    ).then(function(){\n",
              "                            \n",
              "var gd = document.getElementById('468863b8-99af-47d5-ae87-93151b3ffd83');\n",
              "var x = new MutationObserver(function (mutations, observer) {{\n",
              "        var display = window.getComputedStyle(gd).display;\n",
              "        if (!display || display === 'none') {{\n",
              "            console.log([gd, 'removed!']);\n",
              "            Plotly.purge(gd);\n",
              "            observer.disconnect();\n",
              "        }}\n",
              "}});\n",
              "\n",
              "// Listen for the removal of the full notebook cells\n",
              "var notebookContainer = gd.closest('#notebook-container');\n",
              "if (notebookContainer) {{\n",
              "    x.observe(notebookContainer, {childList: true});\n",
              "}}\n",
              "\n",
              "// Listen for the clearing of the current output cell\n",
              "var outputEl = gd.closest('.output');\n",
              "if (outputEl) {{\n",
              "    x.observe(outputEl, {childList: true});\n",
              "}}\n",
              "\n",
              "                        })\n",
              "                };\n",
              "                \n",
              "            </script>\n",
              "        </div>\n",
              "</body>\n",
              "</html>"
            ]
          },
          "metadata": {
            "tags": []
          }
        }
      ]
    },
    {
      "cell_type": "markdown",
      "metadata": {
        "id": "AYogsKUrT568"
      },
      "source": [
        "Почти половина пользователей пропадает после первого шага – 61,9 % переходит на экран Предложения/товары.\r\n",
        "\r\n",
        "Полностью воронку событий проходит 47,7 % пользователей.\r\n"
      ]
    },
    {
      "cell_type": "markdown",
      "metadata": {
        "id": "c1KYMXx0UBN_"
      },
      "source": [
        "##Шаг 5. Изучим результаты эксперимента\n",
        "\n",
        "---\n",
        "\n"
      ]
    },
    {
      "cell_type": "markdown",
      "metadata": {
        "id": "2rL6r0KzUBOO"
      },
      "source": [
        "###5.1. Количество пользователей в каждой экспериментальной группе"
      ]
    },
    {
      "cell_type": "markdown",
      "metadata": {
        "id": "DmE5FnE-lF4f"
      },
      "source": [
        "Проверим, что пользователи действительно попали в попали в разные группы:"
      ]
    },
    {
      "cell_type": "code",
      "metadata": {
        "colab": {
          "base_uri": "https://localhost:8080/",
          "height": 402
        },
        "id": "3Rze3GJkZcJ-",
        "outputId": "623b80ec-ffa5-4766-bedd-9e88880f919a"
      },
      "source": [
        "users_in_group = app_log.pivot_table(index=['user_id'], values='group_id', aggfunc={'nunique'}).reset_index()\r\n",
        "users_in_group.columns = ['user_id', 'group_amount']\r\n",
        "users_in_group.sort_values(by=\"group_amount\", ascending=False)\r\n",
        "users_in_group"
      ],
      "execution_count": null,
      "outputs": [
        {
          "output_type": "execute_result",
          "data": {
            "text/html": [
              "<div>\n",
              "<style scoped>\n",
              "    .dataframe tbody tr th:only-of-type {\n",
              "        vertical-align: middle;\n",
              "    }\n",
              "\n",
              "    .dataframe tbody tr th {\n",
              "        vertical-align: top;\n",
              "    }\n",
              "\n",
              "    .dataframe thead th {\n",
              "        text-align: right;\n",
              "    }\n",
              "</style>\n",
              "<table border=\"1\" class=\"dataframe\">\n",
              "  <thead>\n",
              "    <tr style=\"text-align: right;\">\n",
              "      <th></th>\n",
              "      <th>user_id</th>\n",
              "      <th>group_amount</th>\n",
              "    </tr>\n",
              "  </thead>\n",
              "  <tbody>\n",
              "    <tr>\n",
              "      <th>0</th>\n",
              "      <td>6888746892508752</td>\n",
              "      <td>1</td>\n",
              "    </tr>\n",
              "    <tr>\n",
              "      <th>1</th>\n",
              "      <td>6909561520679493</td>\n",
              "      <td>1</td>\n",
              "    </tr>\n",
              "    <tr>\n",
              "      <th>2</th>\n",
              "      <td>6922444491712477</td>\n",
              "      <td>1</td>\n",
              "    </tr>\n",
              "    <tr>\n",
              "      <th>3</th>\n",
              "      <td>7435777799948366</td>\n",
              "      <td>1</td>\n",
              "    </tr>\n",
              "    <tr>\n",
              "      <th>4</th>\n",
              "      <td>7702139951469979</td>\n",
              "      <td>1</td>\n",
              "    </tr>\n",
              "    <tr>\n",
              "      <th>...</th>\n",
              "      <td>...</td>\n",
              "      <td>...</td>\n",
              "    </tr>\n",
              "    <tr>\n",
              "      <th>7529</th>\n",
              "      <td>9217594193087726423</td>\n",
              "      <td>1</td>\n",
              "    </tr>\n",
              "    <tr>\n",
              "      <th>7530</th>\n",
              "      <td>9219463515465815368</td>\n",
              "      <td>1</td>\n",
              "    </tr>\n",
              "    <tr>\n",
              "      <th>7531</th>\n",
              "      <td>9220879493065341500</td>\n",
              "      <td>1</td>\n",
              "    </tr>\n",
              "    <tr>\n",
              "      <th>7532</th>\n",
              "      <td>9221926045299980007</td>\n",
              "      <td>1</td>\n",
              "    </tr>\n",
              "    <tr>\n",
              "      <th>7533</th>\n",
              "      <td>9222603179720523844</td>\n",
              "      <td>1</td>\n",
              "    </tr>\n",
              "  </tbody>\n",
              "</table>\n",
              "<p>7534 rows × 2 columns</p>\n",
              "</div>"
            ],
            "text/plain": [
              "                  user_id  group_amount\n",
              "0        6888746892508752             1\n",
              "1        6909561520679493             1\n",
              "2        6922444491712477             1\n",
              "3        7435777799948366             1\n",
              "4        7702139951469979             1\n",
              "...                   ...           ...\n",
              "7529  9217594193087726423             1\n",
              "7530  9219463515465815368             1\n",
              "7531  9220879493065341500             1\n",
              "7532  9221926045299980007             1\n",
              "7533  9222603179720523844             1\n",
              "\n",
              "[7534 rows x 2 columns]"
            ]
          },
          "metadata": {
            "tags": []
          },
          "execution_count": 262
        }
      ]
    },
    {
      "cell_type": "markdown",
      "metadata": {
        "id": "Z5rHlDyBlHES"
      },
      "source": [
        "Число вхождений пользователей в каждую из групп равно 1 - разбивка по пользователям корректная."
      ]
    },
    {
      "cell_type": "markdown",
      "metadata": {
        "id": "Rh65IKA6lcrN"
      },
      "source": [
        "Подсчитаем количество пользователей в каждой экспериментальной группе:"
      ]
    },
    {
      "cell_type": "code",
      "metadata": {
        "colab": {
          "base_uri": "https://localhost:8080/",
          "height": 136
        },
        "id": "RkscpGLdTMmz",
        "outputId": "2a650aca-dd63-46a7-d9b4-b31dc0ba12f1"
      },
      "source": [
        "users_by_groups = app_log.pivot_table(index=['group_id'], values='user_id', aggfunc={'nunique'}).reset_index()\r\n",
        "users_by_groups.columns = ['group_id', 'unique_users_amount']\r\n",
        "users_by_groups"
      ],
      "execution_count": null,
      "outputs": [
        {
          "output_type": "execute_result",
          "data": {
            "text/html": [
              "<div>\n",
              "<style scoped>\n",
              "    .dataframe tbody tr th:only-of-type {\n",
              "        vertical-align: middle;\n",
              "    }\n",
              "\n",
              "    .dataframe tbody tr th {\n",
              "        vertical-align: top;\n",
              "    }\n",
              "\n",
              "    .dataframe thead th {\n",
              "        text-align: right;\n",
              "    }\n",
              "</style>\n",
              "<table border=\"1\" class=\"dataframe\">\n",
              "  <thead>\n",
              "    <tr style=\"text-align: right;\">\n",
              "      <th></th>\n",
              "      <th>group_id</th>\n",
              "      <th>unique_users_amount</th>\n",
              "    </tr>\n",
              "  </thead>\n",
              "  <tbody>\n",
              "    <tr>\n",
              "      <th>0</th>\n",
              "      <td>246</td>\n",
              "      <td>2484</td>\n",
              "    </tr>\n",
              "    <tr>\n",
              "      <th>1</th>\n",
              "      <td>247</td>\n",
              "      <td>2513</td>\n",
              "    </tr>\n",
              "    <tr>\n",
              "      <th>2</th>\n",
              "      <td>248</td>\n",
              "      <td>2537</td>\n",
              "    </tr>\n",
              "  </tbody>\n",
              "</table>\n",
              "</div>"
            ],
            "text/plain": [
              "   group_id  unique_users_amount\n",
              "0       246                 2484\n",
              "1       247                 2513\n",
              "2       248                 2537"
            ]
          },
          "metadata": {
            "tags": []
          },
          "execution_count": 263
        }
      ]
    },
    {
      "cell_type": "markdown",
      "metadata": {
        "id": "S-auNLrolpiY"
      },
      "source": [
        "Размеры групп несколько различаются, что говорит о неоптимальности разбиения данных по группам.\r\n",
        "\r\n",
        "Для будущих тестов следует несколько поработать с механикой выделения групп и, возможно, изменить подход к их выделению."
      ]
    },
    {
      "cell_type": "markdown",
      "metadata": {
        "id": "-0DiEJEEZZ3d"
      },
      "source": [
        "### 5.2. Статистическая разница между контрольными группами"
      ]
    },
    {
      "cell_type": "markdown",
      "metadata": {
        "id": "95zbMg6KUBOQ"
      },
      "source": [
        "При проверке гипотез о равенстве среднего будем применять метод Z-тест (z-критерий Фишера), т.к. будем проводить сравнения двух независимых выборок большого размера. Критический уровень статистической значимости примем равным 5%.\n",
        "Создадим функцию с применением поправки Бонферрони:"
      ]
    },
    {
      "cell_type": "code",
      "metadata": {
        "id": "kkyOR8ez9b6U"
      },
      "source": [
        "def find_stat_value(successes1, successes2, trials1, trials2):\n",
        "    alpha = 0.05\n",
        "    # пропорция успехов в первой группе:\n",
        "    p1 = successes1/trials1\n",
        "    # пропорция успехов во второй группе:\n",
        "    p2 = successes2/trials2 \n",
        "    # пропорция успехов в комбинированном датасете:\n",
        "    p_combined = (successes1 + successes2) / (trials1 + trials2)\n",
        "    # разница пропорций в датасетах\n",
        "    difference = p1 - p2  \n",
        "    # считаем статистику в ст.отклонениях стандартного нормального распределения\n",
        "    z_value = difference / mth.sqrt(p_combined * (1 - p_combined) * (1/trials1 + 1/trials2))\n",
        "    # задаем стандартное нормальное распределение (среднее 0, ст.отклонение 1)\n",
        "    distr = st.norm(0, 1) \n",
        "\n",
        "    p_value = 1 - distr.cdf(z_value) \n",
        "\n",
        "    print('* p-значение: ', p_value)\n",
        "\n",
        "    # применим поправку Бонферрони для множестенных сравнений в кол-ве 4 штук.\n",
        "    bonferroni_alpha = alpha / 16\n",
        " \n",
        "    if (p_value < bonferroni_alpha):\n",
        "        print(\"* Результат:\", \"Нулевая гипотеза отвергнута: между долями есть значимая разница\")\n",
        "    else:\n",
        "        print(\"* Результат:\", \"Нулевая гипотеза не отвергнута: нет оснований считать доли разными\")"
      ],
      "execution_count": null,
      "outputs": []
    },
    {
      "cell_type": "markdown",
      "metadata": {
        "id": "aq0igxmDZOhW"
      },
      "source": [
        "<div class=\"alert alert-success\">\n",
        "<h2> Комментарий ревьюера </h2>\n",
        "\n",
        "Правильно, что ты создал функцию для проведения теста. Действительно, тестов проводить много, так что она не будет лишней. \n",
        "    \n",
        "Также верно, что ты работаешь с долями относительно общего числа клиентов в группах. Ранее мы выяснили, что проход по всем этапам воронки не является обязательным, так что работать нудно именно относительно общего числа клиентов. \n",
        "    \n",
        "</div>"
      ]
    },
    {
      "cell_type": "markdown",
      "metadata": {
        "id": "jaCgpCzvM8dr"
      },
      "source": [
        "Подготовим недостающие данные для теста – количество пользователей в каждой группе по событиям:"
      ]
    },
    {
      "cell_type": "code",
      "metadata": {
        "colab": {
          "base_uri": "https://localhost:8080/",
          "height": 195
        },
        "id": "fphRmeQgEdg6",
        "outputId": "f42bebca-e195-490e-9ad3-57b02021fb0b"
      },
      "source": [
        "users_by_events=app_log.pivot_table(index=['event_name'], columns='group_id', values='user_id', aggfunc={'nunique'}).reset_index()\n",
        "users_by_events.columns = ['event_name', 'group_246','group_247', 'group_248']\n",
        "users_by_events"
      ],
      "execution_count": null,
      "outputs": [
        {
          "output_type": "execute_result",
          "data": {
            "text/html": [
              "<div>\n",
              "<style scoped>\n",
              "    .dataframe tbody tr th:only-of-type {\n",
              "        vertical-align: middle;\n",
              "    }\n",
              "\n",
              "    .dataframe tbody tr th {\n",
              "        vertical-align: top;\n",
              "    }\n",
              "\n",
              "    .dataframe thead th {\n",
              "        text-align: right;\n",
              "    }\n",
              "</style>\n",
              "<table border=\"1\" class=\"dataframe\">\n",
              "  <thead>\n",
              "    <tr style=\"text-align: right;\">\n",
              "      <th></th>\n",
              "      <th>event_name</th>\n",
              "      <th>group_246</th>\n",
              "      <th>group_247</th>\n",
              "      <th>group_248</th>\n",
              "    </tr>\n",
              "  </thead>\n",
              "  <tbody>\n",
              "    <tr>\n",
              "      <th>0</th>\n",
              "      <td>CartScreenAppear</td>\n",
              "      <td>1266</td>\n",
              "      <td>1238</td>\n",
              "      <td>1230</td>\n",
              "    </tr>\n",
              "    <tr>\n",
              "      <th>1</th>\n",
              "      <td>MainScreenAppear</td>\n",
              "      <td>2450</td>\n",
              "      <td>2476</td>\n",
              "      <td>2493</td>\n",
              "    </tr>\n",
              "    <tr>\n",
              "      <th>2</th>\n",
              "      <td>OffersScreenAppear</td>\n",
              "      <td>1542</td>\n",
              "      <td>1520</td>\n",
              "      <td>1531</td>\n",
              "    </tr>\n",
              "    <tr>\n",
              "      <th>3</th>\n",
              "      <td>PaymentScreenSuccessful</td>\n",
              "      <td>1200</td>\n",
              "      <td>1158</td>\n",
              "      <td>1181</td>\n",
              "    </tr>\n",
              "    <tr>\n",
              "      <th>4</th>\n",
              "      <td>Tutorial</td>\n",
              "      <td>278</td>\n",
              "      <td>283</td>\n",
              "      <td>279</td>\n",
              "    </tr>\n",
              "  </tbody>\n",
              "</table>\n",
              "</div>"
            ],
            "text/plain": [
              "                event_name  group_246  group_247  group_248\n",
              "0         CartScreenAppear       1266       1238       1230\n",
              "1         MainScreenAppear       2450       2476       2493\n",
              "2       OffersScreenAppear       1542       1520       1531\n",
              "3  PaymentScreenSuccessful       1200       1158       1181\n",
              "4                 Tutorial        278        283        279"
            ]
          },
          "metadata": {
            "tags": []
          },
          "execution_count": 265
        }
      ]
    },
    {
      "cell_type": "markdown",
      "metadata": {
        "id": "7NykYkcZNPq2"
      },
      "source": [
        "Сделаем попарное сравнение события **MainScreenAppear** между группами, в которых:\n",
        "\n",
        "H0 - статистическая разница между группами отсутствует, т.е. доли пользователей совершивших событие в сравниваемых группах одинаковы\n",
        "\n",
        "H1 - статистическая разница между группами присутствует, т.е. доли пользователей совершивших событие в сравниваемых группах различны"
      ]
    },
    {
      "cell_type": "markdown",
      "metadata": {
        "id": "1bmGeB9GNtHQ"
      },
      "source": [
        "*  А/А-тест по группам 246 и 247"
      ]
    },
    {
      "cell_type": "code",
      "metadata": {
        "colab": {
          "base_uri": "https://localhost:8080/"
        },
        "id": "snQGvy_hDL5v",
        "outputId": "5363c540-0531-4e22-dc50-1cab70cb6c57"
      },
      "source": [
        "find_stat_value(users_by_events.iloc[1]['group_246'],\n",
        "                 users_by_events.iloc[1]['group_247'],\n",
        "                 users_by_groups.iloc[0]['unique_users_amount'],\n",
        "                 users_by_groups.iloc[1]['unique_users_amount'],\n",
        "                )  "
      ],
      "execution_count": null,
      "outputs": [
        {
          "output_type": "stream",
          "text": [
            "* p-значение:  0.37852986160230495\n",
            "* Результат: Нулевая гипотеза не отвергнута: нет оснований считать доли разными\n"
          ],
          "name": "stdout"
        }
      ]
    },
    {
      "cell_type": "markdown",
      "metadata": {
        "id": "dTCf7KadNxYw"
      },
      "source": [
        "*  А/В-тест по группам 246 и 248"
      ]
    },
    {
      "cell_type": "code",
      "metadata": {
        "colab": {
          "base_uri": "https://localhost:8080/"
        },
        "id": "QXie8-TgOPw4",
        "outputId": "07f270c5-ac7b-4555-ec62-d2b7891e89b0"
      },
      "source": [
        "find_stat_value(users_by_events.iloc[1]['group_246'],\n",
        "                 users_by_events.iloc[1]['group_248'],\n",
        "                 users_by_groups.iloc[0]['unique_users_amount'],\n",
        "                 users_by_groups.iloc[2]['unique_users_amount'],\n",
        "                )  "
      ],
      "execution_count": null,
      "outputs": [
        {
          "output_type": "stream",
          "text": [
            "* p-значение:  0.1474860966777276\n",
            "* Результат: Нулевая гипотеза не отвергнута: нет оснований считать доли разными\n"
          ],
          "name": "stdout"
        }
      ]
    },
    {
      "cell_type": "markdown",
      "metadata": {
        "id": "3rOO-P-AN01X"
      },
      "source": [
        "*  А/В-тест по группам 247 и 248"
      ]
    },
    {
      "cell_type": "code",
      "metadata": {
        "colab": {
          "base_uri": "https://localhost:8080/"
        },
        "id": "3VKHT8fXOQi_",
        "outputId": "91663b52-8fe2-42ab-f690-caa33bf0b761"
      },
      "source": [
        "find_stat_value(users_by_events.iloc[1]['group_247'],\n",
        "                 users_by_events.iloc[1]['group_248'],\n",
        "                 users_by_groups.iloc[1]['unique_users_amount'],\n",
        "                 users_by_groups.iloc[2]['unique_users_amount'],\n",
        "                )  "
      ],
      "execution_count": null,
      "outputs": [
        {
          "output_type": "stream",
          "text": [
            "* p-значение:  0.22935268083107574\n",
            "* Результат: Нулевая гипотеза не отвергнута: нет оснований считать доли разными\n"
          ],
          "name": "stdout"
        }
      ]
    },
    {
      "cell_type": "markdown",
      "metadata": {
        "id": "ByrzY5eZN2HY"
      },
      "source": [
        "*  А/В-тест по группам 246+247 и 248"
      ]
    },
    {
      "cell_type": "code",
      "metadata": {
        "colab": {
          "base_uri": "https://localhost:8080/"
        },
        "id": "oSgImpM8OQTq",
        "outputId": "75f6b854-6c36-4c0b-b7a1-c958ea635c11"
      },
      "source": [
        "find_stat_value(users_by_events.iloc[1]['group_246']+users_by_events.iloc[1]['group_247'],\n",
        "                 users_by_events.iloc[1]['group_248'],\n",
        "                 users_by_groups.iloc[0]['unique_users_amount']+users_by_groups.iloc[1]['unique_users_amount'],\n",
        "                 users_by_groups.iloc[2]['unique_users_amount'],\n",
        "                )  "
      ],
      "execution_count": null,
      "outputs": [
        {
          "output_type": "stream",
          "text": [
            "* p-значение:  0.14712263418589788\n",
            "* Результат: Нулевая гипотеза не отвергнута: нет оснований считать доли разными\n"
          ],
          "name": "stdout"
        }
      ]
    },
    {
      "cell_type": "markdown",
      "metadata": {
        "id": "lEghZEFPQ1NR"
      },
      "source": [
        "**Вывод:** наблюдаемые данные не подтверждают наличие разницы числа пользователей между группами."
      ]
    },
    {
      "cell_type": "markdown",
      "metadata": {
        "id": "lrY_vWASSQnf"
      },
      "source": [
        "Сделаем аналогичные попарные сравнение для других событий в воронке продаж."
      ]
    },
    {
      "cell_type": "markdown",
      "metadata": {
        "id": "cx-xOcsESbZ-"
      },
      "source": [
        "**OffersScreenAppear**"
      ]
    },
    {
      "cell_type": "markdown",
      "metadata": {
        "id": "fRzJNOiPSrwM"
      },
      "source": [
        "*  А/А-тест по группам 246 и 247"
      ]
    },
    {
      "cell_type": "code",
      "metadata": {
        "colab": {
          "base_uri": "https://localhost:8080/"
        },
        "id": "sZ5hpx0OSrwN",
        "outputId": "fc047d1c-a84f-42d6-897f-1456d3f018bb"
      },
      "source": [
        "find_stat_value(users_by_events.iloc[2]['group_246'],\n",
        "                 users_by_events.iloc[2]['group_247'],\n",
        "                 users_by_groups.iloc[0]['unique_users_amount'],\n",
        "                 users_by_groups.iloc[1]['unique_users_amount'],\n",
        "                )  "
      ],
      "execution_count": null,
      "outputs": [
        {
          "output_type": "stream",
          "text": [
            "* p-значение:  0.12404772892610905\n",
            "* Результат: Нулевая гипотеза не отвергнута: нет оснований считать доли разными\n"
          ],
          "name": "stdout"
        }
      ]
    },
    {
      "cell_type": "markdown",
      "metadata": {
        "id": "vaPZI_5BSrwQ"
      },
      "source": [
        "*  А/В-тест по группам 246 и 248"
      ]
    },
    {
      "cell_type": "code",
      "metadata": {
        "colab": {
          "base_uri": "https://localhost:8080/"
        },
        "id": "iOxn7iqjSrwQ",
        "outputId": "6c2681c2-8ba8-4a20-a437-a5c648ecdce5"
      },
      "source": [
        "find_stat_value(users_by_events.iloc[2]['group_246'],\n",
        "                 users_by_events.iloc[2]['group_248'],\n",
        "                 users_by_groups.iloc[0]['unique_users_amount'],\n",
        "                 users_by_groups.iloc[2]['unique_users_amount'],\n",
        "                )  "
      ],
      "execution_count": null,
      "outputs": [
        {
          "output_type": "stream",
          "text": [
            "* p-значение:  0.10418102701369458\n",
            "* Результат: Нулевая гипотеза не отвергнута: нет оснований считать доли разными\n"
          ],
          "name": "stdout"
        }
      ]
    },
    {
      "cell_type": "markdown",
      "metadata": {
        "id": "GbUgO2yRSrwR"
      },
      "source": [
        "*  А/В-тест по группам 247 и 248"
      ]
    },
    {
      "cell_type": "code",
      "metadata": {
        "colab": {
          "base_uri": "https://localhost:8080/"
        },
        "id": "GTljpY9ySrwR",
        "outputId": "d28da7dc-1fb6-4be6-c5b4-16548ac59768"
      },
      "source": [
        "find_stat_value(users_by_events.iloc[2]['group_247'],\n",
        "                 users_by_events.iloc[2]['group_248'],\n",
        "                 users_by_groups.iloc[1]['unique_users_amount'],\n",
        "                 users_by_groups.iloc[2]['unique_users_amount'],\n",
        "                )  "
      ],
      "execution_count": null,
      "outputs": [
        {
          "output_type": "stream",
          "text": [
            "* p-значение:  0.45989089152961304\n",
            "* Результат: Нулевая гипотеза не отвергнута: нет оснований считать доли разными\n"
          ],
          "name": "stdout"
        }
      ]
    },
    {
      "cell_type": "markdown",
      "metadata": {
        "id": "TAD8guA5SrwS"
      },
      "source": [
        "*  А/В-тест по группам 246+247 и 248"
      ]
    },
    {
      "cell_type": "code",
      "metadata": {
        "colab": {
          "base_uri": "https://localhost:8080/"
        },
        "id": "1WRmXdHpSrwS",
        "outputId": "04d97b93-7c86-4456-a134-348ac15be0ab"
      },
      "source": [
        "find_stat_value(users_by_events.iloc[2]['group_246']+users_by_events.iloc[2]['group_247'],\n",
        "                 users_by_events.iloc[2]['group_248'],\n",
        "                 users_by_groups.iloc[0]['unique_users_amount']+users_by_groups.iloc[1]['unique_users_amount'],\n",
        "                 users_by_groups.iloc[2]['unique_users_amount'],\n",
        "                )  "
      ],
      "execution_count": null,
      "outputs": [
        {
          "output_type": "stream",
          "text": [
            "* p-значение:  0.21712774827594128\n",
            "* Результат: Нулевая гипотеза не отвергнута: нет оснований считать доли разными\n"
          ],
          "name": "stdout"
        }
      ]
    },
    {
      "cell_type": "markdown",
      "metadata": {
        "id": "vGOwKfDHSlnq"
      },
      "source": [
        "**CartScreenAppear**"
      ]
    },
    {
      "cell_type": "markdown",
      "metadata": {
        "id": "0G6KwtxkSsZI"
      },
      "source": [
        "*  А/А-тест по группам 246 и 247"
      ]
    },
    {
      "cell_type": "code",
      "metadata": {
        "colab": {
          "base_uri": "https://localhost:8080/"
        },
        "id": "Ao4vV5SrSsZJ",
        "outputId": "0c39ccd9-6245-4411-f15a-a88f54225acf"
      },
      "source": [
        "find_stat_value(users_by_events.iloc[0]['group_246'],\n",
        "                 users_by_events.iloc[0]['group_247'],\n",
        "                 users_by_groups.iloc[0]['unique_users_amount'],\n",
        "                 users_by_groups.iloc[1]['unique_users_amount'],\n",
        "                )  "
      ],
      "execution_count": null,
      "outputs": [
        {
          "output_type": "stream",
          "text": [
            "* p-значение:  0.11441686118998606\n",
            "* Результат: Нулевая гипотеза не отвергнута: нет оснований считать доли разными\n"
          ],
          "name": "stdout"
        }
      ]
    },
    {
      "cell_type": "markdown",
      "metadata": {
        "id": "mw63HtjDSsZK"
      },
      "source": [
        "*  А/В-тест по группам 246 и 248"
      ]
    },
    {
      "cell_type": "code",
      "metadata": {
        "colab": {
          "base_uri": "https://localhost:8080/"
        },
        "id": "e52sF4dKSsZK",
        "outputId": "7847a73d-adb9-40c1-ccf8-1d927e6b4777"
      },
      "source": [
        "find_stat_value(users_by_events.iloc[0]['group_246'],\n",
        "                 users_by_events.iloc[0]['group_248'],\n",
        "                 users_by_groups.iloc[0]['unique_users_amount'],\n",
        "                 users_by_groups.iloc[2]['unique_users_amount'],\n",
        "                )  "
      ],
      "execution_count": null,
      "outputs": [
        {
          "output_type": "stream",
          "text": [
            "* p-значение:  0.03921461618760058\n",
            "* Результат: Нулевая гипотеза не отвергнута: нет оснований считать доли разными\n"
          ],
          "name": "stdout"
        }
      ]
    },
    {
      "cell_type": "markdown",
      "metadata": {
        "id": "IoBjoNv1SsZL"
      },
      "source": [
        "*  А/В-тест по группам 247 и 248"
      ]
    },
    {
      "cell_type": "code",
      "metadata": {
        "colab": {
          "base_uri": "https://localhost:8080/"
        },
        "id": "qBQEII7JSsZL",
        "outputId": "7deeff9c-fad6-466f-bad8-8a0af522dbda"
      },
      "source": [
        "find_stat_value(users_by_events.iloc[0]['group_247'],\n",
        "                 users_by_events.iloc[0]['group_248'],\n",
        "                 users_by_groups.iloc[1]['unique_users_amount'],\n",
        "                 users_by_groups.iloc[2]['unique_users_amount'],\n",
        "                )  "
      ],
      "execution_count": null,
      "outputs": [
        {
          "output_type": "stream",
          "text": [
            "* p-значение:  0.28930989397698914\n",
            "* Результат: Нулевая гипотеза не отвергнута: нет оснований считать доли разными\n"
          ],
          "name": "stdout"
        }
      ]
    },
    {
      "cell_type": "markdown",
      "metadata": {
        "id": "4hqOQKz-SsZM"
      },
      "source": [
        "*  А/В-тест по группам 246+247 и 248"
      ]
    },
    {
      "cell_type": "code",
      "metadata": {
        "colab": {
          "base_uri": "https://localhost:8080/"
        },
        "id": "fQsxCthBSsZM",
        "outputId": "8b4691d8-6662-446b-bc0a-8d1bbfa34a45"
      },
      "source": [
        "find_stat_value(users_by_events.iloc[0]['group_246']+users_by_events.iloc[0]['group_247'],\n",
        "                 users_by_events.iloc[0]['group_248'],\n",
        "                 users_by_groups.iloc[0]['unique_users_amount']+users_by_groups.iloc[1]['unique_users_amount'],\n",
        "                 users_by_groups.iloc[2]['unique_users_amount'],\n",
        "                )  "
      ],
      "execution_count": null,
      "outputs": [
        {
          "output_type": "stream",
          "text": [
            "* p-значение:  0.09087937642202193\n",
            "* Результат: Нулевая гипотеза не отвергнута: нет оснований считать доли разными\n"
          ],
          "name": "stdout"
        }
      ]
    },
    {
      "cell_type": "markdown",
      "metadata": {
        "id": "T94KrpQ1Sn2T"
      },
      "source": [
        "**PaymentScreenSuccessful**"
      ]
    },
    {
      "cell_type": "markdown",
      "metadata": {
        "id": "x2_Ny7p_StLJ"
      },
      "source": [
        "*  А/А-тест по группам 246 и 247"
      ]
    },
    {
      "cell_type": "code",
      "metadata": {
        "colab": {
          "base_uri": "https://localhost:8080/"
        },
        "id": "QiCKwfDHStLJ",
        "outputId": "92a07ec4-ebe5-472e-ba8d-e5be01d429db"
      },
      "source": [
        "find_stat_value(users_by_events.iloc[3]['group_246'],\n",
        "                 users_by_events.iloc[3]['group_247'],\n",
        "                 users_by_groups.iloc[0]['unique_users_amount'],\n",
        "                 users_by_groups.iloc[1]['unique_users_amount'],\n",
        "                )  "
      ],
      "execution_count": null,
      "outputs": [
        {
          "output_type": "stream",
          "text": [
            "* p-значение:  0.057283396565709244\n",
            "* Результат: Нулевая гипотеза не отвергнута: нет оснований считать доли разными\n"
          ],
          "name": "stdout"
        }
      ]
    },
    {
      "cell_type": "markdown",
      "metadata": {
        "id": "nYGuEdzDStLK"
      },
      "source": [
        "*  А/В-тест по группам 246 и 248"
      ]
    },
    {
      "cell_type": "code",
      "metadata": {
        "colab": {
          "base_uri": "https://localhost:8080/"
        },
        "id": "CuZN3VbdStLK",
        "outputId": "47075db4-7001-44a5-dca3-b97c2d181b0d"
      },
      "source": [
        "find_stat_value(users_by_events.iloc[3]['group_246'],\n",
        "                 users_by_events.iloc[3]['group_248'],\n",
        "                 users_by_groups.iloc[0]['unique_users_amount'],\n",
        "                 users_by_groups.iloc[2]['unique_users_amount'],\n",
        "                )  "
      ],
      "execution_count": null,
      "outputs": [
        {
          "output_type": "stream",
          "text": [
            "* p-значение:  0.1061276637848898\n",
            "* Результат: Нулевая гипотеза не отвергнута: нет оснований считать доли разными\n"
          ],
          "name": "stdout"
        }
      ]
    },
    {
      "cell_type": "markdown",
      "metadata": {
        "id": "g8M7WqkMStLL"
      },
      "source": [
        "*  А/В-тест по группам 247 и 248"
      ]
    },
    {
      "cell_type": "code",
      "metadata": {
        "colab": {
          "base_uri": "https://localhost:8080/"
        },
        "id": "B3vkmmbYStLL",
        "outputId": "11540739-efde-44f7-e3bc-b07e3fa43832"
      },
      "source": [
        "find_stat_value(users_by_events.iloc[3]['group_247'],\n",
        "                 users_by_events.iloc[3]['group_248'],\n",
        "                 users_by_groups.iloc[1]['unique_users_amount'],\n",
        "                 users_by_groups.iloc[2]['unique_users_amount'],\n",
        "                )  "
      ],
      "execution_count": null,
      "outputs": [
        {
          "output_type": "stream",
          "text": [
            "* p-значение:  0.6313292473098018\n",
            "* Результат: Нулевая гипотеза не отвергнута: нет оснований считать доли разными\n"
          ],
          "name": "stdout"
        }
      ]
    },
    {
      "cell_type": "markdown",
      "metadata": {
        "id": "nTGZMUcdStLM"
      },
      "source": [
        "*  А/В-тест по группам 246+247 и 248"
      ]
    },
    {
      "cell_type": "code",
      "metadata": {
        "colab": {
          "base_uri": "https://localhost:8080/"
        },
        "id": "9WKPYl5fStLM",
        "outputId": "d5854852-c796-4484-e9ad-628c0a480b31"
      },
      "source": [
        "find_stat_value(users_by_events.iloc[3]['group_246']+users_by_events.iloc[3]['group_247'],\n",
        "                 users_by_events.iloc[3]['group_248'],\n",
        "                 users_by_groups.iloc[0]['unique_users_amount']+users_by_groups.iloc[1]['unique_users_amount'],\n",
        "                 users_by_groups.iloc[2]['unique_users_amount'],\n",
        "                )  "
      ],
      "execution_count": null,
      "outputs": [
        {
          "output_type": "stream",
          "text": [
            "* p-значение:  0.3002147141154352\n",
            "* Результат: Нулевая гипотеза не отвергнута: нет оснований считать доли разными\n"
          ],
          "name": "stdout"
        }
      ]
    },
    {
      "cell_type": "markdown",
      "metadata": {
        "id": "7LqkagyMZxCd"
      },
      "source": [
        "**Вывод:** наблюдаемые данные не подтверждают наличие разницы числа пользователей между группами."
      ]
    },
    {
      "cell_type": "markdown",
      "metadata": {
        "id": "2FUDzl53UBOR"
      },
      "source": [
        "###5.3. Анализ тестовой группы со скорректированным уровнем значимости\r\n"
      ]
    },
    {
      "cell_type": "markdown",
      "metadata": {
        "id": "q3nDhppjXaHD"
      },
      "source": [
        "При увеличении статистической значимости до 0.1, увеличится критический регион, при попадании в который нулевую гипотезу отвергают. Вероятность попасть в него стала бы больше — увеличилась вероятность ошибки первого рода."
      ]
    },
    {
      "cell_type": "markdown",
      "metadata": {
        "id": "4c6W4Q6R3EwC"
      },
      "source": [
        "##Общий вывод\r\n",
        "---"
      ]
    },
    {
      "cell_type": "markdown",
      "metadata": {
        "id": "rKLymZhqVRIh"
      },
      "source": [
        "В данном исследовании были проведены следующие работы: \r\n",
        "\r\n",
        "1. открыт файл с данными и изучена общая информация\r\n",
        "\r\n",
        "2. произведена подготовка данных:\r\n",
        "* скорректированы названия столбцов;\r\n",
        "* сконвертирован формат Unix-времени;\r\n",
        "* удалены 413 дубликатов строк.\r\n",
        "\r\n",
        "3. изучены и проверены данные:\r\n",
        "* в логе всего 5 различных событий и 7551 пользователь;\r\n",
        "* в среднем на 1 пользователя в среднем приходится 32 события;\r\n",
        "* в логе обнаружены неравномерные данные, в связи с чем данные по 2019-07-31 включительно были удалены.\r\n",
        "\r\n",
        "\r\n",
        "4. изучена воронку событий:\r\n",
        "* почти половина пользователей пропадает после первого шага – 61,9 % переходит на экран Предложения/товары;\r\n",
        "* полностью воронку событий проходит 47,7 % пользователей.\r\n",
        "5. изучены результаты эксперимента:\r\n",
        "* применен метод Z-тест (z-критерий Фишера) с критическим уровнем статистической значимости равным 5%, а также с учетом поправки Бонферрони;\r\n",
        "* проведены попарные сравнения каждого пункта из воронки событий результатов групп A/A/B-эксперимента.\r\n",
        "\r\n",
        "\r\n",
        "Проведенные статистические тесты не показали разницы между контрольными группами, поэтому можно сделать вывод о том, что изменение шрифтов во всём приложении не влияет на пользовательскую активность.\r\n",
        "\r\n",
        "Дополнительно стоит отметить, что всю воронку событий проходит менее половины пользователей, что говорит о том, что необходимо провести дополнительный комплексный анализ работы отдельных модулей и функциональности приложения в целом.\r\n",
        "\r\n",
        "Изменение шрифтов можно провести, однако это не увеличит показатели."
      ]
    }
  ]
}
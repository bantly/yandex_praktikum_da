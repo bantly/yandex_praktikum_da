{
  "nbformat": 4,
  "nbformat_minor": 0,
  "metadata": {
    "colab": {
      "name": "catering_market_research_in_moscow_ru.ipynb",
      "provenance": [],
      "collapsed_sections": [],
      "include_colab_link": true
    },
    "kernelspec": {
      "display_name": "Python 3",
      "language": "python",
      "name": "python3"
    },
    "language_info": {
      "codemirror_mode": {
        "name": "ipython",
        "version": 3
      },
      "file_extension": ".py",
      "mimetype": "text/x-python",
      "name": "python",
      "nbconvert_exporter": "python",
      "pygments_lexer": "ipython3",
      "version": "3.7.6"
    }
  },
  "cells": [
    {
      "cell_type": "markdown",
      "metadata": {
        "id": "view-in-github",
        "colab_type": "text"
      },
      "source": [
        "<a href=\"https://colab.research.google.com/github/dsibi/yandex_praktikum_da/blob/main/catering_market_research_in_moscow/catering_market_research_in_moscow.ipynb\" target=\"_parent\"><img src=\"https://colab.research.google.com/assets/colab-badge.svg\" alt=\"Open In Colab\"/></a>"
      ]
    },
    {
      "cell_type": "markdown",
      "metadata": {
        "id": "VllUVw8zlC5w"
      },
      "source": [
        "#**Исследование рынка общественного питания в Москве**\n",
        "\n",
        "---"
      ]
    },
    {
      "cell_type": "markdown",
      "metadata": {
        "id": "h9UmXukQRUjV"
      },
      "source": [
        "## Описание проекта"
      ]
    },
    {
      "cell_type": "markdown",
      "metadata": {
        "id": "5OL_VgzZl6w-"
      },
      "source": [
        "Вы решили открыть небольшое кафе в Москве. Оно оригинальное — гостей должны обслуживать роботы. Проект многообещающий, но дорогой. Вместе с партнёрами вы решились обратиться к инвесторам. Их интересует текущее положение дел на рынке — сможете ли вы снискать популярность на долгое время, когда все зеваки насмотрятся на роботов-официантов?\n",
        "\n",
        "Вы — гуру аналитики, и партнёры просят вас подготовить исследование рынка. У вас есть открытые данные о заведениях общественного питания в Москве."
      ]
    },
    {
      "cell_type": "markdown",
      "metadata": {
        "id": "3WTXb2DhmssU"
      },
      "source": [
        "##Описание данных"
      ]
    },
    {
      "cell_type": "markdown",
      "metadata": {
        "id": "Jqh-jgiBmvvk"
      },
      "source": [
        "Таблица rest_data:\n",
        "*  id — идентификатор объекта;\n",
        "*  object_name — название объекта общественного питания;\n",
        "*  chain — сетевой ресторан;\n",
        "*  object_type — тип объекта общественного питания;\n",
        "*  address — адрес;\n",
        "*  number — количество посадочных мест."
      ]
    },
    {
      "cell_type": "markdown",
      "metadata": {
        "id": "enrH5_Mj5AXA"
      },
      "source": [
        "Импортируем все необходимые нам библиотеки, далее новые библиотеки будем добавлять сюда же"
      ]
    },
    {
      "cell_type": "code",
      "metadata": {
        "id": "s1ra9wIlUYmh"
      },
      "source": [
        "import pandas as pd\n",
        "import seaborn as sns\n",
        "import matplotlib.pyplot as plt\n",
        "from matplotlib import transforms\n",
        "import numpy as np\n",
        "import re\n",
        "import requests\n",
        "from io import BytesIO\n",
        "pd.options.mode.chained_assignment = None"
      ],
      "execution_count": 1,
      "outputs": []
    },
    {
      "cell_type": "code",
      "metadata": {
        "id": "lp8pw7pCSX8h"
      },
      "source": [
        "api_key='XXXXXXXXXXXXXXXXXXXXXXXXXXXXXX'"
      ],
      "execution_count": 2,
      "outputs": []
    },
    {
      "cell_type": "markdown",
      "metadata": {
        "id": "CosQqSm0uEaf"
      },
      "source": [
        "Установим безлимитную ширину колонки при выводе, чтобы названия в колонках выводились полностью."
      ]
    },
    {
      "cell_type": "code",
      "metadata": {
        "id": "_N21T6Nktp5t"
      },
      "source": [
        "pd.set_option('display.max_colwidth', None)"
      ],
      "execution_count": 3,
      "outputs": []
    },
    {
      "cell_type": "markdown",
      "metadata": {
        "id": "iQB_GHy-UPB4"
      },
      "source": [
        "##Шаг 1. Загрузим данные и подготовим их к анализу\n",
        "\n",
        "---\n",
        "\n"
      ]
    },
    {
      "cell_type": "markdown",
      "metadata": {
        "id": "t4AbWSrcYENJ"
      },
      "source": [
        "###1.1. Загрузим файл с данными и изучим общую информацию"
      ]
    },
    {
      "cell_type": "markdown",
      "metadata": {
        "id": "T22fxDAo6VgL"
      },
      "source": [
        "Чтение файлов"
      ]
    },
    {
      "cell_type": "code",
      "metadata": {
        "id": "VVYZsNM3YnKi",
        "colab": {
          "base_uri": "https://localhost:8080/",
          "height": 522
        },
        "outputId": "e1730ee8-3b84-4b71-898f-98ff27a10fd2"
      },
      "source": [
        "from google.colab import drive\n",
        "drive.mount('/content/drive')"
      ],
      "execution_count": 4,
      "outputs": [
        {
          "output_type": "error",
          "ename": "KeyboardInterrupt",
          "evalue": "ignored",
          "traceback": [
            "\u001b[0;31m---------------------------------------------------------------------------\u001b[0m",
            "\u001b[0;31mKeyboardInterrupt\u001b[0m                         Traceback (most recent call last)",
            "\u001b[0;32m/usr/local/lib/python3.7/dist-packages/ipykernel/kernelbase.py\u001b[0m in \u001b[0;36m_input_request\u001b[0;34m(self, prompt, ident, parent, password)\u001b[0m\n\u001b[1;32m    728\u001b[0m             \u001b[0;32mtry\u001b[0m\u001b[0;34m:\u001b[0m\u001b[0;34m\u001b[0m\u001b[0;34m\u001b[0m\u001b[0m\n\u001b[0;32m--> 729\u001b[0;31m                 \u001b[0mident\u001b[0m\u001b[0;34m,\u001b[0m \u001b[0mreply\u001b[0m \u001b[0;34m=\u001b[0m \u001b[0mself\u001b[0m\u001b[0;34m.\u001b[0m\u001b[0msession\u001b[0m\u001b[0;34m.\u001b[0m\u001b[0mrecv\u001b[0m\u001b[0;34m(\u001b[0m\u001b[0mself\u001b[0m\u001b[0;34m.\u001b[0m\u001b[0mstdin_socket\u001b[0m\u001b[0;34m,\u001b[0m \u001b[0;36m0\u001b[0m\u001b[0;34m)\u001b[0m\u001b[0;34m\u001b[0m\u001b[0;34m\u001b[0m\u001b[0m\n\u001b[0m\u001b[1;32m    730\u001b[0m             \u001b[0;32mexcept\u001b[0m \u001b[0mException\u001b[0m\u001b[0;34m:\u001b[0m\u001b[0;34m\u001b[0m\u001b[0;34m\u001b[0m\u001b[0m\n",
            "\u001b[0;32m/usr/local/lib/python3.7/dist-packages/jupyter_client/session.py\u001b[0m in \u001b[0;36mrecv\u001b[0;34m(self, socket, mode, content, copy)\u001b[0m\n\u001b[1;32m    802\u001b[0m         \u001b[0;32mtry\u001b[0m\u001b[0;34m:\u001b[0m\u001b[0;34m\u001b[0m\u001b[0;34m\u001b[0m\u001b[0m\n\u001b[0;32m--> 803\u001b[0;31m             \u001b[0mmsg_list\u001b[0m \u001b[0;34m=\u001b[0m \u001b[0msocket\u001b[0m\u001b[0;34m.\u001b[0m\u001b[0mrecv_multipart\u001b[0m\u001b[0;34m(\u001b[0m\u001b[0mmode\u001b[0m\u001b[0;34m,\u001b[0m \u001b[0mcopy\u001b[0m\u001b[0;34m=\u001b[0m\u001b[0mcopy\u001b[0m\u001b[0;34m)\u001b[0m\u001b[0;34m\u001b[0m\u001b[0;34m\u001b[0m\u001b[0m\n\u001b[0m\u001b[1;32m    804\u001b[0m         \u001b[0;32mexcept\u001b[0m \u001b[0mzmq\u001b[0m\u001b[0;34m.\u001b[0m\u001b[0mZMQError\u001b[0m \u001b[0;32mas\u001b[0m \u001b[0me\u001b[0m\u001b[0;34m:\u001b[0m\u001b[0;34m\u001b[0m\u001b[0;34m\u001b[0m\u001b[0m\n",
            "\u001b[0;32m/usr/local/lib/python3.7/dist-packages/zmq/sugar/socket.py\u001b[0m in \u001b[0;36mrecv_multipart\u001b[0;34m(self, flags, copy, track)\u001b[0m\n\u001b[1;32m    582\u001b[0m         \"\"\"\n\u001b[0;32m--> 583\u001b[0;31m         \u001b[0mparts\u001b[0m \u001b[0;34m=\u001b[0m \u001b[0;34m[\u001b[0m\u001b[0mself\u001b[0m\u001b[0;34m.\u001b[0m\u001b[0mrecv\u001b[0m\u001b[0;34m(\u001b[0m\u001b[0mflags\u001b[0m\u001b[0;34m,\u001b[0m \u001b[0mcopy\u001b[0m\u001b[0;34m=\u001b[0m\u001b[0mcopy\u001b[0m\u001b[0;34m,\u001b[0m \u001b[0mtrack\u001b[0m\u001b[0;34m=\u001b[0m\u001b[0mtrack\u001b[0m\u001b[0;34m)\u001b[0m\u001b[0;34m]\u001b[0m\u001b[0;34m\u001b[0m\u001b[0;34m\u001b[0m\u001b[0m\n\u001b[0m\u001b[1;32m    584\u001b[0m         \u001b[0;31m# have first part already, only loop while more to receive\u001b[0m\u001b[0;34m\u001b[0m\u001b[0;34m\u001b[0m\u001b[0;34m\u001b[0m\u001b[0m\n",
            "\u001b[0;32mzmq/backend/cython/socket.pyx\u001b[0m in \u001b[0;36mzmq.backend.cython.socket.Socket.recv\u001b[0;34m()\u001b[0m\n",
            "\u001b[0;32mzmq/backend/cython/socket.pyx\u001b[0m in \u001b[0;36mzmq.backend.cython.socket.Socket.recv\u001b[0;34m()\u001b[0m\n",
            "\u001b[0;32mzmq/backend/cython/socket.pyx\u001b[0m in \u001b[0;36mzmq.backend.cython.socket._recv_copy\u001b[0;34m()\u001b[0m\n",
            "\u001b[0;32m/usr/local/lib/python3.7/dist-packages/zmq/backend/cython/checkrc.pxd\u001b[0m in \u001b[0;36mzmq.backend.cython.checkrc._check_rc\u001b[0;34m()\u001b[0m\n",
            "\u001b[0;31mKeyboardInterrupt\u001b[0m: ",
            "\nDuring handling of the above exception, another exception occurred:\n",
            "\u001b[0;31mKeyboardInterrupt\u001b[0m                         Traceback (most recent call last)",
            "\u001b[0;32m<ipython-input-4-d5df0069828e>\u001b[0m in \u001b[0;36m<module>\u001b[0;34m()\u001b[0m\n\u001b[1;32m      1\u001b[0m \u001b[0;32mfrom\u001b[0m \u001b[0mgoogle\u001b[0m\u001b[0;34m.\u001b[0m\u001b[0mcolab\u001b[0m \u001b[0;32mimport\u001b[0m \u001b[0mdrive\u001b[0m\u001b[0;34m\u001b[0m\u001b[0;34m\u001b[0m\u001b[0m\n\u001b[0;32m----> 2\u001b[0;31m \u001b[0mdrive\u001b[0m\u001b[0;34m.\u001b[0m\u001b[0mmount\u001b[0m\u001b[0;34m(\u001b[0m\u001b[0;34m'/content/drive'\u001b[0m\u001b[0;34m)\u001b[0m\u001b[0;34m\u001b[0m\u001b[0;34m\u001b[0m\u001b[0m\n\u001b[0m",
            "\u001b[0;32m/usr/local/lib/python3.7/dist-packages/google/colab/drive.py\u001b[0m in \u001b[0;36mmount\u001b[0;34m(mountpoint, force_remount, timeout_ms, use_metadata_server)\u001b[0m\n\u001b[1;32m    260\u001b[0m       \u001b[0;32mwith\u001b[0m \u001b[0m_output\u001b[0m\u001b[0;34m.\u001b[0m\u001b[0muse_tags\u001b[0m\u001b[0;34m(\u001b[0m\u001b[0;34m'dfs-auth-dance'\u001b[0m\u001b[0;34m)\u001b[0m\u001b[0;34m:\u001b[0m\u001b[0;34m\u001b[0m\u001b[0;34m\u001b[0m\u001b[0m\n\u001b[1;32m    261\u001b[0m         \u001b[0;32mwith\u001b[0m \u001b[0mopen\u001b[0m\u001b[0;34m(\u001b[0m\u001b[0mfifo\u001b[0m\u001b[0;34m,\u001b[0m \u001b[0;34m'w'\u001b[0m\u001b[0;34m)\u001b[0m \u001b[0;32mas\u001b[0m \u001b[0mfifo_file\u001b[0m\u001b[0;34m:\u001b[0m\u001b[0;34m\u001b[0m\u001b[0;34m\u001b[0m\u001b[0m\n\u001b[0;32m--> 262\u001b[0;31m           \u001b[0mfifo_file\u001b[0m\u001b[0;34m.\u001b[0m\u001b[0mwrite\u001b[0m\u001b[0;34m(\u001b[0m\u001b[0mget_code\u001b[0m\u001b[0;34m(\u001b[0m\u001b[0mauth_prompt\u001b[0m\u001b[0;34m)\u001b[0m \u001b[0;34m+\u001b[0m \u001b[0;34m'\\n'\u001b[0m\u001b[0;34m)\u001b[0m\u001b[0;34m\u001b[0m\u001b[0;34m\u001b[0m\u001b[0m\n\u001b[0m\u001b[1;32m    263\u001b[0m       \u001b[0mwrote_to_fifo\u001b[0m \u001b[0;34m=\u001b[0m \u001b[0;32mTrue\u001b[0m\u001b[0;34m\u001b[0m\u001b[0;34m\u001b[0m\u001b[0m\n\u001b[1;32m    264\u001b[0m     \u001b[0;32melif\u001b[0m \u001b[0mcase\u001b[0m \u001b[0;34m==\u001b[0m \u001b[0;36m5\u001b[0m\u001b[0;34m:\u001b[0m\u001b[0;34m\u001b[0m\u001b[0;34m\u001b[0m\u001b[0m\n",
            "\u001b[0;32m/usr/local/lib/python3.7/dist-packages/ipykernel/kernelbase.py\u001b[0m in \u001b[0;36mraw_input\u001b[0;34m(self, prompt)\u001b[0m\n\u001b[1;32m    702\u001b[0m             \u001b[0mself\u001b[0m\u001b[0;34m.\u001b[0m\u001b[0m_parent_ident\u001b[0m\u001b[0;34m,\u001b[0m\u001b[0;34m\u001b[0m\u001b[0;34m\u001b[0m\u001b[0m\n\u001b[1;32m    703\u001b[0m             \u001b[0mself\u001b[0m\u001b[0;34m.\u001b[0m\u001b[0m_parent_header\u001b[0m\u001b[0;34m,\u001b[0m\u001b[0;34m\u001b[0m\u001b[0;34m\u001b[0m\u001b[0m\n\u001b[0;32m--> 704\u001b[0;31m             \u001b[0mpassword\u001b[0m\u001b[0;34m=\u001b[0m\u001b[0;32mFalse\u001b[0m\u001b[0;34m,\u001b[0m\u001b[0;34m\u001b[0m\u001b[0;34m\u001b[0m\u001b[0m\n\u001b[0m\u001b[1;32m    705\u001b[0m         )\n\u001b[1;32m    706\u001b[0m \u001b[0;34m\u001b[0m\u001b[0m\n",
            "\u001b[0;32m/usr/local/lib/python3.7/dist-packages/ipykernel/kernelbase.py\u001b[0m in \u001b[0;36m_input_request\u001b[0;34m(self, prompt, ident, parent, password)\u001b[0m\n\u001b[1;32m    732\u001b[0m             \u001b[0;32mexcept\u001b[0m \u001b[0mKeyboardInterrupt\u001b[0m\u001b[0;34m:\u001b[0m\u001b[0;34m\u001b[0m\u001b[0;34m\u001b[0m\u001b[0m\n\u001b[1;32m    733\u001b[0m                 \u001b[0;31m# re-raise KeyboardInterrupt, to truncate traceback\u001b[0m\u001b[0;34m\u001b[0m\u001b[0;34m\u001b[0m\u001b[0;34m\u001b[0m\u001b[0m\n\u001b[0;32m--> 734\u001b[0;31m                 \u001b[0;32mraise\u001b[0m \u001b[0mKeyboardInterrupt\u001b[0m\u001b[0;34m\u001b[0m\u001b[0;34m\u001b[0m\u001b[0m\n\u001b[0m\u001b[1;32m    735\u001b[0m             \u001b[0;32melse\u001b[0m\u001b[0;34m:\u001b[0m\u001b[0;34m\u001b[0m\u001b[0;34m\u001b[0m\u001b[0m\n\u001b[1;32m    736\u001b[0m                 \u001b[0;32mbreak\u001b[0m\u001b[0;34m\u001b[0m\u001b[0;34m\u001b[0m\u001b[0m\n",
            "\u001b[0;31mKeyboardInterrupt\u001b[0m: "
          ]
        }
      ]
    },
    {
      "cell_type": "code",
      "metadata": {
        "id": "f91mlL5W59zc"
      },
      "source": [
        "cafe=pd.read_csv('/content/drive/MyDrive/Edu/Data Analysis/9_Как рассказать историю с помощью данных/!Project/data/rest_data.csv')"
      ],
      "execution_count": null,
      "outputs": []
    },
    {
      "cell_type": "code",
      "metadata": {
        "id": "RQXXMZE9UkWh"
      },
      "source": [
        "# cafe=pd.read_csv('/datasets/rest_data.csv')"
      ],
      "execution_count": null,
      "outputs": []
    },
    {
      "cell_type": "code",
      "metadata": {
        "id": "KPEAfoCY0k6v"
      },
      "source": [
        "cafe.sample(10)"
      ],
      "execution_count": null,
      "outputs": []
    },
    {
      "cell_type": "markdown",
      "metadata": {
        "id": "G66j1Z8B0i4V"
      },
      "source": [
        "Заменим 'предприятие быстрого обслуживания' на 'бистро', а 'магазин (отдел кулинарии)' на 'кулинария' для более простой последующей обработки, а также приведем унификацию в названиях ресторанов:"
      ]
    },
    {
      "cell_type": "code",
      "metadata": {
        "id": "U7NHUOCQ0jFA"
      },
      "source": [
        "cafe['object_name'] = cafe['object_name'].str.lower()\r\n",
        "cafe['object_name'] = cafe['object_name'].str.replace(r'[«».]*', '')\r\n",
        "cafe['object_name'] = cafe['object_name'].str.replace(r'-', ' ')\r\n",
        "cafe.replace({\"object_type\": {'предприятие быстрого обслуживания':'бистро',\r\n",
        "                            'магазин (отдел кулинарии)': 'магазин'}}, inplace=True)"
      ],
      "execution_count": null,
      "outputs": []
    },
    {
      "cell_type": "code",
      "metadata": {
        "id": "BR96KuQB0rB7"
      },
      "source": [
        "cafe.sample(10)"
      ],
      "execution_count": null,
      "outputs": []
    },
    {
      "cell_type": "markdown",
      "metadata": {
        "id": "Qc3oFvIS6fVE"
      },
      "source": [
        "Изучим общую информацию "
      ]
    },
    {
      "cell_type": "code",
      "metadata": {
        "id": "d6XpZ_mG6e_g"
      },
      "source": [
        "df_list = [cafe]\n",
        "for df in df_list:   \n",
        "    print('Первые 5 строк датафрейма')\n",
        "    print('-'*80)\n",
        "    display(df.head(5))\n",
        "    print('-'*80)\n",
        "    print('Типы данных и общая информация')\n",
        "    print(df.info())\n",
        "    print('-'*80)\n",
        "    print('Наличие дубликатов: {}'.format(df.duplicated().sum()))\n",
        "    print('-'*80)\n",
        "    print('Наличие пропусков')\n",
        "    print('-'*80)\n",
        "    print(df.isna().sum())\n",
        "    print('Стат данные')\n",
        "    print('-'*80)\n",
        "    display(df.describe())"
      ],
      "execution_count": null,
      "outputs": []
    },
    {
      "cell_type": "markdown",
      "metadata": {
        "id": "es98fCBgCWFk"
      },
      "source": [
        "1. Названия столбцов: корректировка не требуется.\n",
        "2. Типы данных: корректировка не требуется.\n",
        "3. Дубликаты: отсутствуют.\n",
        "4. Пропуски: отсутствуют.\n",
        "5. Аномалии в данных: присутствуют записи с количеством посадочных мест равным нулю."
      ]
    },
    {
      "cell_type": "markdown",
      "metadata": {
        "id": "77FF9wdUJlCY"
      },
      "source": [
        "###1.2. Подготовим данные к анализу"
      ]
    },
    {
      "cell_type": "markdown",
      "metadata": {
        "id": "qm56OU09tDZU"
      },
      "source": [
        "Посчитаем количество заведений, где количество посадочных мест равно нулю:"
      ]
    },
    {
      "cell_type": "code",
      "metadata": {
        "id": "21hqfeqqrzJY"
      },
      "source": [
        "print(cafe[cafe.number == 0].shape[0])"
      ],
      "execution_count": null,
      "outputs": []
    },
    {
      "cell_type": "markdown",
      "metadata": {
        "id": "rnopcDDQtjq0"
      },
      "source": [
        "Более 10 % датасета с записями, где количество посадочных мест равно нулю. Это достаточно большой показатель, посмотрим, что это за заведения:"
      ]
    },
    {
      "cell_type": "code",
      "metadata": {
        "id": "TLn8kSvntvZG"
      },
      "source": [
        "cafe.loc[cafe['number'] == 0].sample(n=10)"
      ],
      "execution_count": null,
      "outputs": []
    },
    {
      "cell_type": "markdown",
      "metadata": {
        "id": "12bc2HfOt61e"
      },
      "source": [
        "Выявили, что это всякого рода буфеты, закусочные, предприятия быстрого обслуживания, отделы кулинарии в магазинах, т.е. те заведения, где в принципе могут быть не предусмотрены посадочные места, поэтому ничего с этими записями делать не будем."
      ]
    },
    {
      "cell_type": "markdown",
      "metadata": {
        "id": "P0TQYZtl1VmS"
      },
      "source": [
        "##Шаг 2. Анализ данных\n",
        "\n",
        "---\n",
        "\n"
      ]
    },
    {
      "cell_type": "markdown",
      "metadata": {
        "id": "7RLRu6Xp2fmB"
      },
      "source": [
        "###2.1. Соотношение видов объектов общественного питания (далее - ООП) по количеству"
      ]
    },
    {
      "cell_type": "code",
      "metadata": {
        "id": "VExKy0u_xGzU"
      },
      "source": [
        "cafe_by_object_type=cafe['object_type'].value_counts().reset_index()\r\n",
        "cafe_by_object_type.columns = ['object_type','count']"
      ],
      "execution_count": null,
      "outputs": []
    },
    {
      "cell_type": "code",
      "metadata": {
        "id": "-MU_gF8t3T0k"
      },
      "source": [
        "plt.figure(figsize=(8,6))\r\n",
        "ax=sns.barplot(x='object_type', y=\"count\", data=cafe_by_object_type, \r\n",
        "            order=cafe_by_object_type.sort_values('count', ascending = False).object_type,\r\n",
        "                 color=\"salmon\")\r\n",
        "ax.set_xticklabels(ax.get_xticklabels(), rotation=50, horizontalalignment ='right', size=14)\r\n",
        "for p in ax.patches:\r\n",
        "    ax.annotate(format(int(p.get_height()), ',').replace(',', ' '),\r\n",
        "                   (p.get_x() + p.get_width() / 2., p.get_height()), \r\n",
        "                   ha = 'center', va = 'center', \r\n",
        "                   xytext = (0, 7), \r\n",
        "                   textcoords = 'offset points', size=14)\r\n",
        "ax.axes.get_yaxis().set_visible(False)\r\n",
        "ax.spines['top'].set_visible(False)\r\n",
        "ax.spines['left'].set_visible(False)\r\n",
        "ax.spines['right'].set_visible(False)\r\n",
        "plt.xlabel(\" \")\r\n",
        "plt.title(\"Виды ООП по количеству заведений\", size=18)\r\n",
        "plt.tight_layout()"
      ],
      "execution_count": null,
      "outputs": []
    },
    {
      "cell_type": "markdown",
      "metadata": {
        "id": "QClYcM5vKQF8"
      },
      "source": [
        "Почти половину ООП составляют кафе, за ними следуют столовые и рестораны. Совсем малое количество ООП по отделам кулинарий и закусочных.\r\n",
        "\r\n",
        "Доминирование численности таких ООП как кафе может заключаться в большой популярности такого вида объекта как для посетителей, так и для владельцев этого вида ООП - первых привлекает хорошее сочетание цена-качество, а для вторых содержание и затраты меньшие чем, например, ресторанов.\r\n",
        "\r\n"
      ]
    },
    {
      "cell_type": "markdown",
      "metadata": {
        "id": "FY0tsX7C2m6k"
      },
      "source": [
        "###2.2. Соотношение сетевых и несетевых заведений по количеству"
      ]
    },
    {
      "cell_type": "code",
      "metadata": {
        "id": "ClgoqjfnU8p5"
      },
      "source": [
        "cafe_by_chain = cafe.pivot_table(index=['object_type','chain'], values='id', aggfunc='count').reset_index()\r\n",
        "cafe_by_chain.columns = ['object_type','chain','count']"
      ],
      "execution_count": null,
      "outputs": []
    },
    {
      "cell_type": "code",
      "metadata": {
        "id": "nHc2ubWhbMEq"
      },
      "source": [
        "ax=sns.catplot(x='object_type', y='count', hue='chain', data=cafe_by_chain, kind='bar', height=4, aspect=4, \r\n",
        "            order=cafe_by_object_type.sort_values('count', ascending = False).object_type, palette=\"Paired\", legend=False)\r\n",
        "ax.set_xticklabels(rotation=50, horizontalalignment ='right', size=14)\r\n",
        "for ax in ax.axes.ravel():\r\n",
        "    for p in ax.patches:\r\n",
        "        ax.annotate(format(int(p.get_height()), ',').replace(',', ' '),\r\n",
        "                       (p.get_x() + p.get_width() / 2., p.get_height()), \r\n",
        "                       ha = 'center', va = 'center', \r\n",
        "                       xytext = (0, 7), \r\n",
        "                       textcoords = 'offset points', size=14)\r\n",
        "plt.xlabel(\" \")\r\n",
        "plt.ylabel(\" \")\r\n",
        "plt.title(\"Соотношение сетевых и несетевых заведений\", size=18)\r\n",
        "L=plt.legend()\r\n",
        "L.get_texts()[0].set_text('Сетевой ресторан')\r\n",
        "L.get_texts()[1].set_text('Несетевой ресторан')"
      ],
      "execution_count": null,
      "outputs": []
    },
    {
      "cell_type": "markdown",
      "metadata": {
        "id": "-m0vrQlTpwMA"
      },
      "source": [
        "По всем ООП несетевые рестораны превышают сетевые, особенно ярко это видно по столовым.\r\n",
        "\r\n",
        "Отсутствие сетевых столовых вероятнее всего вызвано тем, что обычно такие ООП Размещаются на территории предприятий/офисов/учреждений."
      ]
    },
    {
      "cell_type": "markdown",
      "metadata": {
        "id": "it9rb5842nAV"
      },
      "source": [
        "###2.3. Виды объектов общественного питания с характерным сетевым распространением"
      ]
    },
    {
      "cell_type": "code",
      "metadata": {
        "id": "iB0s72ZZqIE9"
      },
      "source": [
        "cafe_chain_rate= cafe.pivot_table(index=['object_type'], columns='chain', values='id', aggfunc='count').reset_index()\r\n",
        "cafe_chain_rate.columns = ['object_type','chain_count','not_chain_count']\r\n",
        "cafe_chain_rate['total_count']=cafe_chain_rate['chain_count']+cafe_chain_rate['not_chain_count']\r\n",
        "cafe_chain_rate['chain_rate']=cafe_chain_rate['chain_count']/cafe_chain_rate['total_count']*100"
      ],
      "execution_count": null,
      "outputs": []
    },
    {
      "cell_type": "code",
      "metadata": {
        "id": "edR-9MHgszY-"
      },
      "source": [
        "plt.figure(figsize=(15,6))\r\n",
        "ax=sns.barplot(x='object_type', y=\"chain_rate\", data=cafe_chain_rate, \r\n",
        "            order=cafe_chain_rate.sort_values('chain_rate', ascending = False).object_type,\r\n",
        "                 color=\"salmon\")\r\n",
        "ax.set_xticklabels(ax.get_xticklabels(), rotation=50, horizontalalignment ='right', size=14)\r\n",
        "for p in ax.patches:\r\n",
        "    width = p.get_width()\r\n",
        "    height = p.get_height()/100\r\n",
        "    x, y = p.get_xy() \r\n",
        "    ax.annotate(f'{height:.2%}', (x + width/2, (y + height*100)+.7), ha='center', size=14)\r\n",
        "ax.axes.get_yaxis().set_visible(False)\r\n",
        "ax.spines['top'].set_visible(False)\r\n",
        "ax.spines['left'].set_visible(False)\r\n",
        "ax.spines['right'].set_visible(False)\r\n",
        "plt.xlabel(\" \")\r\n",
        "plt.title(\"Доля ООП с сетевым распространением по их видам\", size=18)\r\n",
        "plt.tight_layout()"
      ],
      "execution_count": null,
      "outputs": []
    },
    {
      "cell_type": "markdown",
      "metadata": {
        "id": "_e6rs23Uwnnv"
      },
      "source": [
        "Характерными свойствами сетевого распространения являются предприятия быстрого обслуживания с долей сетевых ресторанов - 41,13 %, отделы кулинарии в магазинах - 28,57 %, рестораны и кафе - 23,81 % и 22,89 % соответственно."
      ]
    },
    {
      "cell_type": "markdown",
      "metadata": {
        "id": "LaIs8qKM2nCh"
      },
      "source": [
        "###2.4. Характерные черты сетевых заведений по количеству посадочных мест"
      ]
    },
    {
      "cell_type": "code",
      "metadata": {
        "id": "r_kIsEkF4ZWz"
      },
      "source": [
        "def rainbow_text(x,y,ls,lc,**kw):\r\n",
        " \r\n",
        "    t = plt.gca().transData\r\n",
        "    figlocal = plt.gcf()\r\n",
        " \r\n",
        "    #horizontal version\r\n",
        "    for s,c in zip(ls,lc):\r\n",
        "        text = plt.text(x,y,\" \"+s+\" \",color=c, transform=t, **kw)\r\n",
        "        text.draw(figlocal.canvas.get_renderer())\r\n",
        "        ex = text.get_window_extent()\r\n",
        "        t = transforms.offset_copy(text._transform, x=ex.width, units='dots')\r\n",
        " \r\n",
        "    plt.show(figlocal) #plt.show((figlocal,fig))\r\n",
        "\r\n",
        "words_from_title = \"Соотношение сетевых и несетевых заведений\".split()\r\n",
        "colors_set = ['black', '#96b2bc', 'black', '#1e78b5', '#1e78b5', 'black']\r\n",
        "figure, ax = plt.subplots()\r\n",
        "colors = [\"#1e78b5\", \"#96b2bc\"]\r\n",
        "info_for_graphic = cafe['chain'].value_counts().rename({'нет': 'несетевых', 'да': 'сетевых'})\r\n",
        "ax.pie(info_for_graphic.values, autopct='%1.1f%%', startangle=90, colors=colors)\r\n",
        "rainbow_text(-1.3, 1.1, words_from_title, colors_set, size=14)\r\n",
        "plt.show()"
      ],
      "execution_count": null,
      "outputs": []
    },
    {
      "cell_type": "markdown",
      "metadata": {
        "id": "27p_UjAd9fBw"
      },
      "source": [
        "80.7 % заведений являются несетевыми, что говорит о некоторых проблемах в распространении концепций на сеть заведений."
      ]
    },
    {
      "cell_type": "code",
      "metadata": {
        "id": "b62aUOsO6qW7"
      },
      "source": [
        "cafe_chain = cafe.loc[cafe['chain'] == 'да']\r\n",
        "plt.figure(figsize=(18,4))\r\n",
        "sns.distplot(cafe_chain['number'], bins=20)\r\n",
        "plt.xlabel(\" \")\r\n",
        "plt.ylabel(\"Плотность\")\r\n",
        "plt.title(\"Плотность распределения сетевых ООП по количеству посадочных мест\", size=14);"
      ],
      "execution_count": null,
      "outputs": []
    },
    {
      "cell_type": "markdown",
      "metadata": {
        "id": "9mwO_hlEauru"
      },
      "source": [
        "Плотность распределения сетевых ООП по количеству посадочных мест имеет форму распределения Пуассона со смещением влево, т.е. в городе преобладает большее число заведений с малым количеством посадочных мест - до 50 мест, далее плотность распределения идет к резкому уменьшению и практически равна нулю на отметке в 300 посадочных мест."
      ]
    },
    {
      "cell_type": "markdown",
      "metadata": {
        "id": "ei-JoLUf2nEq"
      },
      "source": [
        "###2.5. Среднее количество посадочных мест для каждого вида объекта общественного питания"
      ]
    },
    {
      "cell_type": "code",
      "metadata": {
        "id": "QTGDGxzGx_Bg"
      },
      "source": [
        "plt.figure(figsize=(8,4))\r\n",
        "ax=sns.barplot(x=\"object_type\", y=\"number\", data=cafe, color=\"salmon\")\r\n",
        "ax.set_xticklabels(ax.get_xticklabels(), rotation=50, horizontalalignment ='right', size=14)\r\n",
        "ax.spines['top'].set_visible(False)\r\n",
        "ax.spines['right'].set_visible(False)\r\n",
        "plt.title(\"Среднее количество посадочных мест для каждого вида ООП\", size=18)\r\n",
        "plt.xlabel(\" \")\r\n",
        "plt.ylabel(\"Количество посадочных мест\", size=14);"
      ],
      "execution_count": null,
      "outputs": []
    },
    {
      "cell_type": "markdown",
      "metadata": {
        "id": "cepl_g4bsugw"
      },
      "source": [
        "Среднее количество посадочных мест самое большое в столовых - порядка 130, за ними идут рестораны - 90-100 и буфеты - порядка 50 мест.\r\n",
        "\r\n",
        "Минимальное же количество посадочных мест в отделах кулинарий магазинов и закусочных - в районе 10 мест."
      ]
    },
    {
      "cell_type": "markdown",
      "metadata": {
        "id": "qZ0P4qpPGKfC"
      },
      "source": [
        "Выделим ТОП-10 сетевых ООП:"
      ]
    },
    {
      "cell_type": "code",
      "metadata": {
        "id": "eEy3X7WGhCLd"
      },
      "source": [
        "cafe_chain = pd.pivot_table(cafe.query('chain == \"да\"').loc[:,['object_name', 'number']],\r\n",
        "                    values='number', index=['object_name'], aggfunc=['count', 'median', np.mean, np.min, np.max]).reset_index()\r\n",
        "\r\n",
        "cafe_chain.columns = ['object_name', 'count_places', 'median_number', 'mean_number', 'min_number', 'max_number']\r\n",
        "cafe_chain['mean_number'] = cafe_chain['mean_number'].astype(np.int64)\r\n",
        "cafe_chain['median_number'] = cafe_chain['median_number'].astype(np.int64)\r\n",
        "cafe_chain.sort_values('count_places', ascending=False).head(10)"
      ],
      "execution_count": null,
      "outputs": []
    },
    {
      "cell_type": "markdown",
      "metadata": {
        "id": "WwK3sMZY2LCC"
      },
      "source": [
        "Максимальные по количеству ресторанов сети - Шоколадница, KFC и Макдоналдс.\r\n",
        "\r\n",
        "Среднее количество посадочных мест в ТОП-10 варьируется в пределах от 18 до 87 мест, при этом есть сетевые ООП с количеством мест до 6 шт. - Милти и Суши Wok.\r\n",
        "\r\n",
        "Почти все сети имеют пункты без посадочных мест.\r\n",
        "\r\n",
        "Максимальное количество мест варьируется в диапазоне от 22 до 580 посадочных мест."
      ]
    },
    {
      "cell_type": "markdown",
      "metadata": {
        "id": "nyxVW0Yv2nHB"
      },
      "source": [
        "###2.6. Выделение в отдельный столбец информацию об улице из столбца address"
      ]
    },
    {
      "cell_type": "code",
      "metadata": {
        "id": "bL88Y5lVm03L"
      },
      "source": [
        "words = ['улица','ул','переулок','шоссе','проспект','площадь','проезд',\r\n",
        "         'село','аллея','бульвар','набережная','тупик','линия']\r\n",
        "str_pat = r\".*,\\s*\\b([^,]*?(?:{})\\b[^,]*)[,$]+\".format(\"|\".join(words))\r\n",
        "cafe[\"street\"] = cafe[\"address\"].str.extract(str_pat, flags=re.I)\r\n",
        "cafe.sample(5)"
      ],
      "execution_count": null,
      "outputs": []
    },
    {
      "cell_type": "markdown",
      "metadata": {
        "id": "-v4qh6ci2nJe"
      },
      "source": [
        "###2.7. Топ-10 улиц по количеству объектов общественного питания"
      ]
    },
    {
      "cell_type": "code",
      "metadata": {
        "id": "KzkkEuiTywDs"
      },
      "source": [
        "cafe_streets_top_10=cafe['street'].value_counts().head(10).reset_index()\r\n",
        "cafe_streets_top_10.columns = ['street','cafe_number']"
      ],
      "execution_count": null,
      "outputs": []
    },
    {
      "cell_type": "code",
      "metadata": {
        "id": "pex6wyooHtEY"
      },
      "source": [
        "plt.figure(figsize=(10,6))\r\n",
        "ax=sns.barplot(x='cafe_number', y=\"street\", data=cafe_streets_top_10, \r\n",
        "                 color=\"salmon\")\r\n",
        "ax.set_xticklabels(ax.get_xticklabels(), rotation=50, horizontalalignment ='right')\r\n",
        "ax.grid(False)\r\n",
        "sns.despine(bottom = True, left = True)\r\n",
        "for p in ax.patches:\r\n",
        "    ax.annotate(\"%.0f\" % p.get_width(), xy=(p.get_width(), p.get_y()+p.get_height()/2),\r\n",
        "            xytext=(-5, 0), textcoords='offset points', ha=\"right\", va=\"center\")\r\n",
        "ax.axes.get_xaxis().set_visible(False)\r\n",
        "plt.xlabel(\"\")\r\n",
        "plt.ylabel(\"\")\r\n",
        "plt.title(\"Топ-10 улиц по количеству ООП\", size=14);"
      ],
      "execution_count": null,
      "outputs": []
    },
    {
      "cell_type": "markdown",
      "metadata": {
        "id": "kC7kSnHbUW0t"
      },
      "source": [
        "Для определения района по ТОП-10 улиц воспользуемся внешним ресурсом Яндекс Геокодер по API и выполним следующие действия:"
      ]
    },
    {
      "cell_type": "markdown",
      "metadata": {
        "id": "TeIoeEydLQfc"
      },
      "source": [
        "1. Передадим адреса ООП на ТОП-10 улиц и получим их координаты:"
      ]
    },
    {
      "cell_type": "code",
      "metadata": {
        "id": "LUVUIy2yNSCZ"
      },
      "source": [
        "def get_geo_info_about_homes(array_parts_address, api_key, tag):\r\n",
        "    adress_list = []\r\n",
        "\r\n",
        "    for address_part in array_parts_address:\r\n",
        "        try:\r\n",
        "\r\n",
        "            # В случае надобности координат и районов запросы несколько отличаются\r\n",
        "            if tag == 'formatted':\r\n",
        "                URL_for_request = 'https://geocode-maps.yandex.ru/1.x/?apikey={}&kind=district&geocode='.format(api_key) + address_part\r\n",
        "            else:\r\n",
        "                URL_for_request = 'https://geocode-maps.yandex.ru/1.x/?apikey={}&geocode='.format(api_key) + address_part\r\n",
        "\r\n",
        "            data_for_request = requests.get(URL_for_request).text           \r\n",
        "            result_requests = re.search(f'<{tag}>(.*?)<', data_for_request).group(1)\r\n",
        "            adress_list.append(result_requests)\r\n",
        "        except:\r\n",
        "            adress_list.append('invalid geo')\r\n",
        "            print(address_part)\r\n",
        "\r\n",
        "    return adress_list"
      ],
      "execution_count": null,
      "outputs": []
    },
    {
      "cell_type": "code",
      "metadata": {
        "id": "v64-i310LMae"
      },
      "source": [
        "cafe_streets_top_10 = cafe_streets_top_10.street\r\n",
        "info_about_popular_places = cafe.query('street in @cafe_streets_top_10')['address'].to_frame()\r\n",
        "# info_about_popular_places.loc[:,'coordinates'] = get_geo_info_about_homes(info_about_popular_places['address'].values, api_key, 'pos')\r\n",
        "# info_about_popular_places.to_csv('coordinates_popular_places.csv', sep=';', encoding='utf-8-sig')"
      ],
      "execution_count": null,
      "outputs": []
    },
    {
      "cell_type": "markdown",
      "metadata": {
        "id": "FO_ze_2vUlk8"
      },
      "source": [
        "2. Передадим полученный файл с координатами для получения районов:"
      ]
    },
    {
      "cell_type": "code",
      "metadata": {
        "id": "4cy8GVIAdD9S"
      },
      "source": [
        "info_about_popular_places=pd.read_csv('/content/drive/MyDrive/Edu/Data Analysis/9_Как рассказать историю с помощью данных/!Project/data/coordinates_popular_places.csv')"
      ],
      "execution_count": null,
      "outputs": []
    },
    {
      "cell_type": "code",
      "metadata": {
        "id": "CSX82flcWpDW"
      },
      "source": [
        "# info_about_popular_places.loc[:,'districts'] = get_geo_info_about_homes(info_about_popular_places['coordinates'].values, api_key, 'formatted')\r\n",
        "# info_about_popular_places = info_about_popular_places.drop(['coordinates'], axis=1)\r\n",
        "# info_about_popular_places.to_csv('districts_popular_places.csv', sep=';', encoding='utf-8-sig')"
      ],
      "execution_count": null,
      "outputs": []
    },
    {
      "cell_type": "markdown",
      "metadata": {
        "id": "k3YN2829mS0V"
      },
      "source": [
        "3. Обработаем полученные данные:"
      ]
    },
    {
      "cell_type": "code",
      "metadata": {
        "id": "JXhoEW9ombo0"
      },
      "source": [
        "districts_popular_places=pd.read_csv('/content/drive/MyDrive/Edu/Data Analysis/9_Как рассказать историю с помощью данных/!Project/data/districts_popular_places.csv', error_bad_lines=False)"
      ],
      "execution_count": null,
      "outputs": []
    },
    {
      "cell_type": "code",
      "metadata": {
        "id": "DGge8EEdmRgy"
      },
      "source": [
        "def get_dict_disctricts_and_cut_excess(more_districts):\r\n",
        "    dict_districts = { }\r\n",
        "\r\n",
        "    for element_arr in more_districts:\r\n",
        "        \r\n",
        "        # Блок с try, по причине наличия адресов, для которых не определяются корректно координаты\r\n",
        "        try:\r\n",
        "\r\n",
        "            dict_districts[element_arr] = re.match(\r\n",
        "                r'(.*?, (поселение [а-яА-Яё ]*),?|.+?, ([а-яА-Яё ]*район[а-яА-Яё ]*,?))', element_arr).group(3)\r\n",
        "            if dict_districts[element_arr][-1] == ',':\r\n",
        "                dict_districts[element_arr] = dict_districts[element_arr][:-int(dict_districts[element_arr][-1] == ',')]\r\n",
        "        except:\r\n",
        "\r\n",
        "            dict_districts[element_arr] = 'invalid'\r\n",
        "    return dict_districts"
      ],
      "execution_count": null,
      "outputs": []
    },
    {
      "cell_type": "code",
      "metadata": {
        "id": "55wIATq_oU3L"
      },
      "source": [
        "dict_districts = get_dict_disctricts_and_cut_excess(districts_popular_places['districts'].unique())\r\n",
        "districts_popular_places['districts'] = districts_popular_places['districts'].map(dict_districts)\r\n",
        "plt.figure(figsize=(10,6))\r\n",
        "ax=sns.barplot(x='districts', y=\"index\", data=districts_popular_places['districts'].value_counts().head(10).to_frame().reset_index(), \r\n",
        "                 color=\"salmon\")\r\n",
        "ax.set_xticklabels(ax.get_xticklabels(), rotation=50, horizontalalignment ='right', size=16)\r\n",
        "ax.grid(False)\r\n",
        "sns.despine(bottom = True, left = True)\r\n",
        "for p in ax.patches:\r\n",
        "    ax.annotate(\"%.0f\" % p.get_width(), xy=(p.get_width(), p.get_y()+p.get_height()/2),\r\n",
        "            xytext=(-5, 0), textcoords='offset points', ha=\"right\", va=\"center\", size=14)\r\n",
        "ax.axes.get_xaxis().set_visible(False)\r\n",
        "plt.xlabel(\"\")\r\n",
        "plt.ylabel(\"\")\r\n",
        "plt.title(\"Топ-10 районов по максимальному количеству ООП\", size=18);"
      ],
      "execution_count": null,
      "outputs": []
    },
    {
      "cell_type": "markdown",
      "metadata": {
        "id": "tffSJ7kCqCzA"
      },
      "source": [
        "Первые два района по количеству заведений сильно выделяются на фоне остальных, территориально они находятся рядом друг с другом.\r\n",
        "\r\n",
        "Причины большого числа заведений в Пресненском районе:\r\n",
        "\r\n",
        "*  содержит деловой центр «Москва-Сити» — развивающийся деловой район в Москве на Пресненской набережной, в котором большое число организаций и высокая плотность рабочих мест;\r\n",
        "*  район включает в себя множество историко-архитектурных памятников;\r\n",
        "*  в районе расположены объекты федерального и общегородского значения.\r\n",
        "Причины большого числа заведений в Хорошёвском районе:\r\n",
        "\r\n",
        "*  наличие самого большого ТРЦ в Европе -ТЦ Европейский, по официальной информации на сайте, лишь только на его территории находится 81 ресторан;\r\n",
        "*  наличие крупного стадиона в районе - ЦСКА."
      ]
    },
    {
      "cell_type": "markdown",
      "metadata": {
        "id": "nBU56iUp2nL7"
      },
      "source": [
        "###2.8. Число улиц с одним объектом общественного питания"
      ]
    },
    {
      "cell_type": "code",
      "metadata": {
        "id": "fEF983VlhpBb"
      },
      "source": [
        "streets_with_one_cafe = cafe.groupby(['street'])['id'].nunique().\\\r\n",
        "            to_frame().query('id == 1').index\r\n",
        "print(f'В Москве {len(streets_with_one_cafe)} улица с одним ООП')"
      ],
      "execution_count": null,
      "outputs": []
    },
    {
      "cell_type": "markdown",
      "metadata": {
        "id": "-pOs0hTvy4GP"
      },
      "source": [
        "Определим районы этих улиц:"
      ]
    },
    {
      "cell_type": "code",
      "metadata": {
        "id": "XwPTMweKs7ef"
      },
      "source": [
        "# one_type_institute_df = cafe.query('street in @streets_with_one_cafe')['address'].to_frame()\r\n",
        "# one_type_institute_df.loc[:,'coordinates'] = get_geo_info_about_homes(one_type_institute_df['address'].values, api_key, 'pos')\r\n",
        "# one_type_institute_df = one_type_institute_df.query('coordinates != \"invalid geo\"')\r\n",
        "\r\n",
        "# one_type_institute_df.loc[:, 'districts'] = get_geo_info_about_homes(one_type_institute_df['coordinates'].values, api_key, 'formatted')\r\n",
        "# one_type_institute_df = one_type_institute_df.query('districts != \"invalid geo\"')\r\n",
        "# one_type_institute_df = one_type_institute_df.drop(['coordinates', 'address'], axis=1)\r\n",
        "# one_type_institute_df.to_csv('districts_one_type_institute.csv', sep=';', encoding='utf-8-sig')"
      ],
      "execution_count": null,
      "outputs": []
    },
    {
      "cell_type": "code",
      "metadata": {
        "id": "CrL4EjvvyWuy"
      },
      "source": [
        "one_type_institute_df=pd.read_csv('/content/drive/MyDrive/Edu/Data Analysis/9_Как рассказать историю с помощью данных/!Project/data/districts_one_type_institute.csv', error_bad_lines=False)"
      ],
      "execution_count": null,
      "outputs": []
    },
    {
      "cell_type": "code",
      "metadata": {
        "id": "0Kbc7PvRyxpK"
      },
      "source": [
        "dict_districts = get_dict_disctricts_and_cut_excess(one_type_institute_df['districts'].unique())\r\n",
        "one_type_institute_df['districts'] = one_type_institute_df['districts'].map(dict_districts)\r\n",
        "one_type_institute_df.drop(one_type_institute_df[one_type_institute_df['districts']=='invalid'].index, inplace=True)\r\n",
        "one_type_institute_df['districts'].value_counts().head(10).reset_index()                                                      \r\n",
        "plt.figure(figsize=(10,6))\r\n",
        "ax=sns.barplot(x='districts', y=\"index\", data=one_type_institute_df['districts'].value_counts().head(10).to_frame().reset_index(), \r\n",
        "                 color=\"salmon\")\r\n",
        "ax.set_xticklabels(ax.get_xticklabels(), rotation=50, horizontalalignment ='right')\r\n",
        "ax.grid(False)\r\n",
        "sns.despine(bottom = True, left = True)\r\n",
        "for p in ax.patches:\r\n",
        "    ax.annotate(\"%.0f\" % p.get_width(), xy=(p.get_width(), p.get_y()+p.get_height()/2),\r\n",
        "            xytext=(-5, 0), textcoords='offset points', ha=\"right\", va=\"center\")\r\n",
        "ax.axes.get_xaxis().set_visible(False)\r\n",
        "plt.xlabel(\"\")\r\n",
        "plt.ylabel(\"\")\r\n",
        "plt.title(\"Топ-10 районов по количеству улиц с одним ООП\", size=14);"
      ],
      "execution_count": null,
      "outputs": []
    },
    {
      "cell_type": "markdown",
      "metadata": {
        "id": "E40mqHS8863X"
      },
      "source": [
        "На 551 улице располагается один ООП.\r\n",
        "\r\n",
        "Наличие одного ОПП на улице связано с инфраструктурой и наличием спроса в конкретном микрорайоне, а также размером самой улицы, так, например, маленькие переулки в центре города.\r\n",
        "\r\n",
        "В перечень районов также попали районы из ТОП-10 по максимальному количеству ОПП.\r\n",
        "\r\n",
        "При этом не проанализированными остаются улицы города, на которых нет ООП вовсе, поэтому считаю этот показатель малоэффективным для рассмотрения и последующего прогнозирования."
      ]
    },
    {
      "cell_type": "markdown",
      "metadata": {
        "id": "eucB_dUn2nOL"
      },
      "source": [
        "###2.9. Распределение количества посадочных мест для улиц с большим количеством объектов общественного питания"
      ]
    },
    {
      "cell_type": "code",
      "metadata": {
        "id": "MecG0e6wBREY"
      },
      "source": [
        "number_by_street = cafe.query('street in @cafe_streets_top_10').groupby('street')['number'].\\\r\n",
        "        agg('sum').reset_index()"
      ],
      "execution_count": null,
      "outputs": []
    },
    {
      "cell_type": "code",
      "metadata": {
        "id": "Hm5taRtODyg4"
      },
      "source": [
        "plt.figure(figsize=(10,6))\r\n",
        "ax=sns.barplot(x='number', y=\"street\", data=number_by_street, \r\n",
        "            order=number_by_street.sort_values('number', ascending = False).street,\r\n",
        "                 color=\"salmon\")\r\n",
        "ax.set_xticklabels(ax.get_xticklabels(), rotation=50, horizontalalignment ='right')\r\n",
        "ax.grid(False)\r\n",
        "sns.despine(bottom = True, left = True)\r\n",
        "for p in ax.patches:\r\n",
        "    ax.annotate(\"%.0f\" % p.get_width(), xy=(p.get_width(), p.get_y()+p.get_height()/2),\r\n",
        "            xytext=(-5, 0), textcoords='offset points', ha=\"right\", va=\"center\")\r\n",
        "ax.axes.get_xaxis().set_visible(False)\r\n",
        "plt.xlabel(\"\")\r\n",
        "plt.ylabel(\"\")\r\n",
        "plt.title(\"Топ-10 районов по количеству улиц с одним ООП\", size=14);"
      ],
      "execution_count": null,
      "outputs": []
    },
    {
      "cell_type": "markdown",
      "metadata": {
        "id": "UXPwgCw_DnaG"
      },
      "source": [
        "На проспекте Мира почти 13 тыс. посадочных мест для посетителей.\r\n",
        "\r\n",
        "На остальных улицах в среднем от 8 до 9,5 тыс. мест.\r\n",
        "\r\n",
        "Замыкает ТОП-10 Каширское шоссе, на котором посадочных мест более чем в 2 раза меньше чем на проспекте Мира - 6,2 тыс."
      ]
    },
    {
      "cell_type": "markdown",
      "metadata": {
        "id": "4c6W4Q6R3EwC"
      },
      "source": [
        "##Общий вывод\r\n",
        "---"
      ]
    },
    {
      "cell_type": "markdown",
      "metadata": {
        "id": "pMq-03Q2UaFg"
      },
      "source": [
        "В Москве из всех видов ООП самыми многочисленными являются кафе, при этом столовых и ресторанов почти в 3 раза меньше, т.е. конкуренция в этих видах ООП намного ниже, а популярность их высока.\r\n",
        "\r\n",
        "Соотношение несетевых к сетевым заведениям по всем видам ООП достаточно большое и в среднем доля сетевых ООП составляет 19,3 %. Среди сетевых ООП минимальная доля приходится на столовые - всего 0,12 %.\r\n",
        "\r\n",
        "Количество посадочных мест очень разное в зависимости от вида ООП: самое большое в столовых - порядка 130, за ними идут рестораны - 90-100 и буфеты - порядка 50 мест, минимальное же количество посадочных мест в отделах кулинарии магазинов и закусочных - в районе 10 мест.\r\n",
        "При этом в ТОП-10 сетевых ООП по количеству заведений количество мест варьируется в диапазоне 18 до 87 мест.\r\n",
        "\r\n",
        "Почти все сети имеют пункты без посадочных мест.\r\n",
        "Максимальное количество мест варьируется в диапазоне от 22 до 580 посадочных мест.\r\n",
        "\r\n",
        "По районам можно в первую очередь ориентироваться на самые популярные районы по ОПП, но также требуется провести дополнительный анализ для определения объектов инфраструктуры посетители которых могут быть потенциальными клиентами нового заведения.\r\n",
        "\r\n",
        "В силу того, что заведение планируется обслуживать роботами, то целесообразно выбрать формат сетевых заведений, т.к. он является наиболее оптимальным для тиражирования стандартов во всей сети заведений.\r\n",
        "\r\n",
        "В связи с вышеизложенным основными вариантами развития представляются следующие:\r\n",
        "\r\n",
        "<strong>открытие сетевых столовых:</strong>\r\n",
        "<ul>\r\n",
        "<li>плюсы:\r\n",
        "<ul>\r\n",
        "<li>самая низкая доля среди всех ООП;</li>\r\n",
        "<li>большое количество потенциально доступных районов для открытия заведений;</li>\r\n",
        "<li>несложная логистика для роботов обслуживающее заведение.</li>\r\n",
        "</ul>\r\n",
        "</li>\r\n",
        "<li>минусы:\r\n",
        "<ul>\r\n",
        "<li>большое количество посадочных мест.</li>\r\n",
        "</ul>\r\n",
        "</ul>\r\n",
        "\r\n",
        "<strong>открытие сетевых ресторанов:</strong>\r\n",
        "<ul>\r\n",
        "<li>плюсы:\r\n",
        "<ul>\r\n",
        "<li>составляют всего четверть рынка среди сетевых ОПП, а по отношение к сетевым ресторанам сетевых в 3 раза меньше;</li>\r\n",
        "<li>большое количество потенциально доступных районов для открытия заведений;</li>\r\n",
        "<li>количество посадочных мест может быть различным.</li>\r\n",
        "</ul>\r\n",
        "</li>\r\n",
        "<li>минусы:\r\n",
        "<ul>\r\n",
        "<li>сложная логистика для роботов обслуживающее заведение.</li>\r\n",
        "</ul>\r\n",
        "</ul>\r\n",
        "\r\n",
        "<strong>открытие сетевых бистро:</strong>\r\n",
        "<li>плюсы:\r\n",
        "<ul>\r\n",
        "<li>большое количество потенциально доступных районов для открытия заведений;</li>\r\n",
        "<li>количество посадочных мест может быть различным;</li>\r\n",
        "<li>несложная логистика для роботов обслуживающее заведение.</li>\r\n",
        "</ul>\r\n",
        "</li>\r\n",
        "<li>минусы:\r\n",
        "<ul>\r\n",
        "<li>высокая конкуренция на рынке.</li>\r\n",
        "</ul>\r\n",
        "</ul>"
      ]
    },
    {
      "cell_type": "markdown",
      "metadata": {
        "id": "vjGMwQy5ugy2"
      },
      "source": [
        "[Презентация](https://docs.google.com/presentation/d/1mtLknPq7vTkbE60C0Bt3LP5bXq0PPVGO_trReLJ0P2U/edit?usp=sharing)"
      ]
    }
  ]
}
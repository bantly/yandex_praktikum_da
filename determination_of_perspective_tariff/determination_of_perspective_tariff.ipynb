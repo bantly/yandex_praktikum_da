{
  "nbformat": 4,
  "nbformat_minor": 0,
  "metadata": {
    "colab": {
      "name": "sprint_3_project_tariff_analysis.ipynb",
      "provenance": [],
      "collapsed_sections": [],
      "include_colab_link": true
    },
    "kernelspec": {
      "name": "python3",
      "language": "python",
      "display_name": "Python 3"
    }
  },
  "cells": [
    {
      "cell_type": "markdown",
      "metadata": {
        "id": "view-in-github",
        "colab_type": "text"
      },
      "source": [
        "<a href=\"https://colab.research.google.com/github/dsibi/practicum_data_example_repo/blob/master/determination_of_perspective_tariff/determination_of_perspective_tariff.ipynb\" target=\"_parent\"><img src=\"https://colab.research.google.com/assets/colab-badge.svg\" alt=\"Open In Colab\"/></a>"
      ]
    },
    {
      "cell_type": "markdown",
      "metadata": {
        "collapsed": false,
        "id": "M4KGDfBrfY3j"
      },
      "source": [
        "#**Определение перспективного тарифа для телеком компании**\n",
        "\n",
        "---\n",
        "\n"
      ]
    },
    {
      "cell_type": "markdown",
      "metadata": {
        "collapsed": false,
        "id": "o66kpaj5fY3l"
      },
      "source": [
        "## Описание проекта"
      ]
    },
    {
      "cell_type": "markdown",
      "metadata": {
        "collapsed": false,
        "id": "ie3OdkyEfY3n"
      },
      "source": [
        "Вы аналитик компании «Мегалайн» — федерального оператора сотовой связи. Клиентам предлагают два тарифных плана: «Смарт» и «Ультра». Чтобы скорректировать рекламный бюджет, коммерческий департамент хочет понять, какой тариф приносит больше денег.\n",
        "Вам предстоит сделать предварительный анализ тарифов на небольшой выборке клиентов. В вашем распоряжении данные 500 пользователей «Мегалайна»: кто они, откуда, каким тарифом пользуются, сколько звонков и сообщений каждый отправил за 2018 год. Нужно проанализировать поведение клиентов и сделать вывод — какой тариф лучше."
      ]
    },
    {
      "cell_type": "markdown",
      "metadata": {
        "collapsed": false,
        "id": "ZER-pLvcfY3o"
      },
      "source": [
        "##Описание тарифов"
      ]
    },
    {
      "cell_type": "markdown",
      "metadata": {
        "collapsed": false,
        "id": "1Cqki7vQfY3q"
      },
      "source": [
        "Параметры | Тариф «Смарт» | Тариф «Ультра»\n",
        "--- | --- | ---\n",
        "Ежемесячная плата, *руб.* | 550 | 1950\n",
        "Включено: минуты/сообщения/интернет| 500 / 50 / 15 | 3000 / 1000 / 30\n",
        "Стоимость услуг сверх тарифного пакета, *руб.*: минуты/сообщения/интернет| 3 / 3 / 200 | 1 / 1 / 150"
      ]
    },
    {
      "cell_type": "markdown",
      "metadata": {
        "collapsed": false,
        "id": "0ivi98befY3r"
      },
      "source": [
        "**Обратите внимание**: «Мегалайн» всегда округляет вверх значения минут и мегабайтов. Если пользователь проговорил всего 1 секунду, в тарифе засчитывается целая минута."
      ]
    },
    {
      "cell_type": "markdown",
      "metadata": {
        "collapsed": false,
        "id": "DJsVs79LfY3s"
      },
      "source": [
        "##Шаг 1. Откроем файлы с данными и изучим общую информацию\n",
        "\n",
        "---\n",
        "\n"
      ]
    },
    {
      "cell_type": "markdown",
      "metadata": {
        "collapsed": false,
        "id": "MnqYAuyHfY3t"
      },
      "source": [
        "Импортируем все необходимые нам библиотеки, далее новые библиотеки будем добавлять сюда же"
      ]
    },
    {
      "cell_type": "code",
      "metadata": {
        "pycharm": {
          "name": "#%%\n"
        },
        "id": "MjKU3AQffY3v"
      },
      "source": [
        "import pandas as pd\n",
        "from IPython.display import display\n",
        "import math\n",
        "import matplotlib.pyplot as plt\n",
        "import numpy as np\n",
        "from scipy import stats\n",
        "from statsmodels.stats import weightstats as stests"
      ],
      "execution_count": null,
      "outputs": []
    },
    {
      "cell_type": "markdown",
      "metadata": {
        "collapsed": false,
        "id": "ogU4hR8kfY33"
      },
      "source": [
        "Запуск импорта данных с Google Drive (при работе через Google Collabs)"
      ]
    },
    {
      "cell_type": "code",
      "metadata": {
        "pycharm": {
          "name": "#%%\n"
        },
        "id": "eorixaWgfY34",
        "colab": {
          "base_uri": "https://localhost:8080/"
        },
        "outputId": "d6999d95-f3ab-4463-8486-6a119e2cf134"
      },
      "source": [
        "from google.colab import drive\n",
        "drive.mount('/content/drive')"
      ],
      "execution_count": null,
      "outputs": [
        {
          "output_type": "stream",
          "text": [
            "Drive already mounted at /content/drive; to attempt to forcibly remount, call drive.mount(\"/content/drive\", force_remount=True).\n"
          ],
          "name": "stdout"
        }
      ]
    },
    {
      "cell_type": "markdown",
      "metadata": {
        "collapsed": false,
        "id": "mNSfbzDkfY3_"
      },
      "source": [
        "Чтение файлов"
      ]
    },
    {
      "cell_type": "code",
      "metadata": {
        "pycharm": {
          "name": "#%%\n"
        },
        "id": "1QzMM2ejfY4A"
      },
      "source": [
        "cls = pd.read_csv('/content/drive/My Drive/Edu/Data Analysis/5_Статистический анализ данных/!Project/data/calls.csv')\n",
        "itnt = pd.read_csv('/content/drive/My Drive/Edu/Data Analysis/5_Статистический анализ данных/!Project/data/internet.csv')\n",
        "trf = pd.read_csv('/content/drive/My Drive/Edu/Data Analysis/5_Статистический анализ данных/!Project/data/tariffs.csv')\n",
        "usrs = pd.read_csv('/content/drive/My Drive/Edu/Data Analysis/5_Статистический анализ данных/!Project/data/users.csv')\n",
        "msg = pd.read_csv('/content/drive/My Drive/Edu/Data Analysis/5_Статистический анализ данных/!Project/data/messages.csv')"
      ],
      "execution_count": null,
      "outputs": []
    },
    {
      "cell_type": "markdown",
      "metadata": {
        "collapsed": false,
        "id": "y3UeBj--fY4G"
      },
      "source": [
        "Изучим по ним общую информацию "
      ]
    },
    {
      "cell_type": "code",
      "metadata": {
        "pycharm": {
          "name": "#%%\n"
        },
        "id": "DKSfWihufY4J",
        "colab": {
          "base_uri": "https://localhost:8080/",
          "height": 1000
        },
        "outputId": "a8e387ca-8840-4d2e-f09c-37582851a652"
      },
      "source": [
        "df_list = [usrs, cls, msg, itnt, trf]\n",
        "for df in df_list:\n",
        "  display(df.head())\n",
        "  df.info()\n",
        "  display(df.isna().sum())\n",
        "  display(df.describe())"
      ],
      "execution_count": null,
      "outputs": [
        {
          "output_type": "display_data",
          "data": {
            "text/html": [
              "<div>\n",
              "<style scoped>\n",
              "    .dataframe tbody tr th:only-of-type {\n",
              "        vertical-align: middle;\n",
              "    }\n",
              "\n",
              "    .dataframe tbody tr th {\n",
              "        vertical-align: top;\n",
              "    }\n",
              "\n",
              "    .dataframe thead th {\n",
              "        text-align: right;\n",
              "    }\n",
              "</style>\n",
              "<table border=\"1\" class=\"dataframe\">\n",
              "  <thead>\n",
              "    <tr style=\"text-align: right;\">\n",
              "      <th></th>\n",
              "      <th>user_id</th>\n",
              "      <th>age</th>\n",
              "      <th>churn_date</th>\n",
              "      <th>city</th>\n",
              "      <th>first_name</th>\n",
              "      <th>last_name</th>\n",
              "      <th>reg_date</th>\n",
              "      <th>tariff</th>\n",
              "    </tr>\n",
              "  </thead>\n",
              "  <tbody>\n",
              "    <tr>\n",
              "      <th>0</th>\n",
              "      <td>1000</td>\n",
              "      <td>52</td>\n",
              "      <td>NaN</td>\n",
              "      <td>Краснодар</td>\n",
              "      <td>Рафаил</td>\n",
              "      <td>Верещагин</td>\n",
              "      <td>2018-05-25</td>\n",
              "      <td>ultra</td>\n",
              "    </tr>\n",
              "    <tr>\n",
              "      <th>1</th>\n",
              "      <td>1001</td>\n",
              "      <td>41</td>\n",
              "      <td>NaN</td>\n",
              "      <td>Москва</td>\n",
              "      <td>Иван</td>\n",
              "      <td>Ежов</td>\n",
              "      <td>2018-11-01</td>\n",
              "      <td>smart</td>\n",
              "    </tr>\n",
              "    <tr>\n",
              "      <th>2</th>\n",
              "      <td>1002</td>\n",
              "      <td>59</td>\n",
              "      <td>NaN</td>\n",
              "      <td>Стерлитамак</td>\n",
              "      <td>Евгений</td>\n",
              "      <td>Абрамович</td>\n",
              "      <td>2018-06-17</td>\n",
              "      <td>smart</td>\n",
              "    </tr>\n",
              "    <tr>\n",
              "      <th>3</th>\n",
              "      <td>1003</td>\n",
              "      <td>23</td>\n",
              "      <td>NaN</td>\n",
              "      <td>Москва</td>\n",
              "      <td>Белла</td>\n",
              "      <td>Белякова</td>\n",
              "      <td>2018-08-17</td>\n",
              "      <td>ultra</td>\n",
              "    </tr>\n",
              "    <tr>\n",
              "      <th>4</th>\n",
              "      <td>1004</td>\n",
              "      <td>68</td>\n",
              "      <td>NaN</td>\n",
              "      <td>Новокузнецк</td>\n",
              "      <td>Татьяна</td>\n",
              "      <td>Авдеенко</td>\n",
              "      <td>2018-05-14</td>\n",
              "      <td>ultra</td>\n",
              "    </tr>\n",
              "  </tbody>\n",
              "</table>\n",
              "</div>"
            ],
            "text/plain": [
              "   user_id  age churn_date  ...  last_name    reg_date tariff\n",
              "0     1000   52        NaN  ...  Верещагин  2018-05-25  ultra\n",
              "1     1001   41        NaN  ...       Ежов  2018-11-01  smart\n",
              "2     1002   59        NaN  ...  Абрамович  2018-06-17  smart\n",
              "3     1003   23        NaN  ...   Белякова  2018-08-17  ultra\n",
              "4     1004   68        NaN  ...   Авдеенко  2018-05-14  ultra\n",
              "\n",
              "[5 rows x 8 columns]"
            ]
          },
          "metadata": {
            "tags": []
          }
        },
        {
          "output_type": "stream",
          "text": [
            "<class 'pandas.core.frame.DataFrame'>\n",
            "RangeIndex: 500 entries, 0 to 499\n",
            "Data columns (total 8 columns):\n",
            " #   Column      Non-Null Count  Dtype \n",
            "---  ------      --------------  ----- \n",
            " 0   user_id     500 non-null    int64 \n",
            " 1   age         500 non-null    int64 \n",
            " 2   churn_date  38 non-null     object\n",
            " 3   city        500 non-null    object\n",
            " 4   first_name  500 non-null    object\n",
            " 5   last_name   500 non-null    object\n",
            " 6   reg_date    500 non-null    object\n",
            " 7   tariff      500 non-null    object\n",
            "dtypes: int64(2), object(6)\n",
            "memory usage: 31.4+ KB\n"
          ],
          "name": "stdout"
        },
        {
          "output_type": "display_data",
          "data": {
            "text/plain": [
              "user_id         0\n",
              "age             0\n",
              "churn_date    462\n",
              "city            0\n",
              "first_name      0\n",
              "last_name       0\n",
              "reg_date        0\n",
              "tariff          0\n",
              "dtype: int64"
            ]
          },
          "metadata": {
            "tags": []
          }
        },
        {
          "output_type": "display_data",
          "data": {
            "text/html": [
              "<div>\n",
              "<style scoped>\n",
              "    .dataframe tbody tr th:only-of-type {\n",
              "        vertical-align: middle;\n",
              "    }\n",
              "\n",
              "    .dataframe tbody tr th {\n",
              "        vertical-align: top;\n",
              "    }\n",
              "\n",
              "    .dataframe thead th {\n",
              "        text-align: right;\n",
              "    }\n",
              "</style>\n",
              "<table border=\"1\" class=\"dataframe\">\n",
              "  <thead>\n",
              "    <tr style=\"text-align: right;\">\n",
              "      <th></th>\n",
              "      <th>user_id</th>\n",
              "      <th>age</th>\n",
              "    </tr>\n",
              "  </thead>\n",
              "  <tbody>\n",
              "    <tr>\n",
              "      <th>count</th>\n",
              "      <td>500.000000</td>\n",
              "      <td>500.00000</td>\n",
              "    </tr>\n",
              "    <tr>\n",
              "      <th>mean</th>\n",
              "      <td>1249.500000</td>\n",
              "      <td>46.58800</td>\n",
              "    </tr>\n",
              "    <tr>\n",
              "      <th>std</th>\n",
              "      <td>144.481833</td>\n",
              "      <td>16.66763</td>\n",
              "    </tr>\n",
              "    <tr>\n",
              "      <th>min</th>\n",
              "      <td>1000.000000</td>\n",
              "      <td>18.00000</td>\n",
              "    </tr>\n",
              "    <tr>\n",
              "      <th>25%</th>\n",
              "      <td>1124.750000</td>\n",
              "      <td>32.00000</td>\n",
              "    </tr>\n",
              "    <tr>\n",
              "      <th>50%</th>\n",
              "      <td>1249.500000</td>\n",
              "      <td>46.00000</td>\n",
              "    </tr>\n",
              "    <tr>\n",
              "      <th>75%</th>\n",
              "      <td>1374.250000</td>\n",
              "      <td>62.00000</td>\n",
              "    </tr>\n",
              "    <tr>\n",
              "      <th>max</th>\n",
              "      <td>1499.000000</td>\n",
              "      <td>75.00000</td>\n",
              "    </tr>\n",
              "  </tbody>\n",
              "</table>\n",
              "</div>"
            ],
            "text/plain": [
              "           user_id        age\n",
              "count   500.000000  500.00000\n",
              "mean   1249.500000   46.58800\n",
              "std     144.481833   16.66763\n",
              "min    1000.000000   18.00000\n",
              "25%    1124.750000   32.00000\n",
              "50%    1249.500000   46.00000\n",
              "75%    1374.250000   62.00000\n",
              "max    1499.000000   75.00000"
            ]
          },
          "metadata": {
            "tags": []
          }
        },
        {
          "output_type": "display_data",
          "data": {
            "text/html": [
              "<div>\n",
              "<style scoped>\n",
              "    .dataframe tbody tr th:only-of-type {\n",
              "        vertical-align: middle;\n",
              "    }\n",
              "\n",
              "    .dataframe tbody tr th {\n",
              "        vertical-align: top;\n",
              "    }\n",
              "\n",
              "    .dataframe thead th {\n",
              "        text-align: right;\n",
              "    }\n",
              "</style>\n",
              "<table border=\"1\" class=\"dataframe\">\n",
              "  <thead>\n",
              "    <tr style=\"text-align: right;\">\n",
              "      <th></th>\n",
              "      <th>id</th>\n",
              "      <th>call_date</th>\n",
              "      <th>duration</th>\n",
              "      <th>user_id</th>\n",
              "    </tr>\n",
              "  </thead>\n",
              "  <tbody>\n",
              "    <tr>\n",
              "      <th>0</th>\n",
              "      <td>1000_0</td>\n",
              "      <td>2018-07-25</td>\n",
              "      <td>0.00</td>\n",
              "      <td>1000</td>\n",
              "    </tr>\n",
              "    <tr>\n",
              "      <th>1</th>\n",
              "      <td>1000_1</td>\n",
              "      <td>2018-08-17</td>\n",
              "      <td>0.00</td>\n",
              "      <td>1000</td>\n",
              "    </tr>\n",
              "    <tr>\n",
              "      <th>2</th>\n",
              "      <td>1000_2</td>\n",
              "      <td>2018-06-11</td>\n",
              "      <td>2.85</td>\n",
              "      <td>1000</td>\n",
              "    </tr>\n",
              "    <tr>\n",
              "      <th>3</th>\n",
              "      <td>1000_3</td>\n",
              "      <td>2018-09-21</td>\n",
              "      <td>13.80</td>\n",
              "      <td>1000</td>\n",
              "    </tr>\n",
              "    <tr>\n",
              "      <th>4</th>\n",
              "      <td>1000_4</td>\n",
              "      <td>2018-12-15</td>\n",
              "      <td>5.18</td>\n",
              "      <td>1000</td>\n",
              "    </tr>\n",
              "  </tbody>\n",
              "</table>\n",
              "</div>"
            ],
            "text/plain": [
              "       id   call_date  duration  user_id\n",
              "0  1000_0  2018-07-25      0.00     1000\n",
              "1  1000_1  2018-08-17      0.00     1000\n",
              "2  1000_2  2018-06-11      2.85     1000\n",
              "3  1000_3  2018-09-21     13.80     1000\n",
              "4  1000_4  2018-12-15      5.18     1000"
            ]
          },
          "metadata": {
            "tags": []
          }
        },
        {
          "output_type": "stream",
          "text": [
            "<class 'pandas.core.frame.DataFrame'>\n",
            "RangeIndex: 202607 entries, 0 to 202606\n",
            "Data columns (total 4 columns):\n",
            " #   Column     Non-Null Count   Dtype  \n",
            "---  ------     --------------   -----  \n",
            " 0   id         202607 non-null  object \n",
            " 1   call_date  202607 non-null  object \n",
            " 2   duration   202607 non-null  float64\n",
            " 3   user_id    202607 non-null  int64  \n",
            "dtypes: float64(1), int64(1), object(2)\n",
            "memory usage: 6.2+ MB\n"
          ],
          "name": "stdout"
        },
        {
          "output_type": "display_data",
          "data": {
            "text/plain": [
              "id           0\n",
              "call_date    0\n",
              "duration     0\n",
              "user_id      0\n",
              "dtype: int64"
            ]
          },
          "metadata": {
            "tags": []
          }
        },
        {
          "output_type": "display_data",
          "data": {
            "text/html": [
              "<div>\n",
              "<style scoped>\n",
              "    .dataframe tbody tr th:only-of-type {\n",
              "        vertical-align: middle;\n",
              "    }\n",
              "\n",
              "    .dataframe tbody tr th {\n",
              "        vertical-align: top;\n",
              "    }\n",
              "\n",
              "    .dataframe thead th {\n",
              "        text-align: right;\n",
              "    }\n",
              "</style>\n",
              "<table border=\"1\" class=\"dataframe\">\n",
              "  <thead>\n",
              "    <tr style=\"text-align: right;\">\n",
              "      <th></th>\n",
              "      <th>duration</th>\n",
              "      <th>user_id</th>\n",
              "    </tr>\n",
              "  </thead>\n",
              "  <tbody>\n",
              "    <tr>\n",
              "      <th>count</th>\n",
              "      <td>202607.000000</td>\n",
              "      <td>202607.000000</td>\n",
              "    </tr>\n",
              "    <tr>\n",
              "      <th>mean</th>\n",
              "      <td>6.755887</td>\n",
              "      <td>1253.940619</td>\n",
              "    </tr>\n",
              "    <tr>\n",
              "      <th>std</th>\n",
              "      <td>5.843365</td>\n",
              "      <td>144.722751</td>\n",
              "    </tr>\n",
              "    <tr>\n",
              "      <th>min</th>\n",
              "      <td>0.000000</td>\n",
              "      <td>1000.000000</td>\n",
              "    </tr>\n",
              "    <tr>\n",
              "      <th>25%</th>\n",
              "      <td>1.300000</td>\n",
              "      <td>1126.000000</td>\n",
              "    </tr>\n",
              "    <tr>\n",
              "      <th>50%</th>\n",
              "      <td>6.000000</td>\n",
              "      <td>1260.000000</td>\n",
              "    </tr>\n",
              "    <tr>\n",
              "      <th>75%</th>\n",
              "      <td>10.700000</td>\n",
              "      <td>1379.000000</td>\n",
              "    </tr>\n",
              "    <tr>\n",
              "      <th>max</th>\n",
              "      <td>38.000000</td>\n",
              "      <td>1499.000000</td>\n",
              "    </tr>\n",
              "  </tbody>\n",
              "</table>\n",
              "</div>"
            ],
            "text/plain": [
              "            duration        user_id\n",
              "count  202607.000000  202607.000000\n",
              "mean        6.755887    1253.940619\n",
              "std         5.843365     144.722751\n",
              "min         0.000000    1000.000000\n",
              "25%         1.300000    1126.000000\n",
              "50%         6.000000    1260.000000\n",
              "75%        10.700000    1379.000000\n",
              "max        38.000000    1499.000000"
            ]
          },
          "metadata": {
            "tags": []
          }
        },
        {
          "output_type": "display_data",
          "data": {
            "text/html": [
              "<div>\n",
              "<style scoped>\n",
              "    .dataframe tbody tr th:only-of-type {\n",
              "        vertical-align: middle;\n",
              "    }\n",
              "\n",
              "    .dataframe tbody tr th {\n",
              "        vertical-align: top;\n",
              "    }\n",
              "\n",
              "    .dataframe thead th {\n",
              "        text-align: right;\n",
              "    }\n",
              "</style>\n",
              "<table border=\"1\" class=\"dataframe\">\n",
              "  <thead>\n",
              "    <tr style=\"text-align: right;\">\n",
              "      <th></th>\n",
              "      <th>id</th>\n",
              "      <th>message_date</th>\n",
              "      <th>user_id</th>\n",
              "    </tr>\n",
              "  </thead>\n",
              "  <tbody>\n",
              "    <tr>\n",
              "      <th>0</th>\n",
              "      <td>1000_0</td>\n",
              "      <td>2018-06-27</td>\n",
              "      <td>1000</td>\n",
              "    </tr>\n",
              "    <tr>\n",
              "      <th>1</th>\n",
              "      <td>1000_1</td>\n",
              "      <td>2018-10-08</td>\n",
              "      <td>1000</td>\n",
              "    </tr>\n",
              "    <tr>\n",
              "      <th>2</th>\n",
              "      <td>1000_2</td>\n",
              "      <td>2018-08-04</td>\n",
              "      <td>1000</td>\n",
              "    </tr>\n",
              "    <tr>\n",
              "      <th>3</th>\n",
              "      <td>1000_3</td>\n",
              "      <td>2018-06-16</td>\n",
              "      <td>1000</td>\n",
              "    </tr>\n",
              "    <tr>\n",
              "      <th>4</th>\n",
              "      <td>1000_4</td>\n",
              "      <td>2018-12-05</td>\n",
              "      <td>1000</td>\n",
              "    </tr>\n",
              "  </tbody>\n",
              "</table>\n",
              "</div>"
            ],
            "text/plain": [
              "       id message_date  user_id\n",
              "0  1000_0   2018-06-27     1000\n",
              "1  1000_1   2018-10-08     1000\n",
              "2  1000_2   2018-08-04     1000\n",
              "3  1000_3   2018-06-16     1000\n",
              "4  1000_4   2018-12-05     1000"
            ]
          },
          "metadata": {
            "tags": []
          }
        },
        {
          "output_type": "stream",
          "text": [
            "<class 'pandas.core.frame.DataFrame'>\n",
            "RangeIndex: 123036 entries, 0 to 123035\n",
            "Data columns (total 3 columns):\n",
            " #   Column        Non-Null Count   Dtype \n",
            "---  ------        --------------   ----- \n",
            " 0   id            123036 non-null  object\n",
            " 1   message_date  123036 non-null  object\n",
            " 2   user_id       123036 non-null  int64 \n",
            "dtypes: int64(1), object(2)\n",
            "memory usage: 2.8+ MB\n"
          ],
          "name": "stdout"
        },
        {
          "output_type": "display_data",
          "data": {
            "text/plain": [
              "id              0\n",
              "message_date    0\n",
              "user_id         0\n",
              "dtype: int64"
            ]
          },
          "metadata": {
            "tags": []
          }
        },
        {
          "output_type": "display_data",
          "data": {
            "text/html": [
              "<div>\n",
              "<style scoped>\n",
              "    .dataframe tbody tr th:only-of-type {\n",
              "        vertical-align: middle;\n",
              "    }\n",
              "\n",
              "    .dataframe tbody tr th {\n",
              "        vertical-align: top;\n",
              "    }\n",
              "\n",
              "    .dataframe thead th {\n",
              "        text-align: right;\n",
              "    }\n",
              "</style>\n",
              "<table border=\"1\" class=\"dataframe\">\n",
              "  <thead>\n",
              "    <tr style=\"text-align: right;\">\n",
              "      <th></th>\n",
              "      <th>user_id</th>\n",
              "    </tr>\n",
              "  </thead>\n",
              "  <tbody>\n",
              "    <tr>\n",
              "      <th>count</th>\n",
              "      <td>123036.000000</td>\n",
              "    </tr>\n",
              "    <tr>\n",
              "      <th>mean</th>\n",
              "      <td>1256.989410</td>\n",
              "    </tr>\n",
              "    <tr>\n",
              "      <th>std</th>\n",
              "      <td>143.523967</td>\n",
              "    </tr>\n",
              "    <tr>\n",
              "      <th>min</th>\n",
              "      <td>1000.000000</td>\n",
              "    </tr>\n",
              "    <tr>\n",
              "      <th>25%</th>\n",
              "      <td>1134.000000</td>\n",
              "    </tr>\n",
              "    <tr>\n",
              "      <th>50%</th>\n",
              "      <td>1271.000000</td>\n",
              "    </tr>\n",
              "    <tr>\n",
              "      <th>75%</th>\n",
              "      <td>1381.000000</td>\n",
              "    </tr>\n",
              "    <tr>\n",
              "      <th>max</th>\n",
              "      <td>1499.000000</td>\n",
              "    </tr>\n",
              "  </tbody>\n",
              "</table>\n",
              "</div>"
            ],
            "text/plain": [
              "             user_id\n",
              "count  123036.000000\n",
              "mean     1256.989410\n",
              "std       143.523967\n",
              "min      1000.000000\n",
              "25%      1134.000000\n",
              "50%      1271.000000\n",
              "75%      1381.000000\n",
              "max      1499.000000"
            ]
          },
          "metadata": {
            "tags": []
          }
        },
        {
          "output_type": "display_data",
          "data": {
            "text/html": [
              "<div>\n",
              "<style scoped>\n",
              "    .dataframe tbody tr th:only-of-type {\n",
              "        vertical-align: middle;\n",
              "    }\n",
              "\n",
              "    .dataframe tbody tr th {\n",
              "        vertical-align: top;\n",
              "    }\n",
              "\n",
              "    .dataframe thead th {\n",
              "        text-align: right;\n",
              "    }\n",
              "</style>\n",
              "<table border=\"1\" class=\"dataframe\">\n",
              "  <thead>\n",
              "    <tr style=\"text-align: right;\">\n",
              "      <th></th>\n",
              "      <th>Unnamed: 0</th>\n",
              "      <th>id</th>\n",
              "      <th>mb_used</th>\n",
              "      <th>session_date</th>\n",
              "      <th>user_id</th>\n",
              "    </tr>\n",
              "  </thead>\n",
              "  <tbody>\n",
              "    <tr>\n",
              "      <th>0</th>\n",
              "      <td>0</td>\n",
              "      <td>1000_0</td>\n",
              "      <td>112.95</td>\n",
              "      <td>2018-11-25</td>\n",
              "      <td>1000</td>\n",
              "    </tr>\n",
              "    <tr>\n",
              "      <th>1</th>\n",
              "      <td>1</td>\n",
              "      <td>1000_1</td>\n",
              "      <td>1052.81</td>\n",
              "      <td>2018-09-07</td>\n",
              "      <td>1000</td>\n",
              "    </tr>\n",
              "    <tr>\n",
              "      <th>2</th>\n",
              "      <td>2</td>\n",
              "      <td>1000_2</td>\n",
              "      <td>1197.26</td>\n",
              "      <td>2018-06-25</td>\n",
              "      <td>1000</td>\n",
              "    </tr>\n",
              "    <tr>\n",
              "      <th>3</th>\n",
              "      <td>3</td>\n",
              "      <td>1000_3</td>\n",
              "      <td>550.27</td>\n",
              "      <td>2018-08-22</td>\n",
              "      <td>1000</td>\n",
              "    </tr>\n",
              "    <tr>\n",
              "      <th>4</th>\n",
              "      <td>4</td>\n",
              "      <td>1000_4</td>\n",
              "      <td>302.56</td>\n",
              "      <td>2018-09-24</td>\n",
              "      <td>1000</td>\n",
              "    </tr>\n",
              "  </tbody>\n",
              "</table>\n",
              "</div>"
            ],
            "text/plain": [
              "   Unnamed: 0      id  mb_used session_date  user_id\n",
              "0           0  1000_0   112.95   2018-11-25     1000\n",
              "1           1  1000_1  1052.81   2018-09-07     1000\n",
              "2           2  1000_2  1197.26   2018-06-25     1000\n",
              "3           3  1000_3   550.27   2018-08-22     1000\n",
              "4           4  1000_4   302.56   2018-09-24     1000"
            ]
          },
          "metadata": {
            "tags": []
          }
        },
        {
          "output_type": "stream",
          "text": [
            "<class 'pandas.core.frame.DataFrame'>\n",
            "RangeIndex: 149396 entries, 0 to 149395\n",
            "Data columns (total 5 columns):\n",
            " #   Column        Non-Null Count   Dtype  \n",
            "---  ------        --------------   -----  \n",
            " 0   Unnamed: 0    149396 non-null  int64  \n",
            " 1   id            149396 non-null  object \n",
            " 2   mb_used       149396 non-null  float64\n",
            " 3   session_date  149396 non-null  object \n",
            " 4   user_id       149396 non-null  int64  \n",
            "dtypes: float64(1), int64(2), object(2)\n",
            "memory usage: 5.7+ MB\n"
          ],
          "name": "stdout"
        },
        {
          "output_type": "display_data",
          "data": {
            "text/plain": [
              "Unnamed: 0      0\n",
              "id              0\n",
              "mb_used         0\n",
              "session_date    0\n",
              "user_id         0\n",
              "dtype: int64"
            ]
          },
          "metadata": {
            "tags": []
          }
        },
        {
          "output_type": "display_data",
          "data": {
            "text/html": [
              "<div>\n",
              "<style scoped>\n",
              "    .dataframe tbody tr th:only-of-type {\n",
              "        vertical-align: middle;\n",
              "    }\n",
              "\n",
              "    .dataframe tbody tr th {\n",
              "        vertical-align: top;\n",
              "    }\n",
              "\n",
              "    .dataframe thead th {\n",
              "        text-align: right;\n",
              "    }\n",
              "</style>\n",
              "<table border=\"1\" class=\"dataframe\">\n",
              "  <thead>\n",
              "    <tr style=\"text-align: right;\">\n",
              "      <th></th>\n",
              "      <th>Unnamed: 0</th>\n",
              "      <th>mb_used</th>\n",
              "      <th>user_id</th>\n",
              "    </tr>\n",
              "  </thead>\n",
              "  <tbody>\n",
              "    <tr>\n",
              "      <th>count</th>\n",
              "      <td>149396.000000</td>\n",
              "      <td>149396.000000</td>\n",
              "      <td>149396.000000</td>\n",
              "    </tr>\n",
              "    <tr>\n",
              "      <th>mean</th>\n",
              "      <td>74697.500000</td>\n",
              "      <td>370.192426</td>\n",
              "      <td>1252.099842</td>\n",
              "    </tr>\n",
              "    <tr>\n",
              "      <th>std</th>\n",
              "      <td>43127.054745</td>\n",
              "      <td>278.300951</td>\n",
              "      <td>144.050823</td>\n",
              "    </tr>\n",
              "    <tr>\n",
              "      <th>min</th>\n",
              "      <td>0.000000</td>\n",
              "      <td>0.000000</td>\n",
              "      <td>1000.000000</td>\n",
              "    </tr>\n",
              "    <tr>\n",
              "      <th>25%</th>\n",
              "      <td>37348.750000</td>\n",
              "      <td>138.187500</td>\n",
              "      <td>1130.000000</td>\n",
              "    </tr>\n",
              "    <tr>\n",
              "      <th>50%</th>\n",
              "      <td>74697.500000</td>\n",
              "      <td>348.015000</td>\n",
              "      <td>1251.000000</td>\n",
              "    </tr>\n",
              "    <tr>\n",
              "      <th>75%</th>\n",
              "      <td>112046.250000</td>\n",
              "      <td>559.552500</td>\n",
              "      <td>1380.000000</td>\n",
              "    </tr>\n",
              "    <tr>\n",
              "      <th>max</th>\n",
              "      <td>149395.000000</td>\n",
              "      <td>1724.830000</td>\n",
              "      <td>1499.000000</td>\n",
              "    </tr>\n",
              "  </tbody>\n",
              "</table>\n",
              "</div>"
            ],
            "text/plain": [
              "          Unnamed: 0        mb_used        user_id\n",
              "count  149396.000000  149396.000000  149396.000000\n",
              "mean    74697.500000     370.192426    1252.099842\n",
              "std     43127.054745     278.300951     144.050823\n",
              "min         0.000000       0.000000    1000.000000\n",
              "25%     37348.750000     138.187500    1130.000000\n",
              "50%     74697.500000     348.015000    1251.000000\n",
              "75%    112046.250000     559.552500    1380.000000\n",
              "max    149395.000000    1724.830000    1499.000000"
            ]
          },
          "metadata": {
            "tags": []
          }
        },
        {
          "output_type": "display_data",
          "data": {
            "text/html": [
              "<div>\n",
              "<style scoped>\n",
              "    .dataframe tbody tr th:only-of-type {\n",
              "        vertical-align: middle;\n",
              "    }\n",
              "\n",
              "    .dataframe tbody tr th {\n",
              "        vertical-align: top;\n",
              "    }\n",
              "\n",
              "    .dataframe thead th {\n",
              "        text-align: right;\n",
              "    }\n",
              "</style>\n",
              "<table border=\"1\" class=\"dataframe\">\n",
              "  <thead>\n",
              "    <tr style=\"text-align: right;\">\n",
              "      <th></th>\n",
              "      <th>messages_included</th>\n",
              "      <th>mb_per_month_included</th>\n",
              "      <th>minutes_included</th>\n",
              "      <th>rub_monthly_fee</th>\n",
              "      <th>rub_per_gb</th>\n",
              "      <th>rub_per_message</th>\n",
              "      <th>rub_per_minute</th>\n",
              "      <th>tariff_name</th>\n",
              "    </tr>\n",
              "  </thead>\n",
              "  <tbody>\n",
              "    <tr>\n",
              "      <th>0</th>\n",
              "      <td>50</td>\n",
              "      <td>15360</td>\n",
              "      <td>500</td>\n",
              "      <td>550</td>\n",
              "      <td>200</td>\n",
              "      <td>3</td>\n",
              "      <td>3</td>\n",
              "      <td>smart</td>\n",
              "    </tr>\n",
              "    <tr>\n",
              "      <th>1</th>\n",
              "      <td>1000</td>\n",
              "      <td>30720</td>\n",
              "      <td>3000</td>\n",
              "      <td>1950</td>\n",
              "      <td>150</td>\n",
              "      <td>1</td>\n",
              "      <td>1</td>\n",
              "      <td>ultra</td>\n",
              "    </tr>\n",
              "  </tbody>\n",
              "</table>\n",
              "</div>"
            ],
            "text/plain": [
              "   messages_included  mb_per_month_included  ...  rub_per_minute  tariff_name\n",
              "0                 50                  15360  ...               3        smart\n",
              "1               1000                  30720  ...               1        ultra\n",
              "\n",
              "[2 rows x 8 columns]"
            ]
          },
          "metadata": {
            "tags": []
          }
        },
        {
          "output_type": "stream",
          "text": [
            "<class 'pandas.core.frame.DataFrame'>\n",
            "RangeIndex: 2 entries, 0 to 1\n",
            "Data columns (total 8 columns):\n",
            " #   Column                 Non-Null Count  Dtype \n",
            "---  ------                 --------------  ----- \n",
            " 0   messages_included      2 non-null      int64 \n",
            " 1   mb_per_month_included  2 non-null      int64 \n",
            " 2   minutes_included       2 non-null      int64 \n",
            " 3   rub_monthly_fee        2 non-null      int64 \n",
            " 4   rub_per_gb             2 non-null      int64 \n",
            " 5   rub_per_message        2 non-null      int64 \n",
            " 6   rub_per_minute         2 non-null      int64 \n",
            " 7   tariff_name            2 non-null      object\n",
            "dtypes: int64(7), object(1)\n",
            "memory usage: 256.0+ bytes\n"
          ],
          "name": "stdout"
        },
        {
          "output_type": "display_data",
          "data": {
            "text/plain": [
              "messages_included        0\n",
              "mb_per_month_included    0\n",
              "minutes_included         0\n",
              "rub_monthly_fee          0\n",
              "rub_per_gb               0\n",
              "rub_per_message          0\n",
              "rub_per_minute           0\n",
              "tariff_name              0\n",
              "dtype: int64"
            ]
          },
          "metadata": {
            "tags": []
          }
        },
        {
          "output_type": "display_data",
          "data": {
            "text/html": [
              "<div>\n",
              "<style scoped>\n",
              "    .dataframe tbody tr th:only-of-type {\n",
              "        vertical-align: middle;\n",
              "    }\n",
              "\n",
              "    .dataframe tbody tr th {\n",
              "        vertical-align: top;\n",
              "    }\n",
              "\n",
              "    .dataframe thead th {\n",
              "        text-align: right;\n",
              "    }\n",
              "</style>\n",
              "<table border=\"1\" class=\"dataframe\">\n",
              "  <thead>\n",
              "    <tr style=\"text-align: right;\">\n",
              "      <th></th>\n",
              "      <th>messages_included</th>\n",
              "      <th>mb_per_month_included</th>\n",
              "      <th>minutes_included</th>\n",
              "      <th>rub_monthly_fee</th>\n",
              "      <th>rub_per_gb</th>\n",
              "      <th>rub_per_message</th>\n",
              "      <th>rub_per_minute</th>\n",
              "    </tr>\n",
              "  </thead>\n",
              "  <tbody>\n",
              "    <tr>\n",
              "      <th>count</th>\n",
              "      <td>2.000000</td>\n",
              "      <td>2.000000</td>\n",
              "      <td>2.000000</td>\n",
              "      <td>2.000000</td>\n",
              "      <td>2.000000</td>\n",
              "      <td>2.000000</td>\n",
              "      <td>2.000000</td>\n",
              "    </tr>\n",
              "    <tr>\n",
              "      <th>mean</th>\n",
              "      <td>525.000000</td>\n",
              "      <td>23040.000000</td>\n",
              "      <td>1750.000000</td>\n",
              "      <td>1250.000000</td>\n",
              "      <td>175.000000</td>\n",
              "      <td>2.000000</td>\n",
              "      <td>2.000000</td>\n",
              "    </tr>\n",
              "    <tr>\n",
              "      <th>std</th>\n",
              "      <td>671.751442</td>\n",
              "      <td>10861.160159</td>\n",
              "      <td>1767.766953</td>\n",
              "      <td>989.949494</td>\n",
              "      <td>35.355339</td>\n",
              "      <td>1.414214</td>\n",
              "      <td>1.414214</td>\n",
              "    </tr>\n",
              "    <tr>\n",
              "      <th>min</th>\n",
              "      <td>50.000000</td>\n",
              "      <td>15360.000000</td>\n",
              "      <td>500.000000</td>\n",
              "      <td>550.000000</td>\n",
              "      <td>150.000000</td>\n",
              "      <td>1.000000</td>\n",
              "      <td>1.000000</td>\n",
              "    </tr>\n",
              "    <tr>\n",
              "      <th>25%</th>\n",
              "      <td>287.500000</td>\n",
              "      <td>19200.000000</td>\n",
              "      <td>1125.000000</td>\n",
              "      <td>900.000000</td>\n",
              "      <td>162.500000</td>\n",
              "      <td>1.500000</td>\n",
              "      <td>1.500000</td>\n",
              "    </tr>\n",
              "    <tr>\n",
              "      <th>50%</th>\n",
              "      <td>525.000000</td>\n",
              "      <td>23040.000000</td>\n",
              "      <td>1750.000000</td>\n",
              "      <td>1250.000000</td>\n",
              "      <td>175.000000</td>\n",
              "      <td>2.000000</td>\n",
              "      <td>2.000000</td>\n",
              "    </tr>\n",
              "    <tr>\n",
              "      <th>75%</th>\n",
              "      <td>762.500000</td>\n",
              "      <td>26880.000000</td>\n",
              "      <td>2375.000000</td>\n",
              "      <td>1600.000000</td>\n",
              "      <td>187.500000</td>\n",
              "      <td>2.500000</td>\n",
              "      <td>2.500000</td>\n",
              "    </tr>\n",
              "    <tr>\n",
              "      <th>max</th>\n",
              "      <td>1000.000000</td>\n",
              "      <td>30720.000000</td>\n",
              "      <td>3000.000000</td>\n",
              "      <td>1950.000000</td>\n",
              "      <td>200.000000</td>\n",
              "      <td>3.000000</td>\n",
              "      <td>3.000000</td>\n",
              "    </tr>\n",
              "  </tbody>\n",
              "</table>\n",
              "</div>"
            ],
            "text/plain": [
              "       messages_included  ...  rub_per_minute\n",
              "count           2.000000  ...        2.000000\n",
              "mean          525.000000  ...        2.000000\n",
              "std           671.751442  ...        1.414214\n",
              "min            50.000000  ...        1.000000\n",
              "25%           287.500000  ...        1.500000\n",
              "50%           525.000000  ...        2.000000\n",
              "75%           762.500000  ...        2.500000\n",
              "max          1000.000000  ...        3.000000\n",
              "\n",
              "[8 rows x 7 columns]"
            ]
          },
          "metadata": {
            "tags": []
          }
        }
      ]
    },
    {
      "cell_type": "markdown",
      "metadata": {
        "collapsed": false,
        "id": "wL_-xJF0fY4N"
      },
      "source": [
        "Пропуски в таблице usrs в колонке churn_date обусловлены объективными причинами - пользователь все еще пользуется этим же тарифом.\n",
        "В таблице cls имеются нулевые значения в колонке duration.\n",
        "В таблице itnt имеется странная колонка Unnamed: 0, имеются нулевые значения в колонке mb_used.\n",
        "Во всех таблицах содержащих дату необходимо поменять тип данных на соответствующий."
      ]
    },
    {
      "cell_type": "markdown",
      "metadata": {
        "collapsed": false,
        "id": "COsIFF8-fY4N"
      },
      "source": [
        "##Шаг 2. Подготовим данные\n",
        "\n",
        "---\n",
        "\n"
      ]
    },
    {
      "cell_type": "markdown",
      "metadata": {
        "collapsed": false,
        "id": "2ceV7OvrfY4O"
      },
      "source": [
        "###Приведем данные к нужным типам"
      ]
    },
    {
      "cell_type": "markdown",
      "metadata": {
        "collapsed": false,
        "id": "KQ-pkwVMfY4P"
      },
      "source": [
        "Найдем все таблицы содержащих дату и поменяем тип данных на соответствующий."
      ]
    },
    {
      "cell_type": "code",
      "metadata": {
        "pycharm": {
          "name": "#%%\n"
        },
        "id": "Cl8k7KO8fY4Q"
      },
      "source": [
        "for df in df_list:\n",
        "    date_cols = [col for col in df.columns if 'date' in col]\n",
        "    for col in date_cols:\n",
        "        df[col] = pd.to_datetime(df[col])"
      ],
      "execution_count": null,
      "outputs": []
    },
    {
      "cell_type": "markdown",
      "metadata": {
        "collapsed": false,
        "id": "5bDx1EAHfY4T"
      },
      "source": [
        "###Найдем и исправим ошибки в данных"
      ]
    },
    {
      "cell_type": "markdown",
      "metadata": {
        "collapsed": false,
        "id": "tAKn9UdAfY4T"
      },
      "source": [
        "Удалим из таблицы itnt странную колонку Unnamed: 0 - по ней отсутствуют данные в описании проекта."
      ]
    },
    {
      "cell_type": "code",
      "metadata": {
        "pycharm": {
          "name": "#%%\n"
        },
        "id": "neyu-yQ7fY4U",
        "colab": {
          "base_uri": "https://localhost:8080/"
        },
        "outputId": "6f6a1e8a-0898-4544-e52b-805779ae4d42"
      },
      "source": [
        "itnt = itnt.drop('Unnamed: 0',axis=1)\n",
        "itnt.dtypes"
      ],
      "execution_count": null,
      "outputs": [
        {
          "output_type": "execute_result",
          "data": {
            "text/plain": [
              "id                      object\n",
              "mb_used                float64\n",
              "session_date    datetime64[ns]\n",
              "user_id                  int64\n",
              "dtype: object"
            ]
          },
          "metadata": {
            "tags": []
          },
          "execution_count": 51
        }
      ]
    },
    {
      "cell_type": "markdown",
      "metadata": {
        "collapsed": false,
        "id": "nT-Qfc-PfY4W"
      },
      "source": [
        "###Обработаем нулевые значения в данных"
      ]
    },
    {
      "cell_type": "markdown",
      "metadata": {
        "collapsed": false,
        "id": "xx59dsSCfY4X"
      },
      "source": [
        "Удали в таблице cls и itnt нулевые значения в колонках duration и mb_used соответственно, т.к. нулевые значения никакой роли на финансовый результат не окажут."
      ]
    },
    {
      "cell_type": "code",
      "metadata": {
        "pycharm": {
          "name": "#%%\n"
        },
        "id": "o4Q_cIKDfY4X"
      },
      "source": [
        "cls.drop(cls[cls['duration']==0].index, inplace=True)\n",
        "itnt.drop(itnt[itnt['mb_used']==0].index, inplace=True)"
      ],
      "execution_count": null,
      "outputs": []
    },
    {
      "cell_type": "markdown",
      "metadata": {
        "collapsed": false,
        "id": "3lANoNSKfY4a"
      },
      "source": [
        "###Посчитаем для каждого пользователя:"
      ]
    },
    {
      "cell_type": "markdown",
      "metadata": {
        "collapsed": false,
        "id": "plBpECZdfY4a"
      },
      "source": [
        "####Количество сделанных звонков и израсходованных минут разговора по месяцам"
      ]
    },
    {
      "cell_type": "code",
      "metadata": {
        "pycharm": {
          "name": "#%%\n"
        },
        "id": "WCneDHFLfY4a",
        "colab": {
          "base_uri": "https://localhost:8080/"
        },
        "outputId": "f6f893bb-9a09-4445-8b5b-642b233380c8"
      },
      "source": [
        "cls.columns"
      ],
      "execution_count": null,
      "outputs": [
        {
          "output_type": "execute_result",
          "data": {
            "text/plain": [
              "Index(['id', 'call_date', 'duration', 'user_id'], dtype='object')"
            ]
          },
          "metadata": {
            "tags": []
          },
          "execution_count": 53
        }
      ]
    },
    {
      "cell_type": "code",
      "metadata": {
        "pycharm": {
          "name": "#%%\n"
        },
        "id": "ZRcm8fWAfY4d",
        "colab": {
          "base_uri": "https://localhost:8080/",
          "height": 50
        },
        "outputId": "414cc817-6222-4d17-d843-a6c77e4b3fed"
      },
      "source": [
        "display(cls['call_date'].min())\n",
        "display(cls['call_date'].max())"
      ],
      "execution_count": null,
      "outputs": [
        {
          "output_type": "display_data",
          "data": {
            "text/plain": [
              "Timestamp('2018-01-01 00:00:00')"
            ]
          },
          "metadata": {
            "tags": []
          }
        },
        {
          "output_type": "display_data",
          "data": {
            "text/plain": [
              "Timestamp('2018-12-31 00:00:00')"
            ]
          },
          "metadata": {
            "tags": []
          }
        }
      ]
    },
    {
      "cell_type": "code",
      "metadata": {
        "pycharm": {
          "name": "#%%\n"
        },
        "id": "hqajrYL6fY4f",
        "colab": {
          "base_uri": "https://localhost:8080/"
        },
        "outputId": "07bbc40c-0e95-4ba9-f2f8-8d2951ce34e7"
      },
      "source": [
        "cls['month']=pd.DatetimeIndex(cls['call_date']).month\n",
        "print(cls[cls['user_id'].isin([1257])])"
      ],
      "execution_count": null,
      "outputs": [
        {
          "output_type": "stream",
          "text": [
            "             id  call_date  duration  user_id  month\n",
            "100605   1257_2 2018-10-02     14.16     1257     10\n",
            "100606   1257_3 2018-06-26     18.49     1257      6\n",
            "100607   1257_4 2018-12-19      0.91     1257     12\n",
            "100609   1257_6 2018-10-19      0.90     1257     10\n",
            "100610   1257_7 2018-06-27     15.98     1257      6\n",
            "100615  1257_12 2018-12-22      7.03     1257     12\n",
            "100616  1257_13 2018-11-07      5.42     1257     11\n"
          ],
          "name": "stdout"
        }
      ]
    },
    {
      "cell_type": "code",
      "metadata": {
        "pycharm": {
          "name": "#%%\n"
        },
        "id": "9rr_CltnfY4h",
        "colab": {
          "base_uri": "https://localhost:8080/",
          "height": 491
        },
        "outputId": "b7487237-e987-45ed-b7c8-426aa224fa4e"
      },
      "source": [
        "cls['duration']=cls['duration'].apply(math.ceil)\n",
        "cls.sample(15)"
      ],
      "execution_count": null,
      "outputs": [
        {
          "output_type": "execute_result",
          "data": {
            "text/html": [
              "<div>\n",
              "<style scoped>\n",
              "    .dataframe tbody tr th:only-of-type {\n",
              "        vertical-align: middle;\n",
              "    }\n",
              "\n",
              "    .dataframe tbody tr th {\n",
              "        vertical-align: top;\n",
              "    }\n",
              "\n",
              "    .dataframe thead th {\n",
              "        text-align: right;\n",
              "    }\n",
              "</style>\n",
              "<table border=\"1\" class=\"dataframe\">\n",
              "  <thead>\n",
              "    <tr style=\"text-align: right;\">\n",
              "      <th></th>\n",
              "      <th>id</th>\n",
              "      <th>call_date</th>\n",
              "      <th>duration</th>\n",
              "      <th>user_id</th>\n",
              "      <th>month</th>\n",
              "    </tr>\n",
              "  </thead>\n",
              "  <tbody>\n",
              "    <tr>\n",
              "      <th>60703</th>\n",
              "      <td>1152_400</td>\n",
              "      <td>2018-09-30</td>\n",
              "      <td>7</td>\n",
              "      <td>1152</td>\n",
              "      <td>9</td>\n",
              "    </tr>\n",
              "    <tr>\n",
              "      <th>185513</th>\n",
              "      <td>1458_805</td>\n",
              "      <td>2018-04-02</td>\n",
              "      <td>1</td>\n",
              "      <td>1458</td>\n",
              "      <td>4</td>\n",
              "    </tr>\n",
              "    <tr>\n",
              "      <th>73534</th>\n",
              "      <td>1185_328</td>\n",
              "      <td>2018-05-11</td>\n",
              "      <td>7</td>\n",
              "      <td>1185</td>\n",
              "      <td>5</td>\n",
              "    </tr>\n",
              "    <tr>\n",
              "      <th>42991</th>\n",
              "      <td>1108_48</td>\n",
              "      <td>2018-12-13</td>\n",
              "      <td>11</td>\n",
              "      <td>1108</td>\n",
              "      <td>12</td>\n",
              "    </tr>\n",
              "    <tr>\n",
              "      <th>44820</th>\n",
              "      <td>1113_236</td>\n",
              "      <td>2018-10-16</td>\n",
              "      <td>10</td>\n",
              "      <td>1113</td>\n",
              "      <td>10</td>\n",
              "    </tr>\n",
              "    <tr>\n",
              "      <th>136706</th>\n",
              "      <td>1348_182</td>\n",
              "      <td>2018-12-05</td>\n",
              "      <td>14</td>\n",
              "      <td>1348</td>\n",
              "      <td>12</td>\n",
              "    </tr>\n",
              "    <tr>\n",
              "      <th>60909</th>\n",
              "      <td>1153_155</td>\n",
              "      <td>2018-12-28</td>\n",
              "      <td>1</td>\n",
              "      <td>1153</td>\n",
              "      <td>12</td>\n",
              "    </tr>\n",
              "    <tr>\n",
              "      <th>126209</th>\n",
              "      <td>1324_342</td>\n",
              "      <td>2018-10-15</td>\n",
              "      <td>11</td>\n",
              "      <td>1324</td>\n",
              "      <td>10</td>\n",
              "    </tr>\n",
              "    <tr>\n",
              "      <th>63784</th>\n",
              "      <td>1163_24</td>\n",
              "      <td>2018-11-15</td>\n",
              "      <td>6</td>\n",
              "      <td>1163</td>\n",
              "      <td>11</td>\n",
              "    </tr>\n",
              "    <tr>\n",
              "      <th>115777</th>\n",
              "      <td>1298_277</td>\n",
              "      <td>2018-08-31</td>\n",
              "      <td>2</td>\n",
              "      <td>1298</td>\n",
              "      <td>8</td>\n",
              "    </tr>\n",
              "    <tr>\n",
              "      <th>166357</th>\n",
              "      <td>1409_982</td>\n",
              "      <td>2018-05-15</td>\n",
              "      <td>8</td>\n",
              "      <td>1409</td>\n",
              "      <td>5</td>\n",
              "    </tr>\n",
              "    <tr>\n",
              "      <th>95815</th>\n",
              "      <td>1244_70</td>\n",
              "      <td>2018-08-07</td>\n",
              "      <td>6</td>\n",
              "      <td>1244</td>\n",
              "      <td>8</td>\n",
              "    </tr>\n",
              "    <tr>\n",
              "      <th>85204</th>\n",
              "      <td>1213_250</td>\n",
              "      <td>2018-09-12</td>\n",
              "      <td>10</td>\n",
              "      <td>1213</td>\n",
              "      <td>9</td>\n",
              "    </tr>\n",
              "    <tr>\n",
              "      <th>36674</th>\n",
              "      <td>1092_330</td>\n",
              "      <td>2018-09-24</td>\n",
              "      <td>12</td>\n",
              "      <td>1092</td>\n",
              "      <td>9</td>\n",
              "    </tr>\n",
              "    <tr>\n",
              "      <th>76475</th>\n",
              "      <td>1191_93</td>\n",
              "      <td>2018-09-20</td>\n",
              "      <td>13</td>\n",
              "      <td>1191</td>\n",
              "      <td>9</td>\n",
              "    </tr>\n",
              "  </tbody>\n",
              "</table>\n",
              "</div>"
            ],
            "text/plain": [
              "              id  call_date  duration  user_id  month\n",
              "60703   1152_400 2018-09-30         7     1152      9\n",
              "185513  1458_805 2018-04-02         1     1458      4\n",
              "73534   1185_328 2018-05-11         7     1185      5\n",
              "42991    1108_48 2018-12-13        11     1108     12\n",
              "44820   1113_236 2018-10-16        10     1113     10\n",
              "136706  1348_182 2018-12-05        14     1348     12\n",
              "60909   1153_155 2018-12-28         1     1153     12\n",
              "126209  1324_342 2018-10-15        11     1324     10\n",
              "63784    1163_24 2018-11-15         6     1163     11\n",
              "115777  1298_277 2018-08-31         2     1298      8\n",
              "166357  1409_982 2018-05-15         8     1409      5\n",
              "95815    1244_70 2018-08-07         6     1244      8\n",
              "85204   1213_250 2018-09-12        10     1213      9\n",
              "36674   1092_330 2018-09-24        12     1092      9\n",
              "76475    1191_93 2018-09-20        13     1191      9"
            ]
          },
          "metadata": {
            "tags": []
          },
          "execution_count": 56
        }
      ]
    },
    {
      "cell_type": "code",
      "metadata": {
        "pycharm": {
          "name": "#%%\n"
        },
        "id": "G_N22vkAfY4l",
        "colab": {
          "base_uri": "https://localhost:8080/"
        },
        "outputId": "2d5209fa-1717-432d-a7e7-d7529d71294f"
      },
      "source": [
        "cls_month_minutes = cls.pivot_table(index=['user_id', 'month'], values='duration',aggfunc='sum').reset_index()\n",
        "print(cls_month_minutes[cls_month_minutes['user_id'].isin([1257])])"
      ],
      "execution_count": null,
      "outputs": [
        {
          "output_type": "stream",
          "text": [
            "      user_id  month  duration\n",
            "1603     1257      6        35\n",
            "1604     1257     10        16\n",
            "1605     1257     11         6\n",
            "1606     1257     12         9\n"
          ],
          "name": "stdout"
        }
      ]
    },
    {
      "cell_type": "code",
      "metadata": {
        "pycharm": {
          "name": "#%%\n"
        },
        "id": "gTFyajpRfY4n",
        "colab": {
          "base_uri": "https://localhost:8080/"
        },
        "outputId": "4fe48737-4a83-47c0-fb04-5a7e53e751db"
      },
      "source": [
        "def check_calc(data1, data2):\n",
        "  data1=data1.round()\n",
        "  data2=data2.round()\n",
        "  if data1==data2:\n",
        "    return print('Проверка расчетов пройдена успешно')\n",
        "  else:\n",
        "    print('Имеются расхождения')\n",
        "\n",
        "check_calc(cls['duration'].sum(),cls_month_minutes['duration'].sum())"
      ],
      "execution_count": null,
      "outputs": [
        {
          "output_type": "stream",
          "text": [
            "Проверка расчетов пройдена успешно\n"
          ],
          "name": "stdout"
        }
      ]
    },
    {
      "cell_type": "code",
      "metadata": {
        "pycharm": {
          "name": "#%%\n"
        },
        "id": "ovYZmpbQfY4p",
        "colab": {
          "base_uri": "https://localhost:8080/"
        },
        "outputId": "675bdd81-b006-4066-fd0e-2964259ee6dd"
      },
      "source": [
        "cls_month_num = cls.groupby(['user_id','month'])[['id']].agg(['count']).reset_index()\n",
        "cls_month_num.columns = ['user_id','month','calls_num']\n",
        "print(cls_month_num[cls_month_num['user_id'].isin([1257])])"
      ],
      "execution_count": null,
      "outputs": [
        {
          "output_type": "stream",
          "text": [
            "      user_id  month  calls_num\n",
            "1603     1257      6          2\n",
            "1604     1257     10          2\n",
            "1605     1257     11          1\n",
            "1606     1257     12          2\n"
          ],
          "name": "stdout"
        }
      ]
    },
    {
      "cell_type": "code",
      "metadata": {
        "pycharm": {
          "name": "#%%\n"
        },
        "id": "UBSH-9THfY4r",
        "colab": {
          "base_uri": "https://localhost:8080/"
        },
        "outputId": "6931c22c-29cb-4643-e36e-24f94cdb8574"
      },
      "source": [
        "cls_month = cls_month_num.merge(cls_month_minutes,how='left',on=['user_id','month'])\n",
        "print(cls_month[cls_month['user_id'].isin([1257])])"
      ],
      "execution_count": null,
      "outputs": [
        {
          "output_type": "stream",
          "text": [
            "      user_id  month  calls_num  duration\n",
            "1603     1257      6          2        35\n",
            "1604     1257     10          2        16\n",
            "1605     1257     11          1         6\n",
            "1606     1257     12          2         9\n"
          ],
          "name": "stdout"
        }
      ]
    },
    {
      "cell_type": "markdown",
      "metadata": {
        "collapsed": false,
        "id": "v1uMBbALfY4u"
      },
      "source": [
        "####Количество отправленных сообщений по месяцам"
      ]
    },
    {
      "cell_type": "code",
      "metadata": {
        "pycharm": {
          "name": "#%%\n"
        },
        "id": "Lko_DndffY4u",
        "colab": {
          "base_uri": "https://localhost:8080/"
        },
        "outputId": "30593f0c-efca-4e7e-ed25-7c0fd796cc34"
      },
      "source": [
        "msg.columns"
      ],
      "execution_count": null,
      "outputs": [
        {
          "output_type": "execute_result",
          "data": {
            "text/plain": [
              "Index(['id', 'message_date', 'user_id'], dtype='object')"
            ]
          },
          "metadata": {
            "tags": []
          },
          "execution_count": 61
        }
      ]
    },
    {
      "cell_type": "code",
      "metadata": {
        "pycharm": {
          "name": "#%%\n"
        },
        "id": "o7bDkIdjfY4w",
        "colab": {
          "base_uri": "https://localhost:8080/"
        },
        "outputId": "e45f92dc-f890-4154-fba7-1c6f8e4ad1ff"
      },
      "source": [
        "msg['month']=pd.DatetimeIndex(msg['message_date']).month\n",
        "msg_month = msg.groupby(['user_id','month'])[['id']].agg(['count']).reset_index()\n",
        "msg_month.columns = ['user_id','month','msgs_num']\n",
        "print(msg_month[msg_month['user_id'].isin([1257])])"
      ],
      "execution_count": null,
      "outputs": [
        {
          "output_type": "stream",
          "text": [
            "      user_id  month  msgs_num\n",
            "1313     1257      6        62\n",
            "1314     1257      7       146\n",
            "1315     1257      8       157\n",
            "1316     1257      9       153\n",
            "1317     1257     10       131\n",
            "1318     1257     11       133\n",
            "1319     1257     12       135\n"
          ],
          "name": "stdout"
        }
      ]
    },
    {
      "cell_type": "code",
      "metadata": {
        "pycharm": {
          "name": "#%%\n"
        },
        "id": "wMGESvqofY4z",
        "colab": {
          "base_uri": "https://localhost:8080/"
        },
        "outputId": "cc0283d5-3925-4107-b899-ac84cf988625"
      },
      "source": [
        "check_calc(msg['id'].count(),msg_month['msgs_num'].sum())"
      ],
      "execution_count": null,
      "outputs": [
        {
          "output_type": "stream",
          "text": [
            "Проверка расчетов пройдена успешно\n"
          ],
          "name": "stdout"
        }
      ]
    },
    {
      "cell_type": "markdown",
      "metadata": {
        "collapsed": false,
        "id": "rGaYAbcifY41"
      },
      "source": [
        "####Объем израсходованного интернет-трафика по месяцам"
      ]
    },
    {
      "cell_type": "code",
      "metadata": {
        "pycharm": {
          "name": "#%%\n"
        },
        "id": "zFxTqjIZfY41",
        "colab": {
          "base_uri": "https://localhost:8080/"
        },
        "outputId": "9daa0354-0924-4aec-a055-dd79d1849b57"
      },
      "source": [
        "itnt.columns"
      ],
      "execution_count": null,
      "outputs": [
        {
          "output_type": "execute_result",
          "data": {
            "text/plain": [
              "Index(['id', 'mb_used', 'session_date', 'user_id'], dtype='object')"
            ]
          },
          "metadata": {
            "tags": []
          },
          "execution_count": 64
        }
      ]
    },
    {
      "cell_type": "code",
      "metadata": {
        "pycharm": {
          "name": "#%%\n"
        },
        "id": "QRM7rIFMfY43",
        "colab": {
          "base_uri": "https://localhost:8080/"
        },
        "outputId": "60bd921c-6cd4-429d-e3e7-70f4fd9e2bba"
      },
      "source": [
        "itnt['month']=pd.DatetimeIndex(itnt['session_date']).month\n",
        "itnt_month = itnt.pivot_table(index=['user_id', 'month'], values='mb_used',aggfunc='sum').reset_index()\n",
        "print(itnt_month[itnt_month['user_id'].isin([1257])])"
      ],
      "execution_count": null,
      "outputs": [
        {
          "output_type": "stream",
          "text": [
            "      user_id  month   mb_used\n",
            "1628     1257      6  11774.26\n",
            "1629     1257      7  20014.22\n",
            "1630     1257      8  25482.16\n",
            "1631     1257      9  22753.12\n",
            "1632     1257     10  20338.15\n",
            "1633     1257     11  26247.35\n",
            "1634     1257     12  27752.24\n"
          ],
          "name": "stdout"
        }
      ]
    },
    {
      "cell_type": "code",
      "metadata": {
        "pycharm": {
          "name": "#%%\n"
        },
        "id": "BUfIAfobfY45",
        "colab": {
          "base_uri": "https://localhost:8080/"
        },
        "outputId": "b3309533-2e3a-42ab-f2f3-e94219c72904"
      },
      "source": [
        "check_calc(itnt['mb_used'].sum(),itnt_month['mb_used'].sum())"
      ],
      "execution_count": null,
      "outputs": [
        {
          "output_type": "stream",
          "text": [
            "Проверка расчетов пройдена успешно\n"
          ],
          "name": "stdout"
        }
      ]
    },
    {
      "cell_type": "code",
      "metadata": {
        "pycharm": {
          "name": "#%%\n"
        },
        "id": "7c072DUtfY49",
        "colab": {
          "base_uri": "https://localhost:8080/"
        },
        "outputId": "c5579677-bd48-49ae-ec5d-98bd8cf723e0"
      },
      "source": [
        "itnt_month['gb_used']=(itnt_month['mb_used']/1024).apply(math.ceil)\n",
        "itnt_month = itnt_month.drop('mb_used',axis=1)\n",
        "print(itnt_month[itnt_month['user_id'].isin([1257])])"
      ],
      "execution_count": null,
      "outputs": [
        {
          "output_type": "stream",
          "text": [
            "      user_id  month  gb_used\n",
            "1628     1257      6       12\n",
            "1629     1257      7       20\n",
            "1630     1257      8       25\n",
            "1631     1257      9       23\n",
            "1632     1257     10       20\n",
            "1633     1257     11       26\n",
            "1634     1257     12       28\n"
          ],
          "name": "stdout"
        }
      ]
    },
    {
      "cell_type": "markdown",
      "metadata": {
        "collapsed": false,
        "id": "amAYuZbafY4_"
      },
      "source": [
        "####Помесячная выручка с каждого пользователя "
      ]
    },
    {
      "cell_type": "code",
      "metadata": {
        "pycharm": {
          "name": "#%%\n"
        },
        "id": "E79udA9vfY4_",
        "colab": {
          "base_uri": "https://localhost:8080/"
        },
        "outputId": "a88c7a40-8270-4670-e888-35163f5a8888"
      },
      "source": [
        "usrs.columns"
      ],
      "execution_count": null,
      "outputs": [
        {
          "output_type": "execute_result",
          "data": {
            "text/plain": [
              "Index(['user_id', 'age', 'churn_date', 'city', 'first_name', 'last_name',\n",
              "       'reg_date', 'tariff'],\n",
              "      dtype='object')"
            ]
          },
          "metadata": {
            "tags": []
          },
          "execution_count": 68
        }
      ]
    },
    {
      "cell_type": "markdown",
      "metadata": {
        "collapsed": false,
        "id": "4yKRyScufY5B"
      },
      "source": [
        "Вычтем бесплатный лимит из суммарного количества звонков, сообщений и интернет-трафика; остаток умножем на значение из тарифного плана; прибавим абонентскую плату, соответствующую тарифному плану.\n",
        "Для этого сначала создадим таблицу revenue, куда будем добавлять все необходимые нам данные."
      ]
    },
    {
      "cell_type": "code",
      "metadata": {
        "pycharm": {
          "name": "#%%\n"
        },
        "id": "e6SuS0TrfY5B",
        "colab": {
          "base_uri": "https://localhost:8080/",
          "height": 402
        },
        "outputId": "ffae659c-8fa4-438b-da76-7c0f6fdc03fc"
      },
      "source": [
        "revenue = usrs[['user_id', 'tariff']].copy()\n",
        "rate = []\n",
        "for tariff in revenue['tariff']:\n",
        "  if tariff=='smart':\n",
        "    rate.append(trf.loc[trf['tariff_name']=='smart', 'rub_monthly_fee'].values[0])\n",
        "  else:\n",
        "    rate.append(trf.loc[trf['tariff_name']=='ultra', 'rub_monthly_fee'].values[0])\n",
        "revenue['monthly_fee']=rate\n",
        "revenue"
      ],
      "execution_count": null,
      "outputs": [
        {
          "output_type": "execute_result",
          "data": {
            "text/html": [
              "<div>\n",
              "<style scoped>\n",
              "    .dataframe tbody tr th:only-of-type {\n",
              "        vertical-align: middle;\n",
              "    }\n",
              "\n",
              "    .dataframe tbody tr th {\n",
              "        vertical-align: top;\n",
              "    }\n",
              "\n",
              "    .dataframe thead th {\n",
              "        text-align: right;\n",
              "    }\n",
              "</style>\n",
              "<table border=\"1\" class=\"dataframe\">\n",
              "  <thead>\n",
              "    <tr style=\"text-align: right;\">\n",
              "      <th></th>\n",
              "      <th>user_id</th>\n",
              "      <th>tariff</th>\n",
              "      <th>monthly_fee</th>\n",
              "    </tr>\n",
              "  </thead>\n",
              "  <tbody>\n",
              "    <tr>\n",
              "      <th>0</th>\n",
              "      <td>1000</td>\n",
              "      <td>ultra</td>\n",
              "      <td>1950</td>\n",
              "    </tr>\n",
              "    <tr>\n",
              "      <th>1</th>\n",
              "      <td>1001</td>\n",
              "      <td>smart</td>\n",
              "      <td>550</td>\n",
              "    </tr>\n",
              "    <tr>\n",
              "      <th>2</th>\n",
              "      <td>1002</td>\n",
              "      <td>smart</td>\n",
              "      <td>550</td>\n",
              "    </tr>\n",
              "    <tr>\n",
              "      <th>3</th>\n",
              "      <td>1003</td>\n",
              "      <td>ultra</td>\n",
              "      <td>1950</td>\n",
              "    </tr>\n",
              "    <tr>\n",
              "      <th>4</th>\n",
              "      <td>1004</td>\n",
              "      <td>ultra</td>\n",
              "      <td>1950</td>\n",
              "    </tr>\n",
              "    <tr>\n",
              "      <th>...</th>\n",
              "      <td>...</td>\n",
              "      <td>...</td>\n",
              "      <td>...</td>\n",
              "    </tr>\n",
              "    <tr>\n",
              "      <th>495</th>\n",
              "      <td>1495</td>\n",
              "      <td>ultra</td>\n",
              "      <td>1950</td>\n",
              "    </tr>\n",
              "    <tr>\n",
              "      <th>496</th>\n",
              "      <td>1496</td>\n",
              "      <td>smart</td>\n",
              "      <td>550</td>\n",
              "    </tr>\n",
              "    <tr>\n",
              "      <th>497</th>\n",
              "      <td>1497</td>\n",
              "      <td>smart</td>\n",
              "      <td>550</td>\n",
              "    </tr>\n",
              "    <tr>\n",
              "      <th>498</th>\n",
              "      <td>1498</td>\n",
              "      <td>smart</td>\n",
              "      <td>550</td>\n",
              "    </tr>\n",
              "    <tr>\n",
              "      <th>499</th>\n",
              "      <td>1499</td>\n",
              "      <td>smart</td>\n",
              "      <td>550</td>\n",
              "    </tr>\n",
              "  </tbody>\n",
              "</table>\n",
              "<p>500 rows × 3 columns</p>\n",
              "</div>"
            ],
            "text/plain": [
              "     user_id tariff  monthly_fee\n",
              "0       1000  ultra         1950\n",
              "1       1001  smart          550\n",
              "2       1002  smart          550\n",
              "3       1003  ultra         1950\n",
              "4       1004  ultra         1950\n",
              "..       ...    ...          ...\n",
              "495     1495  ultra         1950\n",
              "496     1496  smart          550\n",
              "497     1497  smart          550\n",
              "498     1498  smart          550\n",
              "499     1499  smart          550\n",
              "\n",
              "[500 rows x 3 columns]"
            ]
          },
          "metadata": {
            "tags": []
          },
          "execution_count": 94
        }
      ]
    },
    {
      "cell_type": "markdown",
      "metadata": {
        "collapsed": false,
        "id": "yPZQ3NwmfY5E"
      },
      "source": [
        "Соберем все выделенные ранее данные по услугам вместе."
      ]
    },
    {
      "cell_type": "code",
      "metadata": {
        "pycharm": {
          "name": "#%%\n"
        },
        "id": "SxMGBiWkfY5F",
        "colab": {
          "base_uri": "https://localhost:8080/"
        },
        "outputId": "2f424014-0897-46ec-9bb7-d02463e9fe56"
      },
      "source": [
        "all_data = cls_month_minutes[['user_id', 'month', 'duration']]\n",
        "for df in [msg_month, itnt_month]:\n",
        "    all_data=all_data.merge(df, how='outer', on=['user_id', 'month'])\n",
        "print(all_data[all_data['user_id'].isin([1257])])"
      ],
      "execution_count": null,
      "outputs": [
        {
          "output_type": "stream",
          "text": [
            "      user_id  month  duration  msgs_num  gb_used\n",
            "1603     1257      6      35.0      62.0     12.0\n",
            "1604     1257     10      16.0     131.0     20.0\n",
            "1605     1257     11       6.0     133.0     26.0\n",
            "1606     1257     12       9.0     135.0     28.0\n",
            "3193     1257      7       NaN     146.0     20.0\n",
            "3194     1257      8       NaN     157.0     25.0\n",
            "3195     1257      9       NaN     153.0     23.0\n"
          ],
          "name": "stdout"
        }
      ]
    },
    {
      "cell_type": "markdown",
      "metadata": {
        "collapsed": false,
        "id": "pN-BZYGNfY5G"
      },
      "source": [
        "Заменим образовавшиеся пустые значения нулями."
      ]
    },
    {
      "cell_type": "code",
      "metadata": {
        "pycharm": {
          "name": "#%%\n"
        },
        "id": "asfhhuABfY5H",
        "colab": {
          "base_uri": "https://localhost:8080/"
        },
        "outputId": "b95d2847-52b7-42ae-e676-8e5f3cccfeab"
      },
      "source": [
        "all_data.fillna(0, inplace = True)\n",
        "print(all_data[all_data['user_id'].isin([1257])])"
      ],
      "execution_count": null,
      "outputs": [
        {
          "output_type": "stream",
          "text": [
            "      user_id  month  duration  msgs_num  gb_used\n",
            "1603     1257      6      35.0      62.0     12.0\n",
            "1604     1257     10      16.0     131.0     20.0\n",
            "1605     1257     11       6.0     133.0     26.0\n",
            "1606     1257     12       9.0     135.0     28.0\n",
            "3193     1257      7       0.0     146.0     20.0\n",
            "3194     1257      8       0.0     157.0     25.0\n",
            "3195     1257      9       0.0     153.0     23.0\n"
          ],
          "name": "stdout"
        }
      ]
    },
    {
      "cell_type": "markdown",
      "metadata": {
        "collapsed": false,
        "id": "Ku_1PyC6fY5J"
      },
      "source": [
        "Произведем финальное объединение."
      ]
    },
    {
      "cell_type": "code",
      "metadata": {
        "pycharm": {
          "name": "#%%\n"
        },
        "id": "iODeh0-UfY5J",
        "colab": {
          "base_uri": "https://localhost:8080/"
        },
        "outputId": "34e5664f-240d-43ba-a24d-d9940169e017"
      },
      "source": [
        "revenue = revenue.merge(all_data, how='right', on=['user_id'])\n",
        "print(revenue[revenue['user_id'].isin([1257])])"
      ],
      "execution_count": null,
      "outputs": [
        {
          "output_type": "stream",
          "text": [
            "      user_id tariff  monthly_fee  month  duration  msgs_num  gb_used\n",
            "1604     1257  ultra         1950      6      35.0      62.0     12.0\n",
            "1605     1257  ultra         1950     10      16.0     131.0     20.0\n",
            "1606     1257  ultra         1950     11       6.0     133.0     26.0\n",
            "1607     1257  ultra         1950     12       9.0     135.0     28.0\n",
            "1608     1257  ultra         1950      7       0.0     146.0     20.0\n",
            "1609     1257  ultra         1950      8       0.0     157.0     25.0\n",
            "1610     1257  ultra         1950      9       0.0     153.0     23.0\n"
          ],
          "name": "stdout"
        }
      ]
    },
    {
      "cell_type": "markdown",
      "metadata": {
        "collapsed": false,
        "id": "d3X2x5n5fY5L"
      },
      "source": [
        "Рассчитаем количество перерасходованных минут, СМС и Гб."
      ]
    },
    {
      "cell_type": "code",
      "metadata": {
        "pycharm": {
          "name": "#%%\n"
        },
        "id": "3kuOBlFXfY5L",
        "colab": {
          "base_uri": "https://localhost:8080/",
          "height": 491
        },
        "outputId": "056777d4-63ec-489c-9e91-fed1c84c0efc"
      },
      "source": [
        "def extra_mins_fee(row):\n",
        "  duration = row['duration']\n",
        "  tariff = row['tariff']\n",
        "  free_mins_s=trf.loc[trf['tariff_name']=='smart', 'minutes_included'].values[0]\n",
        "  free_mins_u=trf.loc[trf['tariff_name']=='ultra', 'minutes_included'].values[0]\n",
        "  fix_mins_s=trf.loc[trf['tariff_name']=='smart', 'rub_per_minute'].values[0]\n",
        "  fix_mins_u=trf.loc[trf['tariff_name']=='ultra', 'rub_per_minute'].values[0]\n",
        "  extra_mins_fee=0\n",
        "  if row['tariff'] == 'smart':\n",
        "    extra_mins_fee=max(duration - free_mins_s,0)*fix_mins_s\n",
        "    return extra_mins_fee\n",
        "  else:\n",
        "    extra_mins_fee=max(duration - free_mins_u,0)*fix_mins_u\n",
        "    return extra_mins_fee\n",
        "\n",
        "revenue['extra_mins_fee'] = revenue.apply(extra_mins_fee, axis = 1)\n",
        "revenue.sample(15)"
      ],
      "execution_count": null,
      "outputs": [
        {
          "output_type": "execute_result",
          "data": {
            "text/html": [
              "<div>\n",
              "<style scoped>\n",
              "    .dataframe tbody tr th:only-of-type {\n",
              "        vertical-align: middle;\n",
              "    }\n",
              "\n",
              "    .dataframe tbody tr th {\n",
              "        vertical-align: top;\n",
              "    }\n",
              "\n",
              "    .dataframe thead th {\n",
              "        text-align: right;\n",
              "    }\n",
              "</style>\n",
              "<table border=\"1\" class=\"dataframe\">\n",
              "  <thead>\n",
              "    <tr style=\"text-align: right;\">\n",
              "      <th></th>\n",
              "      <th>user_id</th>\n",
              "      <th>tariff</th>\n",
              "      <th>monthly_fee</th>\n",
              "      <th>month</th>\n",
              "      <th>duration</th>\n",
              "      <th>msgs_num</th>\n",
              "      <th>gb_used</th>\n",
              "      <th>extra_mins_fee</th>\n",
              "    </tr>\n",
              "  </thead>\n",
              "  <tbody>\n",
              "    <tr>\n",
              "      <th>1443</th>\n",
              "      <td>1228</td>\n",
              "      <td>smart</td>\n",
              "      <td>550</td>\n",
              "      <td>6</td>\n",
              "      <td>611.0</td>\n",
              "      <td>0.0</td>\n",
              "      <td>19.0</td>\n",
              "      <td>333.0</td>\n",
              "    </tr>\n",
              "    <tr>\n",
              "      <th>1602</th>\n",
              "      <td>1256</td>\n",
              "      <td>smart</td>\n",
              "      <td>550</td>\n",
              "      <td>11</td>\n",
              "      <td>499.0</td>\n",
              "      <td>91.0</td>\n",
              "      <td>19.0</td>\n",
              "      <td>0.0</td>\n",
              "    </tr>\n",
              "    <tr>\n",
              "      <th>3204</th>\n",
              "      <td>1473</td>\n",
              "      <td>ultra</td>\n",
              "      <td>1950</td>\n",
              "      <td>8</td>\n",
              "      <td>0.0</td>\n",
              "      <td>17.0</td>\n",
              "      <td>13.0</td>\n",
              "      <td>0.0</td>\n",
              "    </tr>\n",
              "    <tr>\n",
              "      <th>2376</th>\n",
              "      <td>1378</td>\n",
              "      <td>smart</td>\n",
              "      <td>550</td>\n",
              "      <td>7</td>\n",
              "      <td>517.0</td>\n",
              "      <td>12.0</td>\n",
              "      <td>12.0</td>\n",
              "      <td>51.0</td>\n",
              "    </tr>\n",
              "    <tr>\n",
              "      <th>2093</th>\n",
              "      <td>1334</td>\n",
              "      <td>smart</td>\n",
              "      <td>550</td>\n",
              "      <td>12</td>\n",
              "      <td>386.0</td>\n",
              "      <td>0.0</td>\n",
              "      <td>26.0</td>\n",
              "      <td>0.0</td>\n",
              "    </tr>\n",
              "    <tr>\n",
              "      <th>2371</th>\n",
              "      <td>1378</td>\n",
              "      <td>smart</td>\n",
              "      <td>550</td>\n",
              "      <td>2</td>\n",
              "      <td>548.0</td>\n",
              "      <td>13.0</td>\n",
              "      <td>11.0</td>\n",
              "      <td>144.0</td>\n",
              "    </tr>\n",
              "    <tr>\n",
              "      <th>1170</th>\n",
              "      <td>1185</td>\n",
              "      <td>ultra</td>\n",
              "      <td>1950</td>\n",
              "      <td>9</td>\n",
              "      <td>832.0</td>\n",
              "      <td>0.0</td>\n",
              "      <td>42.0</td>\n",
              "      <td>0.0</td>\n",
              "    </tr>\n",
              "    <tr>\n",
              "      <th>2598</th>\n",
              "      <td>1409</td>\n",
              "      <td>smart</td>\n",
              "      <td>550</td>\n",
              "      <td>9</td>\n",
              "      <td>733.0</td>\n",
              "      <td>34.0</td>\n",
              "      <td>18.0</td>\n",
              "      <td>699.0</td>\n",
              "    </tr>\n",
              "    <tr>\n",
              "      <th>2621</th>\n",
              "      <td>1413</td>\n",
              "      <td>smart</td>\n",
              "      <td>550</td>\n",
              "      <td>9</td>\n",
              "      <td>169.0</td>\n",
              "      <td>2.0</td>\n",
              "      <td>22.0</td>\n",
              "      <td>0.0</td>\n",
              "    </tr>\n",
              "    <tr>\n",
              "      <th>1742</th>\n",
              "      <td>1280</td>\n",
              "      <td>smart</td>\n",
              "      <td>550</td>\n",
              "      <td>7</td>\n",
              "      <td>354.0</td>\n",
              "      <td>20.0</td>\n",
              "      <td>7.0</td>\n",
              "      <td>0.0</td>\n",
              "    </tr>\n",
              "    <tr>\n",
              "      <th>2782</th>\n",
              "      <td>1435</td>\n",
              "      <td>smart</td>\n",
              "      <td>550</td>\n",
              "      <td>8</td>\n",
              "      <td>358.0</td>\n",
              "      <td>0.0</td>\n",
              "      <td>19.0</td>\n",
              "      <td>0.0</td>\n",
              "    </tr>\n",
              "    <tr>\n",
              "      <th>2857</th>\n",
              "      <td>1452</td>\n",
              "      <td>ultra</td>\n",
              "      <td>1950</td>\n",
              "      <td>6</td>\n",
              "      <td>60.0</td>\n",
              "      <td>18.0</td>\n",
              "      <td>11.0</td>\n",
              "      <td>0.0</td>\n",
              "    </tr>\n",
              "    <tr>\n",
              "      <th>1667</th>\n",
              "      <td>1268</td>\n",
              "      <td>smart</td>\n",
              "      <td>550</td>\n",
              "      <td>5</td>\n",
              "      <td>13.0</td>\n",
              "      <td>4.0</td>\n",
              "      <td>2.0</td>\n",
              "      <td>0.0</td>\n",
              "    </tr>\n",
              "    <tr>\n",
              "      <th>548</th>\n",
              "      <td>1087</td>\n",
              "      <td>smart</td>\n",
              "      <td>550</td>\n",
              "      <td>12</td>\n",
              "      <td>349.0</td>\n",
              "      <td>38.0</td>\n",
              "      <td>16.0</td>\n",
              "      <td>0.0</td>\n",
              "    </tr>\n",
              "    <tr>\n",
              "      <th>1577</th>\n",
              "      <td>1251</td>\n",
              "      <td>smart</td>\n",
              "      <td>550</td>\n",
              "      <td>12</td>\n",
              "      <td>427.0</td>\n",
              "      <td>98.0</td>\n",
              "      <td>22.0</td>\n",
              "      <td>0.0</td>\n",
              "    </tr>\n",
              "  </tbody>\n",
              "</table>\n",
              "</div>"
            ],
            "text/plain": [
              "      user_id tariff  monthly_fee  ...  msgs_num  gb_used  extra_mins_fee\n",
              "1443     1228  smart          550  ...       0.0     19.0           333.0\n",
              "1602     1256  smart          550  ...      91.0     19.0             0.0\n",
              "3204     1473  ultra         1950  ...      17.0     13.0             0.0\n",
              "2376     1378  smart          550  ...      12.0     12.0            51.0\n",
              "2093     1334  smart          550  ...       0.0     26.0             0.0\n",
              "2371     1378  smart          550  ...      13.0     11.0           144.0\n",
              "1170     1185  ultra         1950  ...       0.0     42.0             0.0\n",
              "2598     1409  smart          550  ...      34.0     18.0           699.0\n",
              "2621     1413  smart          550  ...       2.0     22.0             0.0\n",
              "1742     1280  smart          550  ...      20.0      7.0             0.0\n",
              "2782     1435  smart          550  ...       0.0     19.0             0.0\n",
              "2857     1452  ultra         1950  ...      18.0     11.0             0.0\n",
              "1667     1268  smart          550  ...       4.0      2.0             0.0\n",
              "548      1087  smart          550  ...      38.0     16.0             0.0\n",
              "1577     1251  smart          550  ...      98.0     22.0             0.0\n",
              "\n",
              "[15 rows x 8 columns]"
            ]
          },
          "metadata": {
            "tags": []
          },
          "execution_count": 73
        }
      ]
    },
    {
      "cell_type": "code",
      "metadata": {
        "pycharm": {
          "name": "#%%\n"
        },
        "id": "TDf04w1lfY5N",
        "colab": {
          "base_uri": "https://localhost:8080/",
          "height": 491
        },
        "outputId": "527dc859-47e5-4211-ee2e-1a1547172e84"
      },
      "source": [
        "def extra_msgs_fee(row):\n",
        "  msgs_num = row['msgs_num']\n",
        "  tariff = row['tariff']\n",
        "  free_msgs_s=trf.loc[trf['tariff_name']=='smart', 'messages_included'].values[0]\n",
        "  free_msgs_u=trf.loc[trf['tariff_name']=='ultra', 'messages_included'].values[0]\n",
        "  fix_msgs_s=trf.loc[trf['tariff_name']=='smart', 'rub_per_message'].values[0]\n",
        "  fix_msgs_u=trf.loc[trf['tariff_name']=='ultra', 'rub_per_message'].values[0]\n",
        "  extra_msgs_fee=0\n",
        "  if row['tariff'] == 'smart':\n",
        "    extra_msgs_fee=max(msgs_num - free_msgs_s,0)*fix_msgs_s\n",
        "    return extra_msgs_fee\n",
        "  else:\n",
        "    extra_msgs_fee=max(msgs_num - free_msgs_u,0)*fix_msgs_u\n",
        "    return extra_msgs_fee\n",
        "\n",
        "revenue['extra_msgs_fee'] = revenue.apply(extra_msgs_fee, axis = 1)\n",
        "revenue.sample(15)"
      ],
      "execution_count": null,
      "outputs": [
        {
          "output_type": "execute_result",
          "data": {
            "text/html": [
              "<div>\n",
              "<style scoped>\n",
              "    .dataframe tbody tr th:only-of-type {\n",
              "        vertical-align: middle;\n",
              "    }\n",
              "\n",
              "    .dataframe tbody tr th {\n",
              "        vertical-align: top;\n",
              "    }\n",
              "\n",
              "    .dataframe thead th {\n",
              "        text-align: right;\n",
              "    }\n",
              "</style>\n",
              "<table border=\"1\" class=\"dataframe\">\n",
              "  <thead>\n",
              "    <tr style=\"text-align: right;\">\n",
              "      <th></th>\n",
              "      <th>user_id</th>\n",
              "      <th>tariff</th>\n",
              "      <th>monthly_fee</th>\n",
              "      <th>month</th>\n",
              "      <th>duration</th>\n",
              "      <th>msgs_num</th>\n",
              "      <th>gb_used</th>\n",
              "      <th>extra_mins_fee</th>\n",
              "      <th>extra_msgs_fee</th>\n",
              "    </tr>\n",
              "  </thead>\n",
              "  <tbody>\n",
              "    <tr>\n",
              "      <th>2880</th>\n",
              "      <td>1454</td>\n",
              "      <td>smart</td>\n",
              "      <td>550</td>\n",
              "      <td>7</td>\n",
              "      <td>520.0</td>\n",
              "      <td>28.0</td>\n",
              "      <td>15.0</td>\n",
              "      <td>60.0</td>\n",
              "      <td>0.0</td>\n",
              "    </tr>\n",
              "    <tr>\n",
              "      <th>1240</th>\n",
              "      <td>1196</td>\n",
              "      <td>ultra</td>\n",
              "      <td>1950</td>\n",
              "      <td>9</td>\n",
              "      <td>1139.0</td>\n",
              "      <td>154.0</td>\n",
              "      <td>28.0</td>\n",
              "      <td>0.0</td>\n",
              "      <td>0.0</td>\n",
              "    </tr>\n",
              "    <tr>\n",
              "      <th>1357</th>\n",
              "      <td>1215</td>\n",
              "      <td>smart</td>\n",
              "      <td>550</td>\n",
              "      <td>12</td>\n",
              "      <td>567.0</td>\n",
              "      <td>17.0</td>\n",
              "      <td>17.0</td>\n",
              "      <td>201.0</td>\n",
              "      <td>0.0</td>\n",
              "    </tr>\n",
              "    <tr>\n",
              "      <th>277</th>\n",
              "      <td>1045</td>\n",
              "      <td>smart</td>\n",
              "      <td>550</td>\n",
              "      <td>3</td>\n",
              "      <td>229.0</td>\n",
              "      <td>58.0</td>\n",
              "      <td>14.0</td>\n",
              "      <td>0.0</td>\n",
              "      <td>24.0</td>\n",
              "    </tr>\n",
              "    <tr>\n",
              "      <th>2671</th>\n",
              "      <td>1421</td>\n",
              "      <td>smart</td>\n",
              "      <td>550</td>\n",
              "      <td>8</td>\n",
              "      <td>389.0</td>\n",
              "      <td>49.0</td>\n",
              "      <td>20.0</td>\n",
              "      <td>0.0</td>\n",
              "      <td>0.0</td>\n",
              "    </tr>\n",
              "    <tr>\n",
              "      <th>2583</th>\n",
              "      <td>1407</td>\n",
              "      <td>smart</td>\n",
              "      <td>550</td>\n",
              "      <td>12</td>\n",
              "      <td>291.0</td>\n",
              "      <td>41.0</td>\n",
              "      <td>17.0</td>\n",
              "      <td>0.0</td>\n",
              "      <td>0.0</td>\n",
              "    </tr>\n",
              "    <tr>\n",
              "      <th>2726</th>\n",
              "      <td>1428</td>\n",
              "      <td>smart</td>\n",
              "      <td>550</td>\n",
              "      <td>12</td>\n",
              "      <td>382.0</td>\n",
              "      <td>0.0</td>\n",
              "      <td>27.0</td>\n",
              "      <td>0.0</td>\n",
              "      <td>0.0</td>\n",
              "    </tr>\n",
              "    <tr>\n",
              "      <th>1582</th>\n",
              "      <td>1253</td>\n",
              "      <td>ultra</td>\n",
              "      <td>1950</td>\n",
              "      <td>11</td>\n",
              "      <td>147.0</td>\n",
              "      <td>84.0</td>\n",
              "      <td>16.0</td>\n",
              "      <td>0.0</td>\n",
              "      <td>0.0</td>\n",
              "    </tr>\n",
              "    <tr>\n",
              "      <th>900</th>\n",
              "      <td>1145</td>\n",
              "      <td>smart</td>\n",
              "      <td>550</td>\n",
              "      <td>11</td>\n",
              "      <td>367.0</td>\n",
              "      <td>101.0</td>\n",
              "      <td>12.0</td>\n",
              "      <td>0.0</td>\n",
              "      <td>153.0</td>\n",
              "    </tr>\n",
              "    <tr>\n",
              "      <th>589</th>\n",
              "      <td>1094</td>\n",
              "      <td>ultra</td>\n",
              "      <td>1950</td>\n",
              "      <td>10</td>\n",
              "      <td>868.0</td>\n",
              "      <td>28.0</td>\n",
              "      <td>18.0</td>\n",
              "      <td>0.0</td>\n",
              "      <td>0.0</td>\n",
              "    </tr>\n",
              "    <tr>\n",
              "      <th>2626</th>\n",
              "      <td>1414</td>\n",
              "      <td>smart</td>\n",
              "      <td>550</td>\n",
              "      <td>6</td>\n",
              "      <td>338.0</td>\n",
              "      <td>52.0</td>\n",
              "      <td>18.0</td>\n",
              "      <td>0.0</td>\n",
              "      <td>6.0</td>\n",
              "    </tr>\n",
              "    <tr>\n",
              "      <th>524</th>\n",
              "      <td>1083</td>\n",
              "      <td>smart</td>\n",
              "      <td>550</td>\n",
              "      <td>8</td>\n",
              "      <td>505.0</td>\n",
              "      <td>45.0</td>\n",
              "      <td>19.0</td>\n",
              "      <td>15.0</td>\n",
              "      <td>0.0</td>\n",
              "    </tr>\n",
              "    <tr>\n",
              "      <th>2086</th>\n",
              "      <td>1332</td>\n",
              "      <td>smart</td>\n",
              "      <td>550</td>\n",
              "      <td>11</td>\n",
              "      <td>541.0</td>\n",
              "      <td>47.0</td>\n",
              "      <td>22.0</td>\n",
              "      <td>123.0</td>\n",
              "      <td>0.0</td>\n",
              "    </tr>\n",
              "    <tr>\n",
              "      <th>692</th>\n",
              "      <td>1112</td>\n",
              "      <td>smart</td>\n",
              "      <td>550</td>\n",
              "      <td>9</td>\n",
              "      <td>466.0</td>\n",
              "      <td>85.0</td>\n",
              "      <td>14.0</td>\n",
              "      <td>0.0</td>\n",
              "      <td>105.0</td>\n",
              "    </tr>\n",
              "    <tr>\n",
              "      <th>125</th>\n",
              "      <td>1017</td>\n",
              "      <td>smart</td>\n",
              "      <td>550</td>\n",
              "      <td>11</td>\n",
              "      <td>463.0</td>\n",
              "      <td>0.0</td>\n",
              "      <td>21.0</td>\n",
              "      <td>0.0</td>\n",
              "      <td>0.0</td>\n",
              "    </tr>\n",
              "  </tbody>\n",
              "</table>\n",
              "</div>"
            ],
            "text/plain": [
              "      user_id tariff  monthly_fee  ...  gb_used  extra_mins_fee  extra_msgs_fee\n",
              "2880     1454  smart          550  ...     15.0            60.0             0.0\n",
              "1240     1196  ultra         1950  ...     28.0             0.0             0.0\n",
              "1357     1215  smart          550  ...     17.0           201.0             0.0\n",
              "277      1045  smart          550  ...     14.0             0.0            24.0\n",
              "2671     1421  smart          550  ...     20.0             0.0             0.0\n",
              "2583     1407  smart          550  ...     17.0             0.0             0.0\n",
              "2726     1428  smart          550  ...     27.0             0.0             0.0\n",
              "1582     1253  ultra         1950  ...     16.0             0.0             0.0\n",
              "900      1145  smart          550  ...     12.0             0.0           153.0\n",
              "589      1094  ultra         1950  ...     18.0             0.0             0.0\n",
              "2626     1414  smart          550  ...     18.0             0.0             6.0\n",
              "524      1083  smart          550  ...     19.0            15.0             0.0\n",
              "2086     1332  smart          550  ...     22.0           123.0             0.0\n",
              "692      1112  smart          550  ...     14.0             0.0           105.0\n",
              "125      1017  smart          550  ...     21.0             0.0             0.0\n",
              "\n",
              "[15 rows x 9 columns]"
            ]
          },
          "metadata": {
            "tags": []
          },
          "execution_count": 74
        }
      ]
    },
    {
      "cell_type": "code",
      "metadata": {
        "pycharm": {
          "name": "#%%\n"
        },
        "id": "S_JH5a5cfY5P",
        "colab": {
          "base_uri": "https://localhost:8080/",
          "height": 491
        },
        "outputId": "bc44eb01-8e81-43f1-be42-6ed74f5f55af"
      },
      "source": [
        "def extra_gb_fee(row):\n",
        "  traffic = row['gb_used']\n",
        "  tariff = row['tariff']\n",
        "  free_gb_s=trf.loc[trf['tariff_name']=='smart', 'mb_per_month_included'].values[0]/1024\n",
        "  free_gb_u=trf.loc[trf['tariff_name']=='ultra', 'mb_per_month_included'].values[0]/1024\n",
        "  fix_gb_s=trf.loc[trf['tariff_name']=='smart', 'rub_per_gb'].values[0]\n",
        "  fix_gb_u=trf.loc[trf['tariff_name']=='ultra', 'rub_per_gb'].values[0]\n",
        "  extra_gb_fee=0\n",
        "  if row['tariff'] == 'smart':\n",
        "    extra_gb_fee=max(traffic - free_gb_s,0)*fix_gb_s\n",
        "    return extra_gb_fee\n",
        "  else:\n",
        "    extra_gb_fee=max(traffic - free_gb_u,0)*fix_gb_u\n",
        "    return extra_gb_fee\n",
        "\n",
        "revenue['extra_gb_fee'] = revenue.apply(extra_gb_fee, axis = 1)\n",
        "revenue.sample(15)"
      ],
      "execution_count": null,
      "outputs": [
        {
          "output_type": "execute_result",
          "data": {
            "text/html": [
              "<div>\n",
              "<style scoped>\n",
              "    .dataframe tbody tr th:only-of-type {\n",
              "        vertical-align: middle;\n",
              "    }\n",
              "\n",
              "    .dataframe tbody tr th {\n",
              "        vertical-align: top;\n",
              "    }\n",
              "\n",
              "    .dataframe thead th {\n",
              "        text-align: right;\n",
              "    }\n",
              "</style>\n",
              "<table border=\"1\" class=\"dataframe\">\n",
              "  <thead>\n",
              "    <tr style=\"text-align: right;\">\n",
              "      <th></th>\n",
              "      <th>user_id</th>\n",
              "      <th>tariff</th>\n",
              "      <th>monthly_fee</th>\n",
              "      <th>month</th>\n",
              "      <th>duration</th>\n",
              "      <th>msgs_num</th>\n",
              "      <th>gb_used</th>\n",
              "      <th>extra_mins_fee</th>\n",
              "      <th>extra_msgs_fee</th>\n",
              "      <th>extra_gb_fee</th>\n",
              "    </tr>\n",
              "  </thead>\n",
              "  <tbody>\n",
              "    <tr>\n",
              "      <th>1906</th>\n",
              "      <td>1303</td>\n",
              "      <td>ultra</td>\n",
              "      <td>1950</td>\n",
              "      <td>11</td>\n",
              "      <td>563.0</td>\n",
              "      <td>32.0</td>\n",
              "      <td>18.0</td>\n",
              "      <td>0.0</td>\n",
              "      <td>0.0</td>\n",
              "      <td>0.0</td>\n",
              "    </tr>\n",
              "    <tr>\n",
              "      <th>2888</th>\n",
              "      <td>1455</td>\n",
              "      <td>ultra</td>\n",
              "      <td>1950</td>\n",
              "      <td>5</td>\n",
              "      <td>595.0</td>\n",
              "      <td>7.0</td>\n",
              "      <td>17.0</td>\n",
              "      <td>0.0</td>\n",
              "      <td>0.0</td>\n",
              "      <td>0.0</td>\n",
              "    </tr>\n",
              "    <tr>\n",
              "      <th>2532</th>\n",
              "      <td>1400</td>\n",
              "      <td>smart</td>\n",
              "      <td>550</td>\n",
              "      <td>9</td>\n",
              "      <td>453.0</td>\n",
              "      <td>51.0</td>\n",
              "      <td>19.0</td>\n",
              "      <td>0.0</td>\n",
              "      <td>3.0</td>\n",
              "      <td>800.0</td>\n",
              "    </tr>\n",
              "    <tr>\n",
              "      <th>334</th>\n",
              "      <td>1054</td>\n",
              "      <td>smart</td>\n",
              "      <td>550</td>\n",
              "      <td>6</td>\n",
              "      <td>527.0</td>\n",
              "      <td>69.0</td>\n",
              "      <td>19.0</td>\n",
              "      <td>81.0</td>\n",
              "      <td>57.0</td>\n",
              "      <td>800.0</td>\n",
              "    </tr>\n",
              "    <tr>\n",
              "      <th>192</th>\n",
              "      <td>1030</td>\n",
              "      <td>smart</td>\n",
              "      <td>550</td>\n",
              "      <td>7</td>\n",
              "      <td>328.0</td>\n",
              "      <td>101.0</td>\n",
              "      <td>13.0</td>\n",
              "      <td>0.0</td>\n",
              "      <td>153.0</td>\n",
              "      <td>0.0</td>\n",
              "    </tr>\n",
              "    <tr>\n",
              "      <th>1355</th>\n",
              "      <td>1215</td>\n",
              "      <td>smart</td>\n",
              "      <td>550</td>\n",
              "      <td>10</td>\n",
              "      <td>329.0</td>\n",
              "      <td>16.0</td>\n",
              "      <td>14.0</td>\n",
              "      <td>0.0</td>\n",
              "      <td>0.0</td>\n",
              "      <td>0.0</td>\n",
              "    </tr>\n",
              "    <tr>\n",
              "      <th>2505</th>\n",
              "      <td>1395</td>\n",
              "      <td>smart</td>\n",
              "      <td>550</td>\n",
              "      <td>3</td>\n",
              "      <td>668.0</td>\n",
              "      <td>33.0</td>\n",
              "      <td>21.0</td>\n",
              "      <td>504.0</td>\n",
              "      <td>0.0</td>\n",
              "      <td>1200.0</td>\n",
              "    </tr>\n",
              "    <tr>\n",
              "      <th>581</th>\n",
              "      <td>1093</td>\n",
              "      <td>smart</td>\n",
              "      <td>550</td>\n",
              "      <td>10</td>\n",
              "      <td>789.0</td>\n",
              "      <td>79.0</td>\n",
              "      <td>21.0</td>\n",
              "      <td>867.0</td>\n",
              "      <td>87.0</td>\n",
              "      <td>1200.0</td>\n",
              "    </tr>\n",
              "    <tr>\n",
              "      <th>294</th>\n",
              "      <td>1047</td>\n",
              "      <td>smart</td>\n",
              "      <td>550</td>\n",
              "      <td>12</td>\n",
              "      <td>822.0</td>\n",
              "      <td>73.0</td>\n",
              "      <td>27.0</td>\n",
              "      <td>966.0</td>\n",
              "      <td>69.0</td>\n",
              "      <td>2400.0</td>\n",
              "    </tr>\n",
              "    <tr>\n",
              "      <th>1713</th>\n",
              "      <td>1275</td>\n",
              "      <td>smart</td>\n",
              "      <td>550</td>\n",
              "      <td>4</td>\n",
              "      <td>120.0</td>\n",
              "      <td>8.0</td>\n",
              "      <td>3.0</td>\n",
              "      <td>0.0</td>\n",
              "      <td>0.0</td>\n",
              "      <td>0.0</td>\n",
              "    </tr>\n",
              "    <tr>\n",
              "      <th>2817</th>\n",
              "      <td>1440</td>\n",
              "      <td>ultra</td>\n",
              "      <td>1950</td>\n",
              "      <td>11</td>\n",
              "      <td>169.0</td>\n",
              "      <td>97.0</td>\n",
              "      <td>18.0</td>\n",
              "      <td>0.0</td>\n",
              "      <td>0.0</td>\n",
              "      <td>0.0</td>\n",
              "    </tr>\n",
              "    <tr>\n",
              "      <th>2473</th>\n",
              "      <td>1392</td>\n",
              "      <td>ultra</td>\n",
              "      <td>1950</td>\n",
              "      <td>3</td>\n",
              "      <td>467.0</td>\n",
              "      <td>38.0</td>\n",
              "      <td>23.0</td>\n",
              "      <td>0.0</td>\n",
              "      <td>0.0</td>\n",
              "      <td>0.0</td>\n",
              "    </tr>\n",
              "    <tr>\n",
              "      <th>791</th>\n",
              "      <td>1126</td>\n",
              "      <td>ultra</td>\n",
              "      <td>1950</td>\n",
              "      <td>3</td>\n",
              "      <td>556.0</td>\n",
              "      <td>6.0</td>\n",
              "      <td>25.0</td>\n",
              "      <td>0.0</td>\n",
              "      <td>0.0</td>\n",
              "      <td>0.0</td>\n",
              "    </tr>\n",
              "    <tr>\n",
              "      <th>685</th>\n",
              "      <td>1110</td>\n",
              "      <td>smart</td>\n",
              "      <td>550</td>\n",
              "      <td>8</td>\n",
              "      <td>348.0</td>\n",
              "      <td>34.0</td>\n",
              "      <td>16.0</td>\n",
              "      <td>0.0</td>\n",
              "      <td>0.0</td>\n",
              "      <td>200.0</td>\n",
              "    </tr>\n",
              "    <tr>\n",
              "      <th>1295</th>\n",
              "      <td>1204</td>\n",
              "      <td>smart</td>\n",
              "      <td>550</td>\n",
              "      <td>8</td>\n",
              "      <td>486.0</td>\n",
              "      <td>0.0</td>\n",
              "      <td>21.0</td>\n",
              "      <td>0.0</td>\n",
              "      <td>0.0</td>\n",
              "      <td>1200.0</td>\n",
              "    </tr>\n",
              "  </tbody>\n",
              "</table>\n",
              "</div>"
            ],
            "text/plain": [
              "      user_id tariff  monthly_fee  ...  extra_mins_fee  extra_msgs_fee  extra_gb_fee\n",
              "1906     1303  ultra         1950  ...             0.0             0.0           0.0\n",
              "2888     1455  ultra         1950  ...             0.0             0.0           0.0\n",
              "2532     1400  smart          550  ...             0.0             3.0         800.0\n",
              "334      1054  smart          550  ...            81.0            57.0         800.0\n",
              "192      1030  smart          550  ...             0.0           153.0           0.0\n",
              "1355     1215  smart          550  ...             0.0             0.0           0.0\n",
              "2505     1395  smart          550  ...           504.0             0.0        1200.0\n",
              "581      1093  smart          550  ...           867.0            87.0        1200.0\n",
              "294      1047  smart          550  ...           966.0            69.0        2400.0\n",
              "1713     1275  smart          550  ...             0.0             0.0           0.0\n",
              "2817     1440  ultra         1950  ...             0.0             0.0           0.0\n",
              "2473     1392  ultra         1950  ...             0.0             0.0           0.0\n",
              "791      1126  ultra         1950  ...             0.0             0.0           0.0\n",
              "685      1110  smart          550  ...             0.0             0.0         200.0\n",
              "1295     1204  smart          550  ...             0.0             0.0        1200.0\n",
              "\n",
              "[15 rows x 10 columns]"
            ]
          },
          "metadata": {
            "tags": []
          },
          "execution_count": 75
        }
      ]
    },
    {
      "cell_type": "markdown",
      "metadata": {
        "collapsed": false,
        "id": "OBUQGUEmfY5S"
      },
      "source": [
        "Произведем финальный расчет помесячной выручки по каждому клиенту."
      ]
    },
    {
      "cell_type": "code",
      "metadata": {
        "pycharm": {
          "name": "#%%\n"
        },
        "id": "eBov_CpAfY5S",
        "colab": {
          "base_uri": "https://localhost:8080/",
          "height": 491
        },
        "outputId": "6f60d59c-511c-492a-8c45-c13922f8ef2d"
      },
      "source": [
        "revenue['total_fee'] = revenue['monthly_fee']+revenue['extra_mins_fee']+revenue['extra_msgs_fee']+revenue['extra_gb_fee']\n",
        "revenue.sample(15)"
      ],
      "execution_count": null,
      "outputs": [
        {
          "output_type": "execute_result",
          "data": {
            "text/html": [
              "<div>\n",
              "<style scoped>\n",
              "    .dataframe tbody tr th:only-of-type {\n",
              "        vertical-align: middle;\n",
              "    }\n",
              "\n",
              "    .dataframe tbody tr th {\n",
              "        vertical-align: top;\n",
              "    }\n",
              "\n",
              "    .dataframe thead th {\n",
              "        text-align: right;\n",
              "    }\n",
              "</style>\n",
              "<table border=\"1\" class=\"dataframe\">\n",
              "  <thead>\n",
              "    <tr style=\"text-align: right;\">\n",
              "      <th></th>\n",
              "      <th>user_id</th>\n",
              "      <th>tariff</th>\n",
              "      <th>monthly_fee</th>\n",
              "      <th>month</th>\n",
              "      <th>duration</th>\n",
              "      <th>msgs_num</th>\n",
              "      <th>gb_used</th>\n",
              "      <th>extra_mins_fee</th>\n",
              "      <th>extra_msgs_fee</th>\n",
              "      <th>extra_gb_fee</th>\n",
              "      <th>total_fee</th>\n",
              "    </tr>\n",
              "  </thead>\n",
              "  <tbody>\n",
              "    <tr>\n",
              "      <th>815</th>\n",
              "      <td>1130</td>\n",
              "      <td>smart</td>\n",
              "      <td>550</td>\n",
              "      <td>8</td>\n",
              "      <td>499.0</td>\n",
              "      <td>60.0</td>\n",
              "      <td>17.0</td>\n",
              "      <td>0.0</td>\n",
              "      <td>30.0</td>\n",
              "      <td>400.0</td>\n",
              "      <td>980.0</td>\n",
              "    </tr>\n",
              "    <tr>\n",
              "      <th>1006</th>\n",
              "      <td>1160</td>\n",
              "      <td>smart</td>\n",
              "      <td>550</td>\n",
              "      <td>12</td>\n",
              "      <td>365.0</td>\n",
              "      <td>30.0</td>\n",
              "      <td>14.0</td>\n",
              "      <td>0.0</td>\n",
              "      <td>0.0</td>\n",
              "      <td>0.0</td>\n",
              "      <td>550.0</td>\n",
              "    </tr>\n",
              "    <tr>\n",
              "      <th>2364</th>\n",
              "      <td>1377</td>\n",
              "      <td>ultra</td>\n",
              "      <td>1950</td>\n",
              "      <td>7</td>\n",
              "      <td>1311.0</td>\n",
              "      <td>13.0</td>\n",
              "      <td>5.0</td>\n",
              "      <td>0.0</td>\n",
              "      <td>0.0</td>\n",
              "      <td>0.0</td>\n",
              "      <td>1950.0</td>\n",
              "    </tr>\n",
              "    <tr>\n",
              "      <th>2480</th>\n",
              "      <td>1393</td>\n",
              "      <td>smart</td>\n",
              "      <td>550</td>\n",
              "      <td>2</td>\n",
              "      <td>171.0</td>\n",
              "      <td>16.0</td>\n",
              "      <td>7.0</td>\n",
              "      <td>0.0</td>\n",
              "      <td>0.0</td>\n",
              "      <td>0.0</td>\n",
              "      <td>550.0</td>\n",
              "    </tr>\n",
              "    <tr>\n",
              "      <th>615</th>\n",
              "      <td>1098</td>\n",
              "      <td>smart</td>\n",
              "      <td>550</td>\n",
              "      <td>12</td>\n",
              "      <td>588.0</td>\n",
              "      <td>14.0</td>\n",
              "      <td>36.0</td>\n",
              "      <td>264.0</td>\n",
              "      <td>0.0</td>\n",
              "      <td>4200.0</td>\n",
              "      <td>5014.0</td>\n",
              "    </tr>\n",
              "    <tr>\n",
              "      <th>1420</th>\n",
              "      <td>1225</td>\n",
              "      <td>ultra</td>\n",
              "      <td>1950</td>\n",
              "      <td>11</td>\n",
              "      <td>612.0</td>\n",
              "      <td>0.0</td>\n",
              "      <td>17.0</td>\n",
              "      <td>0.0</td>\n",
              "      <td>0.0</td>\n",
              "      <td>0.0</td>\n",
              "      <td>1950.0</td>\n",
              "    </tr>\n",
              "    <tr>\n",
              "      <th>1642</th>\n",
              "      <td>1264</td>\n",
              "      <td>smart</td>\n",
              "      <td>550</td>\n",
              "      <td>4</td>\n",
              "      <td>95.0</td>\n",
              "      <td>2.0</td>\n",
              "      <td>5.0</td>\n",
              "      <td>0.0</td>\n",
              "      <td>0.0</td>\n",
              "      <td>0.0</td>\n",
              "      <td>550.0</td>\n",
              "    </tr>\n",
              "    <tr>\n",
              "      <th>915</th>\n",
              "      <td>1147</td>\n",
              "      <td>smart</td>\n",
              "      <td>550</td>\n",
              "      <td>12</td>\n",
              "      <td>340.0</td>\n",
              "      <td>29.0</td>\n",
              "      <td>24.0</td>\n",
              "      <td>0.0</td>\n",
              "      <td>0.0</td>\n",
              "      <td>1800.0</td>\n",
              "      <td>2350.0</td>\n",
              "    </tr>\n",
              "    <tr>\n",
              "      <th>739</th>\n",
              "      <td>1118</td>\n",
              "      <td>smart</td>\n",
              "      <td>550</td>\n",
              "      <td>12</td>\n",
              "      <td>626.0</td>\n",
              "      <td>0.0</td>\n",
              "      <td>14.0</td>\n",
              "      <td>378.0</td>\n",
              "      <td>0.0</td>\n",
              "      <td>0.0</td>\n",
              "      <td>928.0</td>\n",
              "    </tr>\n",
              "    <tr>\n",
              "      <th>1180</th>\n",
              "      <td>1186</td>\n",
              "      <td>smart</td>\n",
              "      <td>550</td>\n",
              "      <td>8</td>\n",
              "      <td>613.0</td>\n",
              "      <td>73.0</td>\n",
              "      <td>12.0</td>\n",
              "      <td>339.0</td>\n",
              "      <td>69.0</td>\n",
              "      <td>0.0</td>\n",
              "      <td>958.0</td>\n",
              "    </tr>\n",
              "    <tr>\n",
              "      <th>972</th>\n",
              "      <td>1155</td>\n",
              "      <td>smart</td>\n",
              "      <td>550</td>\n",
              "      <td>10</td>\n",
              "      <td>318.0</td>\n",
              "      <td>59.0</td>\n",
              "      <td>12.0</td>\n",
              "      <td>0.0</td>\n",
              "      <td>27.0</td>\n",
              "      <td>0.0</td>\n",
              "      <td>577.0</td>\n",
              "    </tr>\n",
              "    <tr>\n",
              "      <th>91</th>\n",
              "      <td>1012</td>\n",
              "      <td>smart</td>\n",
              "      <td>550</td>\n",
              "      <td>6</td>\n",
              "      <td>219.0</td>\n",
              "      <td>15.0</td>\n",
              "      <td>25.0</td>\n",
              "      <td>0.0</td>\n",
              "      <td>0.0</td>\n",
              "      <td>2000.0</td>\n",
              "      <td>2550.0</td>\n",
              "    </tr>\n",
              "    <tr>\n",
              "      <th>1874</th>\n",
              "      <td>1299</td>\n",
              "      <td>smart</td>\n",
              "      <td>550</td>\n",
              "      <td>7</td>\n",
              "      <td>457.0</td>\n",
              "      <td>43.0</td>\n",
              "      <td>14.0</td>\n",
              "      <td>0.0</td>\n",
              "      <td>0.0</td>\n",
              "      <td>0.0</td>\n",
              "      <td>550.0</td>\n",
              "    </tr>\n",
              "    <tr>\n",
              "      <th>2984</th>\n",
              "      <td>1468</td>\n",
              "      <td>smart</td>\n",
              "      <td>550</td>\n",
              "      <td>12</td>\n",
              "      <td>216.0</td>\n",
              "      <td>11.0</td>\n",
              "      <td>15.0</td>\n",
              "      <td>0.0</td>\n",
              "      <td>0.0</td>\n",
              "      <td>0.0</td>\n",
              "      <td>550.0</td>\n",
              "    </tr>\n",
              "    <tr>\n",
              "      <th>2029</th>\n",
              "      <td>1324</td>\n",
              "      <td>smart</td>\n",
              "      <td>550</td>\n",
              "      <td>9</td>\n",
              "      <td>715.0</td>\n",
              "      <td>136.0</td>\n",
              "      <td>23.0</td>\n",
              "      <td>645.0</td>\n",
              "      <td>258.0</td>\n",
              "      <td>1600.0</td>\n",
              "      <td>3053.0</td>\n",
              "    </tr>\n",
              "  </tbody>\n",
              "</table>\n",
              "</div>"
            ],
            "text/plain": [
              "      user_id tariff  monthly_fee  ...  extra_msgs_fee  extra_gb_fee  total_fee\n",
              "815      1130  smart          550  ...            30.0         400.0      980.0\n",
              "1006     1160  smart          550  ...             0.0           0.0      550.0\n",
              "2364     1377  ultra         1950  ...             0.0           0.0     1950.0\n",
              "2480     1393  smart          550  ...             0.0           0.0      550.0\n",
              "615      1098  smart          550  ...             0.0        4200.0     5014.0\n",
              "1420     1225  ultra         1950  ...             0.0           0.0     1950.0\n",
              "1642     1264  smart          550  ...             0.0           0.0      550.0\n",
              "915      1147  smart          550  ...             0.0        1800.0     2350.0\n",
              "739      1118  smart          550  ...             0.0           0.0      928.0\n",
              "1180     1186  smart          550  ...            69.0           0.0      958.0\n",
              "972      1155  smart          550  ...            27.0           0.0      577.0\n",
              "91       1012  smart          550  ...             0.0        2000.0     2550.0\n",
              "1874     1299  smart          550  ...             0.0           0.0      550.0\n",
              "2984     1468  smart          550  ...             0.0           0.0      550.0\n",
              "2029     1324  smart          550  ...           258.0        1600.0     3053.0\n",
              "\n",
              "[15 rows x 11 columns]"
            ]
          },
          "metadata": {
            "tags": []
          },
          "execution_count": 76
        }
      ]
    },
    {
      "cell_type": "markdown",
      "metadata": {
        "collapsed": false,
        "id": "xvjVEzjTfY5U"
      },
      "source": [
        "##Шаг 3. Проанализируем данные\n",
        "\n",
        "---\n",
        "\n"
      ]
    },
    {
      "cell_type": "markdown",
      "metadata": {
        "collapsed": false,
        "id": "aulEEnpRfY5U"
      },
      "source": [
        "###Среднее количество минут, СМС и объем интернет-трафика для каждого тарифов месяц\n"
      ]
    },
    {
      "cell_type": "code",
      "metadata": {
        "pycharm": {
          "name": "#%%\n"
        },
        "id": "hYYtbr6LfY5V",
        "colab": {
          "base_uri": "https://localhost:8080/"
        },
        "outputId": "f5ab0f2b-10f6-437e-ce45-cfebc0e98542"
      },
      "source": [
        "smart = revenue.query('tariff==\"smart\"')\n",
        "ultra = revenue.query('tariff==\"ultra\"')\n",
        "print('Количество минут разговора в месяц на тарифе \"Смарт\" составляет - {:.0f}'.format(smart['duration'].sum()/12),', на тарифе \"Ультра\" - {:.0f}'.format(ultra['duration'].sum()/12))\n",
        "print('Количество сообщений в месяц на тарифе \"Смарт\" составляет - {:.0f}'.format(smart['msgs_num'].sum()/12),', на тарифе \"Ультра\" - {:.0f}'.format(ultra['msgs_num'].sum()/12))\n",
        "print('Объем трафика (в Гб) в месяц на тарифе \"Смарт\" составляет - {:.0f}'.format(smart['gb_used'].sum()/12),', на тарифе \"Ультра\" - {:.0f}'.format(ultra['gb_used'].sum()/12))"
      ],
      "execution_count": null,
      "outputs": [
        {
          "output_type": "stream",
          "text": [
            "Количество минут разговора в месяц на тарифе \"Смарт\" составляет - 77631 , на тарифе \"Ультра\" - 43227\n",
            "Количество сообщений в месяц на тарифе \"Смарт\" составляет - 6201 , на тарифе \"Ультра\" - 4052\n",
            "Объем трафика (в Гб) в месяц на тарифе \"Смарт\" составляет - 3033 , на тарифе \"Ультра\" - 1600\n"
          ],
          "name": "stdout"
        }
      ]
    },
    {
      "cell_type": "markdown",
      "metadata": {
        "collapsed": false,
        "id": "9dNih5tJfY5X"
      },
      "source": [
        "###Посчитаем среднее количество, дисперсию и стандартное отклонение\n"
      ]
    },
    {
      "cell_type": "code",
      "metadata": {
        "pycharm": {
          "name": "#%%\n"
        },
        "id": "u3qIkCExfY5X",
        "colab": {
          "base_uri": "https://localhost:8080/",
          "height": 106
        },
        "outputId": "e11bbf3e-8bbb-4a47-b0e7-0331eeffd6ee"
      },
      "source": [
        "metrics=revenue.groupby(['tariff']).agg({'total_fee' : ['mean', lambda x: np.var(x, ddof=1), lambda x: np.std(x, ddof=1)]}).reset_index().round(2)\n",
        "metrics.set_axis(['tariff', 'total_fee', 'var', 'std'], axis = 'columns', inplace = True)\n",
        "metrics"
      ],
      "execution_count": null,
      "outputs": [
        {
          "output_type": "execute_result",
          "data": {
            "text/html": [
              "<div>\n",
              "<style scoped>\n",
              "    .dataframe tbody tr th:only-of-type {\n",
              "        vertical-align: middle;\n",
              "    }\n",
              "\n",
              "    .dataframe tbody tr th {\n",
              "        vertical-align: top;\n",
              "    }\n",
              "\n",
              "    .dataframe thead th {\n",
              "        text-align: right;\n",
              "    }\n",
              "</style>\n",
              "<table border=\"1\" class=\"dataframe\">\n",
              "  <thead>\n",
              "    <tr style=\"text-align: right;\">\n",
              "      <th></th>\n",
              "      <th>tariff</th>\n",
              "      <th>total_fee</th>\n",
              "      <th>var</th>\n",
              "      <th>std</th>\n",
              "    </tr>\n",
              "  </thead>\n",
              "  <tbody>\n",
              "    <tr>\n",
              "      <th>0</th>\n",
              "      <td>smart</td>\n",
              "      <td>1289.97</td>\n",
              "      <td>669785.71</td>\n",
              "      <td>818.40</td>\n",
              "    </tr>\n",
              "    <tr>\n",
              "      <th>1</th>\n",
              "      <td>ultra</td>\n",
              "      <td>2070.15</td>\n",
              "      <td>141516.75</td>\n",
              "      <td>376.19</td>\n",
              "    </tr>\n",
              "  </tbody>\n",
              "</table>\n",
              "</div>"
            ],
            "text/plain": [
              "  tariff  total_fee        var     std\n",
              "0  smart    1289.97  669785.71  818.40\n",
              "1  ultra    2070.15  141516.75  376.19"
            ]
          },
          "metadata": {
            "tags": []
          },
          "execution_count": 78
        }
      ]
    },
    {
      "cell_type": "markdown",
      "metadata": {
        "collapsed": false,
        "id": "4st1kLbqfY5Z"
      },
      "source": [
        "Построим диаграммы размаха для каждого тарифа."
      ]
    },
    {
      "cell_type": "code",
      "metadata": {
        "pycharm": {
          "name": "#%%\n"
        },
        "id": "y_exiFrOfY5Z",
        "colab": {
          "base_uri": "https://localhost:8080/",
          "height": 265
        },
        "outputId": "54b75db4-a13b-4593-e926-6911c6e8bb14"
      },
      "source": [
        "ax=smart[['total_fee']].boxplot(vert=False)\n",
        "ax.set_yticklabels(['Выручка'])\n",
        "plt.show()"
      ],
      "execution_count": null,
      "outputs": [
        {
          "output_type": "display_data",
          "data": {
            "image/png": "[encoded data removed]",
            "text/plain": [
              "<Figure size 432x288 with 1 Axes>"
            ]
          },
          "metadata": {
            "tags": [],
            "needs_background": "light"
          }
        }
      ]
    },
    {
      "cell_type": "code",
      "metadata": {
        "pycharm": {
          "name": "#%%\n"
        },
        "id": "oP4h3QUkfY5c",
        "colab": {
          "base_uri": "https://localhost:8080/",
          "height": 265
        },
        "outputId": "219869ad-572b-4646-fec7-b5840c9ac2e5"
      },
      "source": [
        "ax=ultra[['total_fee']].boxplot(vert=False)\n",
        "ax.set_yticklabels(['Выручка'])\n",
        "plt.show()"
      ],
      "execution_count": null,
      "outputs": [
        {
          "output_type": "display_data",
          "data": {
            "image/png": "[encoded data removed]",
            "text/plain": [
              "<Figure size 432x288 with 1 Axes>"
            ]
          },
          "metadata": {
            "tags": [],
            "needs_background": "light"
          }
        }
      ]
    },
    {
      "cell_type": "markdown",
      "metadata": {
        "collapsed": false,
        "id": "w2ynUNfxfY5g"
      },
      "source": [
        "Рассчитаем максимальные значения с применением правил трех сигм, все что больше будем считать выбросами."
      ]
    },
    {
      "cell_type": "code",
      "metadata": {
        "pycharm": {
          "name": "#%%\n"
        },
        "id": "vyW9DMxqfY5g",
        "colab": {
          "base_uri": "https://localhost:8080/"
        },
        "outputId": "84e3f51f-8c7b-473a-ed3b-2700fe43fca6"
      },
      "source": [
        "parameters_s = smart[['total_fee']].describe().T\n",
        "q1_s, q2_s = parameters_s['25%'][0], parameters_s['75%'][0]\n",
        "iqr_s = q2_s - q1_s\n",
        "max_value_s = q2_s + 3*iqr_s\n",
        "max_value_s"
      ],
      "execution_count": null,
      "outputs": [
        {
          "output_type": "execute_result",
          "data": {
            "text/plain": [
              "5350.0"
            ]
          },
          "metadata": {
            "tags": []
          },
          "execution_count": 81
        }
      ]
    },
    {
      "cell_type": "code",
      "metadata": {
        "pycharm": {
          "name": "#%%\n"
        },
        "id": "y2wA9nbTfY5i",
        "colab": {
          "base_uri": "https://localhost:8080/",
          "height": 77
        },
        "outputId": "a89207e6-4713-4797-bc01-8eaa6cc53bce"
      },
      "source": [
        "parameters_s"
      ],
      "execution_count": null,
      "outputs": [
        {
          "output_type": "execute_result",
          "data": {
            "text/html": [
              "<div>\n",
              "<style scoped>\n",
              "    .dataframe tbody tr th:only-of-type {\n",
              "        vertical-align: middle;\n",
              "    }\n",
              "\n",
              "    .dataframe tbody tr th {\n",
              "        vertical-align: top;\n",
              "    }\n",
              "\n",
              "    .dataframe thead th {\n",
              "        text-align: right;\n",
              "    }\n",
              "</style>\n",
              "<table border=\"1\" class=\"dataframe\">\n",
              "  <thead>\n",
              "    <tr style=\"text-align: right;\">\n",
              "      <th></th>\n",
              "      <th>count</th>\n",
              "      <th>mean</th>\n",
              "      <th>std</th>\n",
              "      <th>min</th>\n",
              "      <th>25%</th>\n",
              "      <th>50%</th>\n",
              "      <th>75%</th>\n",
              "      <th>max</th>\n",
              "    </tr>\n",
              "  </thead>\n",
              "  <tbody>\n",
              "    <tr>\n",
              "      <th>total_fee</th>\n",
              "      <td>2229.0</td>\n",
              "      <td>1289.973531</td>\n",
              "      <td>818.404367</td>\n",
              "      <td>550.0</td>\n",
              "      <td>550.0</td>\n",
              "      <td>1023.0</td>\n",
              "      <td>1750.0</td>\n",
              "      <td>6770.0</td>\n",
              "    </tr>\n",
              "  </tbody>\n",
              "</table>\n",
              "</div>"
            ],
            "text/plain": [
              "            count         mean         std  ...     50%     75%     max\n",
              "total_fee  2229.0  1289.973531  818.404367  ...  1023.0  1750.0  6770.0\n",
              "\n",
              "[1 rows x 8 columns]"
            ]
          },
          "metadata": {
            "tags": []
          },
          "execution_count": 82
        }
      ]
    },
    {
      "cell_type": "code",
      "metadata": {
        "pycharm": {
          "name": "#%%\n"
        },
        "id": "DtPiJed3fY5l",
        "colab": {
          "base_uri": "https://localhost:8080/"
        },
        "outputId": "a1217aa2-cbae-4490-c3d5-0d41880145b3"
      },
      "source": [
        "parameters_u = ultra[['total_fee']].describe().T\n",
        "q1_u, q2_u = parameters_u['25%'][0], parameters_u['75%'][0]\n",
        "iqr_u = q2_u - q1_u\n",
        "max_value_u = q2_u + 3*iqr_u\n",
        "max_value_u"
      ],
      "execution_count": null,
      "outputs": [
        {
          "output_type": "execute_result",
          "data": {
            "text/plain": [
              "1950.0"
            ]
          },
          "metadata": {
            "tags": []
          },
          "execution_count": 83
        }
      ]
    },
    {
      "cell_type": "code",
      "metadata": {
        "pycharm": {
          "name": "#%%\n"
        },
        "id": "OqjuzEUSfY5n",
        "colab": {
          "base_uri": "https://localhost:8080/",
          "height": 77
        },
        "outputId": "20cdf4f2-6686-473d-e9c5-f89013fb675a"
      },
      "source": [
        "parameters_u"
      ],
      "execution_count": null,
      "outputs": [
        {
          "output_type": "execute_result",
          "data": {
            "text/html": [
              "<div>\n",
              "<style scoped>\n",
              "    .dataframe tbody tr th:only-of-type {\n",
              "        vertical-align: middle;\n",
              "    }\n",
              "\n",
              "    .dataframe tbody tr th {\n",
              "        vertical-align: top;\n",
              "    }\n",
              "\n",
              "    .dataframe thead th {\n",
              "        text-align: right;\n",
              "    }\n",
              "</style>\n",
              "<table border=\"1\" class=\"dataframe\">\n",
              "  <thead>\n",
              "    <tr style=\"text-align: right;\">\n",
              "      <th></th>\n",
              "      <th>count</th>\n",
              "      <th>mean</th>\n",
              "      <th>std</th>\n",
              "      <th>min</th>\n",
              "      <th>25%</th>\n",
              "      <th>50%</th>\n",
              "      <th>75%</th>\n",
              "      <th>max</th>\n",
              "    </tr>\n",
              "  </thead>\n",
              "  <tbody>\n",
              "    <tr>\n",
              "      <th>total_fee</th>\n",
              "      <td>985.0</td>\n",
              "      <td>2070.152284</td>\n",
              "      <td>376.187114</td>\n",
              "      <td>1950.0</td>\n",
              "      <td>1950.0</td>\n",
              "      <td>1950.0</td>\n",
              "      <td>1950.0</td>\n",
              "      <td>4800.0</td>\n",
              "    </tr>\n",
              "  </tbody>\n",
              "</table>\n",
              "</div>"
            ],
            "text/plain": [
              "           count         mean         std  ...     50%     75%     max\n",
              "total_fee  985.0  2070.152284  376.187114  ...  1950.0  1950.0  4800.0\n",
              "\n",
              "[1 rows x 8 columns]"
            ]
          },
          "metadata": {
            "tags": []
          },
          "execution_count": 84
        }
      ]
    },
    {
      "cell_type": "markdown",
      "metadata": {
        "collapsed": false,
        "id": "Frm7BMaufY5p"
      },
      "source": [
        "###Построим гистограммы\n"
      ]
    },
    {
      "cell_type": "markdown",
      "metadata": {
        "collapsed": false,
        "id": "MrwgTkqbfY5p"
      },
      "source": [
        "####Минуты разговора\n"
      ]
    },
    {
      "cell_type": "code",
      "metadata": {
        "pycharm": {
          "name": "#%%\n"
        },
        "id": "jq-kuGP_fY5p",
        "colab": {
          "base_uri": "https://localhost:8080/",
          "height": 334
        },
        "outputId": "5bd94593-811c-4103-aa46-5330dc4b9ca9"
      },
      "source": [
        "plt.figure(figsize = (10,5))\n",
        "plt.hist(revenue.query('tariff == \"smart\"')['duration'], bins=100, alpha=0.5, label='Тариф \"Смарт\"', range = (0, 1750))\n",
        "plt.hist(revenue.query('tariff == \"ultra\"')['duration'], bins=100, alpha=0.5, label='Тариф \"Ультра\"', range = (0, 1750))\n",
        "plt.legend(loc='best')\n",
        "plt.xlim(left = 0)\n",
        "plt.xlabel('Продолжительность, мин.')\n",
        "plt.ylabel('Количество наблюдений, шт.')\n",
        "plt.show()"
      ],
      "execution_count": null,
      "outputs": [
        {
          "output_type": "display_data",
          "data": {
            "image/png": "[encoded data removed]",
            "text/plain": [
              "<Figure size 720x360 with 1 Axes>"
            ]
          },
          "metadata": {
            "tags": [],
            "needs_background": "light"
          }
        }
      ]
    },
    {
      "cell_type": "markdown",
      "metadata": {
        "collapsed": false,
        "id": "ukdv-fxTfY5r"
      },
      "source": [
        "Скачки на нулях вызваны отсутствием клиентами совершаемых звонков в рамках тарифа. По тарифу \"Смарт\" пиковые значения приходятся на 280, 400 и 470 минут. Пиковое значение по тарифу \"Ультра\" - 540 минут. Основная масса клиентов совершает звонки в диапазоне от 250 до 870 минут. В обоих распределениях имеются \"большие хвосты вправо\", что говорит о том, что основной объем минут находится в левой части, т.е. с более низкими значениями."
      ]
    },
    {
      "cell_type": "markdown",
      "metadata": {
        "collapsed": false,
        "id": "Tg4-__fOfY5s"
      },
      "source": [
        "####Сообщения\n"
      ]
    },
    {
      "cell_type": "code",
      "metadata": {
        "pycharm": {
          "name": "#%%\n"
        },
        "id": "uCBHvakTfY5s",
        "colab": {
          "base_uri": "https://localhost:8080/",
          "height": 335
        },
        "outputId": "c57f6854-6fe7-4ec4-f38d-b124bd2d90f3"
      },
      "source": [
        "fig = plt.figure(figsize = (10,5))\n",
        "plt.hist(revenue.query('tariff == \"smart\"')['msgs_num'], bins=100, alpha=0.5, label='Тариф \"Смарт\"', range = (0, 200))\n",
        "plt.hist(revenue.query('tariff == \"ultra\"')['msgs_num'], bins=100, alpha=0.5, label='Тариф \"Ультра\"', range = (0, 200))\n",
        "plt.legend(loc='best')\n",
        "plt.xlim(left = 0)\n",
        "plt.xlabel('Количество СМС, шт.')\n",
        "plt.ylabel('Количество наблюдений, шт.')\n",
        "plt.show()"
      ],
      "execution_count": null,
      "outputs": [
        {
          "output_type": "display_data",
          "data": {
            "image/png": "[encoded data removed]",
            "text/plain": [
              "<Figure size 720x360 with 1 Axes>"
            ]
          },
          "metadata": {
            "tags": [],
            "needs_background": "light"
          }
        }
      ]
    },
    {
      "cell_type": "markdown",
      "metadata": {
        "collapsed": false,
        "id": "EdKata4BfY5t"
      },
      "source": [
        "Скачки на нулях вызваны отсутствием клиентами отправляемых СМС в рамках тарифа. По обоим тарифам почти никто не отправляет более 100 СМС в месяц. В обоих распределениях имеются \"большие хвосты вправо\", что говорит о том, что основной объем отправляемых СМС находится в левой части, т.е. с более низкими значениями."
      ]
    },
    {
      "cell_type": "markdown",
      "metadata": {
        "collapsed": false,
        "id": "H_oOjBAYfY5u"
      },
      "source": [
        "####Интернет-трафик\n"
      ]
    },
    {
      "cell_type": "code",
      "metadata": {
        "pycharm": {
          "name": "#%%\n"
        },
        "id": "7jvCZv0yfY5v",
        "colab": {
          "base_uri": "https://localhost:8080/",
          "height": 334
        },
        "outputId": "af40a46f-ac94-4791-86c9-2837a9f59646"
      },
      "source": [
        "fig = plt.figure(figsize = (15,5))\n",
        "plt.hist(revenue.query('tariff == \"smart\"')['gb_used'], bins=100, alpha=0.5, label='Тариф \"Смарт\"')\n",
        "plt.hist(revenue.query('tariff == \"ultra\"')['gb_used'], bins=100, alpha=0.5, label='Тариф \"Ультра\"', ec=\"k\")\n",
        "plt.plot([0, 50], [150, 150],dashes=[2, 2])\n",
        "plt.xlim(left = 0)\n",
        "plt.legend(loc='best')\n",
        "plt.xlabel('Интернет-трафик, Гб')\n",
        "plt.ylabel('Количество наблюдений, шт.')\n",
        "plt.show()"
      ],
      "execution_count": null,
      "outputs": [
        {
          "output_type": "display_data",
          "data": {
            "image/png": "[encoded data removed]",
            "text/plain": [
              "<Figure size 1080x360 with 1 Axes>"
            ]
          },
          "metadata": {
            "tags": [],
            "needs_background": "light"
          }
        }
      ]
    },
    {
      "cell_type": "markdown",
      "metadata": {
        "collapsed": false,
        "id": "zwHOj_0rfY5x"
      },
      "source": [
        "Скачков на нулях почти не наблюдается. По тарифу \"Смарт\" пиковое значение приходятся на 17 Гб. Пиковое значение по тарифу \"Ультра\" - на 19-21 Гб. Можно отметить, что в целом графики интернет-траффика имеют нормальное распределение с минимальным количеством выбросов."
      ]
    },
    {
      "cell_type": "markdown",
      "metadata": {
        "collapsed": false,
        "id": "RcNkTIiXfY5x"
      },
      "source": [
        "##Шаг 4. Проверим гипотезы\n",
        "\n",
        "---\n",
        "\n"
      ]
    },
    {
      "cell_type": "markdown",
      "metadata": {
        "collapsed": false,
        "id": "Lwc0URksfY5x"
      },
      "source": [
        "При проверке гипотез о равенстве среднего будем применять метод Z-тест (z-критерий Фишера), т.к. будем проводить сравнения двух независимых выборок большого размера.\n",
        "Критический уровень статистической значимости примем равным 5%."
      ]
    },
    {
      "cell_type": "markdown",
      "metadata": {
        "collapsed": false,
        "id": "QU-POhr0fY5y"
      },
      "source": [
        "###Средняя выручка пользователей тарифов «Ультра» и «Смарт» различается"
      ]
    },
    {
      "cell_type": "markdown",
      "metadata": {
        "collapsed": false,
        "id": "rZkaKgGQfY5y"
      },
      "source": [
        "*   H0 - средняя выручка пользователей тарифов «Смарт» и «Ультра» не различается\n",
        "*   H1 - средняя выручка пользователей тарифов «Смарт» и «Ультра» различается"
      ]
    },
    {
      "cell_type": "code",
      "metadata": {
        "pycharm": {
          "name": "#%%\n"
        },
        "id": "XzktleanfY5y",
        "colab": {
          "base_uri": "https://localhost:8080/"
        },
        "outputId": "67707822-5f55-4d22-f8fd-5bbb418d90da"
      },
      "source": [
        "alpha=0.05\n",
        "ztest, pval1 = stests.ztest(revenue.query(\"tariff=='smart'\")['total_fee'],\n",
        "                            revenue.query(\"tariff=='ultra'\")['total_fee'])\n",
        "print('p-value:', float(pval1))\n",
        "if pval1 < alpha:\n",
        "    print(\"Отвергаем нулевую гипотезу\")\n",
        "else:\n",
        "    print(\"Не получилось отвергнуть нулевую гипотезу\")"
      ],
      "execution_count": null,
      "outputs": [
        {
          "output_type": "stream",
          "text": [
            "p-value: 4.895078462039953e-180\n",
            "Отвергаем нулевую гипотезу\n"
          ],
          "name": "stdout"
        }
      ]
    },
    {
      "cell_type": "markdown",
      "metadata": {
        "collapsed": false,
        "id": "A9TWJjGGfY5z"
      },
      "source": [
        "Средняя выручка пользователей тарифов «Смарт» и «Ультра» различается, так как значение статистической  значимости меньше критического уровня статистической значимости."
      ]
    },
    {
      "cell_type": "markdown",
      "metadata": {
        "collapsed": false,
        "id": "4DzsZvSpfY51"
      },
      "source": [
        "###Средняя выручка пользователей из Москвы отличается от выручки пользователей из других регионов"
      ]
    },
    {
      "cell_type": "markdown",
      "metadata": {
        "collapsed": false,
        "id": "EZ3OpTlSfY51"
      },
      "source": [
        "*   H0 - средняя выручка пользователей из Москвы не отличается от выручки пользователей из других регионов\n",
        "*   H1 - средняя выручка пользователей из Москвы отличается от выручки пользователей из других регионов"
      ]
    },
    {
      "cell_type": "code",
      "metadata": {
        "pycharm": {
          "name": "#%%\n"
        },
        "id": "d7jL83w1fY51",
        "colab": {
          "base_uri": "https://localhost:8080/"
        },
        "outputId": "e8ad7cfc-0176-439c-8ae9-b3bab9a60b72"
      },
      "source": [
        "revenue_cities=revenue.merge(usrs,how='left',on=['user_id'])\n",
        "alpha=0.05\n",
        "ztest, pval1 = stests.ztest(revenue_cities.query('city==\"Москва\"')['total_fee'],\n",
        "                            revenue_cities.query('city!=\"Москва\"')['total_fee'])\n",
        "print('p-value:', float(pval1))\n",
        "if pval1 < alpha:\n",
        "    print(\"Отвергаем нулевую гипотезу\")\n",
        "else:\n",
        "    print(\"Не получилось отвергнуть нулевую гипотезу\")"
      ],
      "execution_count": null,
      "outputs": [
        {
          "output_type": "stream",
          "text": [
            "p-value: 0.5439724029827072\n",
            "Не получилось отвергнуть нулевую гипотезу\n"
          ],
          "name": "stdout"
        }
      ]
    },
    {
      "cell_type": "markdown",
      "metadata": {
        "collapsed": false,
        "id": "qQX2yNm_fY53"
      },
      "source": [
        "Средняя выручка пользователей из Москвы не отличается от выручки пользователей из других регионов, так как значение статистической  значимости больше критического уровня статистической значимости."
      ]
    },
    {
      "cell_type": "markdown",
      "metadata": {
        "collapsed": false,
        "id": "gxK48WBvfY54"
      },
      "source": [
        "##Шаг 5. Общий вывод\n",
        "\n",
        "---\n",
        "\n"
      ]
    },
    {
      "cell_type": "markdown",
      "metadata": {
        "collapsed": false,
        "id": "-DqA2f2cfY55"
      },
      "source": [
        "При работе с проектом были выполнены следующие шаги:\n",
        "1. Предобработка данных: данные приведены к нужным типам, найдены и исправлены ошибки в данных, обработаны нулевые значения в данных.\n",
        "2. Посчитаны для каждого пользователя:\n",
        "*   количество сделанных звонков и израсходованных минут разговора по месяцам;\n",
        "*   количество отправленных сообщений по месяцам;\n",
        "*   объем израсходованного интернет-трафика по месяцам;\n",
        "*   помесячная выручка с каждого пользователя.\n",
        "3. Проведен статистический анализ данных:\n",
        "*   описано поведение клиентов оператора, исходя из выборки;\n",
        "*   подсчитано сколько минут разговора, сколько сообщений и какой объём интернет-трафика требуется пользователям каждого тарифа в месяц;*   подсчитаны среднее количество, дисперсия и стандартное отклонение;\n",
        "*   построены гистограммы;\n",
        "*   опишисаны распределения.\n",
        "4. Проверены гипотезы:\n",
        "\n",
        "\n",
        "*   средняя выручка пользователей тарифов «Ультра» и «Смарт» различается;\n",
        "*   средняя выручка пользователей из Москвы отличается от выручки пользователей из других регионов.\n",
        "\n"
      ]
    },
    {
      "cell_type": "markdown",
      "metadata": {
        "collapsed": false,
        "id": "_4kLQkhCfY55"
      },
      "source": [
        "Количество минут разговора в месяц на тарифе \"Смарт\" составляет - 77631, на тарифе \"Ультра\" - 43227.\n",
        "Количество сообщений в месяц на тарифе \"Смарт\" составляет - 6201, на тарифе \"Ультра\" - 4052.\n",
        "Объем трафика (в Гб) в месяц на тарифе \"Смарт\" составляет - 3033, на тарифе \"Ультра\" - 1600.\n",
        "\n",
        "В тарифе \"Ультра\" практически никто не выходит за рамки пределы лимитов, тогда как в тарифе \"Смарт\" при стоимости 550 руб. в месяц разброс относительно большой, а мат. ожидание равно 818 руб.\n",
        "Нормальные значения для тарифа \"Смарт\" от 550 руб. до 1 750 руб., прочие можем считать выбросами. Максимально допустимое значение у тарифа \"Смарт\" - 5 350 руб.\n",
        "Для тарифа Ultra нормальное значение - цена тарифа, 1 950р.\n",
        "\n",
        "Проверка гипотезы только подтвердила, что различия в средних неслучайны. Также выявили, что выручка пользователей из Москвы не отличается от выручки пользователей из других регионов."
      ]
    }
  ]
}
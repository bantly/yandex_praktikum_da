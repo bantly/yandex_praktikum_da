{
  "nbformat": 4,
  "nbformat_minor": 0,
  "metadata": {
    "colab": {
      "name": "yandex_afisha_analytics_final.ipynb",
      "provenance": [],
      "collapsed_sections": [],
      "include_colab_link": true
    },
    "kernelspec": {
      "display_name": "Python 3",
      "language": "python",
      "name": "python3"
    },
    "language_info": {
      "codemirror_mode": {
        "name": "ipython",
        "version": 3
      },
      "file_extension": ".py",
      "mimetype": "text/x-python",
      "name": "python",
      "nbconvert_exporter": "python",
      "pygments_lexer": "ipython3",
      "version": "3.7.6"
    }
  },
  "cells": [
    {
      "cell_type": "markdown",
      "metadata": {
        "id": "view-in-github",
        "colab_type": "text"
      },
      "source": [
        "<a href=\"https://colab.research.google.com/github/dsibi/yandex_praktikum_da/blob/main/assessment_of_traffic_sources/assessment_of_traffic_sources.ipynb\" target=\"_parent\"><img src=\"https://colab.research.google.com/assets/colab-badge.svg\" alt=\"Open In Colab\"/></a>"
      ]
    },
    {
      "cell_type": "markdown",
      "metadata": {
        "id": "VllUVw8zlC5w"
      },
      "source": [
        "#**Аналитика в Яндекс.Афише**\n",
        "\n",
        "---"
      ]
    },
    {
      "cell_type": "markdown",
      "metadata": {
        "id": "h9UmXukQRUjV"
      },
      "source": [
        "## Описание проекта"
      ]
    },
    {
      "cell_type": "markdown",
      "metadata": {
        "id": "5OL_VgzZl6w-"
      },
      "source": [
        "Вас пригласили на стажировку в отдел аналитики Яндекс.Афиши. Первое задание: помочь маркетологам оптимизировать маркетинговые затраты.\n",
        "У вас в распоряжении есть данные от Яндекс.Афиши с июня 2017 по конец мая 2018 года:\n",
        "*  лог сервера с данными о посещениях сайта Яндекс.Афиши,\n",
        "*  выгрузка всех заказов за этот период,\n",
        "*  статистика рекламных расходов.\n",
        "\n",
        "Вы изучите:\n",
        "*  как люди пользуются продуктом,\n",
        "*  когда они начинают покупать,\n",
        "*  сколько денег приносит каждый клиент\n",
        "*  когда клиент окупается."
      ]
    },
    {
      "cell_type": "markdown",
      "metadata": {
        "id": "3WTXb2DhmssU"
      },
      "source": [
        "##Описание данных"
      ]
    },
    {
      "cell_type": "markdown",
      "metadata": {
        "id": "Jqh-jgiBmvvk"
      },
      "source": [
        "Таблица visits (лог сервера с информацией о посещениях сайта):\n",
        "* Uid — уникальный идентификатор пользователя\n",
        "* Device — категория устройства пользователя\n",
        "* Start Ts — дата и время начала сессии\n",
        "* End Ts — дата и время окончания сессии\n",
        "* Source Id — идентификатор рекламного источника, из которого пришел пользователь\n",
        "\n",
        "Таблица orders (информация о заказах):\n",
        "* Uid — уникальный id пользователя, который сделал заказ\n",
        "* Buy Ts — дата и время заказа\n",
        "* Revenue — выручка Яндекс.Афиши с этого заказа\n",
        "\n",
        "Таблица costs (информация о затратах на маркетинг):\n",
        "* source_id — идентификатор рекламного источника\n",
        "* dt — дата\n",
        "* costs — затраты на этот рекламный источник в этот день"
      ]
    },
    {
      "cell_type": "markdown",
      "metadata": {
        "id": "iQB_GHy-UPB4"
      },
      "source": [
        "##Шаг 1. Загрузим данные и подготовим их к анализу\n",
        "\n",
        "---\n",
        "\n"
      ]
    },
    {
      "cell_type": "markdown",
      "metadata": {
        "id": "t4AbWSrcYENJ"
      },
      "source": [
        "###1.1. Загрузим файлы с данными и изучим общую информацию"
      ]
    },
    {
      "cell_type": "markdown",
      "metadata": {
        "id": "enrH5_Mj5AXA"
      },
      "source": [
        "Импортируем все необходимые нам библиотеки, далее новые библиотеки будем добавлять сюда же"
      ]
    },
    {
      "cell_type": "code",
      "metadata": {
        "id": "s1ra9wIlUYmh"
      },
      "source": [
        "import pandas as pd\n",
        "import matplotlib.pyplot as plt\n",
        "import numpy as np\n",
        "import seaborn as sns\n",
        "from matplotlib import pyplot as plt"
      ],
      "execution_count": null,
      "outputs": []
    },
    {
      "cell_type": "markdown",
      "metadata": {
        "id": "T22fxDAo6VgL"
      },
      "source": [
        "Чтение файлов"
      ]
    },
    {
      "cell_type": "code",
      "metadata": {
        "id": "RQXXMZE9UkWh"
      },
      "source": [
        "# visits=pd.read_csv('/datasets/visits_log.csv')\n",
        "# orders=pd.read_csv('/datasets/orders_log.csv')\n",
        "# costs=pd.read_csv('/datasets/costs.csv')"
      ],
      "execution_count": null,
      "outputs": []
    },
    {
      "cell_type": "code",
      "metadata": {
        "id": "VVYZsNM3YnKi",
        "colab": {
          "base_uri": "https://localhost:8080/"
        },
        "outputId": "ce33e192-0bf7-4417-c03b-687c91e366c6"
      },
      "source": [
        "from google.colab import drive\n",
        "drive.mount('/content/drive')"
      ],
      "execution_count": null,
      "outputs": [
        {
          "output_type": "stream",
          "text": [
            "Mounted at /content/drive\n"
          ],
          "name": "stdout"
        }
      ]
    },
    {
      "cell_type": "markdown",
      "metadata": {
        "id": "5rKyG93759zc"
      },
      "source": [
        "Чтение файлов"
      ]
    },
    {
      "cell_type": "code",
      "metadata": {
        "id": "f91mlL5W59zc"
      },
      "source": [
        "visits=pd.read_csv('/content/drive/MyDrive/Edu/Data Analysis/7_Анализ бизнес-показателей/!Project/data/visits_log.csv')\n",
        "orders=pd.read_csv('/content/drive/MyDrive/Edu/Data Analysis/7_Анализ бизнес-показателей/!Project/data/orders_log.csv')\n",
        "costs=pd.read_csv('/content/drive/MyDrive/Edu/Data Analysis/7_Анализ бизнес-показателей/!Project/data/costs.csv')"
      ],
      "execution_count": null,
      "outputs": []
    },
    {
      "cell_type": "markdown",
      "metadata": {
        "id": "Qc3oFvIS6fVE"
      },
      "source": [
        "Изучим общую информацию "
      ]
    },
    {
      "cell_type": "code",
      "metadata": {
        "id": "d6XpZ_mG6e_g",
        "colab": {
          "base_uri": "https://localhost:8080/",
          "height": 1000
        },
        "outputId": "ed7435cd-5eee-4242-cd5f-a75d2311b12e"
      },
      "source": [
        "df_list = [visits, orders, costs]\n",
        "for df in df_list:   \n",
        "    print('Первые 5 строк датафрейма')\n",
        "    print('-'*80)\n",
        "    display(df.head(5))\n",
        "    print('-'*80)\n",
        "    print('Размер датафрейма: (строк:столбцов) {}'.format(df.shape))\n",
        "    print('-'*80)\n",
        "    print('Типы данных и общая информация')\n",
        "    print(df.info())\n",
        "    print('-'*80)\n",
        "    print('Наличие дубликатов: {}'.format(df.duplicated().sum()))\n",
        "    print('-'*80)\n",
        "    print('Наличие пропусков')\n",
        "    print('-'*80)\n",
        "    print(df.isna().sum())"
      ],
      "execution_count": null,
      "outputs": [
        {
          "output_type": "stream",
          "text": [
            "Первые 5 строк датафрейма\n",
            "--------------------------------------------------------------------------------\n"
          ],
          "name": "stdout"
        },
        {
          "output_type": "display_data",
          "data": {
            "text/html": [
              "<div>\n",
              "<style scoped>\n",
              "    .dataframe tbody tr th:only-of-type {\n",
              "        vertical-align: middle;\n",
              "    }\n",
              "\n",
              "    .dataframe tbody tr th {\n",
              "        vertical-align: top;\n",
              "    }\n",
              "\n",
              "    .dataframe thead th {\n",
              "        text-align: right;\n",
              "    }\n",
              "</style>\n",
              "<table border=\"1\" class=\"dataframe\">\n",
              "  <thead>\n",
              "    <tr style=\"text-align: right;\">\n",
              "      <th></th>\n",
              "      <th>Device</th>\n",
              "      <th>End Ts</th>\n",
              "      <th>Source Id</th>\n",
              "      <th>Start Ts</th>\n",
              "      <th>Uid</th>\n",
              "    </tr>\n",
              "  </thead>\n",
              "  <tbody>\n",
              "    <tr>\n",
              "      <th>0</th>\n",
              "      <td>touch</td>\n",
              "      <td>2017-12-20 17:38:00</td>\n",
              "      <td>4</td>\n",
              "      <td>2017-12-20 17:20:00</td>\n",
              "      <td>16879256277535980062</td>\n",
              "    </tr>\n",
              "    <tr>\n",
              "      <th>1</th>\n",
              "      <td>desktop</td>\n",
              "      <td>2018-02-19 17:21:00</td>\n",
              "      <td>2</td>\n",
              "      <td>2018-02-19 16:53:00</td>\n",
              "      <td>104060357244891740</td>\n",
              "    </tr>\n",
              "    <tr>\n",
              "      <th>2</th>\n",
              "      <td>touch</td>\n",
              "      <td>2017-07-01 01:54:00</td>\n",
              "      <td>5</td>\n",
              "      <td>2017-07-01 01:54:00</td>\n",
              "      <td>7459035603376831527</td>\n",
              "    </tr>\n",
              "    <tr>\n",
              "      <th>3</th>\n",
              "      <td>desktop</td>\n",
              "      <td>2018-05-20 11:23:00</td>\n",
              "      <td>9</td>\n",
              "      <td>2018-05-20 10:59:00</td>\n",
              "      <td>16174680259334210214</td>\n",
              "    </tr>\n",
              "    <tr>\n",
              "      <th>4</th>\n",
              "      <td>desktop</td>\n",
              "      <td>2017-12-27 14:06:00</td>\n",
              "      <td>3</td>\n",
              "      <td>2017-12-27 14:06:00</td>\n",
              "      <td>9969694820036681168</td>\n",
              "    </tr>\n",
              "  </tbody>\n",
              "</table>\n",
              "</div>"
            ],
            "text/plain": [
              "    Device               End Ts  ...             Start Ts                   Uid\n",
              "0    touch  2017-12-20 17:38:00  ...  2017-12-20 17:20:00  16879256277535980062\n",
              "1  desktop  2018-02-19 17:21:00  ...  2018-02-19 16:53:00    104060357244891740\n",
              "2    touch  2017-07-01 01:54:00  ...  2017-07-01 01:54:00   7459035603376831527\n",
              "3  desktop  2018-05-20 11:23:00  ...  2018-05-20 10:59:00  16174680259334210214\n",
              "4  desktop  2017-12-27 14:06:00  ...  2017-12-27 14:06:00   9969694820036681168\n",
              "\n",
              "[5 rows x 5 columns]"
            ]
          },
          "metadata": {
            "tags": []
          }
        },
        {
          "output_type": "stream",
          "text": [
            "--------------------------------------------------------------------------------\n",
            "Размер датафрейма: (строк:столбцов) (359400, 5)\n",
            "--------------------------------------------------------------------------------\n",
            "Типы данных и общая информация\n",
            "<class 'pandas.core.frame.DataFrame'>\n",
            "RangeIndex: 359400 entries, 0 to 359399\n",
            "Data columns (total 5 columns):\n",
            " #   Column     Non-Null Count   Dtype \n",
            "---  ------     --------------   ----- \n",
            " 0   Device     359400 non-null  object\n",
            " 1   End Ts     359400 non-null  object\n",
            " 2   Source Id  359400 non-null  int64 \n",
            " 3   Start Ts   359400 non-null  object\n",
            " 4   Uid        359400 non-null  uint64\n",
            "dtypes: int64(1), object(3), uint64(1)\n",
            "memory usage: 13.7+ MB\n",
            "None\n",
            "--------------------------------------------------------------------------------\n",
            "Наличие дубликатов: 0\n",
            "--------------------------------------------------------------------------------\n",
            "Наличие пропусков\n",
            "--------------------------------------------------------------------------------\n",
            "Device       0\n",
            "End Ts       0\n",
            "Source Id    0\n",
            "Start Ts     0\n",
            "Uid          0\n",
            "dtype: int64\n",
            "Первые 5 строк датафрейма\n",
            "--------------------------------------------------------------------------------\n"
          ],
          "name": "stdout"
        },
        {
          "output_type": "display_data",
          "data": {
            "text/html": [
              "<div>\n",
              "<style scoped>\n",
              "    .dataframe tbody tr th:only-of-type {\n",
              "        vertical-align: middle;\n",
              "    }\n",
              "\n",
              "    .dataframe tbody tr th {\n",
              "        vertical-align: top;\n",
              "    }\n",
              "\n",
              "    .dataframe thead th {\n",
              "        text-align: right;\n",
              "    }\n",
              "</style>\n",
              "<table border=\"1\" class=\"dataframe\">\n",
              "  <thead>\n",
              "    <tr style=\"text-align: right;\">\n",
              "      <th></th>\n",
              "      <th>Buy Ts</th>\n",
              "      <th>Revenue</th>\n",
              "      <th>Uid</th>\n",
              "    </tr>\n",
              "  </thead>\n",
              "  <tbody>\n",
              "    <tr>\n",
              "      <th>0</th>\n",
              "      <td>2017-06-01 00:10:00</td>\n",
              "      <td>17.00</td>\n",
              "      <td>10329302124590727494</td>\n",
              "    </tr>\n",
              "    <tr>\n",
              "      <th>1</th>\n",
              "      <td>2017-06-01 00:25:00</td>\n",
              "      <td>0.55</td>\n",
              "      <td>11627257723692907447</td>\n",
              "    </tr>\n",
              "    <tr>\n",
              "      <th>2</th>\n",
              "      <td>2017-06-01 00:27:00</td>\n",
              "      <td>0.37</td>\n",
              "      <td>17903680561304213844</td>\n",
              "    </tr>\n",
              "    <tr>\n",
              "      <th>3</th>\n",
              "      <td>2017-06-01 00:29:00</td>\n",
              "      <td>0.55</td>\n",
              "      <td>16109239769442553005</td>\n",
              "    </tr>\n",
              "    <tr>\n",
              "      <th>4</th>\n",
              "      <td>2017-06-01 07:58:00</td>\n",
              "      <td>0.37</td>\n",
              "      <td>14200605875248379450</td>\n",
              "    </tr>\n",
              "  </tbody>\n",
              "</table>\n",
              "</div>"
            ],
            "text/plain": [
              "                Buy Ts  Revenue                   Uid\n",
              "0  2017-06-01 00:10:00    17.00  10329302124590727494\n",
              "1  2017-06-01 00:25:00     0.55  11627257723692907447\n",
              "2  2017-06-01 00:27:00     0.37  17903680561304213844\n",
              "3  2017-06-01 00:29:00     0.55  16109239769442553005\n",
              "4  2017-06-01 07:58:00     0.37  14200605875248379450"
            ]
          },
          "metadata": {
            "tags": []
          }
        },
        {
          "output_type": "stream",
          "text": [
            "--------------------------------------------------------------------------------\n",
            "Размер датафрейма: (строк:столбцов) (50415, 3)\n",
            "--------------------------------------------------------------------------------\n",
            "Типы данных и общая информация\n",
            "<class 'pandas.core.frame.DataFrame'>\n",
            "RangeIndex: 50415 entries, 0 to 50414\n",
            "Data columns (total 3 columns):\n",
            " #   Column   Non-Null Count  Dtype  \n",
            "---  ------   --------------  -----  \n",
            " 0   Buy Ts   50415 non-null  object \n",
            " 1   Revenue  50415 non-null  float64\n",
            " 2   Uid      50415 non-null  uint64 \n",
            "dtypes: float64(1), object(1), uint64(1)\n",
            "memory usage: 1.2+ MB\n",
            "None\n",
            "--------------------------------------------------------------------------------\n",
            "Наличие дубликатов: 0\n",
            "--------------------------------------------------------------------------------\n",
            "Наличие пропусков\n",
            "--------------------------------------------------------------------------------\n",
            "Buy Ts     0\n",
            "Revenue    0\n",
            "Uid        0\n",
            "dtype: int64\n",
            "Первые 5 строк датафрейма\n",
            "--------------------------------------------------------------------------------\n"
          ],
          "name": "stdout"
        },
        {
          "output_type": "display_data",
          "data": {
            "text/html": [
              "<div>\n",
              "<style scoped>\n",
              "    .dataframe tbody tr th:only-of-type {\n",
              "        vertical-align: middle;\n",
              "    }\n",
              "\n",
              "    .dataframe tbody tr th {\n",
              "        vertical-align: top;\n",
              "    }\n",
              "\n",
              "    .dataframe thead th {\n",
              "        text-align: right;\n",
              "    }\n",
              "</style>\n",
              "<table border=\"1\" class=\"dataframe\">\n",
              "  <thead>\n",
              "    <tr style=\"text-align: right;\">\n",
              "      <th></th>\n",
              "      <th>source_id</th>\n",
              "      <th>dt</th>\n",
              "      <th>costs</th>\n",
              "    </tr>\n",
              "  </thead>\n",
              "  <tbody>\n",
              "    <tr>\n",
              "      <th>0</th>\n",
              "      <td>1</td>\n",
              "      <td>2017-06-01</td>\n",
              "      <td>75.20</td>\n",
              "    </tr>\n",
              "    <tr>\n",
              "      <th>1</th>\n",
              "      <td>1</td>\n",
              "      <td>2017-06-02</td>\n",
              "      <td>62.25</td>\n",
              "    </tr>\n",
              "    <tr>\n",
              "      <th>2</th>\n",
              "      <td>1</td>\n",
              "      <td>2017-06-03</td>\n",
              "      <td>36.53</td>\n",
              "    </tr>\n",
              "    <tr>\n",
              "      <th>3</th>\n",
              "      <td>1</td>\n",
              "      <td>2017-06-04</td>\n",
              "      <td>55.00</td>\n",
              "    </tr>\n",
              "    <tr>\n",
              "      <th>4</th>\n",
              "      <td>1</td>\n",
              "      <td>2017-06-05</td>\n",
              "      <td>57.08</td>\n",
              "    </tr>\n",
              "  </tbody>\n",
              "</table>\n",
              "</div>"
            ],
            "text/plain": [
              "   source_id          dt  costs\n",
              "0          1  2017-06-01  75.20\n",
              "1          1  2017-06-02  62.25\n",
              "2          1  2017-06-03  36.53\n",
              "3          1  2017-06-04  55.00\n",
              "4          1  2017-06-05  57.08"
            ]
          },
          "metadata": {
            "tags": []
          }
        },
        {
          "output_type": "stream",
          "text": [
            "--------------------------------------------------------------------------------\n",
            "Размер датафрейма: (строк:столбцов) (2542, 3)\n",
            "--------------------------------------------------------------------------------\n",
            "Типы данных и общая информация\n",
            "<class 'pandas.core.frame.DataFrame'>\n",
            "RangeIndex: 2542 entries, 0 to 2541\n",
            "Data columns (total 3 columns):\n",
            " #   Column     Non-Null Count  Dtype  \n",
            "---  ------     --------------  -----  \n",
            " 0   source_id  2542 non-null   int64  \n",
            " 1   dt         2542 non-null   object \n",
            " 2   costs      2542 non-null   float64\n",
            "dtypes: float64(1), int64(1), object(1)\n",
            "memory usage: 59.7+ KB\n",
            "None\n",
            "--------------------------------------------------------------------------------\n",
            "Наличие дубликатов: 0\n",
            "--------------------------------------------------------------------------------\n",
            "Наличие пропусков\n",
            "--------------------------------------------------------------------------------\n",
            "source_id    0\n",
            "dt           0\n",
            "costs        0\n",
            "dtype: int64\n"
          ],
          "name": "stdout"
        }
      ]
    },
    {
      "cell_type": "markdown",
      "metadata": {
        "id": "es98fCBgCWFk"
      },
      "source": [
        "1. Названия столбцов: корректировка требуется в visits и orders.\n",
        "2. Типы данных: необходимо скорректировать ряд столбцов в формат даты.\n",
        "3. Пропуски отсутствуют.\n",
        "4. Аномалии в данных на первый взгляд отсутствуют."
      ]
    },
    {
      "cell_type": "markdown",
      "metadata": {
        "id": "77FF9wdUJlCY"
      },
      "source": [
        "###1.2. Подготовим данные к анализу"
      ]
    },
    {
      "cell_type": "markdown",
      "metadata": {
        "id": "Ac44Z-0hiaWe"
      },
      "source": [
        "####Корректировка названий столбцов"
      ]
    },
    {
      "cell_type": "code",
      "metadata": {
        "id": "Ncu7zBHwld9O"
      },
      "source": [
        "for df in df_list:\n",
        "  df.columns=[col.lower().replace(' ','_') for col in df.columns]"
      ],
      "execution_count": null,
      "outputs": []
    },
    {
      "cell_type": "markdown",
      "metadata": {
        "id": "QDOmkCsc5yq-"
      },
      "source": [
        "####Произведем изменение типа данных "
      ]
    },
    {
      "cell_type": "code",
      "metadata": {
        "id": "XvtgLdPUocoj",
        "colab": {
          "base_uri": "https://localhost:8080/"
        },
        "outputId": "939825a4-6478-4aa2-f01c-5cdd13416247"
      },
      "source": [
        "df_list = [visits, orders, costs]\n",
        "for df in df_list:\n",
        "  df.info()"
      ],
      "execution_count": null,
      "outputs": [
        {
          "output_type": "stream",
          "text": [
            "<class 'pandas.core.frame.DataFrame'>\n",
            "RangeIndex: 359400 entries, 0 to 359399\n",
            "Data columns (total 5 columns):\n",
            " #   Column     Non-Null Count   Dtype \n",
            "---  ------     --------------   ----- \n",
            " 0   device     359400 non-null  object\n",
            " 1   end_ts     359400 non-null  object\n",
            " 2   source_id  359400 non-null  int64 \n",
            " 3   start_ts   359400 non-null  object\n",
            " 4   uid        359400 non-null  uint64\n",
            "dtypes: int64(1), object(3), uint64(1)\n",
            "memory usage: 13.7+ MB\n",
            "<class 'pandas.core.frame.DataFrame'>\n",
            "RangeIndex: 50415 entries, 0 to 50414\n",
            "Data columns (total 3 columns):\n",
            " #   Column   Non-Null Count  Dtype  \n",
            "---  ------   --------------  -----  \n",
            " 0   buy_ts   50415 non-null  object \n",
            " 1   revenue  50415 non-null  float64\n",
            " 2   uid      50415 non-null  uint64 \n",
            "dtypes: float64(1), object(1), uint64(1)\n",
            "memory usage: 1.2+ MB\n",
            "<class 'pandas.core.frame.DataFrame'>\n",
            "RangeIndex: 2542 entries, 0 to 2541\n",
            "Data columns (total 3 columns):\n",
            " #   Column     Non-Null Count  Dtype  \n",
            "---  ------     --------------  -----  \n",
            " 0   source_id  2542 non-null   int64  \n",
            " 1   dt         2542 non-null   object \n",
            " 2   costs      2542 non-null   float64\n",
            "dtypes: float64(1), int64(1), object(1)\n",
            "memory usage: 59.7+ KB\n"
          ],
          "name": "stdout"
        }
      ]
    },
    {
      "cell_type": "code",
      "metadata": {
        "id": "bn6fJ4hpmDHZ"
      },
      "source": [
        "visits['end_ts']=pd.to_datetime(visits['end_ts'])\n",
        "visits['start_ts']=pd.to_datetime(visits['start_ts'])\n",
        "orders['buy_ts']=pd.to_datetime(orders['buy_ts'])\n",
        "costs['dt']=pd.to_datetime(costs['dt'])"
      ],
      "execution_count": null,
      "outputs": []
    },
    {
      "cell_type": "code",
      "metadata": {
        "id": "gyv_6RFXotmw",
        "colab": {
          "base_uri": "https://localhost:8080/"
        },
        "outputId": "1780a6be-3485-4c15-e1a5-9f56b10137e9"
      },
      "source": [
        "df_list = [visits, orders, costs]\n",
        "for df in df_list:\n",
        "  df.info()"
      ],
      "execution_count": null,
      "outputs": [
        {
          "output_type": "stream",
          "text": [
            "<class 'pandas.core.frame.DataFrame'>\n",
            "RangeIndex: 359400 entries, 0 to 359399\n",
            "Data columns (total 5 columns):\n",
            " #   Column     Non-Null Count   Dtype         \n",
            "---  ------     --------------   -----         \n",
            " 0   device     359400 non-null  object        \n",
            " 1   end_ts     359400 non-null  datetime64[ns]\n",
            " 2   source_id  359400 non-null  int64         \n",
            " 3   start_ts   359400 non-null  datetime64[ns]\n",
            " 4   uid        359400 non-null  uint64        \n",
            "dtypes: datetime64[ns](2), int64(1), object(1), uint64(1)\n",
            "memory usage: 13.7+ MB\n",
            "<class 'pandas.core.frame.DataFrame'>\n",
            "RangeIndex: 50415 entries, 0 to 50414\n",
            "Data columns (total 3 columns):\n",
            " #   Column   Non-Null Count  Dtype         \n",
            "---  ------   --------------  -----         \n",
            " 0   buy_ts   50415 non-null  datetime64[ns]\n",
            " 1   revenue  50415 non-null  float64       \n",
            " 2   uid      50415 non-null  uint64        \n",
            "dtypes: datetime64[ns](1), float64(1), uint64(1)\n",
            "memory usage: 1.2 MB\n",
            "<class 'pandas.core.frame.DataFrame'>\n",
            "RangeIndex: 2542 entries, 0 to 2541\n",
            "Data columns (total 3 columns):\n",
            " #   Column     Non-Null Count  Dtype         \n",
            "---  ------     --------------  -----         \n",
            " 0   source_id  2542 non-null   int64         \n",
            " 1   dt         2542 non-null   datetime64[ns]\n",
            " 2   costs      2542 non-null   float64       \n",
            "dtypes: datetime64[ns](1), float64(1), int64(1)\n",
            "memory usage: 59.7 KB\n"
          ],
          "name": "stdout"
        }
      ]
    },
    {
      "cell_type": "markdown",
      "metadata": {
        "id": "4jIkplIcAY-5"
      },
      "source": [
        "Подготовку данных к анализу завершили."
      ]
    },
    {
      "cell_type": "markdown",
      "metadata": {
        "id": "aWF8OfAHuk4y"
      },
      "source": [
        "##Шаг 2. Построим отчёты и посчитаем метрики\n",
        "\n",
        "---\n",
        "\n"
      ]
    },
    {
      "cell_type": "markdown",
      "metadata": {
        "id": "ur4Vdra413Ec"
      },
      "source": [
        "###2.1. Продукт"
      ]
    },
    {
      "cell_type": "markdown",
      "metadata": {
        "id": "WiKWHKDiYth8"
      },
      "source": [
        "#### 2.1.1. Сколько людей пользуются в день, неделю, месяц?"
      ]
    },
    {
      "cell_type": "markdown",
      "metadata": {
        "id": "1xTnjPcrytht"
      },
      "source": [
        "Чтобы посчитать недельное и месячное использование, выделим в отдельные столбцы месяц и неделю, а также полную дату."
      ]
    },
    {
      "cell_type": "code",
      "metadata": {
        "id": "xDYoNP0HqxWU"
      },
      "source": [
        "visits['session_date'] = visits['start_ts'].dt.date\n",
        "visits['session_week'] = visits['start_ts'].dt.isocalendar().week\n",
        "# visits['session_week'] = visits['start_ts'].dt.week\n",
        "visits['session_month'] = visits['start_ts'].dt.month"
      ],
      "execution_count": null,
      "outputs": []
    },
    {
      "cell_type": "markdown",
      "metadata": {
        "id": "fetJ_Ng7zJnk"
      },
      "source": [
        "Посчитаем метрики. Сгруппируем данные по уникальным пользователям и построим графики."
      ]
    },
    {
      "cell_type": "code",
      "metadata": {
        "id": "vQ_EWBfQzJnm"
      },
      "source": [
        "dau_total = visits.groupby('session_date').agg({'uid': 'nunique'})\n",
        "wau_total = visits.groupby('session_week').agg({'uid': 'nunique'})\n",
        "mau_total = visits.groupby('session_month').agg({'uid': 'nunique'})"
      ],
      "execution_count": null,
      "outputs": []
    },
    {
      "cell_type": "markdown",
      "metadata": {
        "id": "KRGhNrsbKkPn"
      },
      "source": [
        "\n",
        "\n",
        "*   дни\n",
        "\n"
      ]
    },
    {
      "cell_type": "code",
      "metadata": {
        "id": "zB3Dn30pGRIG",
        "colab": {
          "base_uri": "https://localhost:8080/",
          "height": 350
        },
        "outputId": "90328178-dcc1-4499-ab6f-df2718e34397"
      },
      "source": [
        "dau_total.plot(grid=True, title='Количество посещений в день', figsize=(15, 5),legend=False)\n",
        "plt.gca().set(xlabel='Дни', ylabel='Количество посещений, шт.')\n",
        "plt.show()"
      ],
      "execution_count": null,
      "outputs": [
        {
          "output_type": "display_data",
          "data": {
            "image/png": "[encoded data removed]",
            "text/plain": [
              "<Figure size 1080x360 with 1 Axes>"
            ]
          },
          "metadata": {
            "tags": [],
            "needs_background": "light"
          }
        }
      ]
    },
    {
      "cell_type": "markdown",
      "metadata": {
        "id": "2fD2IcsoJzjB"
      },
      "source": [
        "Среднее DAU:"
      ]
    },
    {
      "cell_type": "code",
      "metadata": {
        "id": "VPgA0OT3KD-d",
        "colab": {
          "base_uri": "https://localhost:8080/"
        },
        "outputId": "244355a2-625b-42df-8d33-d7e34c9cd4a1"
      },
      "source": [
        "dau_total.mean().astype('int')"
      ],
      "execution_count": null,
      "outputs": [
        {
          "output_type": "execute_result",
          "data": {
            "text/plain": [
              "uid    907\n",
              "dtype: int64"
            ]
          },
          "metadata": {
            "tags": []
          },
          "execution_count": 13
        }
      ]
    },
    {
      "cell_type": "markdown",
      "metadata": {
        "id": "hOCtjI1EKqWg"
      },
      "source": [
        "\n",
        "\n",
        "*   недели\n",
        "\n"
      ]
    },
    {
      "cell_type": "code",
      "metadata": {
        "id": "qQtP2drqKfW4",
        "colab": {
          "base_uri": "https://localhost:8080/",
          "height": 350
        },
        "outputId": "108600d5-b5e5-45c8-ad6a-c56559dbb17a"
      },
      "source": [
        "wau_total.plot(grid=True, title='Количество посещений в неделю', figsize=(15, 5),legend=False)\n",
        "plt.gca().set(xlabel='Недели', ylabel='Количество посещений, шт.')\n",
        "plt.show()"
      ],
      "execution_count": null,
      "outputs": [
        {
          "output_type": "display_data",
          "data": {
            "image/png": "[encoded data removed]",
            "text/plain": [
              "<Figure size 1080x360 with 1 Axes>"
            ]
          },
          "metadata": {
            "tags": [],
            "needs_background": "light"
          }
        }
      ]
    },
    {
      "cell_type": "markdown",
      "metadata": {
        "id": "AlW2hY-VKfW7"
      },
      "source": [
        "Среднее WAU:"
      ]
    },
    {
      "cell_type": "code",
      "metadata": {
        "id": "kgmJixZeKfW7",
        "colab": {
          "base_uri": "https://localhost:8080/"
        },
        "outputId": "421e05e0-787b-4379-9c13-c1bc79fd7ea6"
      },
      "source": [
        "wau_total.mean().astype('int')"
      ],
      "execution_count": null,
      "outputs": [
        {
          "output_type": "execute_result",
          "data": {
            "text/plain": [
              "uid    5825\n",
              "dtype: int64"
            ]
          },
          "metadata": {
            "tags": []
          },
          "execution_count": 15
        }
      ]
    },
    {
      "cell_type": "markdown",
      "metadata": {
        "id": "pibd1fo5KrAv"
      },
      "source": [
        "\n",
        "\n",
        "*   месяца\n",
        "\n"
      ]
    },
    {
      "cell_type": "code",
      "metadata": {
        "id": "cXFb0jwSKfxL",
        "colab": {
          "base_uri": "https://localhost:8080/",
          "height": 350
        },
        "outputId": "29850ffd-9419-440d-aaa8-005856af1cba"
      },
      "source": [
        "mau_total.plot(grid=True, title='Количество посещений в месяц', figsize=(15, 5),legend=False)\n",
        "plt.gca().set(xlabel='Месяцы', ylabel='Количество посещений, шт.')\n",
        "plt.show()"
      ],
      "execution_count": null,
      "outputs": [
        {
          "output_type": "display_data",
          "data": {
            "image/png": "[encoded data removed]",
            "text/plain": [
              "<Figure size 1080x360 with 1 Axes>"
            ]
          },
          "metadata": {
            "tags": [],
            "needs_background": "light"
          }
        }
      ]
    },
    {
      "cell_type": "markdown",
      "metadata": {
        "id": "o4BzxHNsKfxM"
      },
      "source": [
        "Среднее MAU:"
      ]
    },
    {
      "cell_type": "code",
      "metadata": {
        "id": "m1aSM5dlKfxM",
        "colab": {
          "base_uri": "https://localhost:8080/"
        },
        "outputId": "c8afb247-d5ea-4469-fd12-b133e07b3afc"
      },
      "source": [
        "mau_total.mean().astype('int')"
      ],
      "execution_count": null,
      "outputs": [
        {
          "output_type": "execute_result",
          "data": {
            "text/plain": [
              "uid    23228\n",
              "dtype: int64"
            ]
          },
          "metadata": {
            "tags": []
          },
          "execution_count": 17
        }
      ]
    },
    {
      "cell_type": "markdown",
      "metadata": {
        "id": "T2e5BK3CY7Z4"
      },
      "source": [
        "#### 2.1.2. Сколько сессий в день?"
      ]
    },
    {
      "cell_type": "code",
      "metadata": {
        "id": "X6nkfzx4DADk",
        "colab": {
          "base_uri": "https://localhost:8080/"
        },
        "outputId": "e291b67e-afe1-413b-f1aa-704940a0bd2e"
      },
      "source": [
        "sessions_per_user = visits.groupby('session_date').agg({'uid': 'count'}).mean()\n",
        "print(f'{int(sessions_per_user)} сессий в день')"
      ],
      "execution_count": null,
      "outputs": [
        {
          "output_type": "stream",
          "text": [
            "987 сессий в день\n"
          ],
          "name": "stdout"
        }
      ]
    },
    {
      "cell_type": "markdown",
      "metadata": {
        "id": "X7bFm4UQY-sA"
      },
      "source": [
        "#### 2.1.3. Сколько длится одна сессия?"
      ]
    },
    {
      "cell_type": "code",
      "metadata": {
        "id": "Bty8K2DuFv63"
      },
      "source": [
        "visits['session_duration_sec']=(visits['end_ts']-visits['start_ts']).dt.seconds\n",
        "# print(round((visits['session_duration_sec'].mean()),1),'секунды')\n",
        "#print(f'{round((visits['session_duration_sec'].mean()),1)} секунды')"
      ],
      "execution_count": null,
      "outputs": []
    },
    {
      "cell_type": "code",
      "metadata": {
        "id": "XBTMORLe5b7S",
        "colab": {
          "base_uri": "https://localhost:8080/",
          "height": 334
        },
        "outputId": "c8201b4e-9c0a-4f6a-faef-6d8068683fe9"
      },
      "source": [
        "ax=visits['session_duration_sec'].hist(bins=100, figsize=(23,5))\n",
        "plt.xlabel('Длительность сессии, сек')\n",
        "plt.ylabel('Количество сессий, шт.');"
      ],
      "execution_count": null,
      "outputs": [
        {
          "output_type": "display_data",
          "data": {
            "image/png": "[encoded data removed]",
            "text/plain": [
              "<Figure size 1656x360 with 1 Axes>"
            ]
          },
          "metadata": {
            "tags": [],
            "needs_background": "light"
          }
        }
      ]
    },
    {
      "cell_type": "markdown",
      "metadata": {
        "id": "fIDyCWz58Nu5"
      },
      "source": [
        "Отмечаем ненормальное распределение, поэтому рассчитаем моду (значение в выборке, которое встречается чаще всего):"
      ]
    },
    {
      "cell_type": "code",
      "metadata": {
        "id": "V83lh_oB79tL",
        "colab": {
          "base_uri": "https://localhost:8080/",
          "height": 35
        },
        "outputId": "e56ab8c8-3a58-4f41-9110-ce7e664ad46e"
      },
      "source": [
        "f\"{round((visits['session_duration_sec'].mode()),1)} секунд\""
      ],
      "execution_count": null,
      "outputs": [
        {
          "output_type": "execute_result",
          "data": {
            "application/vnd.google.colaboratory.intrinsic+json": {
              "type": "string"
            },
            "text/plain": [
              "'0    60\\ndtype: int64 секунд'"
            ]
          },
          "metadata": {
            "tags": []
          },
          "execution_count": 21
        }
      ]
    },
    {
      "cell_type": "markdown",
      "metadata": {
        "id": "w0j4QCVMZAmD"
      },
      "source": [
        "#### 2.1.4. Как часто люди возвращаются?"
      ]
    },
    {
      "cell_type": "markdown",
      "metadata": {
        "id": "S5KgwGwstdRy"
      },
      "source": [
        "Определим событие и период — на их основе сформируем когорту. Возьмём дату, когда пользователь впервые проявил активность.\n",
        "\n",
        "Эти данные запишем в объект Series first_activity_date. Объединим его с исходным датафреймом visits:"
      ]
    },
    {
      "cell_type": "code",
      "metadata": {
        "id": "n8hqV1sWsk_Y"
      },
      "source": [
        "first_activity_date = visits.groupby(['uid'])['start_ts'].min()\n",
        "first_activity_date.name = 'first_activity_date'\n",
        "visits = visits.join(first_activity_date,on='uid')"
      ],
      "execution_count": null,
      "outputs": []
    },
    {
      "cell_type": "markdown",
      "metadata": {
        "id": "o3vHGFPfQugd"
      },
      "source": [
        "Получим день начала месяца, за который произошло событие. Он станет идентификатором месяца. Параметр unit метода pd.to_timedelta задаёт единицу измерения — в нашем случае дня: unit='d'. Вычтем из даты порядковый номер дня:"
      ]
    },
    {
      "cell_type": "code",
      "metadata": {
        "id": "qJA_oS5Dtse1"
      },
      "source": [
        "visits['activity_month'] = visits['start_ts'].astype('datetime64[M]')\n",
        "visits['first_activity_month'] = visits['first_activity_date'].astype('datetime64[M]')"
      ],
      "execution_count": null,
      "outputs": []
    },
    {
      "cell_type": "markdown",
      "metadata": {
        "id": "7z3cje_8Seh_"
      },
      "source": [
        "Теперь для каждой строки датафрейма можно рассчитать lifetime пользователя в рамках когорты:"
      ]
    },
    {
      "cell_type": "code",
      "metadata": {
        "id": "aoYw2C_et1hj"
      },
      "source": [
        "visits['cohort_lifetime'] = visits['activity_month'] - visits['first_activity_month']\n",
        "visits['cohort_lifetime'] = visits['cohort_lifetime'] / np.timedelta64(1,'M')\n",
        "visits['cohort_lifetime'] = visits['cohort_lifetime'].round().astype('int')"
      ],
      "execution_count": null,
      "outputs": []
    },
    {
      "cell_type": "markdown",
      "metadata": {
        "id": "cPvcQaemS5ky"
      },
      "source": [
        "Сгруппируем данные по когорте и lifetime. Посчитаем для каждой когорты количество активных пользователей на определённый месяц жизни»:"
      ]
    },
    {
      "cell_type": "code",
      "metadata": {
        "id": "tbx6ZP99S74o",
        "colab": {
          "base_uri": "https://localhost:8080/",
          "height": 402
        },
        "outputId": "d2aef77f-a010-4f07-be93-b209f858a45d"
      },
      "source": [
        "cohorts = visits.groupby(['first_activity_month','cohort_lifetime']).agg({'uid':'nunique'}).reset_index()\n",
        "cohorts"
      ],
      "execution_count": null,
      "outputs": [
        {
          "output_type": "execute_result",
          "data": {
            "text/html": [
              "<div>\n",
              "<style scoped>\n",
              "    .dataframe tbody tr th:only-of-type {\n",
              "        vertical-align: middle;\n",
              "    }\n",
              "\n",
              "    .dataframe tbody tr th {\n",
              "        vertical-align: top;\n",
              "    }\n",
              "\n",
              "    .dataframe thead th {\n",
              "        text-align: right;\n",
              "    }\n",
              "</style>\n",
              "<table border=\"1\" class=\"dataframe\">\n",
              "  <thead>\n",
              "    <tr style=\"text-align: right;\">\n",
              "      <th></th>\n",
              "      <th>first_activity_month</th>\n",
              "      <th>cohort_lifetime</th>\n",
              "      <th>uid</th>\n",
              "    </tr>\n",
              "  </thead>\n",
              "  <tbody>\n",
              "    <tr>\n",
              "      <th>0</th>\n",
              "      <td>2017-06-01</td>\n",
              "      <td>0</td>\n",
              "      <td>13259</td>\n",
              "    </tr>\n",
              "    <tr>\n",
              "      <th>1</th>\n",
              "      <td>2017-06-01</td>\n",
              "      <td>1</td>\n",
              "      <td>1043</td>\n",
              "    </tr>\n",
              "    <tr>\n",
              "      <th>2</th>\n",
              "      <td>2017-06-01</td>\n",
              "      <td>2</td>\n",
              "      <td>713</td>\n",
              "    </tr>\n",
              "    <tr>\n",
              "      <th>3</th>\n",
              "      <td>2017-06-01</td>\n",
              "      <td>3</td>\n",
              "      <td>814</td>\n",
              "    </tr>\n",
              "    <tr>\n",
              "      <th>4</th>\n",
              "      <td>2017-06-01</td>\n",
              "      <td>4</td>\n",
              "      <td>909</td>\n",
              "    </tr>\n",
              "    <tr>\n",
              "      <th>...</th>\n",
              "      <td>...</td>\n",
              "      <td>...</td>\n",
              "      <td>...</td>\n",
              "    </tr>\n",
              "    <tr>\n",
              "      <th>73</th>\n",
              "      <td>2018-03-01</td>\n",
              "      <td>1</td>\n",
              "      <td>861</td>\n",
              "    </tr>\n",
              "    <tr>\n",
              "      <th>74</th>\n",
              "      <td>2018-03-01</td>\n",
              "      <td>2</td>\n",
              "      <td>557</td>\n",
              "    </tr>\n",
              "    <tr>\n",
              "      <th>75</th>\n",
              "      <td>2018-04-01</td>\n",
              "      <td>0</td>\n",
              "      <td>15709</td>\n",
              "    </tr>\n",
              "    <tr>\n",
              "      <th>76</th>\n",
              "      <td>2018-04-01</td>\n",
              "      <td>1</td>\n",
              "      <td>760</td>\n",
              "    </tr>\n",
              "    <tr>\n",
              "      <th>77</th>\n",
              "      <td>2018-05-01</td>\n",
              "      <td>0</td>\n",
              "      <td>15273</td>\n",
              "    </tr>\n",
              "  </tbody>\n",
              "</table>\n",
              "<p>78 rows × 3 columns</p>\n",
              "</div>"
            ],
            "text/plain": [
              "   first_activity_month  cohort_lifetime    uid\n",
              "0            2017-06-01                0  13259\n",
              "1            2017-06-01                1   1043\n",
              "2            2017-06-01                2    713\n",
              "3            2017-06-01                3    814\n",
              "4            2017-06-01                4    909\n",
              "..                  ...              ...    ...\n",
              "73           2018-03-01                1    861\n",
              "74           2018-03-01                2    557\n",
              "75           2018-04-01                0  15709\n",
              "76           2018-04-01                1    760\n",
              "77           2018-05-01                0  15273\n",
              "\n",
              "[78 rows x 3 columns]"
            ]
          },
          "metadata": {
            "tags": []
          },
          "execution_count": 25
        }
      ]
    },
    {
      "cell_type": "markdown",
      "metadata": {
        "id": "heSV4t-1VnlJ"
      },
      "source": [
        "Чтобы найти Retention Rate, нужно сперва получить число пользователей, изначально бывших в когорте, и на него разделить число пользователей в каждую следующую неделю.\n",
        "Найдём исходное количество пользователей в когорте. Возьмём их число на нулевой месяц:"
      ]
    },
    {
      "cell_type": "code",
      "metadata": {
        "id": "ghrWrdbdVud-"
      },
      "source": [
        "initial_users_count = cohorts[cohorts['cohort_lifetime'] == 0][['first_activity_month','uid']]"
      ],
      "execution_count": null,
      "outputs": []
    },
    {
      "cell_type": "markdown",
      "metadata": {
        "id": "mjzJoTtlWB1g"
      },
      "source": [
        "Переименуем столбец uid в cohort_users - параметру columns передадим словарь, где ключ — старое название столбца, а значение — новое:"
      ]
    },
    {
      "cell_type": "code",
      "metadata": {
        "id": "5NlkBwyZWMux",
        "colab": {
          "base_uri": "https://localhost:8080/",
          "height": 402
        },
        "outputId": "ce2553e3-4693-4719-9c81-51f6a80fdd51"
      },
      "source": [
        "initial_users_count = initial_users_count.rename(columns={'uid':'cohort_users'})\n",
        "initial_users_count"
      ],
      "execution_count": null,
      "outputs": [
        {
          "output_type": "execute_result",
          "data": {
            "text/html": [
              "<div>\n",
              "<style scoped>\n",
              "    .dataframe tbody tr th:only-of-type {\n",
              "        vertical-align: middle;\n",
              "    }\n",
              "\n",
              "    .dataframe tbody tr th {\n",
              "        vertical-align: top;\n",
              "    }\n",
              "\n",
              "    .dataframe thead th {\n",
              "        text-align: right;\n",
              "    }\n",
              "</style>\n",
              "<table border=\"1\" class=\"dataframe\">\n",
              "  <thead>\n",
              "    <tr style=\"text-align: right;\">\n",
              "      <th></th>\n",
              "      <th>first_activity_month</th>\n",
              "      <th>cohort_users</th>\n",
              "    </tr>\n",
              "  </thead>\n",
              "  <tbody>\n",
              "    <tr>\n",
              "      <th>0</th>\n",
              "      <td>2017-06-01</td>\n",
              "      <td>13259</td>\n",
              "    </tr>\n",
              "    <tr>\n",
              "      <th>12</th>\n",
              "      <td>2017-07-01</td>\n",
              "      <td>13140</td>\n",
              "    </tr>\n",
              "    <tr>\n",
              "      <th>23</th>\n",
              "      <td>2017-08-01</td>\n",
              "      <td>10181</td>\n",
              "    </tr>\n",
              "    <tr>\n",
              "      <th>33</th>\n",
              "      <td>2017-09-01</td>\n",
              "      <td>16704</td>\n",
              "    </tr>\n",
              "    <tr>\n",
              "      <th>42</th>\n",
              "      <td>2017-10-01</td>\n",
              "      <td>25977</td>\n",
              "    </tr>\n",
              "    <tr>\n",
              "      <th>50</th>\n",
              "      <td>2017-11-01</td>\n",
              "      <td>27248</td>\n",
              "    </tr>\n",
              "    <tr>\n",
              "      <th>57</th>\n",
              "      <td>2017-12-01</td>\n",
              "      <td>25268</td>\n",
              "    </tr>\n",
              "    <tr>\n",
              "      <th>63</th>\n",
              "      <td>2018-01-01</td>\n",
              "      <td>22624</td>\n",
              "    </tr>\n",
              "    <tr>\n",
              "      <th>68</th>\n",
              "      <td>2018-02-01</td>\n",
              "      <td>22197</td>\n",
              "    </tr>\n",
              "    <tr>\n",
              "      <th>72</th>\n",
              "      <td>2018-03-01</td>\n",
              "      <td>20589</td>\n",
              "    </tr>\n",
              "    <tr>\n",
              "      <th>75</th>\n",
              "      <td>2018-04-01</td>\n",
              "      <td>15709</td>\n",
              "    </tr>\n",
              "    <tr>\n",
              "      <th>77</th>\n",
              "      <td>2018-05-01</td>\n",
              "      <td>15273</td>\n",
              "    </tr>\n",
              "  </tbody>\n",
              "</table>\n",
              "</div>"
            ],
            "text/plain": [
              "   first_activity_month  cohort_users\n",
              "0            2017-06-01         13259\n",
              "12           2017-07-01         13140\n",
              "23           2017-08-01         10181\n",
              "33           2017-09-01         16704\n",
              "42           2017-10-01         25977\n",
              "50           2017-11-01         27248\n",
              "57           2017-12-01         25268\n",
              "63           2018-01-01         22624\n",
              "68           2018-02-01         22197\n",
              "72           2018-03-01         20589\n",
              "75           2018-04-01         15709\n",
              "77           2018-05-01         15273"
            ]
          },
          "metadata": {
            "tags": []
          },
          "execution_count": 27
        }
      ]
    },
    {
      "cell_type": "markdown",
      "metadata": {
        "id": "FbWxZqZ7WbKh"
      },
      "source": [
        "Объединим данные по когортам с исходным количеством пользователей в когорте:"
      ]
    },
    {
      "cell_type": "code",
      "metadata": {
        "id": "ZJReZ3TPWcZR"
      },
      "source": [
        "cohorts = cohorts.merge(initial_users_count,on='first_activity_month')"
      ],
      "execution_count": null,
      "outputs": []
    },
    {
      "cell_type": "code",
      "metadata": {
        "id": "Qls9UHMiW513",
        "colab": {
          "base_uri": "https://localhost:8080/",
          "height": 402
        },
        "outputId": "b78d0f39-956b-4e16-aedc-29bd48699908"
      },
      "source": [
        "cohorts['retention'] = cohorts['uid']/cohorts['cohort_users']\n",
        "cohorts"
      ],
      "execution_count": null,
      "outputs": [
        {
          "output_type": "execute_result",
          "data": {
            "text/html": [
              "<div>\n",
              "<style scoped>\n",
              "    .dataframe tbody tr th:only-of-type {\n",
              "        vertical-align: middle;\n",
              "    }\n",
              "\n",
              "    .dataframe tbody tr th {\n",
              "        vertical-align: top;\n",
              "    }\n",
              "\n",
              "    .dataframe thead th {\n",
              "        text-align: right;\n",
              "    }\n",
              "</style>\n",
              "<table border=\"1\" class=\"dataframe\">\n",
              "  <thead>\n",
              "    <tr style=\"text-align: right;\">\n",
              "      <th></th>\n",
              "      <th>first_activity_month</th>\n",
              "      <th>cohort_lifetime</th>\n",
              "      <th>uid</th>\n",
              "      <th>cohort_users</th>\n",
              "      <th>retention</th>\n",
              "    </tr>\n",
              "  </thead>\n",
              "  <tbody>\n",
              "    <tr>\n",
              "      <th>0</th>\n",
              "      <td>2017-06-01</td>\n",
              "      <td>0</td>\n",
              "      <td>13259</td>\n",
              "      <td>13259</td>\n",
              "      <td>1.000000</td>\n",
              "    </tr>\n",
              "    <tr>\n",
              "      <th>1</th>\n",
              "      <td>2017-06-01</td>\n",
              "      <td>1</td>\n",
              "      <td>1043</td>\n",
              "      <td>13259</td>\n",
              "      <td>0.078664</td>\n",
              "    </tr>\n",
              "    <tr>\n",
              "      <th>2</th>\n",
              "      <td>2017-06-01</td>\n",
              "      <td>2</td>\n",
              "      <td>713</td>\n",
              "      <td>13259</td>\n",
              "      <td>0.053775</td>\n",
              "    </tr>\n",
              "    <tr>\n",
              "      <th>3</th>\n",
              "      <td>2017-06-01</td>\n",
              "      <td>3</td>\n",
              "      <td>814</td>\n",
              "      <td>13259</td>\n",
              "      <td>0.061392</td>\n",
              "    </tr>\n",
              "    <tr>\n",
              "      <th>4</th>\n",
              "      <td>2017-06-01</td>\n",
              "      <td>4</td>\n",
              "      <td>909</td>\n",
              "      <td>13259</td>\n",
              "      <td>0.068557</td>\n",
              "    </tr>\n",
              "    <tr>\n",
              "      <th>...</th>\n",
              "      <td>...</td>\n",
              "      <td>...</td>\n",
              "      <td>...</td>\n",
              "      <td>...</td>\n",
              "      <td>...</td>\n",
              "    </tr>\n",
              "    <tr>\n",
              "      <th>73</th>\n",
              "      <td>2018-03-01</td>\n",
              "      <td>1</td>\n",
              "      <td>861</td>\n",
              "      <td>20589</td>\n",
              "      <td>0.041818</td>\n",
              "    </tr>\n",
              "    <tr>\n",
              "      <th>74</th>\n",
              "      <td>2018-03-01</td>\n",
              "      <td>2</td>\n",
              "      <td>557</td>\n",
              "      <td>20589</td>\n",
              "      <td>0.027053</td>\n",
              "    </tr>\n",
              "    <tr>\n",
              "      <th>75</th>\n",
              "      <td>2018-04-01</td>\n",
              "      <td>0</td>\n",
              "      <td>15709</td>\n",
              "      <td>15709</td>\n",
              "      <td>1.000000</td>\n",
              "    </tr>\n",
              "    <tr>\n",
              "      <th>76</th>\n",
              "      <td>2018-04-01</td>\n",
              "      <td>1</td>\n",
              "      <td>760</td>\n",
              "      <td>15709</td>\n",
              "      <td>0.048380</td>\n",
              "    </tr>\n",
              "    <tr>\n",
              "      <th>77</th>\n",
              "      <td>2018-05-01</td>\n",
              "      <td>0</td>\n",
              "      <td>15273</td>\n",
              "      <td>15273</td>\n",
              "      <td>1.000000</td>\n",
              "    </tr>\n",
              "  </tbody>\n",
              "</table>\n",
              "<p>78 rows × 5 columns</p>\n",
              "</div>"
            ],
            "text/plain": [
              "   first_activity_month  cohort_lifetime    uid  cohort_users  retention\n",
              "0            2017-06-01                0  13259         13259   1.000000\n",
              "1            2017-06-01                1   1043         13259   0.078664\n",
              "2            2017-06-01                2    713         13259   0.053775\n",
              "3            2017-06-01                3    814         13259   0.061392\n",
              "4            2017-06-01                4    909         13259   0.068557\n",
              "..                  ...              ...    ...           ...        ...\n",
              "73           2018-03-01                1    861         20589   0.041818\n",
              "74           2018-03-01                2    557         20589   0.027053\n",
              "75           2018-04-01                0  15709         15709   1.000000\n",
              "76           2018-04-01                1    760         15709   0.048380\n",
              "77           2018-05-01                0  15273         15273   1.000000\n",
              "\n",
              "[78 rows x 5 columns]"
            ]
          },
          "metadata": {
            "tags": []
          },
          "execution_count": 29
        }
      ]
    },
    {
      "cell_type": "markdown",
      "metadata": {
        "id": "0gzGL1d7YQu5"
      },
      "source": [
        "Построим сводную таблицу и создадим тепловую карту:"
      ]
    },
    {
      "cell_type": "code",
      "metadata": {
        "id": "hw9iFS4iYRTE"
      },
      "source": [
        "retention_pivot = cohorts.pivot_table(index='first_activity_month',columns='cohort_lifetime',values='retention',aggfunc='sum')\n",
        "retention_pivot.index = retention_pivot.index.strftime(\"%m/%Y\")"
      ],
      "execution_count": null,
      "outputs": []
    },
    {
      "cell_type": "code",
      "metadata": {
        "id": "viu43Mde7o0b",
        "colab": {
          "base_uri": "https://localhost:8080/",
          "height": 574
        },
        "outputId": "c5911023-1182-41d4-ab41-58f77fed8a86"
      },
      "source": [
        "sns.set(style='white')\n",
        "plt.figure(figsize=(13, 9))\n",
        "plt.title('Когорты: Коэффициент удержания', size=14)\n",
        "ax =sns.heatmap(retention_pivot, annot=True, fmt='.1%', linewidths=1, linecolor='gray', vmax=0.15)\n",
        "ax.set_ylabel('Месяц когорты')\n",
        "ax.set_xlabel('Месяц жизни когорты')\n",
        "plt.show()"
      ],
      "execution_count": null,
      "outputs": [
        {
          "output_type": "display_data",
          "data": {
            "image/png": "[encoded data removed]",
            "text/plain": [
              "<Figure size 936x648 with 2 Axes>"
            ]
          },
          "metadata": {
            "tags": []
          }
        }
      ]
    },
    {
      "cell_type": "markdown",
      "metadata": {
        "id": "IhDTUgrXabrW"
      },
      "source": [
        "Низкий показатель Retention Rate (далее RR) вызван спецификой сервиса - люди эпизодически посещают какие-либо мероприятия мероприятия.\n",
        "При этом самый высокий показатель RR у когорты 06/2017 - 4,5 % на 11 неделе."
      ]
    },
    {
      "cell_type": "markdown",
      "metadata": {
        "id": "zoCFpdo-ZHe6"
      },
      "source": [
        "###2.2. Продажи"
      ]
    },
    {
      "cell_type": "markdown",
      "metadata": {
        "id": "hWhvovzfZHe_"
      },
      "source": [
        "#### 2.2.1. Когда люди начинают покупать?"
      ]
    },
    {
      "cell_type": "markdown",
      "metadata": {
        "id": "cPQ_2MR8keSe"
      },
      "source": [
        "Получим данные по количеству дней с момента от первого посещения пользователем сайта до совершения им первой покупки и построим распределение."
      ]
    },
    {
      "cell_type": "code",
      "metadata": {
        "id": "8P4MPSXek375"
      },
      "source": [
        "first_order = orders.groupby(['uid'])['buy_ts'].min()\n",
        "first_order.name = 'first_order'\n",
        "visits = visits.join(first_order,on='uid')"
      ],
      "execution_count": null,
      "outputs": []
    },
    {
      "cell_type": "code",
      "metadata": {
        "id": "dt5Dj-tRnUoh"
      },
      "source": [
        "visits['first_order_day'] = visits['first_order'] - visits['first_activity_date']\n",
        "visits['first_order_day'] = visits['first_order_day'] / np.timedelta64(1,'D')\n",
        "visits['first_order_day']=visits['first_order_day'].apply(np.ceil)"
      ],
      "execution_count": null,
      "outputs": []
    },
    {
      "cell_type": "code",
      "metadata": {
        "id": "SdCcfk1upsZi",
        "colab": {
          "base_uri": "https://localhost:8080/",
          "height": 339
        },
        "outputId": "7e1a4af7-469a-4d1c-a25a-9576d9c5c878"
      },
      "source": [
        "ax=visits['first_order_day'].hist(bins=20, figsize=(15,5))\n",
        "for p in ax.patches:\n",
        "    height = p.get_height()\n",
        "    ax.text(p.get_x()+p.get_width()/2.,\n",
        "            height + 100,\n",
        "            '{:1.0f}'.format(height),\n",
        "            fontsize=10,\n",
        "            ha=\"center\")\n",
        "plt.xlabel('Количество дней с момента первого визита, дни')\n",
        "plt.ylabel('Количество заказов, шт.')\n",
        "plt.show()"
      ],
      "execution_count": null,
      "outputs": [
        {
          "output_type": "display_data",
          "data": {
            "image/png": "[encoded data removed]",
            "text/plain": [
              "<Figure size 1080x360 with 1 Axes>"
            ]
          },
          "metadata": {
            "tags": []
          }
        }
      ]
    },
    {
      "cell_type": "markdown",
      "metadata": {
        "id": "7ssRqhAAupGy"
      },
      "source": [
        "Отмечаем ненормальное распределение, поэтому рассчитаем моду (значение в выборке, которое встречается чаще всего):"
      ]
    },
    {
      "cell_type": "code",
      "metadata": {
        "id": "wBhDuebvtDBE",
        "colab": {
          "base_uri": "https://localhost:8080/"
        },
        "outputId": "69cb4e27-9b0c-4093-c67a-e4ebd523206d"
      },
      "source": [
        "visits['first_order_day'].mode().astype('int')"
      ],
      "execution_count": null,
      "outputs": [
        {
          "output_type": "execute_result",
          "data": {
            "text/plain": [
              "0    1\n",
              "dtype: int64"
            ]
          },
          "metadata": {
            "tags": []
          },
          "execution_count": 35
        }
      ]
    },
    {
      "cell_type": "markdown",
      "metadata": {
        "id": "ANUyZWdRs3RP"
      },
      "source": [
        "В большинстве случаев заказ делают в день первого визита на сайт."
      ]
    },
    {
      "cell_type": "markdown",
      "metadata": {
        "id": "73aKiPS7ZHfC"
      },
      "source": [
        "#### 2.2.2. Сколько раз покупают за период?\n"
      ]
    },
    {
      "cell_type": "markdown",
      "metadata": {
        "id": "Hp6iBdIswK02"
      },
      "source": [
        "Подсчитаем количество покупок за месячный интервал."
      ]
    },
    {
      "cell_type": "code",
      "metadata": {
        "id": "JIBbJrTz1LNN",
        "colab": {
          "base_uri": "https://localhost:8080/",
          "height": 462
        },
        "outputId": "46957537-d22f-46d1-bf38-f3d6388b90e3"
      },
      "source": [
        "orders['order_month'] = orders['buy_ts'].astype('datetime64[M]')\n",
        "orders_per_month = orders.groupby('order_month').agg({'revenue': 'count'}).rename(columns={'revenue':'n_purchases'})\n",
        "orders_per_month"
      ],
      "execution_count": null,
      "outputs": [
        {
          "output_type": "execute_result",
          "data": {
            "text/html": [
              "<div>\n",
              "<style scoped>\n",
              "    .dataframe tbody tr th:only-of-type {\n",
              "        vertical-align: middle;\n",
              "    }\n",
              "\n",
              "    .dataframe tbody tr th {\n",
              "        vertical-align: top;\n",
              "    }\n",
              "\n",
              "    .dataframe thead th {\n",
              "        text-align: right;\n",
              "    }\n",
              "</style>\n",
              "<table border=\"1\" class=\"dataframe\">\n",
              "  <thead>\n",
              "    <tr style=\"text-align: right;\">\n",
              "      <th></th>\n",
              "      <th>n_purchases</th>\n",
              "    </tr>\n",
              "    <tr>\n",
              "      <th>order_month</th>\n",
              "      <th></th>\n",
              "    </tr>\n",
              "  </thead>\n",
              "  <tbody>\n",
              "    <tr>\n",
              "      <th>2017-06-01</th>\n",
              "      <td>2354</td>\n",
              "    </tr>\n",
              "    <tr>\n",
              "      <th>2017-07-01</th>\n",
              "      <td>2363</td>\n",
              "    </tr>\n",
              "    <tr>\n",
              "      <th>2017-08-01</th>\n",
              "      <td>1807</td>\n",
              "    </tr>\n",
              "    <tr>\n",
              "      <th>2017-09-01</th>\n",
              "      <td>3387</td>\n",
              "    </tr>\n",
              "    <tr>\n",
              "      <th>2017-10-01</th>\n",
              "      <td>5679</td>\n",
              "    </tr>\n",
              "    <tr>\n",
              "      <th>2017-11-01</th>\n",
              "      <td>5659</td>\n",
              "    </tr>\n",
              "    <tr>\n",
              "      <th>2017-12-01</th>\n",
              "      <td>6218</td>\n",
              "    </tr>\n",
              "    <tr>\n",
              "      <th>2018-01-01</th>\n",
              "      <td>4721</td>\n",
              "    </tr>\n",
              "    <tr>\n",
              "      <th>2018-02-01</th>\n",
              "      <td>5281</td>\n",
              "    </tr>\n",
              "    <tr>\n",
              "      <th>2018-03-01</th>\n",
              "      <td>5326</td>\n",
              "    </tr>\n",
              "    <tr>\n",
              "      <th>2018-04-01</th>\n",
              "      <td>3273</td>\n",
              "    </tr>\n",
              "    <tr>\n",
              "      <th>2018-05-01</th>\n",
              "      <td>4346</td>\n",
              "    </tr>\n",
              "    <tr>\n",
              "      <th>2018-06-01</th>\n",
              "      <td>1</td>\n",
              "    </tr>\n",
              "  </tbody>\n",
              "</table>\n",
              "</div>"
            ],
            "text/plain": [
              "             n_purchases\n",
              "order_month             \n",
              "2017-06-01          2354\n",
              "2017-07-01          2363\n",
              "2017-08-01          1807\n",
              "2017-09-01          3387\n",
              "2017-10-01          5679\n",
              "2017-11-01          5659\n",
              "2017-12-01          6218\n",
              "2018-01-01          4721\n",
              "2018-02-01          5281\n",
              "2018-03-01          5326\n",
              "2018-04-01          3273\n",
              "2018-05-01          4346\n",
              "2018-06-01             1"
            ]
          },
          "metadata": {
            "tags": []
          },
          "execution_count": 36
        }
      ]
    },
    {
      "cell_type": "markdown",
      "metadata": {
        "id": "pcaJc4x-Og4c"
      },
      "source": [
        "Удалим 1 покупку из июня 2018 года, т.к. она явно попала в выборку ошибочно и построим график."
      ]
    },
    {
      "cell_type": "code",
      "metadata": {
        "id": "ClYUjfWROH5L"
      },
      "source": [
        "orders_per_month.drop(orders_per_month[orders_per_month['n_purchases']==1].index, inplace=True)\n",
        "orders_per_month=orders_per_month.reset_index()"
      ],
      "execution_count": null,
      "outputs": []
    },
    {
      "cell_type": "code",
      "metadata": {
        "id": "zZJrPmA3C1u3",
        "colab": {
          "base_uri": "https://localhost:8080/",
          "height": 195
        },
        "outputId": "fae604d8-12c2-4bf8-9e36-d6aa124c6f00"
      },
      "source": [
        "first_orders = orders.groupby('uid').agg({'order_month': 'min'}).reset_index()\n",
        "first_orders.columns = ['uid', 'first_order_month']\n",
        "first_orders.head() "
      ],
      "execution_count": null,
      "outputs": [
        {
          "output_type": "execute_result",
          "data": {
            "text/html": [
              "<div>\n",
              "<style scoped>\n",
              "    .dataframe tbody tr th:only-of-type {\n",
              "        vertical-align: middle;\n",
              "    }\n",
              "\n",
              "    .dataframe tbody tr th {\n",
              "        vertical-align: top;\n",
              "    }\n",
              "\n",
              "    .dataframe thead th {\n",
              "        text-align: right;\n",
              "    }\n",
              "</style>\n",
              "<table border=\"1\" class=\"dataframe\">\n",
              "  <thead>\n",
              "    <tr style=\"text-align: right;\">\n",
              "      <th></th>\n",
              "      <th>uid</th>\n",
              "      <th>first_order_month</th>\n",
              "    </tr>\n",
              "  </thead>\n",
              "  <tbody>\n",
              "    <tr>\n",
              "      <th>0</th>\n",
              "      <td>313578113262317</td>\n",
              "      <td>2018-01-01</td>\n",
              "    </tr>\n",
              "    <tr>\n",
              "      <th>1</th>\n",
              "      <td>1575281904278712</td>\n",
              "      <td>2017-06-01</td>\n",
              "    </tr>\n",
              "    <tr>\n",
              "      <th>2</th>\n",
              "      <td>2429014661409475</td>\n",
              "      <td>2017-10-01</td>\n",
              "    </tr>\n",
              "    <tr>\n",
              "      <th>3</th>\n",
              "      <td>2464366381792757</td>\n",
              "      <td>2018-01-01</td>\n",
              "    </tr>\n",
              "    <tr>\n",
              "      <th>4</th>\n",
              "      <td>2551852515556206</td>\n",
              "      <td>2017-11-01</td>\n",
              "    </tr>\n",
              "  </tbody>\n",
              "</table>\n",
              "</div>"
            ],
            "text/plain": [
              "                uid first_order_month\n",
              "0   313578113262317        2018-01-01\n",
              "1  1575281904278712        2017-06-01\n",
              "2  2429014661409475        2017-10-01\n",
              "3  2464366381792757        2018-01-01\n",
              "4  2551852515556206        2017-11-01"
            ]
          },
          "metadata": {
            "tags": []
          },
          "execution_count": 38
        }
      ]
    },
    {
      "cell_type": "markdown",
      "metadata": {
        "id": "i7XFtHioC1u6"
      },
      "source": [
        "Посчитаем количество новых покупателей (n_buyers) за каждый месяц:"
      ]
    },
    {
      "cell_type": "code",
      "metadata": {
        "id": "VvsHnZGAC1u6",
        "colab": {
          "base_uri": "https://localhost:8080/",
          "height": 195
        },
        "outputId": "07ac50b6-bb3c-4b9e-96a8-70b17b4bec25"
      },
      "source": [
        "cohort_sizes = first_orders.groupby('first_order_month').agg({'uid': 'nunique'}).reset_index()\n",
        "cohort_sizes.columns = ['first_order_month', 'n_buyers']\n",
        "cohort_sizes.head()"
      ],
      "execution_count": null,
      "outputs": [
        {
          "output_type": "execute_result",
          "data": {
            "text/html": [
              "<div>\n",
              "<style scoped>\n",
              "    .dataframe tbody tr th:only-of-type {\n",
              "        vertical-align: middle;\n",
              "    }\n",
              "\n",
              "    .dataframe tbody tr th {\n",
              "        vertical-align: top;\n",
              "    }\n",
              "\n",
              "    .dataframe thead th {\n",
              "        text-align: right;\n",
              "    }\n",
              "</style>\n",
              "<table border=\"1\" class=\"dataframe\">\n",
              "  <thead>\n",
              "    <tr style=\"text-align: right;\">\n",
              "      <th></th>\n",
              "      <th>first_order_month</th>\n",
              "      <th>n_buyers</th>\n",
              "    </tr>\n",
              "  </thead>\n",
              "  <tbody>\n",
              "    <tr>\n",
              "      <th>0</th>\n",
              "      <td>2017-06-01</td>\n",
              "      <td>2023</td>\n",
              "    </tr>\n",
              "    <tr>\n",
              "      <th>1</th>\n",
              "      <td>2017-07-01</td>\n",
              "      <td>1923</td>\n",
              "    </tr>\n",
              "    <tr>\n",
              "      <th>2</th>\n",
              "      <td>2017-08-01</td>\n",
              "      <td>1370</td>\n",
              "    </tr>\n",
              "    <tr>\n",
              "      <th>3</th>\n",
              "      <td>2017-09-01</td>\n",
              "      <td>2581</td>\n",
              "    </tr>\n",
              "    <tr>\n",
              "      <th>4</th>\n",
              "      <td>2017-10-01</td>\n",
              "      <td>4340</td>\n",
              "    </tr>\n",
              "  </tbody>\n",
              "</table>\n",
              "</div>"
            ],
            "text/plain": [
              "  first_order_month  n_buyers\n",
              "0        2017-06-01      2023\n",
              "1        2017-07-01      1923\n",
              "2        2017-08-01      1370\n",
              "3        2017-09-01      2581\n",
              "4        2017-10-01      4340"
            ]
          },
          "metadata": {
            "tags": []
          },
          "execution_count": 39
        }
      ]
    },
    {
      "cell_type": "markdown",
      "metadata": {
        "id": "ExzXMk9OEcuT"
      },
      "source": [
        "Объединим количество покупок с количеством покупателей:"
      ]
    },
    {
      "cell_type": "code",
      "metadata": {
        "id": "D_9wTWJVF7B0",
        "colab": {
          "base_uri": "https://localhost:8080/",
          "height": 402
        },
        "outputId": "9439b277-eef9-4acc-cdfb-ffbfabc605c5"
      },
      "source": [
        "orders_per_month"
      ],
      "execution_count": null,
      "outputs": [
        {
          "output_type": "execute_result",
          "data": {
            "text/html": [
              "<div>\n",
              "<style scoped>\n",
              "    .dataframe tbody tr th:only-of-type {\n",
              "        vertical-align: middle;\n",
              "    }\n",
              "\n",
              "    .dataframe tbody tr th {\n",
              "        vertical-align: top;\n",
              "    }\n",
              "\n",
              "    .dataframe thead th {\n",
              "        text-align: right;\n",
              "    }\n",
              "</style>\n",
              "<table border=\"1\" class=\"dataframe\">\n",
              "  <thead>\n",
              "    <tr style=\"text-align: right;\">\n",
              "      <th></th>\n",
              "      <th>order_month</th>\n",
              "      <th>n_purchases</th>\n",
              "    </tr>\n",
              "  </thead>\n",
              "  <tbody>\n",
              "    <tr>\n",
              "      <th>0</th>\n",
              "      <td>2017-06-01</td>\n",
              "      <td>2354</td>\n",
              "    </tr>\n",
              "    <tr>\n",
              "      <th>1</th>\n",
              "      <td>2017-07-01</td>\n",
              "      <td>2363</td>\n",
              "    </tr>\n",
              "    <tr>\n",
              "      <th>2</th>\n",
              "      <td>2017-08-01</td>\n",
              "      <td>1807</td>\n",
              "    </tr>\n",
              "    <tr>\n",
              "      <th>3</th>\n",
              "      <td>2017-09-01</td>\n",
              "      <td>3387</td>\n",
              "    </tr>\n",
              "    <tr>\n",
              "      <th>4</th>\n",
              "      <td>2017-10-01</td>\n",
              "      <td>5679</td>\n",
              "    </tr>\n",
              "    <tr>\n",
              "      <th>5</th>\n",
              "      <td>2017-11-01</td>\n",
              "      <td>5659</td>\n",
              "    </tr>\n",
              "    <tr>\n",
              "      <th>6</th>\n",
              "      <td>2017-12-01</td>\n",
              "      <td>6218</td>\n",
              "    </tr>\n",
              "    <tr>\n",
              "      <th>7</th>\n",
              "      <td>2018-01-01</td>\n",
              "      <td>4721</td>\n",
              "    </tr>\n",
              "    <tr>\n",
              "      <th>8</th>\n",
              "      <td>2018-02-01</td>\n",
              "      <td>5281</td>\n",
              "    </tr>\n",
              "    <tr>\n",
              "      <th>9</th>\n",
              "      <td>2018-03-01</td>\n",
              "      <td>5326</td>\n",
              "    </tr>\n",
              "    <tr>\n",
              "      <th>10</th>\n",
              "      <td>2018-04-01</td>\n",
              "      <td>3273</td>\n",
              "    </tr>\n",
              "    <tr>\n",
              "      <th>11</th>\n",
              "      <td>2018-05-01</td>\n",
              "      <td>4346</td>\n",
              "    </tr>\n",
              "  </tbody>\n",
              "</table>\n",
              "</div>"
            ],
            "text/plain": [
              "   order_month  n_purchases\n",
              "0   2017-06-01         2354\n",
              "1   2017-07-01         2363\n",
              "2   2017-08-01         1807\n",
              "3   2017-09-01         3387\n",
              "4   2017-10-01         5679\n",
              "5   2017-11-01         5659\n",
              "6   2017-12-01         6218\n",
              "7   2018-01-01         4721\n",
              "8   2018-02-01         5281\n",
              "9   2018-03-01         5326\n",
              "10  2018-04-01         3273\n",
              "11  2018-05-01         4346"
            ]
          },
          "metadata": {
            "tags": []
          },
          "execution_count": 40
        }
      ]
    },
    {
      "cell_type": "code",
      "metadata": {
        "id": "qzEbVSHMDQym"
      },
      "source": [
        "orders_per_month=pd.merge(orders_per_month, cohort_sizes, left_on='order_month', right_on='first_order_month')\n",
        "orders_per_month['revenue_per_buyer']=orders_per_month['n_purchases']/orders_per_month['n_buyers']"
      ],
      "execution_count": null,
      "outputs": []
    },
    {
      "cell_type": "code",
      "metadata": {
        "id": "grwHCj-RGhA-",
        "colab": {
          "base_uri": "https://localhost:8080/",
          "height": 35
        },
        "outputId": "e2cf2ba6-090f-4f4d-f010-be54bad0c558"
      },
      "source": [
        "orders_per_month['revenue_per_buyer'].mean()\n",
        "f\"В среднем за 1 месяц покупают - {round(orders_per_month['revenue_per_buyer'].mean(),2)} раза\""
      ],
      "execution_count": null,
      "outputs": [
        {
          "output_type": "execute_result",
          "data": {
            "application/vnd.google.colaboratory.intrinsic+json": {
              "type": "string"
            },
            "text/plain": [
              "'В среднем за 1 месяц покупают - 1.37 раза'"
            ]
          },
          "metadata": {
            "tags": []
          },
          "execution_count": 42
        }
      ]
    },
    {
      "cell_type": "markdown",
      "metadata": {
        "id": "unxDe994ZHfE"
      },
      "source": [
        "#### 2.2.3. Какой средний чек?"
      ]
    },
    {
      "cell_type": "markdown",
      "metadata": {
        "id": "iauuSai7SbAL"
      },
      "source": [
        "Средний чек посчитаем как среднюю выручку Яндекс.Афиши с заказов."
      ]
    },
    {
      "cell_type": "code",
      "metadata": {
        "id": "QRAIWcXrQp8R",
        "colab": {
          "base_uri": "https://localhost:8080/"
        },
        "outputId": "2908c18a-acbe-4808-f343-01e0ec8ce946"
      },
      "source": [
        "print(orders['revenue'].mean())"
      ],
      "execution_count": null,
      "outputs": [
        {
          "output_type": "stream",
          "text": [
            "4.999646930476993\n"
          ],
          "name": "stdout"
        }
      ]
    },
    {
      "cell_type": "markdown",
      "metadata": {
        "id": "APmjFx29ZHfG"
      },
      "source": [
        "#### 2.2.4. Сколько денег приносят? (LTV)"
      ]
    },
    {
      "cell_type": "markdown",
      "metadata": {
        "id": "sH1y0wbuvAe8"
      },
      "source": [
        "LTV удобно считать по когортам. Вспомним, что для этого нужно:\n",
        "1.   найти дату первой покупки каждого покупателя;\n",
        "2.   вычислить число новых покупателей за каждую дату;\n",
        "3.   добавить дату первой покупки в таблицу с заказами;\n",
        "4.   сгруппировать таблицу и посчитать выручку."
      ]
    },
    {
      "cell_type": "markdown",
      "metadata": {
        "id": "lWrPlzkZxQeL"
      },
      "source": [
        "Получим месяц первой покупки каждого покупателя:"
      ]
    },
    {
      "cell_type": "code",
      "metadata": {
        "id": "HOMDD5MkxWjH",
        "colab": {
          "base_uri": "https://localhost:8080/",
          "height": 195
        },
        "outputId": "4cc310dd-425a-48bb-87e9-f31d6820a639"
      },
      "source": [
        "first_orders = orders.groupby('uid').agg({'order_month': 'min'}).reset_index()\n",
        "first_orders.columns = ['uid', 'first_order_month']\n",
        "first_orders.head() "
      ],
      "execution_count": null,
      "outputs": [
        {
          "output_type": "execute_result",
          "data": {
            "text/html": [
              "<div>\n",
              "<style scoped>\n",
              "    .dataframe tbody tr th:only-of-type {\n",
              "        vertical-align: middle;\n",
              "    }\n",
              "\n",
              "    .dataframe tbody tr th {\n",
              "        vertical-align: top;\n",
              "    }\n",
              "\n",
              "    .dataframe thead th {\n",
              "        text-align: right;\n",
              "    }\n",
              "</style>\n",
              "<table border=\"1\" class=\"dataframe\">\n",
              "  <thead>\n",
              "    <tr style=\"text-align: right;\">\n",
              "      <th></th>\n",
              "      <th>uid</th>\n",
              "      <th>first_order_month</th>\n",
              "    </tr>\n",
              "  </thead>\n",
              "  <tbody>\n",
              "    <tr>\n",
              "      <th>0</th>\n",
              "      <td>313578113262317</td>\n",
              "      <td>2018-01-01</td>\n",
              "    </tr>\n",
              "    <tr>\n",
              "      <th>1</th>\n",
              "      <td>1575281904278712</td>\n",
              "      <td>2017-06-01</td>\n",
              "    </tr>\n",
              "    <tr>\n",
              "      <th>2</th>\n",
              "      <td>2429014661409475</td>\n",
              "      <td>2017-10-01</td>\n",
              "    </tr>\n",
              "    <tr>\n",
              "      <th>3</th>\n",
              "      <td>2464366381792757</td>\n",
              "      <td>2018-01-01</td>\n",
              "    </tr>\n",
              "    <tr>\n",
              "      <th>4</th>\n",
              "      <td>2551852515556206</td>\n",
              "      <td>2017-11-01</td>\n",
              "    </tr>\n",
              "  </tbody>\n",
              "</table>\n",
              "</div>"
            ],
            "text/plain": [
              "                uid first_order_month\n",
              "0   313578113262317        2018-01-01\n",
              "1  1575281904278712        2017-06-01\n",
              "2  2429014661409475        2017-10-01\n",
              "3  2464366381792757        2018-01-01\n",
              "4  2551852515556206        2017-11-01"
            ]
          },
          "metadata": {
            "tags": []
          },
          "execution_count": 44
        }
      ]
    },
    {
      "cell_type": "markdown",
      "metadata": {
        "id": "aSco8mH1xitM"
      },
      "source": [
        "Посчитаем количество новых покупателей (n_buyers) за каждый месяц:"
      ]
    },
    {
      "cell_type": "code",
      "metadata": {
        "id": "AE3n2dOmxnCd",
        "colab": {
          "base_uri": "https://localhost:8080/",
          "height": 195
        },
        "outputId": "e0a8fe91-41d6-4890-c099-9f810e397e8e"
      },
      "source": [
        "cohort_sizes = first_orders.groupby('first_order_month').agg({'uid': 'nunique'}).reset_index()\n",
        "cohort_sizes.columns = ['first_order_month', 'n_buyers']\n",
        "cohort_sizes.head()"
      ],
      "execution_count": null,
      "outputs": [
        {
          "output_type": "execute_result",
          "data": {
            "text/html": [
              "<div>\n",
              "<style scoped>\n",
              "    .dataframe tbody tr th:only-of-type {\n",
              "        vertical-align: middle;\n",
              "    }\n",
              "\n",
              "    .dataframe tbody tr th {\n",
              "        vertical-align: top;\n",
              "    }\n",
              "\n",
              "    .dataframe thead th {\n",
              "        text-align: right;\n",
              "    }\n",
              "</style>\n",
              "<table border=\"1\" class=\"dataframe\">\n",
              "  <thead>\n",
              "    <tr style=\"text-align: right;\">\n",
              "      <th></th>\n",
              "      <th>first_order_month</th>\n",
              "      <th>n_buyers</th>\n",
              "    </tr>\n",
              "  </thead>\n",
              "  <tbody>\n",
              "    <tr>\n",
              "      <th>0</th>\n",
              "      <td>2017-06-01</td>\n",
              "      <td>2023</td>\n",
              "    </tr>\n",
              "    <tr>\n",
              "      <th>1</th>\n",
              "      <td>2017-07-01</td>\n",
              "      <td>1923</td>\n",
              "    </tr>\n",
              "    <tr>\n",
              "      <th>2</th>\n",
              "      <td>2017-08-01</td>\n",
              "      <td>1370</td>\n",
              "    </tr>\n",
              "    <tr>\n",
              "      <th>3</th>\n",
              "      <td>2017-09-01</td>\n",
              "      <td>2581</td>\n",
              "    </tr>\n",
              "    <tr>\n",
              "      <th>4</th>\n",
              "      <td>2017-10-01</td>\n",
              "      <td>4340</td>\n",
              "    </tr>\n",
              "  </tbody>\n",
              "</table>\n",
              "</div>"
            ],
            "text/plain": [
              "  first_order_month  n_buyers\n",
              "0        2017-06-01      2023\n",
              "1        2017-07-01      1923\n",
              "2        2017-08-01      1370\n",
              "3        2017-09-01      2581\n",
              "4        2017-10-01      4340"
            ]
          },
          "metadata": {
            "tags": []
          },
          "execution_count": 45
        }
      ]
    },
    {
      "cell_type": "markdown",
      "metadata": {
        "id": "Gc4UfRldxzWR"
      },
      "source": [
        "Построим когорты. Добавим месяц первой покупки каждого покупателя в таблицу с заказами:"
      ]
    },
    {
      "cell_type": "code",
      "metadata": {
        "id": "I7d9Aiiwx3jC",
        "colab": {
          "base_uri": "https://localhost:8080/",
          "height": 195
        },
        "outputId": "4aad1abc-ede8-4d69-cf6e-27ec73ee7597"
      },
      "source": [
        "orders_new = pd.merge(orders,first_orders, on='uid')\n",
        "orders_new.head()"
      ],
      "execution_count": null,
      "outputs": [
        {
          "output_type": "execute_result",
          "data": {
            "text/html": [
              "<div>\n",
              "<style scoped>\n",
              "    .dataframe tbody tr th:only-of-type {\n",
              "        vertical-align: middle;\n",
              "    }\n",
              "\n",
              "    .dataframe tbody tr th {\n",
              "        vertical-align: top;\n",
              "    }\n",
              "\n",
              "    .dataframe thead th {\n",
              "        text-align: right;\n",
              "    }\n",
              "</style>\n",
              "<table border=\"1\" class=\"dataframe\">\n",
              "  <thead>\n",
              "    <tr style=\"text-align: right;\">\n",
              "      <th></th>\n",
              "      <th>buy_ts</th>\n",
              "      <th>revenue</th>\n",
              "      <th>uid</th>\n",
              "      <th>order_month</th>\n",
              "      <th>first_order_month</th>\n",
              "    </tr>\n",
              "  </thead>\n",
              "  <tbody>\n",
              "    <tr>\n",
              "      <th>0</th>\n",
              "      <td>2017-06-01 00:10:00</td>\n",
              "      <td>17.00</td>\n",
              "      <td>10329302124590727494</td>\n",
              "      <td>2017-06-01</td>\n",
              "      <td>2017-06-01</td>\n",
              "    </tr>\n",
              "    <tr>\n",
              "      <th>1</th>\n",
              "      <td>2017-06-01 00:25:00</td>\n",
              "      <td>0.55</td>\n",
              "      <td>11627257723692907447</td>\n",
              "      <td>2017-06-01</td>\n",
              "      <td>2017-06-01</td>\n",
              "    </tr>\n",
              "    <tr>\n",
              "      <th>2</th>\n",
              "      <td>2017-06-01 00:27:00</td>\n",
              "      <td>0.37</td>\n",
              "      <td>17903680561304213844</td>\n",
              "      <td>2017-06-01</td>\n",
              "      <td>2017-06-01</td>\n",
              "    </tr>\n",
              "    <tr>\n",
              "      <th>3</th>\n",
              "      <td>2017-06-01 00:29:00</td>\n",
              "      <td>0.55</td>\n",
              "      <td>16109239769442553005</td>\n",
              "      <td>2017-06-01</td>\n",
              "      <td>2017-06-01</td>\n",
              "    </tr>\n",
              "    <tr>\n",
              "      <th>4</th>\n",
              "      <td>2017-06-01 07:58:00</td>\n",
              "      <td>0.37</td>\n",
              "      <td>14200605875248379450</td>\n",
              "      <td>2017-06-01</td>\n",
              "      <td>2017-06-01</td>\n",
              "    </tr>\n",
              "  </tbody>\n",
              "</table>\n",
              "</div>"
            ],
            "text/plain": [
              "               buy_ts  revenue  ...  order_month first_order_month\n",
              "0 2017-06-01 00:10:00    17.00  ...   2017-06-01        2017-06-01\n",
              "1 2017-06-01 00:25:00     0.55  ...   2017-06-01        2017-06-01\n",
              "2 2017-06-01 00:27:00     0.37  ...   2017-06-01        2017-06-01\n",
              "3 2017-06-01 00:29:00     0.55  ...   2017-06-01        2017-06-01\n",
              "4 2017-06-01 07:58:00     0.37  ...   2017-06-01        2017-06-01\n",
              "\n",
              "[5 rows x 5 columns]"
            ]
          },
          "metadata": {
            "tags": []
          },
          "execution_count": 46
        }
      ]
    },
    {
      "cell_type": "markdown",
      "metadata": {
        "id": "Kp1lfl-qyOzD"
      },
      "source": [
        "Сгруппируем таблицу заказов по месяцу первой покупки и месяцу каждого заказа и сложим выручку. Сбросим индекс методом reset_index():"
      ]
    },
    {
      "cell_type": "code",
      "metadata": {
        "id": "CF92bzqgyVCg",
        "colab": {
          "base_uri": "https://localhost:8080/",
          "height": 195
        },
        "outputId": "cb45a836-ea2a-4b37-e566-eabea2441761"
      },
      "source": [
        "cohorts = orders_new.groupby(['first_order_month','order_month']).agg({'revenue': 'sum'}).reset_index()\n",
        "cohorts.head()"
      ],
      "execution_count": null,
      "outputs": [
        {
          "output_type": "execute_result",
          "data": {
            "text/html": [
              "<div>\n",
              "<style scoped>\n",
              "    .dataframe tbody tr th:only-of-type {\n",
              "        vertical-align: middle;\n",
              "    }\n",
              "\n",
              "    .dataframe tbody tr th {\n",
              "        vertical-align: top;\n",
              "    }\n",
              "\n",
              "    .dataframe thead th {\n",
              "        text-align: right;\n",
              "    }\n",
              "</style>\n",
              "<table border=\"1\" class=\"dataframe\">\n",
              "  <thead>\n",
              "    <tr style=\"text-align: right;\">\n",
              "      <th></th>\n",
              "      <th>first_order_month</th>\n",
              "      <th>order_month</th>\n",
              "      <th>revenue</th>\n",
              "    </tr>\n",
              "  </thead>\n",
              "  <tbody>\n",
              "    <tr>\n",
              "      <th>0</th>\n",
              "      <td>2017-06-01</td>\n",
              "      <td>2017-06-01</td>\n",
              "      <td>9557.49</td>\n",
              "    </tr>\n",
              "    <tr>\n",
              "      <th>1</th>\n",
              "      <td>2017-06-01</td>\n",
              "      <td>2017-07-01</td>\n",
              "      <td>981.82</td>\n",
              "    </tr>\n",
              "    <tr>\n",
              "      <th>2</th>\n",
              "      <td>2017-06-01</td>\n",
              "      <td>2017-08-01</td>\n",
              "      <td>885.34</td>\n",
              "    </tr>\n",
              "    <tr>\n",
              "      <th>3</th>\n",
              "      <td>2017-06-01</td>\n",
              "      <td>2017-09-01</td>\n",
              "      <td>1931.30</td>\n",
              "    </tr>\n",
              "    <tr>\n",
              "      <th>4</th>\n",
              "      <td>2017-06-01</td>\n",
              "      <td>2017-10-01</td>\n",
              "      <td>2068.58</td>\n",
              "    </tr>\n",
              "  </tbody>\n",
              "</table>\n",
              "</div>"
            ],
            "text/plain": [
              "  first_order_month order_month  revenue\n",
              "0        2017-06-01  2017-06-01  9557.49\n",
              "1        2017-06-01  2017-07-01   981.82\n",
              "2        2017-06-01  2017-08-01   885.34\n",
              "3        2017-06-01  2017-09-01  1931.30\n",
              "4        2017-06-01  2017-10-01  2068.58"
            ]
          },
          "metadata": {
            "tags": []
          },
          "execution_count": 47
        }
      ]
    },
    {
      "cell_type": "markdown",
      "metadata": {
        "id": "_FzYXMLEzQ2C"
      },
      "source": [
        "Добавим в таблицу cohorts данные о том, сколько людей первый раз совершили покупку в каждый месяц:"
      ]
    },
    {
      "cell_type": "code",
      "metadata": {
        "id": "iIyfOX-FzRd_",
        "colab": {
          "base_uri": "https://localhost:8080/",
          "height": 195
        },
        "outputId": "ec8b8b9d-0ba9-46f5-edf2-7fd6221a015a"
      },
      "source": [
        "report = pd.merge(cohort_sizes, cohorts, on='first_order_month')\n",
        "report.head()"
      ],
      "execution_count": null,
      "outputs": [
        {
          "output_type": "execute_result",
          "data": {
            "text/html": [
              "<div>\n",
              "<style scoped>\n",
              "    .dataframe tbody tr th:only-of-type {\n",
              "        vertical-align: middle;\n",
              "    }\n",
              "\n",
              "    .dataframe tbody tr th {\n",
              "        vertical-align: top;\n",
              "    }\n",
              "\n",
              "    .dataframe thead th {\n",
              "        text-align: right;\n",
              "    }\n",
              "</style>\n",
              "<table border=\"1\" class=\"dataframe\">\n",
              "  <thead>\n",
              "    <tr style=\"text-align: right;\">\n",
              "      <th></th>\n",
              "      <th>first_order_month</th>\n",
              "      <th>n_buyers</th>\n",
              "      <th>order_month</th>\n",
              "      <th>revenue</th>\n",
              "    </tr>\n",
              "  </thead>\n",
              "  <tbody>\n",
              "    <tr>\n",
              "      <th>0</th>\n",
              "      <td>2017-06-01</td>\n",
              "      <td>2023</td>\n",
              "      <td>2017-06-01</td>\n",
              "      <td>9557.49</td>\n",
              "    </tr>\n",
              "    <tr>\n",
              "      <th>1</th>\n",
              "      <td>2017-06-01</td>\n",
              "      <td>2023</td>\n",
              "      <td>2017-07-01</td>\n",
              "      <td>981.82</td>\n",
              "    </tr>\n",
              "    <tr>\n",
              "      <th>2</th>\n",
              "      <td>2017-06-01</td>\n",
              "      <td>2023</td>\n",
              "      <td>2017-08-01</td>\n",
              "      <td>885.34</td>\n",
              "    </tr>\n",
              "    <tr>\n",
              "      <th>3</th>\n",
              "      <td>2017-06-01</td>\n",
              "      <td>2023</td>\n",
              "      <td>2017-09-01</td>\n",
              "      <td>1931.30</td>\n",
              "    </tr>\n",
              "    <tr>\n",
              "      <th>4</th>\n",
              "      <td>2017-06-01</td>\n",
              "      <td>2023</td>\n",
              "      <td>2017-10-01</td>\n",
              "      <td>2068.58</td>\n",
              "    </tr>\n",
              "  </tbody>\n",
              "</table>\n",
              "</div>"
            ],
            "text/plain": [
              "  first_order_month  n_buyers order_month  revenue\n",
              "0        2017-06-01      2023  2017-06-01  9557.49\n",
              "1        2017-06-01      2023  2017-07-01   981.82\n",
              "2        2017-06-01      2023  2017-08-01   885.34\n",
              "3        2017-06-01      2023  2017-09-01  1931.30\n",
              "4        2017-06-01      2023  2017-10-01  2068.58"
            ]
          },
          "metadata": {
            "tags": []
          },
          "execution_count": 48
        }
      ]
    },
    {
      "cell_type": "markdown",
      "metadata": {
        "id": "QPJM0cTh0x8I"
      },
      "source": [
        "LTV считают из валовой прибыли, которая находится умножением выручки на маржинальность или разницей выручки и себестоимости. Из всех показателей нам доступны данные только по выручке, которую приравняем к значению валовой прибыли. Т.е. сделаем допущение, что 100 % выручки остаются в компании.\n",
        "\n",
        "LTV — относительный показатель. Значит его удобнее смотреть по «возрастным» когортам, где в столбцах — не месяц заказа, а возраст (age) когорты."
      ]
    },
    {
      "cell_type": "code",
      "metadata": {
        "id": "URxxcc8h0yGG",
        "colab": {
          "base_uri": "https://localhost:8080/",
          "height": 195
        },
        "outputId": "951b99e5-4f1e-4f5b-fc9c-5bcc3ea3c99e"
      },
      "source": [
        "report['age'] = (report['order_month'] - report['first_order_month']) / np.timedelta64(1, 'M')\n",
        "report['age'] = report['age'].round().astype('int')\n",
        "report.head()"
      ],
      "execution_count": null,
      "outputs": [
        {
          "output_type": "execute_result",
          "data": {
            "text/html": [
              "<div>\n",
              "<style scoped>\n",
              "    .dataframe tbody tr th:only-of-type {\n",
              "        vertical-align: middle;\n",
              "    }\n",
              "\n",
              "    .dataframe tbody tr th {\n",
              "        vertical-align: top;\n",
              "    }\n",
              "\n",
              "    .dataframe thead th {\n",
              "        text-align: right;\n",
              "    }\n",
              "</style>\n",
              "<table border=\"1\" class=\"dataframe\">\n",
              "  <thead>\n",
              "    <tr style=\"text-align: right;\">\n",
              "      <th></th>\n",
              "      <th>first_order_month</th>\n",
              "      <th>n_buyers</th>\n",
              "      <th>order_month</th>\n",
              "      <th>revenue</th>\n",
              "      <th>age</th>\n",
              "    </tr>\n",
              "  </thead>\n",
              "  <tbody>\n",
              "    <tr>\n",
              "      <th>0</th>\n",
              "      <td>2017-06-01</td>\n",
              "      <td>2023</td>\n",
              "      <td>2017-06-01</td>\n",
              "      <td>9557.49</td>\n",
              "      <td>0</td>\n",
              "    </tr>\n",
              "    <tr>\n",
              "      <th>1</th>\n",
              "      <td>2017-06-01</td>\n",
              "      <td>2023</td>\n",
              "      <td>2017-07-01</td>\n",
              "      <td>981.82</td>\n",
              "      <td>1</td>\n",
              "    </tr>\n",
              "    <tr>\n",
              "      <th>2</th>\n",
              "      <td>2017-06-01</td>\n",
              "      <td>2023</td>\n",
              "      <td>2017-08-01</td>\n",
              "      <td>885.34</td>\n",
              "      <td>2</td>\n",
              "    </tr>\n",
              "    <tr>\n",
              "      <th>3</th>\n",
              "      <td>2017-06-01</td>\n",
              "      <td>2023</td>\n",
              "      <td>2017-09-01</td>\n",
              "      <td>1931.30</td>\n",
              "      <td>3</td>\n",
              "    </tr>\n",
              "    <tr>\n",
              "      <th>4</th>\n",
              "      <td>2017-06-01</td>\n",
              "      <td>2023</td>\n",
              "      <td>2017-10-01</td>\n",
              "      <td>2068.58</td>\n",
              "      <td>4</td>\n",
              "    </tr>\n",
              "  </tbody>\n",
              "</table>\n",
              "</div>"
            ],
            "text/plain": [
              "  first_order_month  n_buyers order_month  revenue  age\n",
              "0        2017-06-01      2023  2017-06-01  9557.49    0\n",
              "1        2017-06-01      2023  2017-07-01   981.82    1\n",
              "2        2017-06-01      2023  2017-08-01   885.34    2\n",
              "3        2017-06-01      2023  2017-09-01  1931.30    3\n",
              "4        2017-06-01      2023  2017-10-01  2068.58    4"
            ]
          },
          "metadata": {
            "tags": []
          },
          "execution_count": 49
        }
      ]
    },
    {
      "cell_type": "markdown",
      "metadata": {
        "id": "eN0P2O4Z4p6f"
      },
      "source": [
        "Наконец, найдём LTV. Разделим валовую прибыль когорт за каждый месяц (в нашем случае выручку) на общее число пользователей в каждой когорте. Для наглядности визуализируем когорты в виде сводной таблицы:"
      ]
    },
    {
      "cell_type": "code",
      "metadata": {
        "id": "7iUKQTsv5AGY"
      },
      "source": [
        "report['ltv'] = report['revenue'] / report['n_buyers']\n",
        "    \n",
        "output = report.pivot_table(\n",
        "        index='first_order_month', \n",
        "        columns='age', \n",
        "        values='ltv', \n",
        "        aggfunc='mean').round(2)\n",
        "output.index = output.index.strftime(\"%m/%Y\")\n",
        "output=output.cumsum(axis=1).round(2)"
      ],
      "execution_count": null,
      "outputs": []
    },
    {
      "cell_type": "code",
      "metadata": {
        "id": "a4eyvCNV9dMK",
        "colab": {
          "base_uri": "https://localhost:8080/",
          "height": 574
        },
        "outputId": "0bce6047-5fd5-4ae3-9648-682e80d91b82"
      },
      "source": [
        "sns.set(style='white')\n",
        "plt.figure(figsize=(13, 9))\n",
        "plt.title('Когорты: LTV', size=14)\n",
        "ax=sns.heatmap(output, annot=True, fmt='.2f', linewidths=1, linecolor='gray', vmin=1, vmax=12)\n",
        "ax.set_ylabel('Месяц когорты')\n",
        "ax.set_xlabel('Месяц жизни когорты')\n",
        "plt.show()"
      ],
      "execution_count": null,
      "outputs": [
        {
          "output_type": "display_data",
          "data": {
            "image/png": "[encoded data removed]",
            "text/plain": [
              "<Figure size 936x648 with 2 Axes>"
            ]
          },
          "metadata": {
            "tags": []
          }
        }
      ]
    },
    {
      "cell_type": "markdown",
      "metadata": {
        "id": "FuugJL4JZeQT"
      },
      "source": [
        "###2.3. Маркетинг"
      ]
    },
    {
      "cell_type": "markdown",
      "metadata": {
        "id": "0zt_fr6pZeQq"
      },
      "source": [
        "#### 2.3.1.\tСколько денег потратили?"
      ]
    },
    {
      "cell_type": "markdown",
      "metadata": {
        "id": "9tA97OPsZnYE"
      },
      "source": [
        "*   всего:\n",
        "\n",
        "\n",
        "\n"
      ]
    },
    {
      "cell_type": "code",
      "metadata": {
        "id": "uYEEqx3mBwYm",
        "colab": {
          "base_uri": "https://localhost:8080/"
        },
        "outputId": "6a51b212-6519-41ab-9b0c-363c6dc61b7c"
      },
      "source": [
        "print('Всего трат -', costs['costs'].sum())"
      ],
      "execution_count": null,
      "outputs": [
        {
          "output_type": "stream",
          "text": [
            "Всего трат - 329131.62\n"
          ],
          "name": "stdout"
        }
      ]
    },
    {
      "cell_type": "markdown",
      "metadata": {
        "id": "hSPN1J8BCcoC"
      },
      "source": [
        "*   на каждый источник:"
      ]
    },
    {
      "cell_type": "code",
      "metadata": {
        "id": "PAXSlYS6CvIM",
        "colab": {
          "base_uri": "https://localhost:8080/",
          "height": 254
        },
        "outputId": "7ad12f33-40e8-4c86-c60e-1954dc27f575"
      },
      "source": [
        "source_costs=costs.groupby('source_id').agg({'costs':'sum'}).reset_index()\n",
        "source_costs"
      ],
      "execution_count": null,
      "outputs": [
        {
          "output_type": "execute_result",
          "data": {
            "text/html": [
              "<div>\n",
              "<style scoped>\n",
              "    .dataframe tbody tr th:only-of-type {\n",
              "        vertical-align: middle;\n",
              "    }\n",
              "\n",
              "    .dataframe tbody tr th {\n",
              "        vertical-align: top;\n",
              "    }\n",
              "\n",
              "    .dataframe thead th {\n",
              "        text-align: right;\n",
              "    }\n",
              "</style>\n",
              "<table border=\"1\" class=\"dataframe\">\n",
              "  <thead>\n",
              "    <tr style=\"text-align: right;\">\n",
              "      <th></th>\n",
              "      <th>source_id</th>\n",
              "      <th>costs</th>\n",
              "    </tr>\n",
              "  </thead>\n",
              "  <tbody>\n",
              "    <tr>\n",
              "      <th>0</th>\n",
              "      <td>1</td>\n",
              "      <td>20833.27</td>\n",
              "    </tr>\n",
              "    <tr>\n",
              "      <th>1</th>\n",
              "      <td>2</td>\n",
              "      <td>42806.04</td>\n",
              "    </tr>\n",
              "    <tr>\n",
              "      <th>2</th>\n",
              "      <td>3</td>\n",
              "      <td>141321.63</td>\n",
              "    </tr>\n",
              "    <tr>\n",
              "      <th>3</th>\n",
              "      <td>4</td>\n",
              "      <td>61073.60</td>\n",
              "    </tr>\n",
              "    <tr>\n",
              "      <th>4</th>\n",
              "      <td>5</td>\n",
              "      <td>51757.10</td>\n",
              "    </tr>\n",
              "    <tr>\n",
              "      <th>5</th>\n",
              "      <td>9</td>\n",
              "      <td>5517.49</td>\n",
              "    </tr>\n",
              "    <tr>\n",
              "      <th>6</th>\n",
              "      <td>10</td>\n",
              "      <td>5822.49</td>\n",
              "    </tr>\n",
              "  </tbody>\n",
              "</table>\n",
              "</div>"
            ],
            "text/plain": [
              "   source_id      costs\n",
              "0          1   20833.27\n",
              "1          2   42806.04\n",
              "2          3  141321.63\n",
              "3          4   61073.60\n",
              "4          5   51757.10\n",
              "5          9    5517.49\n",
              "6         10    5822.49"
            ]
          },
          "metadata": {
            "tags": []
          },
          "execution_count": 53
        }
      ]
    },
    {
      "cell_type": "markdown",
      "metadata": {
        "id": "Nwn9Sjd4BXab"
      },
      "source": [
        "Максимально количество трат приходится на 3ий источник рекламы."
      ]
    },
    {
      "cell_type": "markdown",
      "metadata": {
        "id": "306AB4eHChdl"
      },
      "source": [
        "*   по времени - по месяцам:"
      ]
    },
    {
      "cell_type": "code",
      "metadata": {
        "id": "U_pEcKmQHQjl",
        "colab": {
          "base_uri": "https://localhost:8080/",
          "height": 402
        },
        "outputId": "8f97c509-80b6-4a58-c7d2-30c473e3ccb7"
      },
      "source": [
        "costs['month'] = costs['dt'].astype('datetime64[M]')\n",
        "monthly_costs=costs.groupby('month').agg({'costs':'sum'}).reset_index()\n",
        "monthly_costs"
      ],
      "execution_count": null,
      "outputs": [
        {
          "output_type": "execute_result",
          "data": {
            "text/html": [
              "<div>\n",
              "<style scoped>\n",
              "    .dataframe tbody tr th:only-of-type {\n",
              "        vertical-align: middle;\n",
              "    }\n",
              "\n",
              "    .dataframe tbody tr th {\n",
              "        vertical-align: top;\n",
              "    }\n",
              "\n",
              "    .dataframe thead th {\n",
              "        text-align: right;\n",
              "    }\n",
              "</style>\n",
              "<table border=\"1\" class=\"dataframe\">\n",
              "  <thead>\n",
              "    <tr style=\"text-align: right;\">\n",
              "      <th></th>\n",
              "      <th>month</th>\n",
              "      <th>costs</th>\n",
              "    </tr>\n",
              "  </thead>\n",
              "  <tbody>\n",
              "    <tr>\n",
              "      <th>0</th>\n",
              "      <td>2017-06-01</td>\n",
              "      <td>18015.00</td>\n",
              "    </tr>\n",
              "    <tr>\n",
              "      <th>1</th>\n",
              "      <td>2017-07-01</td>\n",
              "      <td>18240.59</td>\n",
              "    </tr>\n",
              "    <tr>\n",
              "      <th>2</th>\n",
              "      <td>2017-08-01</td>\n",
              "      <td>14790.54</td>\n",
              "    </tr>\n",
              "    <tr>\n",
              "      <th>3</th>\n",
              "      <td>2017-09-01</td>\n",
              "      <td>24368.91</td>\n",
              "    </tr>\n",
              "    <tr>\n",
              "      <th>4</th>\n",
              "      <td>2017-10-01</td>\n",
              "      <td>36322.88</td>\n",
              "    </tr>\n",
              "    <tr>\n",
              "      <th>5</th>\n",
              "      <td>2017-11-01</td>\n",
              "      <td>37907.88</td>\n",
              "    </tr>\n",
              "    <tr>\n",
              "      <th>6</th>\n",
              "      <td>2017-12-01</td>\n",
              "      <td>38315.35</td>\n",
              "    </tr>\n",
              "    <tr>\n",
              "      <th>7</th>\n",
              "      <td>2018-01-01</td>\n",
              "      <td>33518.52</td>\n",
              "    </tr>\n",
              "    <tr>\n",
              "      <th>8</th>\n",
              "      <td>2018-02-01</td>\n",
              "      <td>32723.03</td>\n",
              "    </tr>\n",
              "    <tr>\n",
              "      <th>9</th>\n",
              "      <td>2018-03-01</td>\n",
              "      <td>30415.27</td>\n",
              "    </tr>\n",
              "    <tr>\n",
              "      <th>10</th>\n",
              "      <td>2018-04-01</td>\n",
              "      <td>22289.38</td>\n",
              "    </tr>\n",
              "    <tr>\n",
              "      <th>11</th>\n",
              "      <td>2018-05-01</td>\n",
              "      <td>22224.27</td>\n",
              "    </tr>\n",
              "  </tbody>\n",
              "</table>\n",
              "</div>"
            ],
            "text/plain": [
              "        month     costs\n",
              "0  2017-06-01  18015.00\n",
              "1  2017-07-01  18240.59\n",
              "2  2017-08-01  14790.54\n",
              "3  2017-09-01  24368.91\n",
              "4  2017-10-01  36322.88\n",
              "5  2017-11-01  37907.88\n",
              "6  2017-12-01  38315.35\n",
              "7  2018-01-01  33518.52\n",
              "8  2018-02-01  32723.03\n",
              "9  2018-03-01  30415.27\n",
              "10 2018-04-01  22289.38\n",
              "11 2018-05-01  22224.27"
            ]
          },
          "metadata": {
            "tags": []
          },
          "execution_count": 54
        }
      ]
    },
    {
      "cell_type": "markdown",
      "metadata": {
        "id": "ElOMMnU1BqTo"
      },
      "source": [
        "Среднемесячные траты:"
      ]
    },
    {
      "cell_type": "code",
      "metadata": {
        "id": "v7KR7koVBlsR",
        "colab": {
          "base_uri": "https://localhost:8080/"
        },
        "outputId": "71004e28-723b-4b19-e0e5-411714c61c29"
      },
      "source": [
        "monthly_costs.mean().round().astype('int')"
      ],
      "execution_count": null,
      "outputs": [
        {
          "output_type": "stream",
          "text": [
            "/usr/local/lib/python3.6/dist-packages/ipykernel_launcher.py:1: FutureWarning: DataFrame.mean and DataFrame.median with numeric_only=None will include datetime64 and datetime64tz columns in a future version.\n",
            "  \"\"\"Entry point for launching an IPython kernel.\n"
          ],
          "name": "stderr"
        },
        {
          "output_type": "execute_result",
          "data": {
            "text/plain": [
              "costs    27428\n",
              "dtype: int64"
            ]
          },
          "metadata": {
            "tags": []
          },
          "execution_count": 55
        }
      ]
    },
    {
      "cell_type": "markdown",
      "metadata": {
        "id": "3sIK3IdIZeQt"
      },
      "source": [
        "#### 2.3.2. Сколько стоило привлечение одного покупателя из каждого источника?\n"
      ]
    },
    {
      "cell_type": "markdown",
      "metadata": {
        "id": "s6NBzccYR49k"
      },
      "source": [
        "CAC рассчитывается как отношение затрат на привлечение к количеству покупателей. Для начала посчитаем количество покупателей по каждому источнику рекламы:"
      ]
    },
    {
      "cell_type": "code",
      "metadata": {
        "id": "eThg6tpULJhk",
        "colab": {
          "base_uri": "https://localhost:8080/",
          "height": 284
        },
        "outputId": "02df7541-ba4a-4c4c-c234-66c49770ad52"
      },
      "source": [
        "n_buyers_per_source=orders.merge(visits, on='uid')\n",
        "n_buyers_per_source=n_buyers_per_source.groupby(['source_id']).agg({'uid':'nunique'}).reset_index()\n",
        "n_buyers_per_source.columns=['source_id', 'n_buyers']\n",
        "n_buyers_per_source"
      ],
      "execution_count": null,
      "outputs": [
        {
          "output_type": "execute_result",
          "data": {
            "text/html": [
              "<div>\n",
              "<style scoped>\n",
              "    .dataframe tbody tr th:only-of-type {\n",
              "        vertical-align: middle;\n",
              "    }\n",
              "\n",
              "    .dataframe tbody tr th {\n",
              "        vertical-align: top;\n",
              "    }\n",
              "\n",
              "    .dataframe thead th {\n",
              "        text-align: right;\n",
              "    }\n",
              "</style>\n",
              "<table border=\"1\" class=\"dataframe\">\n",
              "  <thead>\n",
              "    <tr style=\"text-align: right;\">\n",
              "      <th></th>\n",
              "      <th>source_id</th>\n",
              "      <th>n_buyers</th>\n",
              "    </tr>\n",
              "  </thead>\n",
              "  <tbody>\n",
              "    <tr>\n",
              "      <th>0</th>\n",
              "      <td>1</td>\n",
              "      <td>7138</td>\n",
              "    </tr>\n",
              "    <tr>\n",
              "      <th>1</th>\n",
              "      <td>2</td>\n",
              "      <td>7305</td>\n",
              "    </tr>\n",
              "    <tr>\n",
              "      <th>2</th>\n",
              "      <td>3</td>\n",
              "      <td>13846</td>\n",
              "    </tr>\n",
              "    <tr>\n",
              "      <th>3</th>\n",
              "      <td>4</td>\n",
              "      <td>14253</td>\n",
              "    </tr>\n",
              "    <tr>\n",
              "      <th>4</th>\n",
              "      <td>5</td>\n",
              "      <td>10156</td>\n",
              "    </tr>\n",
              "    <tr>\n",
              "      <th>5</th>\n",
              "      <td>7</td>\n",
              "      <td>1</td>\n",
              "    </tr>\n",
              "    <tr>\n",
              "      <th>6</th>\n",
              "      <td>9</td>\n",
              "      <td>2793</td>\n",
              "    </tr>\n",
              "    <tr>\n",
              "      <th>7</th>\n",
              "      <td>10</td>\n",
              "      <td>1773</td>\n",
              "    </tr>\n",
              "  </tbody>\n",
              "</table>\n",
              "</div>"
            ],
            "text/plain": [
              "   source_id  n_buyers\n",
              "0          1      7138\n",
              "1          2      7305\n",
              "2          3     13846\n",
              "3          4     14253\n",
              "4          5     10156\n",
              "5          7         1\n",
              "6          9      2793\n",
              "7         10      1773"
            ]
          },
          "metadata": {
            "tags": []
          },
          "execution_count": 56
        }
      ]
    },
    {
      "cell_type": "markdown",
      "metadata": {
        "id": "3HS6AFPtQyAU"
      },
      "source": [
        "Объединим поучившуюся таблицу с таблицей затрат:"
      ]
    },
    {
      "cell_type": "code",
      "metadata": {
        "id": "MqJappdN02t5"
      },
      "source": [
        "costs=pd.merge(costs, n_buyers_per_source, on='source_id')"
      ],
      "execution_count": null,
      "outputs": []
    },
    {
      "cell_type": "markdown",
      "metadata": {
        "id": "jo0FQ1gl5h2l"
      },
      "source": [
        "Теперь рассчитаем CAC по идентификатору рекламного источника:"
      ]
    },
    {
      "cell_type": "code",
      "metadata": {
        "id": "GkNTFIYaQ2tY",
        "colab": {
          "base_uri": "https://localhost:8080/",
          "height": 254
        },
        "outputId": "7299f53d-b947-4916-ca20-ad9113fa54cb"
      },
      "source": [
        "source_cac = costs.groupby(['source_id', 'n_buyers']).agg({'costs':'sum'}).reset_index()\n",
        "source_cac['cac'] = source_cac['costs'] / source_cac['n_buyers']\n",
        "source_cac"
      ],
      "execution_count": null,
      "outputs": [
        {
          "output_type": "execute_result",
          "data": {
            "text/html": [
              "<div>\n",
              "<style scoped>\n",
              "    .dataframe tbody tr th:only-of-type {\n",
              "        vertical-align: middle;\n",
              "    }\n",
              "\n",
              "    .dataframe tbody tr th {\n",
              "        vertical-align: top;\n",
              "    }\n",
              "\n",
              "    .dataframe thead th {\n",
              "        text-align: right;\n",
              "    }\n",
              "</style>\n",
              "<table border=\"1\" class=\"dataframe\">\n",
              "  <thead>\n",
              "    <tr style=\"text-align: right;\">\n",
              "      <th></th>\n",
              "      <th>source_id</th>\n",
              "      <th>n_buyers</th>\n",
              "      <th>costs</th>\n",
              "      <th>cac</th>\n",
              "    </tr>\n",
              "  </thead>\n",
              "  <tbody>\n",
              "    <tr>\n",
              "      <th>0</th>\n",
              "      <td>1</td>\n",
              "      <td>7138</td>\n",
              "      <td>20833.27</td>\n",
              "      <td>2.918642</td>\n",
              "    </tr>\n",
              "    <tr>\n",
              "      <th>1</th>\n",
              "      <td>2</td>\n",
              "      <td>7305</td>\n",
              "      <td>42806.04</td>\n",
              "      <td>5.859828</td>\n",
              "    </tr>\n",
              "    <tr>\n",
              "      <th>2</th>\n",
              "      <td>3</td>\n",
              "      <td>13846</td>\n",
              "      <td>141321.63</td>\n",
              "      <td>10.206676</td>\n",
              "    </tr>\n",
              "    <tr>\n",
              "      <th>3</th>\n",
              "      <td>4</td>\n",
              "      <td>14253</td>\n",
              "      <td>61073.60</td>\n",
              "      <td>4.284965</td>\n",
              "    </tr>\n",
              "    <tr>\n",
              "      <th>4</th>\n",
              "      <td>5</td>\n",
              "      <td>10156</td>\n",
              "      <td>51757.10</td>\n",
              "      <td>5.096209</td>\n",
              "    </tr>\n",
              "    <tr>\n",
              "      <th>5</th>\n",
              "      <td>9</td>\n",
              "      <td>2793</td>\n",
              "      <td>5517.49</td>\n",
              "      <td>1.975471</td>\n",
              "    </tr>\n",
              "    <tr>\n",
              "      <th>6</th>\n",
              "      <td>10</td>\n",
              "      <td>1773</td>\n",
              "      <td>5822.49</td>\n",
              "      <td>3.283976</td>\n",
              "    </tr>\n",
              "  </tbody>\n",
              "</table>\n",
              "</div>"
            ],
            "text/plain": [
              "   source_id  n_buyers      costs        cac\n",
              "0          1      7138   20833.27   2.918642\n",
              "1          2      7305   42806.04   5.859828\n",
              "2          3     13846  141321.63  10.206676\n",
              "3          4     14253   61073.60   4.284965\n",
              "4          5     10156   51757.10   5.096209\n",
              "5          9      2793    5517.49   1.975471\n",
              "6         10      1773    5822.49   3.283976"
            ]
          },
          "metadata": {
            "tags": []
          },
          "execution_count": 58
        }
      ]
    },
    {
      "cell_type": "markdown",
      "metadata": {
        "id": "rP6tA5c2CJGl"
      },
      "source": [
        "Где траты больше всего, там и привлечение пользователя самое дорогое."
      ]
    },
    {
      "cell_type": "markdown",
      "metadata": {
        "id": "olqyTUpkZeQw"
      },
      "source": [
        "#### 2.3.3. На сколько окупились расходы? (ROI)"
      ]
    },
    {
      "cell_type": "markdown",
      "metadata": {
        "id": "jQD3kbMIO3Yl"
      },
      "source": [
        "##### 2.3.3.1. Рассчитаем ROMI по когортам: поделим LTV на CAC.\n",
        "\n",
        "Чтобы посчитать накопительный ROMI, вызовем метод cumsum() - он последовательно сложит ROMI по age:"
      ]
    },
    {
      "cell_type": "code",
      "metadata": {
        "id": "ZNF40huROfe0"
      },
      "source": [
        "romi=pd.merge(report, monthly_costs, left_on='first_order_month', right_on='month')\n",
        "romi['cac'] = romi['costs'] / romi['n_buyers']\n",
        "romi['romi'] = romi['ltv'] / romi['cac']\n",
        "output = romi.pivot_table(\n",
        "        index='first_order_month', \n",
        "        columns='age', \n",
        "        values='romi', \n",
        "        aggfunc='mean')\n",
        "\n",
        "output=output.cumsum(axis=1).round(2)\n",
        "output.index = output.index.strftime(\"%m/%Y\")"
      ],
      "execution_count": null,
      "outputs": []
    },
    {
      "cell_type": "code",
      "metadata": {
        "id": "gipY4RmfVZOD",
        "colab": {
          "base_uri": "https://localhost:8080/",
          "height": 574
        },
        "outputId": "b77170a4-d6a9-4a50-9a92-b1d53d4540ae"
      },
      "source": [
        "sns.set(style='white')\n",
        "plt.figure(figsize=(13, 9))\n",
        "plt.title('Когорты: ROMI', size=14, weight = 'bold')\n",
        "ax=sns.heatmap(output, annot=True, fmt='.2f', linewidths=1, linecolor='gray', cmap = 'hot')\n",
        "ax.set_ylabel('Месяц когорты')\n",
        "ax.set_xlabel('Месяц жизни когорты');"
      ],
      "execution_count": null,
      "outputs": [
        {
          "output_type": "display_data",
          "data": {
            "image/png": "[encoded data removed]",
            "text/plain": [
              "<Figure size 936x648 with 2 Axes>"
            ]
          },
          "metadata": {
            "tags": []
          }
        }
      ]
    },
    {
      "cell_type": "markdown",
      "metadata": {
        "id": "e3nCYLiRCYif"
      },
      "source": [
        "Из всех когорт окупились лишь июньская (на 6 месяце жизни) и сентябрьская (на 4 месяце)."
      ]
    },
    {
      "cell_type": "markdown",
      "metadata": {
        "id": "rwtVILwJQXBJ"
      },
      "source": [
        "##### 2.3.3.2. Рассчитаем ROMI по источникам рекламы"
      ]
    },
    {
      "cell_type": "markdown",
      "metadata": {
        "id": "KhWM3UURRMMk"
      },
      "source": [
        "Будем рассчитывать ROMI как отношение выручки к затратам на рекламу в разрезе источников рекламы."
      ]
    },
    {
      "cell_type": "markdown",
      "metadata": {
        "id": "giSnBuEwRsED"
      },
      "source": [
        "Для этого сначала узнаем рекламный источник первого визита для каждого пользователя и объединим получившиеся данные с таблицей orders:"
      ]
    },
    {
      "cell_type": "code",
      "metadata": {
        "id": "QpQdJVtNMrl4",
        "colab": {
          "base_uri": "https://localhost:8080/",
          "height": 195
        },
        "outputId": "340790a1-e5ee-4036-a5db-8733e6526804"
      },
      "source": [
        "first_uid_source = visits.groupby(['uid'])['source_id'].min()\n",
        "first_uid_source.name = 'first_uid_source'\n",
        "first_uid_source = orders.join(first_uid_source,on='uid')\n",
        "first_uid_source.head()"
      ],
      "execution_count": null,
      "outputs": [
        {
          "output_type": "execute_result",
          "data": {
            "text/html": [
              "<div>\n",
              "<style scoped>\n",
              "    .dataframe tbody tr th:only-of-type {\n",
              "        vertical-align: middle;\n",
              "    }\n",
              "\n",
              "    .dataframe tbody tr th {\n",
              "        vertical-align: top;\n",
              "    }\n",
              "\n",
              "    .dataframe thead th {\n",
              "        text-align: right;\n",
              "    }\n",
              "</style>\n",
              "<table border=\"1\" class=\"dataframe\">\n",
              "  <thead>\n",
              "    <tr style=\"text-align: right;\">\n",
              "      <th></th>\n",
              "      <th>buy_ts</th>\n",
              "      <th>revenue</th>\n",
              "      <th>uid</th>\n",
              "      <th>order_month</th>\n",
              "      <th>first_uid_source</th>\n",
              "    </tr>\n",
              "  </thead>\n",
              "  <tbody>\n",
              "    <tr>\n",
              "      <th>0</th>\n",
              "      <td>2017-06-01 00:10:00</td>\n",
              "      <td>17.00</td>\n",
              "      <td>10329302124590727494</td>\n",
              "      <td>2017-06-01</td>\n",
              "      <td>1</td>\n",
              "    </tr>\n",
              "    <tr>\n",
              "      <th>1</th>\n",
              "      <td>2017-06-01 00:25:00</td>\n",
              "      <td>0.55</td>\n",
              "      <td>11627257723692907447</td>\n",
              "      <td>2017-06-01</td>\n",
              "      <td>2</td>\n",
              "    </tr>\n",
              "    <tr>\n",
              "      <th>2</th>\n",
              "      <td>2017-06-01 00:27:00</td>\n",
              "      <td>0.37</td>\n",
              "      <td>17903680561304213844</td>\n",
              "      <td>2017-06-01</td>\n",
              "      <td>2</td>\n",
              "    </tr>\n",
              "    <tr>\n",
              "      <th>3</th>\n",
              "      <td>2017-06-01 00:29:00</td>\n",
              "      <td>0.55</td>\n",
              "      <td>16109239769442553005</td>\n",
              "      <td>2017-06-01</td>\n",
              "      <td>2</td>\n",
              "    </tr>\n",
              "    <tr>\n",
              "      <th>4</th>\n",
              "      <td>2017-06-01 07:58:00</td>\n",
              "      <td>0.37</td>\n",
              "      <td>14200605875248379450</td>\n",
              "      <td>2017-06-01</td>\n",
              "      <td>3</td>\n",
              "    </tr>\n",
              "  </tbody>\n",
              "</table>\n",
              "</div>"
            ],
            "text/plain": [
              "               buy_ts  revenue  ...  order_month first_uid_source\n",
              "0 2017-06-01 00:10:00    17.00  ...   2017-06-01                1\n",
              "1 2017-06-01 00:25:00     0.55  ...   2017-06-01                2\n",
              "2 2017-06-01 00:27:00     0.37  ...   2017-06-01                2\n",
              "3 2017-06-01 00:29:00     0.55  ...   2017-06-01                2\n",
              "4 2017-06-01 07:58:00     0.37  ...   2017-06-01                3\n",
              "\n",
              "[5 rows x 5 columns]"
            ]
          },
          "metadata": {
            "tags": []
          },
          "execution_count": 61
        }
      ]
    },
    {
      "cell_type": "markdown",
      "metadata": {
        "id": "3sbhKMIHSBHk"
      },
      "source": [
        "Теперь посмотрим на сумму выручки по каждому  рекламному источнику:"
      ]
    },
    {
      "cell_type": "code",
      "metadata": {
        "id": "-4dnqt2jNr11",
        "colab": {
          "base_uri": "https://localhost:8080/",
          "height": 284
        },
        "outputId": "9c4537a3-fcbc-4722-e2e7-1c8d4559bd97"
      },
      "source": [
        "revenue_by_source=first_uid_source.groupby(['first_uid_source'])['revenue'].sum().reset_index()\n",
        "revenue_by_source"
      ],
      "execution_count": null,
      "outputs": [
        {
          "output_type": "execute_result",
          "data": {
            "text/html": [
              "<div>\n",
              "<style scoped>\n",
              "    .dataframe tbody tr th:only-of-type {\n",
              "        vertical-align: middle;\n",
              "    }\n",
              "\n",
              "    .dataframe tbody tr th {\n",
              "        vertical-align: top;\n",
              "    }\n",
              "\n",
              "    .dataframe thead th {\n",
              "        text-align: right;\n",
              "    }\n",
              "</style>\n",
              "<table border=\"1\" class=\"dataframe\">\n",
              "  <thead>\n",
              "    <tr style=\"text-align: right;\">\n",
              "      <th></th>\n",
              "      <th>first_uid_source</th>\n",
              "      <th>revenue</th>\n",
              "    </tr>\n",
              "  </thead>\n",
              "  <tbody>\n",
              "    <tr>\n",
              "      <th>0</th>\n",
              "      <td>1</td>\n",
              "      <td>101631.38</td>\n",
              "    </tr>\n",
              "    <tr>\n",
              "      <th>1</th>\n",
              "      <td>2</td>\n",
              "      <td>43123.74</td>\n",
              "    </tr>\n",
              "    <tr>\n",
              "      <th>2</th>\n",
              "      <td>3</td>\n",
              "      <td>43354.82</td>\n",
              "    </tr>\n",
              "    <tr>\n",
              "      <th>3</th>\n",
              "      <td>4</td>\n",
              "      <td>36705.84</td>\n",
              "    </tr>\n",
              "    <tr>\n",
              "      <th>4</th>\n",
              "      <td>5</td>\n",
              "      <td>22919.80</td>\n",
              "    </tr>\n",
              "    <tr>\n",
              "      <th>5</th>\n",
              "      <td>7</td>\n",
              "      <td>1.22</td>\n",
              "    </tr>\n",
              "    <tr>\n",
              "      <th>6</th>\n",
              "      <td>9</td>\n",
              "      <td>1874.18</td>\n",
              "    </tr>\n",
              "    <tr>\n",
              "      <th>7</th>\n",
              "      <td>10</td>\n",
              "      <td>2446.22</td>\n",
              "    </tr>\n",
              "  </tbody>\n",
              "</table>\n",
              "</div>"
            ],
            "text/plain": [
              "   first_uid_source    revenue\n",
              "0                 1  101631.38\n",
              "1                 2   43123.74\n",
              "2                 3   43354.82\n",
              "3                 4   36705.84\n",
              "4                 5   22919.80\n",
              "5                 7       1.22\n",
              "6                 9    1874.18\n",
              "7                10    2446.22"
            ]
          },
          "metadata": {
            "tags": []
          },
          "execution_count": 62
        }
      ]
    },
    {
      "cell_type": "markdown",
      "metadata": {
        "id": "kmWNQ51BSdLj"
      },
      "source": [
        "Объединим эту таблицу с source_cac, в которой содержатся данные по затратам на рекламу и посчитаем ROMI по каждому источнику рекламы:"
      ]
    },
    {
      "cell_type": "code",
      "metadata": {
        "id": "uGsDRaJTOfwR",
        "colab": {
          "base_uri": "https://localhost:8080/",
          "height": 254
        },
        "outputId": "5401a442-7330-4627-c4f0-ace0fc513275"
      },
      "source": [
        "romi_by_source = source_cac.merge(revenue_by_source, left_on='source_id', right_on='first_uid_source')\n",
        "romi_by_source['romi']=romi_by_source['revenue']/romi_by_source['costs']\n",
        "romi_by_source"
      ],
      "execution_count": null,
      "outputs": [
        {
          "output_type": "execute_result",
          "data": {
            "text/html": [
              "<div>\n",
              "<style scoped>\n",
              "    .dataframe tbody tr th:only-of-type {\n",
              "        vertical-align: middle;\n",
              "    }\n",
              "\n",
              "    .dataframe tbody tr th {\n",
              "        vertical-align: top;\n",
              "    }\n",
              "\n",
              "    .dataframe thead th {\n",
              "        text-align: right;\n",
              "    }\n",
              "</style>\n",
              "<table border=\"1\" class=\"dataframe\">\n",
              "  <thead>\n",
              "    <tr style=\"text-align: right;\">\n",
              "      <th></th>\n",
              "      <th>source_id</th>\n",
              "      <th>n_buyers</th>\n",
              "      <th>costs</th>\n",
              "      <th>cac</th>\n",
              "      <th>first_uid_source</th>\n",
              "      <th>revenue</th>\n",
              "      <th>romi</th>\n",
              "    </tr>\n",
              "  </thead>\n",
              "  <tbody>\n",
              "    <tr>\n",
              "      <th>0</th>\n",
              "      <td>1</td>\n",
              "      <td>7138</td>\n",
              "      <td>20833.27</td>\n",
              "      <td>2.918642</td>\n",
              "      <td>1</td>\n",
              "      <td>101631.38</td>\n",
              "      <td>4.878321</td>\n",
              "    </tr>\n",
              "    <tr>\n",
              "      <th>1</th>\n",
              "      <td>2</td>\n",
              "      <td>7305</td>\n",
              "      <td>42806.04</td>\n",
              "      <td>5.859828</td>\n",
              "      <td>2</td>\n",
              "      <td>43123.74</td>\n",
              "      <td>1.007422</td>\n",
              "    </tr>\n",
              "    <tr>\n",
              "      <th>2</th>\n",
              "      <td>3</td>\n",
              "      <td>13846</td>\n",
              "      <td>141321.63</td>\n",
              "      <td>10.206676</td>\n",
              "      <td>3</td>\n",
              "      <td>43354.82</td>\n",
              "      <td>0.306781</td>\n",
              "    </tr>\n",
              "    <tr>\n",
              "      <th>3</th>\n",
              "      <td>4</td>\n",
              "      <td>14253</td>\n",
              "      <td>61073.60</td>\n",
              "      <td>4.284965</td>\n",
              "      <td>4</td>\n",
              "      <td>36705.84</td>\n",
              "      <td>0.601010</td>\n",
              "    </tr>\n",
              "    <tr>\n",
              "      <th>4</th>\n",
              "      <td>5</td>\n",
              "      <td>10156</td>\n",
              "      <td>51757.10</td>\n",
              "      <td>5.096209</td>\n",
              "      <td>5</td>\n",
              "      <td>22919.80</td>\n",
              "      <td>0.442834</td>\n",
              "    </tr>\n",
              "    <tr>\n",
              "      <th>5</th>\n",
              "      <td>9</td>\n",
              "      <td>2793</td>\n",
              "      <td>5517.49</td>\n",
              "      <td>1.975471</td>\n",
              "      <td>9</td>\n",
              "      <td>1874.18</td>\n",
              "      <td>0.339680</td>\n",
              "    </tr>\n",
              "    <tr>\n",
              "      <th>6</th>\n",
              "      <td>10</td>\n",
              "      <td>1773</td>\n",
              "      <td>5822.49</td>\n",
              "      <td>3.283976</td>\n",
              "      <td>10</td>\n",
              "      <td>2446.22</td>\n",
              "      <td>0.420133</td>\n",
              "    </tr>\n",
              "  </tbody>\n",
              "</table>\n",
              "</div>"
            ],
            "text/plain": [
              "   source_id  n_buyers      costs  ...  first_uid_source    revenue      romi\n",
              "0          1      7138   20833.27  ...                 1  101631.38  4.878321\n",
              "1          2      7305   42806.04  ...                 2   43123.74  1.007422\n",
              "2          3     13846  141321.63  ...                 3   43354.82  0.306781\n",
              "3          4     14253   61073.60  ...                 4   36705.84  0.601010\n",
              "4          5     10156   51757.10  ...                 5   22919.80  0.442834\n",
              "5          9      2793    5517.49  ...                 9    1874.18  0.339680\n",
              "6         10      1773    5822.49  ...                10    2446.22  0.420133\n",
              "\n",
              "[7 rows x 7 columns]"
            ]
          },
          "metadata": {
            "tags": []
          },
          "execution_count": 63
        }
      ]
    },
    {
      "cell_type": "code",
      "metadata": {
        "id": "b-QXdiT3Snh7",
        "colab": {
          "base_uri": "https://localhost:8080/",
          "height": 355
        },
        "outputId": "b23747c9-18fe-4ca1-c9ba-cd00d9621b81"
      },
      "source": [
        "output = romi_by_source.sort_values(by='romi', ascending=False).reset_index()\n",
        "\n",
        "ax=output.plot(y='romi', x='source_id', kind='bar', figsize=(8, 5), title='ROMI по источникам', legend=False, rot=360)\n",
        "plt.axhline(y=1, color='g', linestyle=':')\n",
        "ax.text(.99, 0.21, 'порог окупаемости',\n",
        "        verticalalignment='bottom', horizontalalignment='right',\n",
        "        transform=ax.transAxes,\n",
        "        color='green', fontsize=12)\n",
        "for p in ax.patches:\n",
        "    height = p.get_height()\n",
        "    ax.text(p.get_x()+p.get_width()/2.,\n",
        "            height+0.05,\n",
        "            '{:.2f}'.format(height),\n",
        "            fontsize=10,\n",
        "            ha=\"center\")\n",
        "plt.xlabel('Источники рекламы')\n",
        "plt.ylabel('ROMI')\n",
        "plt.show()"
      ],
      "execution_count": null,
      "outputs": [
        {
          "output_type": "display_data",
          "data": {
            "image/png": "[encoded data removed]",
            "text/plain": [
              "<Figure size 576x360 with 1 Axes>"
            ]
          },
          "metadata": {
            "tags": []
          }
        }
      ]
    },
    {
      "cell_type": "markdown",
      "metadata": {
        "id": "LRr39l3jTmFY"
      },
      "source": [
        "ROMI окупилось лишь по двум источникам рекламы - № 1 и 2, при этом по источнику № 1 - почти в 5 раз."
      ]
    },
    {
      "cell_type": "markdown",
      "metadata": {
        "id": "KK3yEHzfeWhF"
      },
      "source": [
        "##Шаг 3. Общий вывод\n",
        "---\n",
        "\n"
      ]
    },
    {
      "cell_type": "markdown",
      "metadata": {
        "id": "jwcsTSquJobu"
      },
      "source": [
        "При работе с проектом были выполнениы следующие шаги:\n",
        "1. Загружены данные и подготовлены к анализу\n",
        "2. Построены отчеты и посчитаны метрики\n",
        "* Продукт\n",
        "\n",
        "Сколько людей пользуются в день, неделю, месяц?\n",
        "\n",
        "Сколько сессий в день?\n",
        "\n",
        "Сколько длится одна сессия?\n",
        "\n",
        "Как часто люди возвращаются?\n",
        "\n",
        "* Продажи\n",
        "\n",
        "Когда люди начинают покупать?\n",
        "\n",
        "Сколько раз покупают за период?\n",
        "\n",
        "Какой средний чек?\n",
        "\n",
        "Сколько денег приносят?\n",
        "\n",
        "* Маркетинг\n",
        "\n",
        "Сколько денег потратили?\n",
        "Всего / на каждый источник / по времени?\n",
        "\n",
        "Сколько стоило привлечение одного покупателя из каждого источника?\n",
        "\n",
        "На сколько окупились расходы?"
      ]
    },
    {
      "cell_type": "markdown",
      "metadata": {
        "id": "cFZAOfKyOPWV"
      },
      "source": [
        "####Резюме\n",
        "\n",
        "\n",
        "---\n",
        "\n",
        "\n",
        "Сервисом Яднекс.Афиша пользуются сайтом в месяц 23 228 человек.\n",
        "\n",
        "Среднее количество сессий в день - 987 с средней длительностью около 11 минут.\n",
        "\n",
        "Когорта 06/2017 имеет самый высокий коэффициент удержания (Retention Rate) на протяжении всего периода.\n",
        "\n",
        "В большинстве случаев заказ делают в день первого визита на сайт и за 1 минуту - это говорит о том, что чаще всего люди заходят с конкретной целью - купить.\n",
        "\n",
        "В среднем за 1 месяц каждый пользователь покупает - 1,37 раз.\n",
        "\n",
        "Средний чек составляет - 5 у.е.\n",
        "\n",
        "Самая дорогая стоимость привлечения отмечена по источникам № 3, 2 и 5.\n",
        "\n",
        "Из всех когорт окупились лишь июньская (на 6 месяце жизни) и сентябрьская (на 4 месяце).\n",
        "\n",
        "ROMI окупилось лишь по двум источникам рекламы - № 1 и 2, при этом по источнику № 1 - почти в 5 раз.\n",
        "\n",
        "Общий вывод:\n",
        "\n",
        "Самая удачная стратегия проявила себя в сентябре 2017 г., на нее и стоит ориентироваться в дальнейшем.\n",
        "\n",
        "ROMI окупилось лишь по двум источникам рекламы - № 1 и 2, поэтому имеет ссмысл отказаться от иных источников."
      ]
    }
  ]
}
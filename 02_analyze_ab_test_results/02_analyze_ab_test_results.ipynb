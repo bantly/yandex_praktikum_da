{
  "nbformat": 4,
  "nbformat_minor": 0,
  "metadata": {
    "colab": {
      "name": "decision_making.ipynb",
      "provenance": [],
      "collapsed_sections": [
        "77FF9wdUJlCY"
      ],
      "include_colab_link": true
    },
    "kernelspec": {
      "display_name": "Python 3",
      "language": "python",
      "name": "python3"
    },
    "language_info": {
      "codemirror_mode": {
        "name": "ipython",
        "version": 3
      },
      "file_extension": ".py",
      "mimetype": "text/x-python",
      "name": "python",
      "nbconvert_exporter": "python",
      "pygments_lexer": "ipython3",
      "version": "3.7.6"
    }
  },
  "cells": [
    {
      "cell_type": "markdown",
      "metadata": {
        "id": "view-in-github",
        "colab_type": "text"
      },
      "source": [
        "<a href=\"https://colab.research.google.com/github/dsibi/yandex_praktikum_da/blob/main/02_analyze_ab_test_results/02_analyze_ab_test_results.ipynb\" target=\"_parent\"><img src=\"https://colab.research.google.com/assets/colab-badge.svg\" alt=\"Open In Colab\"/></a>"
      ]
    },
    {
      "cell_type": "markdown",
      "metadata": {
        "id": "VllUVw8zlC5w"
      },
      "source": [
        "#**Принятие решений в бизнесе на основе данных**\n",
        "\n",
        "---"
      ]
    },
    {
      "cell_type": "markdown",
      "metadata": {
        "id": "h9UmXukQRUjV"
      },
      "source": [
        "## Описание проекта"
      ]
    },
    {
      "cell_type": "markdown",
      "metadata": {
        "id": "5OL_VgzZl6w-"
      },
      "source": [
        "Вы — аналитик крупного интернет-магазина. Вместе с отделом маркетинга вы подготовили список гипотез для увеличения выручки.\n",
        "\n",
        "Проект будет состоять из 2 частей:\n",
        "*  1 часть - приоритизация гипотез;\n",
        "*  2 часть - запуск A/B-теста и анализ результатов."
      ]
    },
    {
      "cell_type": "markdown",
      "metadata": {
        "id": "bmOygU6egPXN"
      },
      "source": [
        "#Часть 1. Приоритизация гипотез\n",
        "\n",
        "---\n",
        "\n"
      ]
    },
    {
      "cell_type": "markdown",
      "metadata": {
        "id": "3WTXb2DhmssU"
      },
      "source": [
        "##Описание данных"
      ]
    },
    {
      "cell_type": "markdown",
      "metadata": {
        "id": "Jqh-jgiBmvvk"
      },
      "source": [
        "В файле /datasets/hypothesis.csv 9 гипотез по увеличению выручки интернет-магазина с указанными параметрами Reach, Impact, Confidence, Effort:\n",
        "* Hypothesis — краткое описание гипотезы;\n",
        "* Reach — охват пользователей по 10-балльной шкале;\n",
        "* Impact — влияние на пользователей по 10-балльной шкале;\n",
        "* Confidence — уверенность в гипотезе по 10-балльной шкале;\n",
        "* Efforts — затраты ресурсов на проверку гипотезы по 10-балльной шкале."
      ]
    },
    {
      "cell_type": "markdown",
      "metadata": {
        "id": "enrH5_Mj5AXA"
      },
      "source": [
        "Импортируем все необходимые нам библиотеки, далее новые библиотеки будем добавлять сюда же"
      ]
    },
    {
      "cell_type": "code",
      "metadata": {
        "id": "s1ra9wIlUYmh"
      },
      "source": [
        "import pandas as pd\n",
        "import matplotlib.pyplot as plt\n",
        "import seaborn as sns\n",
        "import numpy as np\n",
        "import scipy.stats as stats\n",
        "from scipy import stats as st\n",
        "import math"
      ],
      "execution_count": 1,
      "outputs": []
    },
    {
      "cell_type": "markdown",
      "metadata": {
        "id": "CosQqSm0uEaf"
      },
      "source": [
        "Установим безлимитную ширину колонки при выводе, чтобы названия гипотез выводились полностью."
      ]
    },
    {
      "cell_type": "code",
      "metadata": {
        "id": "_N21T6Nktp5t"
      },
      "source": [
        "pd.set_option('display.max_colwidth', 1000)"
      ],
      "execution_count": 2,
      "outputs": []
    },
    {
      "cell_type": "markdown",
      "metadata": {
        "id": "iQB_GHy-UPB4"
      },
      "source": [
        "##1.1. Загрузим данные и подготовим их к анализу\n",
        "\n",
        "---\n",
        "\n"
      ]
    },
    {
      "cell_type": "markdown",
      "metadata": {
        "id": "t4AbWSrcYENJ"
      },
      "source": [
        "###1.1.1. Загрузим файлы с данными и изучим общую информацию"
      ]
    },
    {
      "cell_type": "markdown",
      "metadata": {
        "id": "T22fxDAo6VgL"
      },
      "source": [
        "Чтение файлов"
      ]
    },
    {
      "cell_type": "code",
      "metadata": {
        "id": "RQXXMZE9UkWh"
      },
      "source": [
        "# hypothesis=pd.read_csv('/datasets/hypothesis.csv')"
      ],
      "execution_count": 3,
      "outputs": []
    },
    {
      "cell_type": "code",
      "metadata": {
        "id": "VVYZsNM3YnKi",
        "colab": {
          "base_uri": "https://localhost:8080/"
        },
        "outputId": "f90fd134-e597-4ae3-d8ad-910b8750743d"
      },
      "source": [
        "from google.colab import drive\n",
        "drive.mount('/content/drive')"
      ],
      "execution_count": 4,
      "outputs": [
        {
          "output_type": "stream",
          "text": [
            "Mounted at /content/drive\n"
          ],
          "name": "stdout"
        }
      ]
    },
    {
      "cell_type": "markdown",
      "metadata": {
        "id": "5rKyG93759zc"
      },
      "source": [
        "Чтение файлов"
      ]
    },
    {
      "cell_type": "code",
      "metadata": {
        "id": "f91mlL5W59zc"
      },
      "source": [
        "hypothesis=pd.read_csv('/content/drive/MyDrive/Edu/Data Analysis/8_Принятие решений в бизнесе на основе данных/!Project/data/hypothesis.csv')"
      ],
      "execution_count": 5,
      "outputs": []
    },
    {
      "cell_type": "markdown",
      "metadata": {
        "id": "Qc3oFvIS6fVE"
      },
      "source": [
        "Изучим общую информацию "
      ]
    },
    {
      "cell_type": "code",
      "metadata": {
        "colab": {
          "base_uri": "https://localhost:8080/",
          "height": 966
        },
        "id": "d6XpZ_mG6e_g",
        "outputId": "3af54521-e0ad-4e45-e7bb-49d665fc1aa8"
      },
      "source": [
        "df_list = [hypothesis]\n",
        "for df in df_list:   \n",
        "    print('Первые 5 строк датафрейма')\n",
        "    print('-'*80)\n",
        "    display(df.head(5))\n",
        "    print('-'*80)\n",
        "    print('Типы данных и общая информация')\n",
        "    print(df.info())\n",
        "    print('-'*80)\n",
        "    print('Наличие дубликатов: {}'.format(df.duplicated().sum()))\n",
        "    print('-'*80)\n",
        "    print('Наличие пропусков')\n",
        "    print('-'*80)\n",
        "    print(df.isna().sum())\n",
        "    print('Стат данные')\n",
        "    print('-'*80)\n",
        "    display(df.describe())"
      ],
      "execution_count": 6,
      "outputs": [
        {
          "output_type": "stream",
          "text": [
            "Первые 5 строк датафрейма\n",
            "--------------------------------------------------------------------------------\n"
          ],
          "name": "stdout"
        },
        {
          "output_type": "display_data",
          "data": {
            "text/html": [
              "<div>\n",
              "<style scoped>\n",
              "    .dataframe tbody tr th:only-of-type {\n",
              "        vertical-align: middle;\n",
              "    }\n",
              "\n",
              "    .dataframe tbody tr th {\n",
              "        vertical-align: top;\n",
              "    }\n",
              "\n",
              "    .dataframe thead th {\n",
              "        text-align: right;\n",
              "    }\n",
              "</style>\n",
              "<table border=\"1\" class=\"dataframe\">\n",
              "  <thead>\n",
              "    <tr style=\"text-align: right;\">\n",
              "      <th></th>\n",
              "      <th>Hypothesis</th>\n",
              "      <th>Reach</th>\n",
              "      <th>Impact</th>\n",
              "      <th>Confidence</th>\n",
              "      <th>Efforts</th>\n",
              "    </tr>\n",
              "  </thead>\n",
              "  <tbody>\n",
              "    <tr>\n",
              "      <th>0</th>\n",
              "      <td>Добавить два новых канала привлечения трафика, что позволит привлекать на 30% больше пользователей</td>\n",
              "      <td>3</td>\n",
              "      <td>10</td>\n",
              "      <td>8</td>\n",
              "      <td>6</td>\n",
              "    </tr>\n",
              "    <tr>\n",
              "      <th>1</th>\n",
              "      <td>Запустить собственную службу доставки, что сократит срок доставки заказов</td>\n",
              "      <td>2</td>\n",
              "      <td>5</td>\n",
              "      <td>4</td>\n",
              "      <td>10</td>\n",
              "    </tr>\n",
              "    <tr>\n",
              "      <th>2</th>\n",
              "      <td>Добавить блоки рекомендаций товаров на сайт интернет магазина, чтобы повысить конверсию и средний чек заказа</td>\n",
              "      <td>8</td>\n",
              "      <td>3</td>\n",
              "      <td>7</td>\n",
              "      <td>3</td>\n",
              "    </tr>\n",
              "    <tr>\n",
              "      <th>3</th>\n",
              "      <td>Изменить структура категорий, что увеличит конверсию, т.к. пользователи быстрее найдут нужный товар</td>\n",
              "      <td>8</td>\n",
              "      <td>3</td>\n",
              "      <td>3</td>\n",
              "      <td>8</td>\n",
              "    </tr>\n",
              "    <tr>\n",
              "      <th>4</th>\n",
              "      <td>Изменить цвет фона главной страницы, чтобы увеличить вовлеченность пользователей</td>\n",
              "      <td>3</td>\n",
              "      <td>1</td>\n",
              "      <td>1</td>\n",
              "      <td>1</td>\n",
              "    </tr>\n",
              "  </tbody>\n",
              "</table>\n",
              "</div>"
            ],
            "text/plain": [
              "                                                                                                     Hypothesis  ...  Efforts\n",
              "0            Добавить два новых канала привлечения трафика, что позволит привлекать на 30% больше пользователей  ...        6\n",
              "1                                     Запустить собственную службу доставки, что сократит срок доставки заказов  ...       10\n",
              "2  Добавить блоки рекомендаций товаров на сайт интернет магазина, чтобы повысить конверсию и средний чек заказа  ...        3\n",
              "3           Изменить структура категорий, что увеличит конверсию, т.к. пользователи быстрее найдут нужный товар  ...        8\n",
              "4                              Изменить цвет фона главной страницы, чтобы увеличить вовлеченность пользователей  ...        1\n",
              "\n",
              "[5 rows x 5 columns]"
            ]
          },
          "metadata": {
            "tags": []
          }
        },
        {
          "output_type": "stream",
          "text": [
            "--------------------------------------------------------------------------------\n",
            "Типы данных и общая информация\n",
            "<class 'pandas.core.frame.DataFrame'>\n",
            "RangeIndex: 9 entries, 0 to 8\n",
            "Data columns (total 5 columns):\n",
            " #   Column      Non-Null Count  Dtype \n",
            "---  ------      --------------  ----- \n",
            " 0   Hypothesis  9 non-null      object\n",
            " 1   Reach       9 non-null      int64 \n",
            " 2   Impact      9 non-null      int64 \n",
            " 3   Confidence  9 non-null      int64 \n",
            " 4   Efforts     9 non-null      int64 \n",
            "dtypes: int64(4), object(1)\n",
            "memory usage: 488.0+ bytes\n",
            "None\n",
            "--------------------------------------------------------------------------------\n",
            "Наличие дубликатов: 0\n",
            "--------------------------------------------------------------------------------\n",
            "Наличие пропусков\n",
            "--------------------------------------------------------------------------------\n",
            "Hypothesis    0\n",
            "Reach         0\n",
            "Impact        0\n",
            "Confidence    0\n",
            "Efforts       0\n",
            "dtype: int64\n",
            "Стат данные\n",
            "--------------------------------------------------------------------------------\n"
          ],
          "name": "stdout"
        },
        {
          "output_type": "display_data",
          "data": {
            "text/html": [
              "<div>\n",
              "<style scoped>\n",
              "    .dataframe tbody tr th:only-of-type {\n",
              "        vertical-align: middle;\n",
              "    }\n",
              "\n",
              "    .dataframe tbody tr th {\n",
              "        vertical-align: top;\n",
              "    }\n",
              "\n",
              "    .dataframe thead th {\n",
              "        text-align: right;\n",
              "    }\n",
              "</style>\n",
              "<table border=\"1\" class=\"dataframe\">\n",
              "  <thead>\n",
              "    <tr style=\"text-align: right;\">\n",
              "      <th></th>\n",
              "      <th>Reach</th>\n",
              "      <th>Impact</th>\n",
              "      <th>Confidence</th>\n",
              "      <th>Efforts</th>\n",
              "    </tr>\n",
              "  </thead>\n",
              "  <tbody>\n",
              "    <tr>\n",
              "      <th>count</th>\n",
              "      <td>9.000000</td>\n",
              "      <td>9.000000</td>\n",
              "      <td>9.000000</td>\n",
              "      <td>9.000000</td>\n",
              "    </tr>\n",
              "    <tr>\n",
              "      <th>mean</th>\n",
              "      <td>4.777778</td>\n",
              "      <td>4.777778</td>\n",
              "      <td>5.555556</td>\n",
              "      <td>4.888889</td>\n",
              "    </tr>\n",
              "    <tr>\n",
              "      <th>std</th>\n",
              "      <td>3.153481</td>\n",
              "      <td>3.192874</td>\n",
              "      <td>3.045944</td>\n",
              "      <td>2.803767</td>\n",
              "    </tr>\n",
              "    <tr>\n",
              "      <th>min</th>\n",
              "      <td>1.000000</td>\n",
              "      <td>1.000000</td>\n",
              "      <td>1.000000</td>\n",
              "      <td>1.000000</td>\n",
              "    </tr>\n",
              "    <tr>\n",
              "      <th>25%</th>\n",
              "      <td>3.000000</td>\n",
              "      <td>3.000000</td>\n",
              "      <td>3.000000</td>\n",
              "      <td>3.000000</td>\n",
              "    </tr>\n",
              "    <tr>\n",
              "      <th>50%</th>\n",
              "      <td>3.000000</td>\n",
              "      <td>3.000000</td>\n",
              "      <td>7.000000</td>\n",
              "      <td>5.000000</td>\n",
              "    </tr>\n",
              "    <tr>\n",
              "      <th>75%</th>\n",
              "      <td>8.000000</td>\n",
              "      <td>7.000000</td>\n",
              "      <td>8.000000</td>\n",
              "      <td>6.000000</td>\n",
              "    </tr>\n",
              "    <tr>\n",
              "      <th>max</th>\n",
              "      <td>10.000000</td>\n",
              "      <td>10.000000</td>\n",
              "      <td>9.000000</td>\n",
              "      <td>10.000000</td>\n",
              "    </tr>\n",
              "  </tbody>\n",
              "</table>\n",
              "</div>"
            ],
            "text/plain": [
              "           Reach     Impact  Confidence    Efforts\n",
              "count   9.000000   9.000000    9.000000   9.000000\n",
              "mean    4.777778   4.777778    5.555556   4.888889\n",
              "std     3.153481   3.192874    3.045944   2.803767\n",
              "min     1.000000   1.000000    1.000000   1.000000\n",
              "25%     3.000000   3.000000    3.000000   3.000000\n",
              "50%     3.000000   3.000000    7.000000   5.000000\n",
              "75%     8.000000   7.000000    8.000000   6.000000\n",
              "max    10.000000  10.000000    9.000000  10.000000"
            ]
          },
          "metadata": {
            "tags": []
          }
        }
      ]
    },
    {
      "cell_type": "markdown",
      "metadata": {
        "id": "es98fCBgCWFk"
      },
      "source": [
        "1. Названия столбцов: необходимо скорректировать регистр названий всех колонок.\n",
        "2. Типы данных: корректировка не требуется.\n",
        "3. Дубликаты: отсутствуют.\n",
        "4. Пропуски: отсутствуют.\n",
        "5. Аномалии в данных: отсутствуют."
      ]
    },
    {
      "cell_type": "markdown",
      "metadata": {
        "id": "77FF9wdUJlCY"
      },
      "source": [
        "###1.1.2. Подготовим данные к анализу"
      ]
    },
    {
      "cell_type": "code",
      "metadata": {
        "id": "21hqfeqqrzJY"
      },
      "source": [
        "hypothesis.columns= hypothesis.columns.str.lower()"
      ],
      "execution_count": 7,
      "outputs": []
    },
    {
      "cell_type": "markdown",
      "metadata": {
        "id": "tcmK5vEHnqj9"
      },
      "source": [
        "##1.2. Применим фреймворк ICE для приоритизации гипотез и отсортируем их по убыванию приоритета\n",
        "\n",
        "---\n",
        "\n"
      ]
    },
    {
      "cell_type": "code",
      "metadata": {
        "colab": {
          "base_uri": "https://localhost:8080/",
          "height": 314
        },
        "id": "tHL6U2RDrCf7",
        "outputId": "6b73f363-6262-4f99-bc8c-7af7410310ce"
      },
      "source": [
        "hypothesis['ice'] = ((hypothesis['impact']*hypothesis['confidence'])/hypothesis['efforts']).round(1)\n",
        "display(hypothesis[['hypothesis','ice']].sort_values(by='ice', ascending=False))"
      ],
      "execution_count": 8,
      "outputs": [
        {
          "output_type": "display_data",
          "data": {
            "text/html": [
              "<div>\n",
              "<style scoped>\n",
              "    .dataframe tbody tr th:only-of-type {\n",
              "        vertical-align: middle;\n",
              "    }\n",
              "\n",
              "    .dataframe tbody tr th {\n",
              "        vertical-align: top;\n",
              "    }\n",
              "\n",
              "    .dataframe thead th {\n",
              "        text-align: right;\n",
              "    }\n",
              "</style>\n",
              "<table border=\"1\" class=\"dataframe\">\n",
              "  <thead>\n",
              "    <tr style=\"text-align: right;\">\n",
              "      <th></th>\n",
              "      <th>hypothesis</th>\n",
              "      <th>ice</th>\n",
              "    </tr>\n",
              "  </thead>\n",
              "  <tbody>\n",
              "    <tr>\n",
              "      <th>8</th>\n",
              "      <td>Запустить акцию, дающую скидку на товар в день рождения</td>\n",
              "      <td>16.2</td>\n",
              "    </tr>\n",
              "    <tr>\n",
              "      <th>0</th>\n",
              "      <td>Добавить два новых канала привлечения трафика, что позволит привлекать на 30% больше пользователей</td>\n",
              "      <td>13.3</td>\n",
              "    </tr>\n",
              "    <tr>\n",
              "      <th>7</th>\n",
              "      <td>Добавить форму подписки на все основные страницы, чтобы собрать базу клиентов для email-рассылок</td>\n",
              "      <td>11.2</td>\n",
              "    </tr>\n",
              "    <tr>\n",
              "      <th>6</th>\n",
              "      <td>Показать на главной странице баннеры с актуальными акциями и распродажами, чтобы увеличить конверсию</td>\n",
              "      <td>8.0</td>\n",
              "    </tr>\n",
              "    <tr>\n",
              "      <th>2</th>\n",
              "      <td>Добавить блоки рекомендаций товаров на сайт интернет магазина, чтобы повысить конверсию и средний чек заказа</td>\n",
              "      <td>7.0</td>\n",
              "    </tr>\n",
              "    <tr>\n",
              "      <th>1</th>\n",
              "      <td>Запустить собственную службу доставки, что сократит срок доставки заказов</td>\n",
              "      <td>2.0</td>\n",
              "    </tr>\n",
              "    <tr>\n",
              "      <th>5</th>\n",
              "      <td>Добавить страницу отзывов клиентов о магазине, что позволит увеличить количество заказов</td>\n",
              "      <td>1.3</td>\n",
              "    </tr>\n",
              "    <tr>\n",
              "      <th>3</th>\n",
              "      <td>Изменить структура категорий, что увеличит конверсию, т.к. пользователи быстрее найдут нужный товар</td>\n",
              "      <td>1.1</td>\n",
              "    </tr>\n",
              "    <tr>\n",
              "      <th>4</th>\n",
              "      <td>Изменить цвет фона главной страницы, чтобы увеличить вовлеченность пользователей</td>\n",
              "      <td>1.0</td>\n",
              "    </tr>\n",
              "  </tbody>\n",
              "</table>\n",
              "</div>"
            ],
            "text/plain": [
              "                                                                                                     hypothesis   ice\n",
              "8                                                       Запустить акцию, дающую скидку на товар в день рождения  16.2\n",
              "0            Добавить два новых канала привлечения трафика, что позволит привлекать на 30% больше пользователей  13.3\n",
              "7              Добавить форму подписки на все основные страницы, чтобы собрать базу клиентов для email-рассылок  11.2\n",
              "6          Показать на главной странице баннеры с актуальными акциями и распродажами, чтобы увеличить конверсию   8.0\n",
              "2  Добавить блоки рекомендаций товаров на сайт интернет магазина, чтобы повысить конверсию и средний чек заказа   7.0\n",
              "1                                     Запустить собственную службу доставки, что сократит срок доставки заказов   2.0\n",
              "5                      Добавить страницу отзывов клиентов о магазине, что позволит увеличить количество заказов   1.3\n",
              "3           Изменить структура категорий, что увеличит конверсию, т.к. пользователи быстрее найдут нужный товар   1.1\n",
              "4                              Изменить цвет фона главной страницы, чтобы увеличить вовлеченность пользователей   1.0"
            ]
          },
          "metadata": {
            "tags": []
          }
        }
      ]
    },
    {
      "cell_type": "markdown",
      "metadata": {
        "id": "-zN_L6nen3oH"
      },
      "source": [
        "##1.3. Применим фреймворк RICE для приоритизации гипотез и отсортируем их по убыванию приоритета\n",
        "\n",
        "---\n",
        "\n"
      ]
    },
    {
      "cell_type": "code",
      "metadata": {
        "colab": {
          "base_uri": "https://localhost:8080/",
          "height": 314
        },
        "id": "qSshWgCMu28J",
        "outputId": "26dee7b6-aed0-42de-dd83-249b22308fe8"
      },
      "source": [
        "hypothesis['rice'] = ((hypothesis['reach']*hypothesis['impact']*hypothesis['confidence'])/hypothesis['efforts']).round(1)\n",
        "display(hypothesis[['hypothesis','rice']].sort_values(by='rice', ascending=False))"
      ],
      "execution_count": 9,
      "outputs": [
        {
          "output_type": "display_data",
          "data": {
            "text/html": [
              "<div>\n",
              "<style scoped>\n",
              "    .dataframe tbody tr th:only-of-type {\n",
              "        vertical-align: middle;\n",
              "    }\n",
              "\n",
              "    .dataframe tbody tr th {\n",
              "        vertical-align: top;\n",
              "    }\n",
              "\n",
              "    .dataframe thead th {\n",
              "        text-align: right;\n",
              "    }\n",
              "</style>\n",
              "<table border=\"1\" class=\"dataframe\">\n",
              "  <thead>\n",
              "    <tr style=\"text-align: right;\">\n",
              "      <th></th>\n",
              "      <th>hypothesis</th>\n",
              "      <th>rice</th>\n",
              "    </tr>\n",
              "  </thead>\n",
              "  <tbody>\n",
              "    <tr>\n",
              "      <th>7</th>\n",
              "      <td>Добавить форму подписки на все основные страницы, чтобы собрать базу клиентов для email-рассылок</td>\n",
              "      <td>112.0</td>\n",
              "    </tr>\n",
              "    <tr>\n",
              "      <th>2</th>\n",
              "      <td>Добавить блоки рекомендаций товаров на сайт интернет магазина, чтобы повысить конверсию и средний чек заказа</td>\n",
              "      <td>56.0</td>\n",
              "    </tr>\n",
              "    <tr>\n",
              "      <th>0</th>\n",
              "      <td>Добавить два новых канала привлечения трафика, что позволит привлекать на 30% больше пользователей</td>\n",
              "      <td>40.0</td>\n",
              "    </tr>\n",
              "    <tr>\n",
              "      <th>6</th>\n",
              "      <td>Показать на главной странице баннеры с актуальными акциями и распродажами, чтобы увеличить конверсию</td>\n",
              "      <td>40.0</td>\n",
              "    </tr>\n",
              "    <tr>\n",
              "      <th>8</th>\n",
              "      <td>Запустить акцию, дающую скидку на товар в день рождения</td>\n",
              "      <td>16.2</td>\n",
              "    </tr>\n",
              "    <tr>\n",
              "      <th>3</th>\n",
              "      <td>Изменить структура категорий, что увеличит конверсию, т.к. пользователи быстрее найдут нужный товар</td>\n",
              "      <td>9.0</td>\n",
              "    </tr>\n",
              "    <tr>\n",
              "      <th>1</th>\n",
              "      <td>Запустить собственную службу доставки, что сократит срок доставки заказов</td>\n",
              "      <td>4.0</td>\n",
              "    </tr>\n",
              "    <tr>\n",
              "      <th>5</th>\n",
              "      <td>Добавить страницу отзывов клиентов о магазине, что позволит увеличить количество заказов</td>\n",
              "      <td>4.0</td>\n",
              "    </tr>\n",
              "    <tr>\n",
              "      <th>4</th>\n",
              "      <td>Изменить цвет фона главной страницы, чтобы увеличить вовлеченность пользователей</td>\n",
              "      <td>3.0</td>\n",
              "    </tr>\n",
              "  </tbody>\n",
              "</table>\n",
              "</div>"
            ],
            "text/plain": [
              "                                                                                                     hypothesis   rice\n",
              "7              Добавить форму подписки на все основные страницы, чтобы собрать базу клиентов для email-рассылок  112.0\n",
              "2  Добавить блоки рекомендаций товаров на сайт интернет магазина, чтобы повысить конверсию и средний чек заказа   56.0\n",
              "0            Добавить два новых канала привлечения трафика, что позволит привлекать на 30% больше пользователей   40.0\n",
              "6          Показать на главной странице баннеры с актуальными акциями и распродажами, чтобы увеличить конверсию   40.0\n",
              "8                                                       Запустить акцию, дающую скидку на товар в день рождения   16.2\n",
              "3           Изменить структура категорий, что увеличит конверсию, т.к. пользователи быстрее найдут нужный товар    9.0\n",
              "1                                     Запустить собственную службу доставки, что сократит срок доставки заказов    4.0\n",
              "5                      Добавить страницу отзывов клиентов о магазине, что позволит увеличить количество заказов    4.0\n",
              "4                              Изменить цвет фона главной страницы, чтобы увеличить вовлеченность пользователей    3.0"
            ]
          },
          "metadata": {
            "tags": []
          }
        }
      ]
    },
    {
      "cell_type": "markdown",
      "metadata": {
        "id": "jrsE5xDon3vl"
      },
      "source": [
        "##1.4. Отметим различие в приоритизации гипотез при разных методах\n",
        "\n",
        "---\n",
        "\n"
      ]
    },
    {
      "cell_type": "code",
      "metadata": {
        "id": "vxSQf5mT0vwy"
      },
      "source": [
        "sns.set_theme()"
      ],
      "execution_count": 10,
      "outputs": []
    },
    {
      "cell_type": "code",
      "metadata": {
        "colab": {
          "base_uri": "https://localhost:8080/",
          "height": 272
        },
        "id": "MoqAn34w2KSk",
        "outputId": "91e21a6e-1205-418c-8d39-f16b085d8506"
      },
      "source": [
        "ax = sns.heatmap(hypothesis[['reach',\t'impact',\t'confidence',\t'efforts']], annot=True, linewidths=1, linecolor='white')\n",
        "plt.yticks(rotation=0);"
      ],
      "execution_count": 11,
      "outputs": [
        {
          "output_type": "display_data",
          "data": {
            "image/png": "[encoded data removed]",
            "text/plain": [
              "<Figure size 432x288 with 2 Axes>"
            ]
          },
          "metadata": {
            "tags": []
          }
        }
      ]
    },
    {
      "cell_type": "markdown",
      "metadata": {
        "id": "qwa7nUqjx623"
      },
      "source": [
        "При применении фреймворка ICE наиболее перспективными гипотезами являются - 8, 0 и 7, однако с учетом параметра охвата пользователей (Reach) наиболее перспективными гипотезами являются - 7, 2 и 0.\n",
        "\n",
        "Так получилось, потому, что у гипотезы 7 максимальная оценка Reach, следом за ней идут гипотезы 2 и 3 с оценкой 8, но т.к. у гипотезы 3 высокий Efforts, это снижает ее общую оценку в приоритизации, при этом гипотеза 0 вышла в топ-3 по причине максимально оцененного Impact и высокого Confidence.\n",
        "\n",
        "В связи с вышеизложенным рекомендовано в первую очередь проводить тестирование гипотез 7 и 0."
      ]
    },
    {
      "cell_type": "markdown",
      "metadata": {
        "id": "73jn3649hI1n"
      },
      "source": [
        "#Часть 2. Запуск A/B-теста и анализ результатов\n",
        "---\n",
        "\n"
      ]
    },
    {
      "cell_type": "markdown",
      "metadata": {
        "id": "twElqwmzhI1n"
      },
      "source": [
        "##Описание данных"
      ]
    },
    {
      "cell_type": "markdown",
      "metadata": {
        "id": "T5dEBsNuhI1n"
      },
      "source": [
        "Мы провели A/B-тест и получили результаты.\n",
        "\n",
        "Файл /datasets/orders.csv:\n",
        "* transactionId — идентификатор заказа;\n",
        "* visitorId — идентификатор пользователя, совершившего заказ;\n",
        "* date — дата, когда был совершён заказ;\n",
        "* revenue — выручка заказа;\n",
        "* group — группа A/B-теста, в которую попал заказ.\n",
        "\n",
        "Файл /datasets/visitors.csv:\n",
        "* date — дата;\n",
        "* group — группа A/B-теста;\n",
        "* visitors — количество пользователей в указанную дату в указанной группе A/B-теста\n",
        "\n",
        "Проанализируем A/B-тест."
      ]
    },
    {
      "cell_type": "markdown",
      "metadata": {
        "id": "49F6boF10RTc"
      },
      "source": [
        "##2.1. Загрузим данные и подготовим их к анализу\n",
        "\n",
        "---\n",
        "\n"
      ]
    },
    {
      "cell_type": "markdown",
      "metadata": {
        "id": "uPuXp4Sbx_oR"
      },
      "source": [
        "###2.1.1. Загрузим файлы с данными и изучим общую информацию"
      ]
    },
    {
      "cell_type": "markdown",
      "metadata": {
        "id": "wdJXBPCax_oo"
      },
      "source": [
        "Чтение файлов"
      ]
    },
    {
      "cell_type": "code",
      "metadata": {
        "id": "8lrPjoDPx_op"
      },
      "source": [
        "# orders=pd.read_csv('/datasets/orders.csv')\r\n",
        "# visitors=pd.read_csv('/datasets/visitors.csv')"
      ],
      "execution_count": 12,
      "outputs": []
    },
    {
      "cell_type": "code",
      "metadata": {
        "colab": {
          "base_uri": "https://localhost:8080/"
        },
        "id": "RorLAMNHx_oq",
        "outputId": "39c241ce-3e02-433b-993d-98c87093ae06"
      },
      "source": [
        "from google.colab import drive\n",
        "drive.mount('/content/drive')"
      ],
      "execution_count": 13,
      "outputs": [
        {
          "output_type": "stream",
          "text": [
            "Drive already mounted at /content/drive; to attempt to forcibly remount, call drive.mount(\"/content/drive\", force_remount=True).\n"
          ],
          "name": "stdout"
        }
      ]
    },
    {
      "cell_type": "markdown",
      "metadata": {
        "id": "lViGVToUx_or"
      },
      "source": [
        "Чтение файлов"
      ]
    },
    {
      "cell_type": "code",
      "metadata": {
        "id": "MxWDBFFKx_or"
      },
      "source": [
        "orders=pd.read_csv('/content/drive/MyDrive/Edu/Data Analysis/8_Принятие решений в бизнесе на основе данных/!Project/data/orders.csv')\r\n",
        "visitors=pd.read_csv('/content/drive/MyDrive/Edu/Data Analysis/8_Принятие решений в бизнесе на основе данных/!Project/data/visitors.csv')"
      ],
      "execution_count": 14,
      "outputs": []
    },
    {
      "cell_type": "markdown",
      "metadata": {
        "id": "m6h413Pux_os"
      },
      "source": [
        "Изучим общую информацию "
      ]
    },
    {
      "cell_type": "code",
      "metadata": {
        "colab": {
          "base_uri": "https://localhost:8080/",
          "height": 1000
        },
        "id": "-qMDLVFyx_os",
        "outputId": "c1307177-2b65-406a-dc99-148ecf3b052c"
      },
      "source": [
        "df_list = [orders, visitors]\n",
        "for df in df_list:   \n",
        "    print('Первые 5 строк датафрейма')\n",
        "    print('-'*80)\n",
        "    display(df.head(5))\n",
        "    print('-'*80)\n",
        "    print('Типы данных и общая информация')\n",
        "    print(df.info())\n",
        "    print('-'*80)\n",
        "    print('Наличие дубликатов: {}'.format(df.duplicated().sum()))\n",
        "    print('-'*80)\n",
        "    print('Наличие пропусков')\n",
        "    print('-'*80)\n",
        "    print(df.isna().sum())\n",
        "    print('Стат данные')\n",
        "    print('-'*80)\n",
        "    display(df.describe())"
      ],
      "execution_count": 15,
      "outputs": [
        {
          "output_type": "stream",
          "text": [
            "Первые 5 строк датафрейма\n",
            "--------------------------------------------------------------------------------\n"
          ],
          "name": "stdout"
        },
        {
          "output_type": "display_data",
          "data": {
            "text/html": [
              "<div>\n",
              "<style scoped>\n",
              "    .dataframe tbody tr th:only-of-type {\n",
              "        vertical-align: middle;\n",
              "    }\n",
              "\n",
              "    .dataframe tbody tr th {\n",
              "        vertical-align: top;\n",
              "    }\n",
              "\n",
              "    .dataframe thead th {\n",
              "        text-align: right;\n",
              "    }\n",
              "</style>\n",
              "<table border=\"1\" class=\"dataframe\">\n",
              "  <thead>\n",
              "    <tr style=\"text-align: right;\">\n",
              "      <th></th>\n",
              "      <th>transactionId</th>\n",
              "      <th>visitorId</th>\n",
              "      <th>date</th>\n",
              "      <th>revenue</th>\n",
              "      <th>group</th>\n",
              "    </tr>\n",
              "  </thead>\n",
              "  <tbody>\n",
              "    <tr>\n",
              "      <th>0</th>\n",
              "      <td>3667963787</td>\n",
              "      <td>3312258926</td>\n",
              "      <td>2019-08-15</td>\n",
              "      <td>1650</td>\n",
              "      <td>B</td>\n",
              "    </tr>\n",
              "    <tr>\n",
              "      <th>1</th>\n",
              "      <td>2804400009</td>\n",
              "      <td>3642806036</td>\n",
              "      <td>2019-08-15</td>\n",
              "      <td>730</td>\n",
              "      <td>B</td>\n",
              "    </tr>\n",
              "    <tr>\n",
              "      <th>2</th>\n",
              "      <td>2961555356</td>\n",
              "      <td>4069496402</td>\n",
              "      <td>2019-08-15</td>\n",
              "      <td>400</td>\n",
              "      <td>A</td>\n",
              "    </tr>\n",
              "    <tr>\n",
              "      <th>3</th>\n",
              "      <td>3797467345</td>\n",
              "      <td>1196621759</td>\n",
              "      <td>2019-08-15</td>\n",
              "      <td>9759</td>\n",
              "      <td>B</td>\n",
              "    </tr>\n",
              "    <tr>\n",
              "      <th>4</th>\n",
              "      <td>2282983706</td>\n",
              "      <td>2322279887</td>\n",
              "      <td>2019-08-15</td>\n",
              "      <td>2308</td>\n",
              "      <td>B</td>\n",
              "    </tr>\n",
              "  </tbody>\n",
              "</table>\n",
              "</div>"
            ],
            "text/plain": [
              "   transactionId   visitorId        date  revenue group\n",
              "0     3667963787  3312258926  2019-08-15     1650     B\n",
              "1     2804400009  3642806036  2019-08-15      730     B\n",
              "2     2961555356  4069496402  2019-08-15      400     A\n",
              "3     3797467345  1196621759  2019-08-15     9759     B\n",
              "4     2282983706  2322279887  2019-08-15     2308     B"
            ]
          },
          "metadata": {
            "tags": []
          }
        },
        {
          "output_type": "stream",
          "text": [
            "--------------------------------------------------------------------------------\n",
            "Типы данных и общая информация\n",
            "<class 'pandas.core.frame.DataFrame'>\n",
            "RangeIndex: 1197 entries, 0 to 1196\n",
            "Data columns (total 5 columns):\n",
            " #   Column         Non-Null Count  Dtype \n",
            "---  ------         --------------  ----- \n",
            " 0   transactionId  1197 non-null   int64 \n",
            " 1   visitorId      1197 non-null   int64 \n",
            " 2   date           1197 non-null   object\n",
            " 3   revenue        1197 non-null   int64 \n",
            " 4   group          1197 non-null   object\n",
            "dtypes: int64(3), object(2)\n",
            "memory usage: 46.9+ KB\n",
            "None\n",
            "--------------------------------------------------------------------------------\n",
            "Наличие дубликатов: 0\n",
            "--------------------------------------------------------------------------------\n",
            "Наличие пропусков\n",
            "--------------------------------------------------------------------------------\n",
            "transactionId    0\n",
            "visitorId        0\n",
            "date             0\n",
            "revenue          0\n",
            "group            0\n",
            "dtype: int64\n",
            "Стат данные\n",
            "--------------------------------------------------------------------------------\n"
          ],
          "name": "stdout"
        },
        {
          "output_type": "display_data",
          "data": {
            "text/html": [
              "<div>\n",
              "<style scoped>\n",
              "    .dataframe tbody tr th:only-of-type {\n",
              "        vertical-align: middle;\n",
              "    }\n",
              "\n",
              "    .dataframe tbody tr th {\n",
              "        vertical-align: top;\n",
              "    }\n",
              "\n",
              "    .dataframe thead th {\n",
              "        text-align: right;\n",
              "    }\n",
              "</style>\n",
              "<table border=\"1\" class=\"dataframe\">\n",
              "  <thead>\n",
              "    <tr style=\"text-align: right;\">\n",
              "      <th></th>\n",
              "      <th>transactionId</th>\n",
              "      <th>visitorId</th>\n",
              "      <th>revenue</th>\n",
              "    </tr>\n",
              "  </thead>\n",
              "  <tbody>\n",
              "    <tr>\n",
              "      <th>count</th>\n",
              "      <td>1.197000e+03</td>\n",
              "      <td>1.197000e+03</td>\n",
              "      <td>1.197000e+03</td>\n",
              "    </tr>\n",
              "    <tr>\n",
              "      <th>mean</th>\n",
              "      <td>2.155621e+09</td>\n",
              "      <td>2.165960e+09</td>\n",
              "      <td>8.348006e+03</td>\n",
              "    </tr>\n",
              "    <tr>\n",
              "      <th>std</th>\n",
              "      <td>1.229085e+09</td>\n",
              "      <td>1.236014e+09</td>\n",
              "      <td>3.919113e+04</td>\n",
              "    </tr>\n",
              "    <tr>\n",
              "      <th>min</th>\n",
              "      <td>1.062393e+06</td>\n",
              "      <td>5.114589e+06</td>\n",
              "      <td>5.000000e+01</td>\n",
              "    </tr>\n",
              "    <tr>\n",
              "      <th>25%</th>\n",
              "      <td>1.166776e+09</td>\n",
              "      <td>1.111826e+09</td>\n",
              "      <td>1.220000e+03</td>\n",
              "    </tr>\n",
              "    <tr>\n",
              "      <th>50%</th>\n",
              "      <td>2.145194e+09</td>\n",
              "      <td>2.217985e+09</td>\n",
              "      <td>2.978000e+03</td>\n",
              "    </tr>\n",
              "    <tr>\n",
              "      <th>75%</th>\n",
              "      <td>3.237740e+09</td>\n",
              "      <td>3.177606e+09</td>\n",
              "      <td>8.290000e+03</td>\n",
              "    </tr>\n",
              "    <tr>\n",
              "      <th>max</th>\n",
              "      <td>4.293856e+09</td>\n",
              "      <td>4.283872e+09</td>\n",
              "      <td>1.294500e+06</td>\n",
              "    </tr>\n",
              "  </tbody>\n",
              "</table>\n",
              "</div>"
            ],
            "text/plain": [
              "       transactionId     visitorId       revenue\n",
              "count   1.197000e+03  1.197000e+03  1.197000e+03\n",
              "mean    2.155621e+09  2.165960e+09  8.348006e+03\n",
              "std     1.229085e+09  1.236014e+09  3.919113e+04\n",
              "min     1.062393e+06  5.114589e+06  5.000000e+01\n",
              "25%     1.166776e+09  1.111826e+09  1.220000e+03\n",
              "50%     2.145194e+09  2.217985e+09  2.978000e+03\n",
              "75%     3.237740e+09  3.177606e+09  8.290000e+03\n",
              "max     4.293856e+09  4.283872e+09  1.294500e+06"
            ]
          },
          "metadata": {
            "tags": []
          }
        },
        {
          "output_type": "stream",
          "text": [
            "Первые 5 строк датафрейма\n",
            "--------------------------------------------------------------------------------\n"
          ],
          "name": "stdout"
        },
        {
          "output_type": "display_data",
          "data": {
            "text/html": [
              "<div>\n",
              "<style scoped>\n",
              "    .dataframe tbody tr th:only-of-type {\n",
              "        vertical-align: middle;\n",
              "    }\n",
              "\n",
              "    .dataframe tbody tr th {\n",
              "        vertical-align: top;\n",
              "    }\n",
              "\n",
              "    .dataframe thead th {\n",
              "        text-align: right;\n",
              "    }\n",
              "</style>\n",
              "<table border=\"1\" class=\"dataframe\">\n",
              "  <thead>\n",
              "    <tr style=\"text-align: right;\">\n",
              "      <th></th>\n",
              "      <th>date</th>\n",
              "      <th>group</th>\n",
              "      <th>visitors</th>\n",
              "    </tr>\n",
              "  </thead>\n",
              "  <tbody>\n",
              "    <tr>\n",
              "      <th>0</th>\n",
              "      <td>2019-08-01</td>\n",
              "      <td>A</td>\n",
              "      <td>719</td>\n",
              "    </tr>\n",
              "    <tr>\n",
              "      <th>1</th>\n",
              "      <td>2019-08-02</td>\n",
              "      <td>A</td>\n",
              "      <td>619</td>\n",
              "    </tr>\n",
              "    <tr>\n",
              "      <th>2</th>\n",
              "      <td>2019-08-03</td>\n",
              "      <td>A</td>\n",
              "      <td>507</td>\n",
              "    </tr>\n",
              "    <tr>\n",
              "      <th>3</th>\n",
              "      <td>2019-08-04</td>\n",
              "      <td>A</td>\n",
              "      <td>717</td>\n",
              "    </tr>\n",
              "    <tr>\n",
              "      <th>4</th>\n",
              "      <td>2019-08-05</td>\n",
              "      <td>A</td>\n",
              "      <td>756</td>\n",
              "    </tr>\n",
              "  </tbody>\n",
              "</table>\n",
              "</div>"
            ],
            "text/plain": [
              "         date group  visitors\n",
              "0  2019-08-01     A       719\n",
              "1  2019-08-02     A       619\n",
              "2  2019-08-03     A       507\n",
              "3  2019-08-04     A       717\n",
              "4  2019-08-05     A       756"
            ]
          },
          "metadata": {
            "tags": []
          }
        },
        {
          "output_type": "stream",
          "text": [
            "--------------------------------------------------------------------------------\n",
            "Типы данных и общая информация\n",
            "<class 'pandas.core.frame.DataFrame'>\n",
            "RangeIndex: 62 entries, 0 to 61\n",
            "Data columns (total 3 columns):\n",
            " #   Column    Non-Null Count  Dtype \n",
            "---  ------    --------------  ----- \n",
            " 0   date      62 non-null     object\n",
            " 1   group     62 non-null     object\n",
            " 2   visitors  62 non-null     int64 \n",
            "dtypes: int64(1), object(2)\n",
            "memory usage: 1.6+ KB\n",
            "None\n",
            "--------------------------------------------------------------------------------\n",
            "Наличие дубликатов: 0\n",
            "--------------------------------------------------------------------------------\n",
            "Наличие пропусков\n",
            "--------------------------------------------------------------------------------\n",
            "date        0\n",
            "group       0\n",
            "visitors    0\n",
            "dtype: int64\n",
            "Стат данные\n",
            "--------------------------------------------------------------------------------\n"
          ],
          "name": "stdout"
        },
        {
          "output_type": "display_data",
          "data": {
            "text/html": [
              "<div>\n",
              "<style scoped>\n",
              "    .dataframe tbody tr th:only-of-type {\n",
              "        vertical-align: middle;\n",
              "    }\n",
              "\n",
              "    .dataframe tbody tr th {\n",
              "        vertical-align: top;\n",
              "    }\n",
              "\n",
              "    .dataframe thead th {\n",
              "        text-align: right;\n",
              "    }\n",
              "</style>\n",
              "<table border=\"1\" class=\"dataframe\">\n",
              "  <thead>\n",
              "    <tr style=\"text-align: right;\">\n",
              "      <th></th>\n",
              "      <th>visitors</th>\n",
              "    </tr>\n",
              "  </thead>\n",
              "  <tbody>\n",
              "    <tr>\n",
              "      <th>count</th>\n",
              "      <td>62.000000</td>\n",
              "    </tr>\n",
              "    <tr>\n",
              "      <th>mean</th>\n",
              "      <td>607.290323</td>\n",
              "    </tr>\n",
              "    <tr>\n",
              "      <th>std</th>\n",
              "      <td>114.400560</td>\n",
              "    </tr>\n",
              "    <tr>\n",
              "      <th>min</th>\n",
              "      <td>361.000000</td>\n",
              "    </tr>\n",
              "    <tr>\n",
              "      <th>25%</th>\n",
              "      <td>534.000000</td>\n",
              "    </tr>\n",
              "    <tr>\n",
              "      <th>50%</th>\n",
              "      <td>624.500000</td>\n",
              "    </tr>\n",
              "    <tr>\n",
              "      <th>75%</th>\n",
              "      <td>710.500000</td>\n",
              "    </tr>\n",
              "    <tr>\n",
              "      <th>max</th>\n",
              "      <td>770.000000</td>\n",
              "    </tr>\n",
              "  </tbody>\n",
              "</table>\n",
              "</div>"
            ],
            "text/plain": [
              "         visitors\n",
              "count   62.000000\n",
              "mean   607.290323\n",
              "std    114.400560\n",
              "min    361.000000\n",
              "25%    534.000000\n",
              "50%    624.500000\n",
              "75%    710.500000\n",
              "max    770.000000"
            ]
          },
          "metadata": {
            "tags": []
          }
        }
      ]
    },
    {
      "cell_type": "markdown",
      "metadata": {
        "id": "8HiBcNfdx_os"
      },
      "source": [
        "1. Названия столбцов: необходимо скорректировать названия колонок:\n",
        "orders: transactionId и visitorId.\n",
        "2. Типы данных:\n",
        "orders и visitors: перевести в формат даты колонку date.\n",
        "3. Дубликаты: отсутствуют.\n",
        "4. Пропуски: отсутствуют.\n",
        "5. Аномалии в данных: отсутствуют."
      ]
    },
    {
      "cell_type": "markdown",
      "metadata": {
        "id": "S4j7Pgum0XIy"
      },
      "source": [
        "###2.1.2. Подготовим данные к анализу"
      ]
    },
    {
      "cell_type": "markdown",
      "metadata": {
        "id": "Z4RiO5Pn0qsd"
      },
      "source": [
        "####2.1.2.1. Cкорректируем названия колонок transactionId и visitorId в orders"
      ]
    },
    {
      "cell_type": "code",
      "metadata": {
        "id": "CEMIS-xs1g5s"
      },
      "source": [
        "orders = orders.rename(columns = {'transactionId': 'transaction_id', 'visitorId': 'visitor_id'}, inplace = False)"
      ],
      "execution_count": 16,
      "outputs": []
    },
    {
      "cell_type": "markdown",
      "metadata": {
        "id": "EM_rsPj_0xTm"
      },
      "source": [
        "####2.1.2.2. Скорректируем тип данных колонки date во всех таблицах"
      ]
    },
    {
      "cell_type": "code",
      "metadata": {
        "id": "34rbF_q73Hsz"
      },
      "source": [
        "df_list = [orders, visitors]\r\n",
        "for df in df_list:\r\n",
        "  df['date']= pd.to_datetime(df['date'], format='%Y-%m-%d')"
      ],
      "execution_count": 17,
      "outputs": []
    },
    {
      "cell_type": "markdown",
      "metadata": {
        "id": "TLgjIuf-szYd"
      },
      "source": [
        "##2.2. Построим график кумулятивной выручки по группам\n",
        "\n",
        "---\n",
        "\n"
      ]
    },
    {
      "cell_type": "markdown",
      "metadata": {
        "id": "Sf0o7QFn49jS"
      },
      "source": [
        "Создадим датафрейм dates_groups с уникальными парами значений 'date' и 'group', таблицы orders, избавимся от дубликатов методом drop_duplicates():"
      ]
    },
    {
      "cell_type": "code",
      "metadata": {
        "id": "6Fnbio0i413H"
      },
      "source": [
        "dates_groups = orders[['date','group']].drop_duplicates()"
      ],
      "execution_count": 18,
      "outputs": []
    },
    {
      "cell_type": "markdown",
      "metadata": {
        "id": "VDz5RGdQ5v8R"
      },
      "source": [
        "Объявим переменную orders_aggregated, содержащую:\r\n",
        "* дату;\r\n",
        "* группу A/B-теста;\r\n",
        "* число уникальных заказов в группе теста по указанную дату включительно;\r\n",
        "* число уникальных пользователей, совершивших хотя бы 1 заказ в группе теста по указанную дату включительно;\r\n",
        "* суммарную выручку заказов в группе теста по указанную дату включительно"
      ]
    },
    {
      "cell_type": "code",
      "metadata": {
        "id": "ihLykxbB5Ve1"
      },
      "source": [
        "orders_aggregated = dates_groups.apply(lambda x: orders[np.logical_and(orders['date'] <= x['date'], orders['group'] == x['group'])]\\\r\n",
        ".agg({'date' : 'max', 'group' : 'max', 'transaction_id' : pd.Series.nunique, 'visitor_id' : pd.Series.nunique, 'revenue' : 'sum'}), axis=1).sort_values(by=['date','group'])"
      ],
      "execution_count": 19,
      "outputs": []
    },
    {
      "cell_type": "markdown",
      "metadata": {
        "id": "fZ9vEK3368fB"
      },
      "source": [
        "Объявим переменную visitors_aggregated, содержащую:\r\n",
        "* дату;\r\n",
        "* группу A/B-теста;\r\n",
        "* количество уникальных посетителей в группе теста по указанную дату включительно"
      ]
    },
    {
      "cell_type": "code",
      "metadata": {
        "id": "9tUx8l1a7FvR"
      },
      "source": [
        "visitors_aggregated = dates_groups.apply(lambda x: visitors[np.logical_and(visitors['date'] <= x['date'], visitors['group'] == x['group'])].agg({'date' : 'max', 'group' : 'max', 'visitors' : 'sum'}), axis=1).sort_values(by=['date','group']) "
      ],
      "execution_count": 20,
      "outputs": []
    },
    {
      "cell_type": "markdown",
      "metadata": {
        "id": "7q9Pd36R7Otb"
      },
      "source": [
        "Определим переменную cumulative_data, объединив orders_aggregated и visitors_aggregated по колонкам 'date', 'group' методом merge(), а также присвоим столбцам cumulativeData названия ['date', 'group', 'orders', 'buyers', 'revenue', 'visitors']"
      ]
    },
    {
      "cell_type": "code",
      "metadata": {
        "id": "uqjHD3gv7v5v"
      },
      "source": [
        "cumulative_data = orders_aggregated.merge(visitors_aggregated, left_on=['date', 'group'], right_on=['date', 'group'])\r\n",
        "cumulative_data.columns = ['date', 'group', 'orders', 'buyers', 'revenue', 'visitors']"
      ],
      "execution_count": 21,
      "outputs": []
    },
    {
      "cell_type": "markdown",
      "metadata": {
        "id": "rEq3_I6Y8Dj8"
      },
      "source": [
        "Объявим переменные cumulative_revenue_a и cumulative_revenue_b, в которых сохраним днные о датах, выручке и числе заказов в группах A и B.\r\n",
        "Построим графики кумулятивной выручки по дням по группам"
      ]
    },
    {
      "cell_type": "code",
      "metadata": {
        "colab": {
          "base_uri": "https://localhost:8080/",
          "height": 411
        },
        "id": "ULjqhkeP7yF7",
        "outputId": "be213671-9ce7-4213-e050-fd195ae04426"
      },
      "source": [
        "# датафрейм с кумулятивным количеством заказов и кумулятивной выручкой по дням в группе А\r\n",
        "cumulative_revenue_a = cumulative_data[cumulative_data['group']=='A'][['date','revenue', 'orders']]\r\n",
        "\r\n",
        "# датафрейм с кумулятивным количеством заказов и кумулятивной выручкой по дням в группе B\r\n",
        "cumulative_revenue_b = cumulative_data[cumulative_data['group']=='B'][['date','revenue', 'orders']]\r\n",
        "plt.figure(figsize=(20,6))\r\n",
        "# Строим график выручки группы А\r\n",
        "plt.plot(cumulative_revenue_a['date'], cumulative_revenue_a['revenue'], label='A');\r\n",
        "\r\n",
        "# Строим график выручки группы B\r\n",
        "plt.plot(cumulative_revenue_b['date'], cumulative_revenue_b['revenue'], label='B');\r\n",
        "plt.title('График кумулятивной выручки по группам', size=14)\r\n",
        "plt.xlabel(\"Даты\")\r\n",
        "plt.ylabel(\"Выручка\")\r\n",
        "plt.legend();"
      ],
      "execution_count": 22,
      "outputs": [
        {
          "output_type": "display_data",
          "data": {
            "image/png": "[encoded data removed]",
            "text/plain": [
              "<Figure size 1440x432 with 1 Axes>"
            ]
          },
          "metadata": {
            "tags": []
          }
        }
      ]
    },
    {
      "cell_type": "markdown",
      "metadata": {
        "id": "qqZNPT0G8vR1"
      },
      "source": [
        "С самого начала теста увеличение выручки сегментов шло равномерно с небольшим перевесом сторону сегмента В до момента резкого скачка выручки сегмента В 2019-08-18.\r\n",
        "\r\n",
        "Вызвано это может быть аномально большие заказами, которые влияют на\r\n",
        "результаты."
      ]
    },
    {
      "cell_type": "markdown",
      "metadata": {
        "id": "fxISlHPOtCaS"
      },
      "source": [
        "\n",
        "##2.3. Построим график кумулятивного среднего чека по группам\n",
        "\n",
        "\n",
        "---\n",
        "\n"
      ]
    },
    {
      "cell_type": "code",
      "metadata": {
        "colab": {
          "base_uri": "https://localhost:8080/",
          "height": 411
        },
        "id": "bDpLOdQndd3H",
        "outputId": "c66d1517-d0a1-4606-8c72-ca2722febc45"
      },
      "source": [
        "plt.figure(figsize=(20,6))\r\n",
        "plt.plot(cumulative_revenue_a['date'], cumulative_revenue_a['revenue']/cumulative_revenue_a['orders'], label='A');\r\n",
        "plt.plot(cumulative_revenue_b['date'], cumulative_revenue_b['revenue']/cumulative_revenue_b['orders'], label='B');\r\n",
        "plt.title('График кумулятивного среднего чека по группам', size=14)\r\n",
        "plt.xlabel(\"Даты\")\r\n",
        "plt.ylabel(\"Сумма среднего чека\")\r\n",
        "plt.legend();"
      ],
      "execution_count": 23,
      "outputs": [
        {
          "output_type": "display_data",
          "data": {
            "image/png": "[encoded data removed]",
            "text/plain": [
              "<Figure size 1440x432 with 1 Axes>"
            ]
          },
          "metadata": {
            "tags": []
          }
        }
      ]
    },
    {
      "cell_type": "markdown",
      "metadata": {
        "id": "trEp2V1WduuX"
      },
      "source": [
        "Кумулятивное значение среднего чека сегмента В сильно также выросло 2019-08-18 после чего наблюдается небольшое снижение.\r\n",
        "\r\n",
        "Скорее всего, принимать решение по этой метрике рано. Или требуется\r\n",
        "дополнительный анализ выбросов, которые так сильно искажают результаты."
      ]
    },
    {
      "cell_type": "markdown",
      "metadata": {
        "id": "_OCNVtr4tCg4"
      },
      "source": [
        "\n",
        "##2.4. Построим график относительного изменения кумулятивного среднего чека группы B к группе A\n",
        "\n",
        "\n",
        "---\n",
        "\n"
      ]
    },
    {
      "cell_type": "markdown",
      "metadata": {
        "id": "SUh1EEyYhpyB"
      },
      "source": [
        "Объединим таблицы cumulative_revenue_a и cumulative_revenue_b методом merge() так, чтобы она содержала столбцы: ['date', 'revenueA', 'revenueB', 'ordersA', 'ordersB'].\r\n",
        "\r\n",
        "Сохраним в переменной merged_cumulative_revenue.\r\n",
        "\r\n",
        "Построем график относительно различия кумулятивного среднего чека группы B к группе A.\r\n",
        "\r\n",
        "Добавим пунктирную линию оси X (значение оси Y = 0) методом plt.axhline()."
      ]
    },
    {
      "cell_type": "code",
      "metadata": {
        "id": "z8Xl5f-bhlAL",
        "colab": {
          "base_uri": "https://localhost:8080/",
          "height": 394
        },
        "outputId": "eea1e7b0-4457-4cf0-cc7d-a48cc1fd7eb7"
      },
      "source": [
        "# собираем данные в одном датафрейме\r\n",
        "merged_cumulative_revenue = cumulative_revenue_a.merge(cumulative_revenue_b, left_on='date', right_on='date', how='left', suffixes=['_a', '_b'])\r\n",
        "\r\n",
        "# cтроим отношение средних чеков\r\n",
        "plt.figure(figsize=(20,6))\r\n",
        "plt.plot(merged_cumulative_revenue['date'], (merged_cumulative_revenue['revenue_b']/merged_cumulative_revenue['orders_b'])/(merged_cumulative_revenue['revenue_a']/merged_cumulative_revenue['orders_a'])-1);\r\n",
        "plt.title('График относительного изменения кумулятивного среднего чека группы B к группе A', size=14)\r\n",
        "\r\n",
        "# добавляем ось X\r\n",
        "plt.axhline(y=0, color='red', linestyle='--');"
      ],
      "execution_count": 24,
      "outputs": [
        {
          "output_type": "display_data",
          "data": {
            "image/png": "[encoded data removed]",
            "text/plain": [
              "<Figure size 1440x432 with 1 Axes>"
            ]
          },
          "metadata": {
            "tags": []
          }
        }
      ]
    },
    {
      "cell_type": "markdown",
      "metadata": {
        "id": "dmEFjTuijwRW"
      },
      "source": [
        "Результаты теста значительно и резко менялись в несколько дат. Видимо,\r\n",
        "именно тогда были совершены аномальные заказы.\r\n"
      ]
    },
    {
      "cell_type": "markdown",
      "metadata": {
        "id": "rUjXyZVltCn0"
      },
      "source": [
        "\n",
        "##2.5. Построим график кумулятивной конверсии по группам\n",
        "\n",
        "\n",
        "---\n",
        "\n"
      ]
    },
    {
      "cell_type": "markdown",
      "metadata": {
        "id": "XEa0KwnKkI8q"
      },
      "source": [
        "Добавим в cumulative_data столбец 'conversion' c отношением числа заказов к количеству пользователей в указанной группе в указанный день.\r\n",
        "\r\n",
        "Объявим переменные cumulative_data_a и cumulative_data_b, в которых сохраним данные о заказах в сегментах A и B соответственно.\r\n",
        "\r\n",
        "Построим графики кумулятивной конверсии по дням по группам."
      ]
    },
    {
      "cell_type": "code",
      "metadata": {
        "id": "tRvq0KWLkIMl",
        "colab": {
          "base_uri": "https://localhost:8080/",
          "height": 411
        },
        "outputId": "44562715-723b-4ec7-c30d-c03ddf5892ba"
      },
      "source": [
        "# считаем кумулятивную конверсию\r\n",
        "cumulative_data['conversion'] = cumulative_data['orders']/cumulative_data['visitors']\r\n",
        "\r\n",
        "# отделяем данные по группе A\r\n",
        "cumulative_data_a = cumulative_data[cumulative_data['group']=='A']\r\n",
        "\r\n",
        "# отделяем данные по группе B\r\n",
        "cumulative_data_b = cumulative_data[cumulative_data['group']=='B']\r\n",
        "\r\n",
        "# строим графики\r\n",
        "plt.figure(figsize=(20,6))\r\n",
        "plt.plot(cumulative_data_a['date'], cumulative_data_a['conversion'], label='A');\r\n",
        "plt.plot(cumulative_data_b['date'], cumulative_data_b['conversion'], label='B');\r\n",
        "plt.title('График кумулятивной конверсии по группам', size=14)\r\n",
        "plt.xlabel(\"Даты\")\r\n",
        "plt.ylabel(\"Кумулятивная конверсия\")\r\n",
        "plt.legend();"
      ],
      "execution_count": 25,
      "outputs": [
        {
          "output_type": "display_data",
          "data": {
            "image/png": "[encoded data removed]",
            "text/plain": [
              "<Figure size 1440x432 with 1 Axes>"
            ]
          },
          "metadata": {
            "tags": []
          }
        }
      ]
    },
    {
      "cell_type": "markdown",
      "metadata": {
        "id": "xLflNhGHkIXt"
      },
      "source": [
        "В начале теста сегмент А имел большую конверсию. Далее наблюдались скачки и резкое снижение конверсии по сегменту А, по сегменту В же конверсия стала больше.\r\n",
        "\r\n",
        "К концу теста колебания по конверсии по сегментам составляют значения:\r\n",
        "* А - 0,029-0,031\r\n",
        "* В - 0,033-0,034"
      ]
    },
    {
      "cell_type": "markdown",
      "metadata": {
        "id": "OK1HZqA4tCui"
      },
      "source": [
        "\n",
        "##2.6. Построим график относительного изменения кумулятивной конверсии группы B к группе A\n",
        "\n",
        "\n",
        "---\n",
        "\n"
      ]
    },
    {
      "cell_type": "markdown",
      "metadata": {
        "id": "JA2UOWIrpfD0"
      },
      "source": [
        "Объединим таблицы cumulative_data_a и cumulative_data_b методом merge() так, чтобы она содержала столбцы: ['date', 'conversion_a', 'conversion_b'] и сохраним в переменной merged_cumulative_conversions.\r\n",
        "\r\n",
        "Построим график относительно различия кумулятивной конверсии группы B к группе A и добавим пунктирную линию оси X чёрного цвета ('black') со значением оси Y = 0 методом plt.axhline(). И ещё одну линию оси X серого цвета ('grey') со значением оси Y = 0.15."
      ]
    },
    {
      "cell_type": "code",
      "metadata": {
        "id": "LG4Mg7-4oXiz",
        "colab": {
          "base_uri": "https://localhost:8080/",
          "height": 394
        },
        "outputId": "05aac720-8ec5-4f17-b5a7-467a2b5bdcdd"
      },
      "source": [
        "merged_cumulative_conversions = cumulative_data_a[['date','conversion']].merge(cumulative_data_b[['date','conversion']], left_on='date', right_on='date', how='left', suffixes=['A', 'B'])\r\n",
        "\r\n",
        "plt.figure(figsize=(20,6))\r\n",
        "plt.plot(merged_cumulative_conversions['date'], merged_cumulative_conversions['conversionB']/merged_cumulative_conversions['conversionA']-1, label=\"Относительный прирост конверсии группы B относительно группы A\");\r\n",
        "plt.title('График относительного изменения кумулятивной конверсии группы B к группе A', size=14)\r\n",
        "plt.axhline(y=0, color='black', linestyle='--');\r\n",
        "plt.axhline(y=0.15, color='grey', linestyle='--');"
      ],
      "execution_count": 26,
      "outputs": [
        {
          "output_type": "display_data",
          "data": {
            "image/png": "[encoded data removed]",
            "text/plain": [
              "<Figure size 1440x432 with 1 Axes>"
            ]
          },
          "metadata": {
            "tags": []
          }
        }
      ]
    },
    {
      "cell_type": "markdown",
      "metadata": {
        "id": "mZbcRvlVp_hf"
      },
      "source": [
        "Почти с самого начала теста группа В лидирует по конверсии: становится\r\n",
        "лучше и лучше, либо зафиксировалась около прироста в 15 % относительно\r\n",
        "группы А, но количество дней теста небольшое."
      ]
    },
    {
      "cell_type": "markdown",
      "metadata": {
        "id": "vIu-N4zUtC1Z"
      },
      "source": [
        "\n",
        "##2.7. Построим точечный график количества заказов по пользователям\n",
        "\n",
        "\n",
        "---\n",
        "\n"
      ]
    },
    {
      "cell_type": "code",
      "metadata": {
        "id": "tT0K_nJzq2Se",
        "colab": {
          "base_uri": "https://localhost:8080/",
          "height": 453
        },
        "outputId": "3ac62382-4f9b-4f2a-dbff-5092f5ad175f"
      },
      "source": [
        "orders_per_user = orders.drop(['group', 'revenue', 'date'], axis=1).groupby('visitor_id', as_index=False).agg({'transaction_id' : pd.Series.nunique})\r\n",
        "orders_per_user.columns = ['visitor_id','orders']\r\n",
        "\r\n",
        "print(orders_per_user.sort_values(by='orders',ascending=False).head(10))\r\n",
        "\r\n",
        "x_values = pd.Series(range(0,len(orders_per_user)))\r\n",
        "plt.scatter(x_values, orders_per_user['orders']);"
      ],
      "execution_count": 27,
      "outputs": [
        {
          "output_type": "stream",
          "text": [
            "      visitor_id  orders\n",
            "1023  4256040402      11\n",
            "591   2458001652      11\n",
            "569   2378935119       9\n",
            "487   2038680547       8\n",
            "44     199603092       5\n",
            "744   3062433592       5\n",
            "55     237748145       5\n",
            "917   3803269165       5\n",
            "299   1230306981       5\n",
            "897   3717692402       5\n"
          ],
          "name": "stdout"
        },
        {
          "output_type": "display_data",
          "data": {
            "image/png": "[encoded data removed]",
            "text/plain": [
              "<Figure size 432x288 with 1 Axes>"
            ]
          },
          "metadata": {
            "tags": []
          }
        }
      ]
    },
    {
      "cell_type": "markdown",
      "metadata": {
        "id": "i6OjEV3GrVaO"
      },
      "source": [
        "Пользователей, заказавших более двух раз, совсем мало. Они вполне могут\r\n",
        "быть аномальными."
      ]
    },
    {
      "cell_type": "markdown",
      "metadata": {
        "id": "uJfYq4F2tC8W"
      },
      "source": [
        "\n",
        "##2.8. Посчитаем 95-й и 99-й перцентили количества заказов на пользователя\n",
        "\n",
        "---\n",
        "\n"
      ]
    },
    {
      "cell_type": "code",
      "metadata": {
        "id": "y49Oo_IdrwaZ",
        "colab": {
          "base_uri": "https://localhost:8080/"
        },
        "outputId": "4847f8ab-b0bf-4634-e6cd-1de06ce7df0e"
      },
      "source": [
        "print(np.percentile(orders_per_user['orders'], [90, 95, 99]))"
      ],
      "execution_count": 28,
      "outputs": [
        {
          "output_type": "stream",
          "text": [
            "[1. 2. 4.]\n"
          ],
          "name": "stdout"
        }
      ]
    },
    {
      "cell_type": "markdown",
      "metadata": {
        "id": "weG3niHdsvxP"
      },
      "source": [
        "Не более 5% пользователей совершали больше двух заказов. И не более 1%\r\n",
        "пользователей — больше четырёх заказов. Все, что за 99 перцентилем — аномально."
      ]
    },
    {
      "cell_type": "markdown",
      "metadata": {
        "id": "mq-zoqjltYYT"
      },
      "source": [
        "\n",
        "##2.9. Построим точечный график стоимостей заказов\n",
        "\n",
        "---\n",
        "\n"
      ]
    },
    {
      "cell_type": "code",
      "metadata": {
        "id": "t8cLiO5atw3a",
        "colab": {
          "base_uri": "https://localhost:8080/",
          "height": 464
        },
        "outputId": "91a7c392-e531-4b87-8587-5915e5488eab"
      },
      "source": [
        "print(orders.sort_values(by='revenue',ascending=False).head(10))\r\n",
        "\r\n",
        "x_values = pd.Series(range(0,len(orders['revenue'])))\r\n",
        "plt.scatter(x_values, orders['revenue']) ;\r\n",
        "# plt.ylim(0, 100000)"
      ],
      "execution_count": 29,
      "outputs": [
        {
          "output_type": "stream",
          "text": [
            "      transaction_id  visitor_id       date  revenue group\n",
            "425        590470918  1920142716 2019-08-19  1294500     B\n",
            "1196      3936777065  2108080724 2019-08-15   202740     B\n",
            "858        192721366  1316129916 2019-08-27    93940     A\n",
            "1136       666610489  1307669133 2019-08-13    92550     A\n",
            "744       3668308183   888512513 2019-08-27    86620     B\n",
            "682       1216533772  4266935830 2019-08-29    78990     B\n",
            "662       1811671147  4266935830 2019-08-29    78990     A\n",
            "743       3603576309  4133034833 2019-08-09    67990     A\n",
            "1103      1348774318  1164614297 2019-08-12    66350     A\n",
            "1099       316924019   148427295 2019-08-12    65710     A\n"
          ],
          "name": "stdout"
        },
        {
          "output_type": "display_data",
          "data": {
            "image/png": "[encoded data removed]",
            "text/plain": [
              "<Figure size 432x288 with 1 Axes>"
            ]
          },
          "metadata": {
            "tags": []
          }
        }
      ]
    },
    {
      "cell_type": "markdown",
      "metadata": {
        "id": "tbsNwh-ruCmN"
      },
      "source": [
        "Видны 2 явных выброса."
      ]
    },
    {
      "cell_type": "markdown",
      "metadata": {
        "id": "NTgedAf-tYds"
      },
      "source": [
        "\n",
        "##2.10. Посчитаем 95-й и 99-й перцентили стоимости заказов\n",
        "\n",
        "---\n",
        "\n"
      ]
    },
    {
      "cell_type": "code",
      "metadata": {
        "id": "_VMFFLIrub_v",
        "colab": {
          "base_uri": "https://localhost:8080/"
        },
        "outputId": "3086fc06-823d-4dcf-cd05-d8dd70244a42"
      },
      "source": [
        "print(np.percentile(orders['revenue'], [90, 95, 99])) "
      ],
      "execution_count": 30,
      "outputs": [
        {
          "output_type": "stream",
          "text": [
            "[18168.  28000.  58233.2]\n"
          ],
          "name": "stdout"
        }
      ]
    },
    {
      "cell_type": "markdown",
      "metadata": {
        "id": "79ebw1NOu5-K"
      },
      "source": [
        "Не более 5 % заказов на сумму 28000, не более 1 % - 58233.2. Все, что за 95 перцентилем — аномально."
      ]
    },
    {
      "cell_type": "markdown",
      "metadata": {
        "id": "hmuJtbALvmE5"
      },
      "source": [
        "\n",
        "##2.11. Посчитаем статистическую значимость различий в конверсии между группами по «сырым» данным\n",
        "\n",
        "---\n",
        "\n"
      ]
    },
    {
      "cell_type": "code",
      "metadata": {
        "id": "oN9f2hidwwVh",
        "colab": {
          "base_uri": "https://localhost:8080/",
          "height": 106
        },
        "outputId": "ec601237-1bfe-48d2-e9c8-ef0f06c92163"
      },
      "source": [
        "conversion = (orders.groupby('group').agg({'transaction_id':'count'}).rename(columns={'transaction_id':'orders'}))\\\r\n",
        "                                     .join((visitors.groupby('group').agg({'visitors':'sum'}))).reset_index()\r\n",
        "conversion['conversion'] = conversion['orders'] / conversion['visitors']\r\n",
        "conversion"
      ],
      "execution_count": 31,
      "outputs": [
        {
          "output_type": "execute_result",
          "data": {
            "text/html": [
              "<div>\n",
              "<style scoped>\n",
              "    .dataframe tbody tr th:only-of-type {\n",
              "        vertical-align: middle;\n",
              "    }\n",
              "\n",
              "    .dataframe tbody tr th {\n",
              "        vertical-align: top;\n",
              "    }\n",
              "\n",
              "    .dataframe thead th {\n",
              "        text-align: right;\n",
              "    }\n",
              "</style>\n",
              "<table border=\"1\" class=\"dataframe\">\n",
              "  <thead>\n",
              "    <tr style=\"text-align: right;\">\n",
              "      <th></th>\n",
              "      <th>group</th>\n",
              "      <th>orders</th>\n",
              "      <th>visitors</th>\n",
              "      <th>conversion</th>\n",
              "    </tr>\n",
              "  </thead>\n",
              "  <tbody>\n",
              "    <tr>\n",
              "      <th>0</th>\n",
              "      <td>A</td>\n",
              "      <td>557</td>\n",
              "      <td>18736</td>\n",
              "      <td>0.029729</td>\n",
              "    </tr>\n",
              "    <tr>\n",
              "      <th>1</th>\n",
              "      <td>B</td>\n",
              "      <td>640</td>\n",
              "      <td>18916</td>\n",
              "      <td>0.033834</td>\n",
              "    </tr>\n",
              "  </tbody>\n",
              "</table>\n",
              "</div>"
            ],
            "text/plain": [
              "  group  orders  visitors  conversion\n",
              "0     A     557     18736    0.029729\n",
              "1     B     640     18916    0.033834"
            ]
          },
          "metadata": {
            "tags": []
          },
          "execution_count": 31
        }
      ]
    },
    {
      "cell_type": "markdown",
      "metadata": {
        "id": "pD36q5zaxOs2"
      },
      "source": [
        "Воспользуемся Z-критерием для разности двух долей.\r\n",
        "\r\n",
        "H0: Конверсия в группе A равна конверсии в группе B\r\n",
        "\r\n",
        "H1: Конверсия в группе A НЕ равна конверсии в группе B"
      ]
    },
    {
      "cell_type": "code",
      "metadata": {
        "id": "9BAvdVE2w7zc",
        "colab": {
          "base_uri": "https://localhost:8080/"
        },
        "outputId": "15fb6ba3-798c-478c-fb96-ced3f59508b2"
      },
      "source": [
        "alpha=0.05\r\n",
        "purchases = np.array(conversion['orders'])\r\n",
        "leads = np.array(conversion['visitors'])\r\n",
        "p1 = purchases[0] / leads[0]\r\n",
        "p2 = purchases[1] / leads[1]\r\n",
        "combined = (purchases[0] + purchases[1]) / (leads[0] + leads[1])\r\n",
        "difference = p1-p2\r\n",
        "z_value = difference / math.sqrt(combined * (1 - combined) * (1 / leads[0] + 1 / leads[1]))\r\n",
        "distr = st.norm(0,1)\r\n",
        "p_value = (1 - distr.cdf(abs(z_value))) * 2\r\n",
        "print('p-значение: ', p_value)\r\n",
        "if (p_value < alpha):\r\n",
        "    print(\"Отвергаем нулевую гипотезу\")\r\n",
        "else:\r\n",
        "    print(\"Не получилось отвергнуть нулевую гипотезу\")"
      ],
      "execution_count": 32,
      "outputs": [
        {
          "output_type": "stream",
          "text": [
            "p-значение:  0.02320723394441848\n",
            "Отвергаем нулевую гипотезу\n"
          ],
          "name": "stdout"
        }
      ]
    },
    {
      "cell_type": "markdown",
      "metadata": {
        "id": "S41i0lyDyAXI"
      },
      "source": [
        "Анализ «сырых» данных сообщает, что в конверсии между группами есть\r\n",
        "статистически значимые различия."
      ]
    },
    {
      "cell_type": "markdown",
      "metadata": {
        "id": "l0ISaHO1vxZJ"
      },
      "source": [
        "\n",
        "##2.12. Посчитаем статистическую значимость различий в среднем чеке заказа между группами по «сырым» данным\n",
        "\n",
        "\n",
        "---\n",
        "\n"
      ]
    },
    {
      "cell_type": "markdown",
      "metadata": {
        "id": "yDCPVYpGzLDD"
      },
      "source": [
        "Воспользуемся критерием Манна-Уитни\r\n",
        "\r\n",
        "H0: Средний чек A равен среднему чеку группы B\r\n",
        "\r\n",
        "H1: Средний чек A НЕ равен среднему чеку группы B"
      ]
    },
    {
      "cell_type": "code",
      "metadata": {
        "id": "XBpjtDXVy9C4",
        "colab": {
          "base_uri": "https://localhost:8080/"
        },
        "outputId": "42737a1e-9641-49b9-a529-eb17651c7b5f"
      },
      "source": [
        "alpha = 0.05\r\n",
        "results = st.mannwhitneyu(orders[orders['group']=='A']['revenue'], orders[orders['group']=='B']['revenue'])\r\n",
        "pvalue = results.pvalue\r\n",
        "print('p-значение: ', pvalue)\r\n",
        "if (pvalue < alpha):\r\n",
        "    print(\"Отвергаем H0: разница статистически значима\")\r\n",
        "else:\r\n",
        "    print(\"Не получилось отвергнуть H0: вывод о различии сделать нельзя\")"
      ],
      "execution_count": 33,
      "outputs": [
        {
          "output_type": "stream",
          "text": [
            "p-значение:  0.3646454927716229\n",
            "Не получилось отвергнуть H0: вывод о различии сделать нельзя\n"
          ],
          "name": "stdout"
        }
      ]
    },
    {
      "cell_type": "markdown",
      "metadata": {
        "id": "0OU5msBTBkYK"
      },
      "source": [
        "Анализ «сырых» данных сообщает, что в средних чеках между группами отсутствуют\r\n",
        "статистически значимые различия."
      ]
    },
    {
      "cell_type": "markdown",
      "metadata": {
        "id": "Z4WswxiPvxgh"
      },
      "source": [
        "\n",
        "##2.13. Посчитаем статистическую значимость различий в конверсии между группами по «очищенным» данным\n",
        "\n",
        "---\n",
        "\n"
      ]
    },
    {
      "cell_type": "markdown",
      "metadata": {
        "id": "bZDUlEst0Cs5"
      },
      "source": [
        "Примем за аномальных пользователей тех, кто совершил 4 заказов и более, или совершил заказ на сумму от 28 000. Так мы уберём 1% пользователей с наибольшим числом заказов и от 1% до 5% заказов с наибольшей стоимостью."
      ]
    },
    {
      "cell_type": "code",
      "metadata": {
        "id": "W86evma27etf"
      },
      "source": [
        "outliers_orders_num = orders_per_user[orders_per_user['orders'] >= 4]['visitor_id'].to_list()"
      ],
      "execution_count": 34,
      "outputs": []
    },
    {
      "cell_type": "code",
      "metadata": {
        "id": "s2lEWlIp8DAd"
      },
      "source": [
        "outliers_revenue = orders[orders['revenue'] > 28000]['visitor_id']"
      ],
      "execution_count": 35,
      "outputs": []
    },
    {
      "cell_type": "code",
      "metadata": {
        "id": "W6YEOB5K7c1z"
      },
      "source": [
        "orders_clean = orders[~orders['visitor_id'].isin(outliers_orders_num)]\r\n",
        "orders_clean = orders[~orders['visitor_id'].isin(outliers_revenue)]"
      ],
      "execution_count": 36,
      "outputs": []
    },
    {
      "cell_type": "code",
      "metadata": {
        "id": "sWX3Pvjr9AES",
        "colab": {
          "base_uri": "https://localhost:8080/",
          "height": 402
        },
        "outputId": "cf5f9c2a-1565-4556-c649-f962ec011f48"
      },
      "source": [
        "orders_clean"
      ],
      "execution_count": 37,
      "outputs": [
        {
          "output_type": "execute_result",
          "data": {
            "text/html": [
              "<div>\n",
              "<style scoped>\n",
              "    .dataframe tbody tr th:only-of-type {\n",
              "        vertical-align: middle;\n",
              "    }\n",
              "\n",
              "    .dataframe tbody tr th {\n",
              "        vertical-align: top;\n",
              "    }\n",
              "\n",
              "    .dataframe thead th {\n",
              "        text-align: right;\n",
              "    }\n",
              "</style>\n",
              "<table border=\"1\" class=\"dataframe\">\n",
              "  <thead>\n",
              "    <tr style=\"text-align: right;\">\n",
              "      <th></th>\n",
              "      <th>transaction_id</th>\n",
              "      <th>visitor_id</th>\n",
              "      <th>date</th>\n",
              "      <th>revenue</th>\n",
              "      <th>group</th>\n",
              "    </tr>\n",
              "  </thead>\n",
              "  <tbody>\n",
              "    <tr>\n",
              "      <th>0</th>\n",
              "      <td>3667963787</td>\n",
              "      <td>3312258926</td>\n",
              "      <td>2019-08-15</td>\n",
              "      <td>1650</td>\n",
              "      <td>B</td>\n",
              "    </tr>\n",
              "    <tr>\n",
              "      <th>1</th>\n",
              "      <td>2804400009</td>\n",
              "      <td>3642806036</td>\n",
              "      <td>2019-08-15</td>\n",
              "      <td>730</td>\n",
              "      <td>B</td>\n",
              "    </tr>\n",
              "    <tr>\n",
              "      <th>2</th>\n",
              "      <td>2961555356</td>\n",
              "      <td>4069496402</td>\n",
              "      <td>2019-08-15</td>\n",
              "      <td>400</td>\n",
              "      <td>A</td>\n",
              "    </tr>\n",
              "    <tr>\n",
              "      <th>3</th>\n",
              "      <td>3797467345</td>\n",
              "      <td>1196621759</td>\n",
              "      <td>2019-08-15</td>\n",
              "      <td>9759</td>\n",
              "      <td>B</td>\n",
              "    </tr>\n",
              "    <tr>\n",
              "      <th>4</th>\n",
              "      <td>2282983706</td>\n",
              "      <td>2322279887</td>\n",
              "      <td>2019-08-15</td>\n",
              "      <td>2308</td>\n",
              "      <td>B</td>\n",
              "    </tr>\n",
              "    <tr>\n",
              "      <th>...</th>\n",
              "      <td>...</td>\n",
              "      <td>...</td>\n",
              "      <td>...</td>\n",
              "      <td>...</td>\n",
              "      <td>...</td>\n",
              "    </tr>\n",
              "    <tr>\n",
              "      <th>1191</th>\n",
              "      <td>3592955527</td>\n",
              "      <td>608641596</td>\n",
              "      <td>2019-08-14</td>\n",
              "      <td>16490</td>\n",
              "      <td>B</td>\n",
              "    </tr>\n",
              "    <tr>\n",
              "      <th>1192</th>\n",
              "      <td>2662137336</td>\n",
              "      <td>3733762160</td>\n",
              "      <td>2019-08-14</td>\n",
              "      <td>6490</td>\n",
              "      <td>B</td>\n",
              "    </tr>\n",
              "    <tr>\n",
              "      <th>1193</th>\n",
              "      <td>2203539145</td>\n",
              "      <td>370388673</td>\n",
              "      <td>2019-08-14</td>\n",
              "      <td>3190</td>\n",
              "      <td>A</td>\n",
              "    </tr>\n",
              "    <tr>\n",
              "      <th>1194</th>\n",
              "      <td>1807773912</td>\n",
              "      <td>573423106</td>\n",
              "      <td>2019-08-14</td>\n",
              "      <td>10550</td>\n",
              "      <td>A</td>\n",
              "    </tr>\n",
              "    <tr>\n",
              "      <th>1195</th>\n",
              "      <td>1947021204</td>\n",
              "      <td>1614305549</td>\n",
              "      <td>2019-08-14</td>\n",
              "      <td>100</td>\n",
              "      <td>A</td>\n",
              "    </tr>\n",
              "  </tbody>\n",
              "</table>\n",
              "<p>1110 rows × 5 columns</p>\n",
              "</div>"
            ],
            "text/plain": [
              "      transaction_id  visitor_id       date  revenue group\n",
              "0         3667963787  3312258926 2019-08-15     1650     B\n",
              "1         2804400009  3642806036 2019-08-15      730     B\n",
              "2         2961555356  4069496402 2019-08-15      400     A\n",
              "3         3797467345  1196621759 2019-08-15     9759     B\n",
              "4         2282983706  2322279887 2019-08-15     2308     B\n",
              "...              ...         ...        ...      ...   ...\n",
              "1191      3592955527   608641596 2019-08-14    16490     B\n",
              "1192      2662137336  3733762160 2019-08-14     6490     B\n",
              "1193      2203539145   370388673 2019-08-14     3190     A\n",
              "1194      1807773912   573423106 2019-08-14    10550     A\n",
              "1195      1947021204  1614305549 2019-08-14      100     A\n",
              "\n",
              "[1110 rows x 5 columns]"
            ]
          },
          "metadata": {
            "tags": []
          },
          "execution_count": 37
        }
      ]
    },
    {
      "cell_type": "code",
      "metadata": {
        "id": "371pDE3F8vvY"
      },
      "source": [
        "conversion_clear = (orders_clean.groupby('group').agg({'transaction_id':'count'}).rename(columns={'transaction_id':'orders'}))\\\r\n",
        "                                                .join((visitors.groupby('group').agg({'visitors':'sum'}))).reset_index()"
      ],
      "execution_count": 38,
      "outputs": []
    },
    {
      "cell_type": "markdown",
      "metadata": {
        "id": "4FJYO4319sPs"
      },
      "source": [
        "Воспользуемся Z-критерием для разности двух долей.\r\n",
        "\r\n",
        "H0: Конверсия в группе A равна конверсии в группе B\r\n",
        "\r\n",
        "H1: Конверсия в группе A НЕ равна конверсии в группе B"
      ]
    },
    {
      "cell_type": "code",
      "metadata": {
        "id": "PzDmbwyG9qW9",
        "colab": {
          "base_uri": "https://localhost:8080/"
        },
        "outputId": "1065bc64-9687-4b8c-99ff-a36fc6c8fc75"
      },
      "source": [
        "alpha=0.05\r\n",
        "purchases = np.array(conversion_clear['orders'])\r\n",
        "leads = np.array(conversion_clear['visitors'])\r\n",
        "p1 = purchases[0] / leads[0]\r\n",
        "p2 = purchases[1] / leads[1]\r\n",
        "combined = (purchases[0] + purchases[1]) / (leads[0] + leads[1])\r\n",
        "difference = p1-p2\r\n",
        "z_value = difference / math.sqrt(combined * (1 - combined) * (1 / leads[0] + 1 / leads[1]))\r\n",
        "distr = st.norm(0,1)\r\n",
        "p_value = (1 - distr.cdf(abs(z_value))) * 2\r\n",
        "print('p-значение: ', p_value)\r\n",
        "if (p_value < alpha):\r\n",
        "    print(\"Отвергаем нулевую гипотезу\")\r\n",
        "else:\r\n",
        "    print(\"Не получилось отвергнуть нулевую гипотезу\")"
      ],
      "execution_count": 39,
      "outputs": [
        {
          "output_type": "stream",
          "text": [
            "p-значение:  0.026772933736510796\n",
            "Отвергаем нулевую гипотезу\n"
          ],
          "name": "stdout"
        }
      ]
    },
    {
      "cell_type": "markdown",
      "metadata": {
        "id": "OPLw8Iei-cN9"
      },
      "source": [
        "Как и в случае с сырыми данными, статистическая значимость достигнута.\r\n",
        "Сегмент В значительно лучше сегмента А."
      ]
    },
    {
      "cell_type": "markdown",
      "metadata": {
        "id": "8krPO3GdvxnL"
      },
      "source": [
        "\n",
        "##2.14. Посчитаем статистическую значимость различий в среднем чеке заказа между группами по «очищенным» данным\n",
        "\n",
        "\n",
        "---\n",
        "\n"
      ]
    },
    {
      "cell_type": "markdown",
      "metadata": {
        "id": "limiS-6xBJ4j"
      },
      "source": [
        "Воспользуемся критерием Манна-Уитни\r\n",
        "\r\n",
        "H0: Средний чек A равен среднему чеку группы B\r\n",
        "\r\n",
        "H1: Средний чек A НЕ равен среднему чеку группы B"
      ]
    },
    {
      "cell_type": "code",
      "metadata": {
        "id": "RYr96lE-BITb",
        "colab": {
          "base_uri": "https://localhost:8080/"
        },
        "outputId": "50f0e0e3-b83a-4fc8-a9f3-ccf226ca0946"
      },
      "source": [
        "alpha = 0.05\r\n",
        "results = st.mannwhitneyu(orders_clean[orders_clean['group']=='A']['revenue'], orders_clean[orders_clean['group']=='B']['revenue'])\r\n",
        "pvalue = results.pvalue\r\n",
        "print('p-значение: ', pvalue)\r\n",
        "if (pvalue < alpha):\r\n",
        "    print(\"Отвергаем H0: разница статистически значима\")\r\n",
        "else:\r\n",
        "    print(\"Не получилось отвергнуть H0: вывод о различии сделать нельзя\")"
      ],
      "execution_count": 40,
      "outputs": [
        {
          "output_type": "stream",
          "text": [
            "p-значение:  0.4317364820038618\n",
            "Не получилось отвергнуть H0: вывод о различии сделать нельзя\n"
          ],
          "name": "stdout"
        }
      ]
    },
    {
      "cell_type": "markdown",
      "metadata": {
        "id": "sSmsW9_UB9LM"
      },
      "source": [
        "Как и в случае с сырыми данными, вывод о различии средних чеков между сегментами сделать нельзя."
      ]
    },
    {
      "cell_type": "markdown",
      "metadata": {
        "id": "0zvXpxGZDLXn"
      },
      "source": [
        "**Резюме:** остановить тест, признать его успешным и перейти к проверке следующей гипотезы."
      ]
    }
  ]
}